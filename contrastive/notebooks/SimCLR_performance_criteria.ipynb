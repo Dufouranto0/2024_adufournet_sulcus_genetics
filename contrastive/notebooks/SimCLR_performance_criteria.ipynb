{
 "cells": [
  {
   "cell_type": "code",
   "execution_count": 4,
   "metadata": {},
   "outputs": [],
   "source": [
    "import pandas as pd\n",
    "import numpy as np\n",
    "import matplotlib.pyplot as plt\n",
    "import os\n",
    "import yaml\n",
    "import omegaconf\n",
    "import json\n",
    "\n",
    "from scipy.spatial.distance import cdist"
   ]
  },
  {
   "cell_type": "code",
   "execution_count": 74,
   "metadata": {},
   "outputs": [
    {
     "name": "stdout",
     "output_type": "stream",
     "text": [
      "1240996\n"
     ]
    }
   ],
   "source": [
    "print(1114*1114)"
   ]
  },
  {
   "cell_type": "code",
   "execution_count": 5,
   "metadata": {},
   "outputs": [],
   "source": [
    "def compute_hist_sim_zij(model_path, emb_types=['val'], q=0.1, threshold=0.95, save=False, verbose=False):\n",
    "    path = model_path + '/cingulate_HCP_embeddings'\n",
    "    for emb_type in emb_types:\n",
    "        # load the data\n",
    "        full_path = path + f'/{emb_type}_embeddings.csv'\n",
    "        embs = pd.read_csv(full_path, index_col=0)\n",
    "\n",
    "        # compute the similarities\n",
    "        sims = cdist(embs, embs, metric='cosine')\n",
    "        sims = 1 - sims\n",
    "\n",
    "        # plot them\n",
    "        x = [sims[i,j] for i in range(embs.shape[0]) for j in range(embs.shape[0]) if i < j]\n",
    "        if verbose:\n",
    "            print(len(x), np.sum(range(embs.shape[0])))\n",
    "\n",
    "        if save:\n",
    "            x = np.array(x)\n",
    "            np.save(path+f'/{emb_type}_hist_sim_zij.npy', x)\n",
    "            \n",
    "\n",
    "        plt.figure()\n",
    "        plt.hist(x, bins=np.linspace(-1,1,50))\n",
    "        plt.title(f\"{emb_type} embeddings\")\n",
    "\n",
    "        # check if model to exclude based on similarity repartition (using quantile)\n",
    "        quant = np.quantile(x, q)\n",
    "        print(\"10% lowest similarity\", quant)\n",
    "        good_model = True\n",
    "        if quant >= threshold:\n",
    "            good_model = False\n",
    "            print(f\"PROBLEMATIC MODEL: {model_path}\")\n",
    "\n",
    "        if save:\n",
    "            plt.savefig(path+f'/{emb_type}_hist_sim_zij.jpg')\n",
    "            good_model_dict = {'quantile-percentage': q,\n",
    "                               'quantile': quant,\n",
    "                               'threshold': threshold,\n",
    "                               'exclude': not good_model}\n",
    "            with open(path+'/good_model.json', 'w') as file:\n",
    "                json.dump(good_model_dict, file) \n",
    "        else:\n",
    "            plt.show()"
   ]
  },
  {
   "cell_type": "code",
   "execution_count": 6,
   "metadata": {},
   "outputs": [
    {
     "name": "stdout",
     "output_type": "stream",
     "text": [
      "10% lowest similarity -0.2297848316873048\n"
     ]
    },
    {
     "data": {
      "image/png": "[encoded data removed]",
      "text/plain": [
       "<Figure size 432x288 with 1 Axes>"
      ]
     },
     "metadata": {
      "needs_background": "light"
     },
     "output_type": "display_data"
    }
   ],
   "source": [
    "model_path = \"/neurospin/dico/agaudin/Runs/04_pointnet/Output/2022-09-01/conv_T=0.5\"\n",
    "\n",
    "compute_hist_sim_zij(model_path, save=True)"
   ]
  },
  {
   "cell_type": "code",
   "execution_count": 93,
   "metadata": {},
   "outputs": [
    {
     "data": {
      "text/plain": [
       "array([ 0.68920322,  0.17876633, -0.40983112, ...,  0.63760855,\n",
       "       -0.21477758, -0.07944008])"
      ]
     },
     "execution_count": 93,
     "metadata": {},
     "output_type": "execute_result"
    }
   ],
   "source": [
    "np.load(\"/neurospin/dico/agaudin/Runs/04_pointnet/Output/2022-09-01/conv_T=0.5/cingulate_HCP_embeddings/val_hist_sim_zij.npy\")"
   ]
  },
  {
   "cell_type": "markdown",
   "metadata": {},
   "source": [
    "## Loop inspired from embeddings_pipeline"
   ]
  }
 ],
 "metadata": {
  "kernelspec": {
   "display_name": "Python 3.6.9 ('venv_local': venv)",
   "language": "python",
   "name": "python3"
  },
  "language_info": {
   "codemirror_mode": {
    "name": "ipython",
    "version": 3
   },
   "file_extension": ".py",
   "mimetype": "text/x-python",
   "name": "python",
   "nbconvert_exporter": "python",
   "pygments_lexer": "ipython3",
   "version": "3.6.9"
  },
  "orig_nbformat": 4,
  "vscode": {
   "interpreter": {
    "hash": "b3f951fa4227f6aee2764c66da50d1aa01efee6b5e95e7b587fda0e6104695b3"
   }
  }
 },
 "nbformat": 4,
 "nbformat_minor": 2
}
