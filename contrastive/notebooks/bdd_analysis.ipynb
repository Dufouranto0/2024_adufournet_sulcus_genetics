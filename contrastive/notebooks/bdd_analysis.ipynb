{
 "cells": [
  {
   "cell_type": "code",
   "execution_count": 53,
   "metadata": {},
   "outputs": [],
   "source": [
    "import numpy as np\n",
    "import pandas as pd\n",
    "import matplotlib.pyplot as plt"
   ]
  },
  {
   "cell_type": "code",
   "execution_count": 54,
   "metadata": {},
   "outputs": [
    {
     "data": {
      "text/html": [
       "<div>\n",
       "<style scoped>\n",
       "    .dataframe tbody tr th:only-of-type {\n",
       "        vertical-align: middle;\n",
       "    }\n",
       "\n",
       "    .dataframe tbody tr th {\n",
       "        vertical-align: top;\n",
       "    }\n",
       "\n",
       "    .dataframe thead th {\n",
       "        text-align: right;\n",
       "    }\n",
       "</style>\n",
       "<table border=\"1\" class=\"dataframe\">\n",
       "  <thead>\n",
       "    <tr style=\"text-align: right;\">\n",
       "      <th></th>\n",
       "      <th>model_path</th>\n",
       "      <th>auc</th>\n",
       "      <th>auc_std</th>\n",
       "      <th>accuracy</th>\n",
       "      <th>accuracy_std</th>\n",
       "      <th>backbone_name</th>\n",
       "      <th>dataset_name</th>\n",
       "      <th>foldlabel</th>\n",
       "      <th>max_angle</th>\n",
       "      <th>max_epochs</th>\n",
       "      <th>num_representation_features</th>\n",
       "      <th>train_val_csv_file</th>\n",
       "      <th>git_branch</th>\n",
       "    </tr>\n",
       "  </thead>\n",
       "  <tbody>\n",
       "    <tr>\n",
       "      <th>3</th>\n",
       "      <td>/neurospin/dico/agaudin/Runs/05_rigourous/Outp...</td>\n",
       "      <td>0.765178</td>\n",
       "      <td>0.002214</td>\n",
       "      <td>0.714760</td>\n",
       "      <td>0.009040</td>\n",
       "      <td>convnet</td>\n",
       "      <td>cingulate_HCP_half_1</td>\n",
       "      <td>True</td>\n",
       "      <td>6</td>\n",
       "      <td>5</td>\n",
       "      <td>10</td>\n",
       "      <td>/neurospin/dico/data/deep_folding/papers/midl2...</td>\n",
       "      <td>Run_03_aymeric</td>\n",
       "    </tr>\n",
       "    <tr>\n",
       "      <th>4</th>\n",
       "      <td>/neurospin/dico/agaudin/Runs/05_rigourous/Outp...</td>\n",
       "      <td>0.724701</td>\n",
       "      <td>0.003540</td>\n",
       "      <td>0.669287</td>\n",
       "      <td>0.006510</td>\n",
       "      <td>convnet</td>\n",
       "      <td>cingulate_HCP_half_1</td>\n",
       "      <td>True</td>\n",
       "      <td>6</td>\n",
       "      <td>5</td>\n",
       "      <td>10</td>\n",
       "      <td>/neurospin/dico/data/deep_folding/papers/midl2...</td>\n",
       "      <td>Run_03_aymeric</td>\n",
       "    </tr>\n",
       "    <tr>\n",
       "      <th>68</th>\n",
       "      <td>/neurospin/dico/agaudin/Runs/05_rigourous/Outp...</td>\n",
       "      <td>0.735087</td>\n",
       "      <td>0.004577</td>\n",
       "      <td>0.685918</td>\n",
       "      <td>0.010806</td>\n",
       "      <td>convnet</td>\n",
       "      <td>cingulate_HCP_half_1</td>\n",
       "      <td>True</td>\n",
       "      <td>6</td>\n",
       "      <td>5</td>\n",
       "      <td>10</td>\n",
       "      <td>/neurospin/dico/data/deep_folding/papers/ipmi2...</td>\n",
       "      <td>Run_03_aymeric</td>\n",
       "    </tr>\n",
       "    <tr>\n",
       "      <th>79</th>\n",
       "      <td>/neurospin/dico/agaudin/Runs/05_rigourous/Outp...</td>\n",
       "      <td>0.734549</td>\n",
       "      <td>0.003508</td>\n",
       "      <td>0.716257</td>\n",
       "      <td>0.005491</td>\n",
       "      <td>convnet</td>\n",
       "      <td>cingulate_HCP_half_1</td>\n",
       "      <td>False</td>\n",
       "      <td>6</td>\n",
       "      <td>5</td>\n",
       "      <td>10</td>\n",
       "      <td>/neurospin/dico/data/deep_folding/papers/ipmi2...</td>\n",
       "      <td>Run_03_aymeric</td>\n",
       "    </tr>\n",
       "    <tr>\n",
       "      <th>80</th>\n",
       "      <td>/neurospin/dico/agaudin/Runs/05_rigourous/Outp...</td>\n",
       "      <td>0.712555</td>\n",
       "      <td>0.003185</td>\n",
       "      <td>0.686456</td>\n",
       "      <td>0.012417</td>\n",
       "      <td>convnet</td>\n",
       "      <td>cingulate_HCP_half_1</td>\n",
       "      <td>False</td>\n",
       "      <td>6</td>\n",
       "      <td>5</td>\n",
       "      <td>10</td>\n",
       "      <td>/neurospin/dico/data/deep_folding/papers/ipmi2...</td>\n",
       "      <td>Run_03_aymeric</td>\n",
       "    </tr>\n",
       "    <tr>\n",
       "      <th>...</th>\n",
       "      <td>...</td>\n",
       "      <td>...</td>\n",
       "      <td>...</td>\n",
       "      <td>...</td>\n",
       "      <td>...</td>\n",
       "      <td>...</td>\n",
       "      <td>...</td>\n",
       "      <td>...</td>\n",
       "      <td>...</td>\n",
       "      <td>...</td>\n",
       "      <td>...</td>\n",
       "      <td>...</td>\n",
       "      <td>...</td>\n",
       "    </tr>\n",
       "    <tr>\n",
       "      <th>7</th>\n",
       "      <td>/neurospin/dico/agaudin/Runs/05_rigourous/Outp...</td>\n",
       "      <td>0.720853</td>\n",
       "      <td>0.004433</td>\n",
       "      <td>0.733076</td>\n",
       "      <td>0.006793</td>\n",
       "      <td>convnet</td>\n",
       "      <td>cingulate_UkBioBank_most_folded_551</td>\n",
       "      <td>True</td>\n",
       "      <td>6</td>\n",
       "      <td>251</td>\n",
       "      <td>10</td>\n",
       "      <td>/neurospin/dico/agaudin/Runs/05_rigourous/2022...</td>\n",
       "      <td>Run_03_aymeric</td>\n",
       "    </tr>\n",
       "    <tr>\n",
       "      <th>60</th>\n",
       "      <td>/neurospin/dico/agaudin/Runs/05_rigourous/Outp...</td>\n",
       "      <td>0.747058</td>\n",
       "      <td>0.003806</td>\n",
       "      <td>0.701053</td>\n",
       "      <td>0.008453</td>\n",
       "      <td>convnet</td>\n",
       "      <td>cingulate_UkBioBank_most_folded_551</td>\n",
       "      <td>True</td>\n",
       "      <td>6</td>\n",
       "      <td>251</td>\n",
       "      <td>10</td>\n",
       "      <td>/neurospin/dico/agaudin/Runs/05_rigourous/2022...</td>\n",
       "      <td>Run_03_aymeric</td>\n",
       "    </tr>\n",
       "    <tr>\n",
       "      <th>101</th>\n",
       "      <td>/neurospin/dico/agaudin/Runs/05_rigourous/Outp...</td>\n",
       "      <td>0.744843</td>\n",
       "      <td>0.004496</td>\n",
       "      <td>0.701661</td>\n",
       "      <td>0.007056</td>\n",
       "      <td>convnet</td>\n",
       "      <td>cingulate_UkBioBank_most_folded_551</td>\n",
       "      <td>True</td>\n",
       "      <td>6</td>\n",
       "      <td>251</td>\n",
       "      <td>10</td>\n",
       "      <td>/neurospin/dico/agaudin/Runs/05_rigourous/2022...</td>\n",
       "      <td>Run_03_aymeric</td>\n",
       "    </tr>\n",
       "    <tr>\n",
       "      <th>102</th>\n",
       "      <td>/neurospin/dico/agaudin/Runs/05_rigourous/Outp...</td>\n",
       "      <td>0.716084</td>\n",
       "      <td>0.003883</td>\n",
       "      <td>0.732234</td>\n",
       "      <td>0.009714</td>\n",
       "      <td>convnet</td>\n",
       "      <td>cingulate_UkBioBank_most_folded_551</td>\n",
       "      <td>True</td>\n",
       "      <td>6</td>\n",
       "      <td>251</td>\n",
       "      <td>10</td>\n",
       "      <td>/neurospin/dico/agaudin/Runs/05_rigourous/2022...</td>\n",
       "      <td>Run_03_aymeric</td>\n",
       "    </tr>\n",
       "    <tr>\n",
       "      <th>103</th>\n",
       "      <td>/neurospin/dico/agaudin/Runs/05_rigourous/Outp...</td>\n",
       "      <td>0.688472</td>\n",
       "      <td>0.005183</td>\n",
       "      <td>0.659205</td>\n",
       "      <td>0.006320</td>\n",
       "      <td>convnet</td>\n",
       "      <td>cingulate_UkBioBank_most_folded_551</td>\n",
       "      <td>True</td>\n",
       "      <td>6</td>\n",
       "      <td>251</td>\n",
       "      <td>10</td>\n",
       "      <td>/neurospin/dico/agaudin/Runs/05_rigourous/2022...</td>\n",
       "      <td>Run_03_aymeric</td>\n",
       "    </tr>\n",
       "  </tbody>\n",
       "</table>\n",
       "<p>132 rows × 13 columns</p>\n",
       "</div>"
      ],
      "text/plain": [
       "                                            model_path       auc   auc_std  \\\n",
       "3    /neurospin/dico/agaudin/Runs/05_rigourous/Outp...  0.765178  0.002214   \n",
       "4    /neurospin/dico/agaudin/Runs/05_rigourous/Outp...  0.724701  0.003540   \n",
       "68   /neurospin/dico/agaudin/Runs/05_rigourous/Outp...  0.735087  0.004577   \n",
       "79   /neurospin/dico/agaudin/Runs/05_rigourous/Outp...  0.734549  0.003508   \n",
       "80   /neurospin/dico/agaudin/Runs/05_rigourous/Outp...  0.712555  0.003185   \n",
       "..                                                 ...       ...       ...   \n",
       "7    /neurospin/dico/agaudin/Runs/05_rigourous/Outp...  0.720853  0.004433   \n",
       "60   /neurospin/dico/agaudin/Runs/05_rigourous/Outp...  0.747058  0.003806   \n",
       "101  /neurospin/dico/agaudin/Runs/05_rigourous/Outp...  0.744843  0.004496   \n",
       "102  /neurospin/dico/agaudin/Runs/05_rigourous/Outp...  0.716084  0.003883   \n",
       "103  /neurospin/dico/agaudin/Runs/05_rigourous/Outp...  0.688472  0.005183   \n",
       "\n",
       "     accuracy  accuracy_std backbone_name  \\\n",
       "3    0.714760      0.009040       convnet   \n",
       "4    0.669287      0.006510       convnet   \n",
       "68   0.685918      0.010806       convnet   \n",
       "79   0.716257      0.005491       convnet   \n",
       "80   0.686456      0.012417       convnet   \n",
       "..        ...           ...           ...   \n",
       "7    0.733076      0.006793       convnet   \n",
       "60   0.701053      0.008453       convnet   \n",
       "101  0.701661      0.007056       convnet   \n",
       "102  0.732234      0.009714       convnet   \n",
       "103  0.659205      0.006320       convnet   \n",
       "\n",
       "                            dataset_name  foldlabel  max_angle  max_epochs  \\\n",
       "3                   cingulate_HCP_half_1       True          6           5   \n",
       "4                   cingulate_HCP_half_1       True          6           5   \n",
       "68                  cingulate_HCP_half_1       True          6           5   \n",
       "79                  cingulate_HCP_half_1      False          6           5   \n",
       "80                  cingulate_HCP_half_1      False          6           5   \n",
       "..                                   ...        ...        ...         ...   \n",
       "7    cingulate_UkBioBank_most_folded_551       True          6         251   \n",
       "60   cingulate_UkBioBank_most_folded_551       True          6         251   \n",
       "101  cingulate_UkBioBank_most_folded_551       True          6         251   \n",
       "102  cingulate_UkBioBank_most_folded_551       True          6         251   \n",
       "103  cingulate_UkBioBank_most_folded_551       True          6         251   \n",
       "\n",
       "     num_representation_features  \\\n",
       "3                             10   \n",
       "4                             10   \n",
       "68                            10   \n",
       "79                            10   \n",
       "80                            10   \n",
       "..                           ...   \n",
       "7                             10   \n",
       "60                            10   \n",
       "101                           10   \n",
       "102                           10   \n",
       "103                           10   \n",
       "\n",
       "                                    train_val_csv_file      git_branch  \n",
       "3    /neurospin/dico/data/deep_folding/papers/midl2...  Run_03_aymeric  \n",
       "4    /neurospin/dico/data/deep_folding/papers/midl2...  Run_03_aymeric  \n",
       "68   /neurospin/dico/data/deep_folding/papers/ipmi2...  Run_03_aymeric  \n",
       "79   /neurospin/dico/data/deep_folding/papers/ipmi2...  Run_03_aymeric  \n",
       "80   /neurospin/dico/data/deep_folding/papers/ipmi2...  Run_03_aymeric  \n",
       "..                                                 ...             ...  \n",
       "7    /neurospin/dico/agaudin/Runs/05_rigourous/2022...  Run_03_aymeric  \n",
       "60   /neurospin/dico/agaudin/Runs/05_rigourous/2022...  Run_03_aymeric  \n",
       "101  /neurospin/dico/agaudin/Runs/05_rigourous/2022...  Run_03_aymeric  \n",
       "102  /neurospin/dico/agaudin/Runs/05_rigourous/2022...  Run_03_aymeric  \n",
       "103  /neurospin/dico/agaudin/Runs/05_rigourous/2022...  Run_03_aymeric  \n",
       "\n",
       "[132 rows x 13 columns]"
      ]
     },
     "execution_count": 54,
     "metadata": {},
     "output_type": "execute_result"
    }
   ],
   "source": [
    "bdd = pd.read_csv(\"/neurospin/dico/agaudin/Runs/05_rigourous/Output/bdd_05.csv\", index_col=0)\n",
    "bdd = bdd.sort_values(by=['dataset_name', 'max_epochs'], ascending=True)\n",
    "bdd"
   ]
  },
  {
   "cell_type": "code",
   "execution_count": 55,
   "metadata": {},
   "outputs": [
    {
     "data": {
      "text/html": [
       "<div>\n",
       "<style scoped>\n",
       "    .dataframe tbody tr th:only-of-type {\n",
       "        vertical-align: middle;\n",
       "    }\n",
       "\n",
       "    .dataframe tbody tr th {\n",
       "        vertical-align: top;\n",
       "    }\n",
       "\n",
       "    .dataframe thead th {\n",
       "        text-align: right;\n",
       "    }\n",
       "</style>\n",
       "<table border=\"1\" class=\"dataframe\">\n",
       "  <thead>\n",
       "    <tr style=\"text-align: right;\">\n",
       "      <th></th>\n",
       "      <th>model_path</th>\n",
       "      <th>auc</th>\n",
       "      <th>auc_std</th>\n",
       "      <th>accuracy</th>\n",
       "      <th>accuracy_std</th>\n",
       "      <th>backbone_name</th>\n",
       "      <th>dataset_name</th>\n",
       "      <th>foldlabel</th>\n",
       "      <th>max_angle</th>\n",
       "      <th>max_epochs</th>\n",
       "      <th>num_representation_features</th>\n",
       "      <th>train_val_csv_file</th>\n",
       "      <th>git_branch</th>\n",
       "    </tr>\n",
       "  </thead>\n",
       "  <tbody>\n",
       "    <tr>\n",
       "      <th>79</th>\n",
       "      <td>/neurospin/dico/agaudin/Runs/05_rigourous/Outp...</td>\n",
       "      <td>0.734549</td>\n",
       "      <td>0.003508</td>\n",
       "      <td>0.716257</td>\n",
       "      <td>0.005491</td>\n",
       "      <td>convnet</td>\n",
       "      <td>cingulate_HCP_half_1</td>\n",
       "      <td>False</td>\n",
       "      <td>6</td>\n",
       "      <td>5</td>\n",
       "      <td>10</td>\n",
       "      <td>/neurospin/dico/data/deep_folding/papers/ipmi2...</td>\n",
       "      <td>Run_03_aymeric</td>\n",
       "    </tr>\n",
       "    <tr>\n",
       "      <th>80</th>\n",
       "      <td>/neurospin/dico/agaudin/Runs/05_rigourous/Outp...</td>\n",
       "      <td>0.712555</td>\n",
       "      <td>0.003185</td>\n",
       "      <td>0.686456</td>\n",
       "      <td>0.012417</td>\n",
       "      <td>convnet</td>\n",
       "      <td>cingulate_HCP_half_1</td>\n",
       "      <td>False</td>\n",
       "      <td>6</td>\n",
       "      <td>5</td>\n",
       "      <td>10</td>\n",
       "      <td>/neurospin/dico/data/deep_folding/papers/ipmi2...</td>\n",
       "      <td>Run_03_aymeric</td>\n",
       "    </tr>\n",
       "    <tr>\n",
       "      <th>81</th>\n",
       "      <td>/neurospin/dico/agaudin/Runs/05_rigourous/Outp...</td>\n",
       "      <td>0.687001</td>\n",
       "      <td>0.003267</td>\n",
       "      <td>0.666292</td>\n",
       "      <td>0.006949</td>\n",
       "      <td>convnet</td>\n",
       "      <td>cingulate_HCP_half_1</td>\n",
       "      <td>False</td>\n",
       "      <td>6</td>\n",
       "      <td>5</td>\n",
       "      <td>10</td>\n",
       "      <td>/neurospin/dico/data/deep_folding/papers/ipmi2...</td>\n",
       "      <td>Run_03_aymeric</td>\n",
       "    </tr>\n",
       "    <tr>\n",
       "      <th>82</th>\n",
       "      <td>/neurospin/dico/agaudin/Runs/05_rigourous/Outp...</td>\n",
       "      <td>0.716335</td>\n",
       "      <td>0.002193</td>\n",
       "      <td>0.702760</td>\n",
       "      <td>0.008781</td>\n",
       "      <td>convnet</td>\n",
       "      <td>cingulate_HCP_half_1</td>\n",
       "      <td>False</td>\n",
       "      <td>6</td>\n",
       "      <td>5</td>\n",
       "      <td>10</td>\n",
       "      <td>/neurospin/dico/data/deep_folding/papers/ipmi2...</td>\n",
       "      <td>Run_03_aymeric</td>\n",
       "    </tr>\n",
       "    <tr>\n",
       "      <th>0</th>\n",
       "      <td>/neurospin/dico/agaudin/Runs/05_rigourous/Outp...</td>\n",
       "      <td>0.554332</td>\n",
       "      <td>0.020763</td>\n",
       "      <td>0.607836</td>\n",
       "      <td>0.019011</td>\n",
       "      <td>pointnet</td>\n",
       "      <td>cingulate_HCP_half_1</td>\n",
       "      <td>False</td>\n",
       "      <td>10</td>\n",
       "      <td>251</td>\n",
       "      <td>30</td>\n",
       "      <td>NaN</td>\n",
       "      <td>pointnet</td>\n",
       "    </tr>\n",
       "    <tr>\n",
       "      <th>78</th>\n",
       "      <td>/neurospin/dico/agaudin/Runs/05_rigourous/Outp...</td>\n",
       "      <td>0.651144</td>\n",
       "      <td>0.003759</td>\n",
       "      <td>0.661053</td>\n",
       "      <td>0.015104</td>\n",
       "      <td>convnet</td>\n",
       "      <td>cingulate_UkBioBank_most_folded_551</td>\n",
       "      <td>False</td>\n",
       "      <td>6</td>\n",
       "      <td>5</td>\n",
       "      <td>10</td>\n",
       "      <td>/neurospin/dico/agaudin/Runs/05_rigourous/2022...</td>\n",
       "      <td>Run_03_aymeric</td>\n",
       "    </tr>\n",
       "  </tbody>\n",
       "</table>\n",
       "</div>"
      ],
      "text/plain": [
       "                                           model_path       auc   auc_std  \\\n",
       "79  /neurospin/dico/agaudin/Runs/05_rigourous/Outp...  0.734549  0.003508   \n",
       "80  /neurospin/dico/agaudin/Runs/05_rigourous/Outp...  0.712555  0.003185   \n",
       "81  /neurospin/dico/agaudin/Runs/05_rigourous/Outp...  0.687001  0.003267   \n",
       "82  /neurospin/dico/agaudin/Runs/05_rigourous/Outp...  0.716335  0.002193   \n",
       "0   /neurospin/dico/agaudin/Runs/05_rigourous/Outp...  0.554332  0.020763   \n",
       "78  /neurospin/dico/agaudin/Runs/05_rigourous/Outp...  0.651144  0.003759   \n",
       "\n",
       "    accuracy  accuracy_std backbone_name                         dataset_name  \\\n",
       "79  0.716257      0.005491       convnet                 cingulate_HCP_half_1   \n",
       "80  0.686456      0.012417       convnet                 cingulate_HCP_half_1   \n",
       "81  0.666292      0.006949       convnet                 cingulate_HCP_half_1   \n",
       "82  0.702760      0.008781       convnet                 cingulate_HCP_half_1   \n",
       "0   0.607836      0.019011      pointnet                 cingulate_HCP_half_1   \n",
       "78  0.661053      0.015104       convnet  cingulate_UkBioBank_most_folded_551   \n",
       "\n",
       "    foldlabel  max_angle  max_epochs  num_representation_features  \\\n",
       "79      False          6           5                           10   \n",
       "80      False          6           5                           10   \n",
       "81      False          6           5                           10   \n",
       "82      False          6           5                           10   \n",
       "0       False         10         251                           30   \n",
       "78      False          6           5                           10   \n",
       "\n",
       "                                   train_val_csv_file      git_branch  \n",
       "79  /neurospin/dico/data/deep_folding/papers/ipmi2...  Run_03_aymeric  \n",
       "80  /neurospin/dico/data/deep_folding/papers/ipmi2...  Run_03_aymeric  \n",
       "81  /neurospin/dico/data/deep_folding/papers/ipmi2...  Run_03_aymeric  \n",
       "82  /neurospin/dico/data/deep_folding/papers/ipmi2...  Run_03_aymeric  \n",
       "0                                                 NaN        pointnet  \n",
       "78  /neurospin/dico/agaudin/Runs/05_rigourous/2022...  Run_03_aymeric  "
      ]
     },
     "execution_count": 55,
     "metadata": {},
     "output_type": "execute_result"
    }
   ],
   "source": [
    "bdd[bdd.foldlabel == False]"
   ]
  },
  {
   "cell_type": "code",
   "execution_count": 60,
   "metadata": {},
   "outputs": [],
   "source": [
    "def confidence_interval(data, percentage=95):\n",
    "    if percentage == 95:\n",
    "        z = 1.96\n",
    "    else:\n",
    "        raise(ValueError(\"frero...\"))\n",
    "    \n",
    "    std = np.std(data)\n",
    "    N = data.shape[0]\n",
    "\n",
    "    diff = z * std/np.sqrt(N)\n",
    "\n",
    "    return diff"
   ]
  },
  {
   "cell_type": "code",
   "execution_count": 83,
   "metadata": {},
   "outputs": [],
   "source": [
    "def plot_func_of_epochs(df):\n",
    "    means = df.groupby('max_epochs').mean().auc\n",
    "    n = means.shape[0]\n",
    "\n",
    "    counts = df.groupby('max_epochs').count().auc\n",
    "    print(counts)\n",
    "\n",
    "    yerrs = []\n",
    "    for n_epochs in df.max_epochs.unique():\n",
    "        filtered_df = df[df.max_epochs == n_epochs]\n",
    "        yerrs.append(confidence_interval(filtered_df.auc))\n",
    "\n",
    "    fig, ax = plt.subplots()\n",
    "\n",
    "    plt.grid(axis='y')\n",
    "    ax.set_axisbelow(True)\n",
    "    plt.bar(range(n), means)\n",
    "    plt.xticks(range(n), df.max_epochs.unique())\n",
    "    plt.errorbar(range(n), means, yerr=yerrs, xerr=None, ecolor='black', fmt='None')\n",
    "    plt.plot()\n",
    "\n",
    "    return means"
   ]
  },
  {
   "cell_type": "code",
   "execution_count": 84,
   "metadata": {},
   "outputs": [
    {
     "name": "stdout",
     "output_type": "stream",
     "text": [
      "max_epochs\n",
      "1       7\n",
      "5      22\n",
      "25      7\n",
      "125     5\n",
      "251     5\n",
      "Name: auc, dtype: int64\n"
     ]
    },
    {
     "data": {
      "text/plain": [
       "max_epochs\n",
       "1      0.643889\n",
       "5      0.711136\n",
       "25     0.679192\n",
       "125    0.670194\n",
       "251    0.677408\n",
       "Name: auc, dtype: float64"
      ]
     },
     "execution_count": 84,
     "metadata": {},
     "output_type": "execute_result"
    },
    {
     "data": {
      "image/png": "[encoded data removed]",
      "text/plain": [
       "<Figure size 432x288 with 1 Axes>"
      ]
     },
     "metadata": {
      "needs_background": "light"
     },
     "output_type": "display_data"
    }
   ],
   "source": [
    "# least folded brains\n",
    "least_folded = bdd[bdd.dataset_name == 'cingulate_UkBioBank_least_folded_551']\n",
    "\n",
    "plot_func_of_epochs(least_folded)"
   ]
  },
  {
   "cell_type": "code",
   "execution_count": 85,
   "metadata": {},
   "outputs": [
    {
     "name": "stdout",
     "output_type": "stream",
     "text": [
      "max_epochs\n",
      "1      11\n",
      "5      11\n",
      "25      7\n",
      "125     5\n",
      "251     5\n",
      "Name: auc, dtype: int64\n"
     ]
    },
    {
     "data": {
      "text/plain": [
       "max_epochs\n",
       "1      0.618493\n",
       "5      0.739359\n",
       "25     0.730130\n",
       "125    0.743861\n",
       "251    0.723462\n",
       "Name: auc, dtype: float64"
      ]
     },
     "execution_count": 85,
     "metadata": {},
     "output_type": "execute_result"
    },
    {
     "data": {
      "image/png": "[encoded data removed]",
      "text/plain": [
       "<Figure size 432x288 with 1 Axes>"
      ]
     },
     "metadata": {
      "needs_background": "light"
     },
     "output_type": "display_data"
    }
   ],
   "source": [
    "# most folded brains\n",
    "most_folded = bdd[bdd.dataset_name == 'cingulate_UkBioBank_most_folded_551']\n",
    "\n",
    "plot_func_of_epochs(most_folded)"
   ]
  },
  {
   "cell_type": "code",
   "execution_count": 86,
   "metadata": {},
   "outputs": [
    {
     "name": "stdout",
     "output_type": "stream",
     "text": [
      "max_epochs\n",
      "1      5\n",
      "5      7\n",
      "25     5\n",
      "125    5\n",
      "251    5\n",
      "Name: auc, dtype: int64\n"
     ]
    },
    {
     "data": {
      "text/plain": [
       "max_epochs\n",
       "1      0.601672\n",
       "5      0.722982\n",
       "25     0.686726\n",
       "125    0.714806\n",
       "251    0.739702\n",
       "Name: auc, dtype: float64"
      ]
     },
     "execution_count": 86,
     "metadata": {},
     "output_type": "execute_result"
    },
    {
     "data": {
      "image/png": "[encoded data removed]",
      "text/plain": [
       "<Figure size 432x288 with 1 Axes>"
      ]
     },
     "metadata": {
      "needs_background": "light"
     },
     "output_type": "display_data"
    }
   ],
   "source": [
    "# mid folded brains\n",
    "mid_folded = bdd[bdd.dataset_name == 'cingulate_UkBioBank_mid_folded_551']\n",
    "\n",
    "plot_func_of_epochs(mid_folded)"
   ]
  },
  {
   "attachments": {},
   "cell_type": "markdown",
   "metadata": {},
   "source": [
    "# Analysis"
   ]
  },
  {
   "cell_type": "code",
   "execution_count": 59,
   "metadata": {},
   "outputs": [],
   "source": [
    "from scipy.stats import ttest_ind"
   ]
  },
  {
   "cell_type": "code",
   "execution_count": 61,
   "metadata": {},
   "outputs": [
    {
     "data": {
      "image/png": "[encoded data removed]",
      "text/plain": [
       "<Figure size 432x288 with 1 Axes>"
      ]
     },
     "metadata": {
      "needs_background": "light"
     },
     "output_type": "display_data"
    },
    {
     "name": "stdout",
     "output_type": "stream",
     "text": [
      "Least and mid Ttest_indResult(statistic=-0.5142870365099735, pvalue=0.609409200949996)\n",
      "Least and most Ttest_indResult(statistic=-1.0334243827865044, pvalue=0.30533414434449657)\n",
      "Mid and most Ttest_indResult(statistic=0.45993442493483194, pvalue=0.647170700602233)\n"
     ]
    }
   ],
   "source": [
    "datasets = [least_folded, mid_folded, most_folded]\n",
    "\n",
    "def plot_bars_with_errors(datasets, title=None):\n",
    "    means = [datasets[i].auc.mean() for i in range(len(datasets))]\n",
    "    X = range(1,4)\n",
    "\n",
    "    plt.bar(X, means)\n",
    "\n",
    "    errorbars = []\n",
    "\n",
    "    for dataset in datasets:\n",
    "        data = dataset.auc\n",
    "        diff = confidence_interval(data)\n",
    "        errorbars.append(diff)\n",
    "\n",
    "    plt.errorbar(X, means, yerr=errorbars, xerr=None, ecolor='black', fmt='None')\n",
    "\n",
    "    plt.title(title)\n",
    "    plt.show()\n",
    "\n",
    "\n",
    "plot_bars_with_errors(datasets)\n",
    "\n",
    "print('Least and mid', ttest_ind(least_folded.auc, mid_folded.auc, equal_var=False))\n",
    "print('Least and most', ttest_ind(least_folded.auc, most_folded.auc, equal_var=False))\n",
    "print('Mid and most', ttest_ind(most_folded.auc, mid_folded.auc, equal_var=False))"
   ]
  },
  {
   "cell_type": "code",
   "execution_count": 62,
   "metadata": {},
   "outputs": [
    {
     "data": {
      "image/png": "[encoded data removed]",
      "text/plain": [
       "<Figure size 432x288 with 1 Axes>"
      ]
     },
     "metadata": {
      "needs_background": "light"
     },
     "output_type": "display_data"
    },
    {
     "name": "stdout",
     "output_type": "stream",
     "text": [
      "Least and mid Ttest_indResult(statistic=0.9452763816251348, pvalue=0.36693850314770804)\n",
      "Least and most Ttest_indResult(statistic=0.5589464462368582, pvalue=0.5858576382900519)\n",
      "Mid and most Ttest_indResult(statistic=0.43316764139327457, pvalue=0.6726569936847302)\n"
     ]
    },
    {
     "data": {
      "image/png": "[encoded data removed]",
      "text/plain": [
       "<Figure size 432x288 with 1 Axes>"
      ]
     },
     "metadata": {
      "needs_background": "light"
     },
     "output_type": "display_data"
    },
    {
     "name": "stdout",
     "output_type": "stream",
     "text": [
      "Least and mid Ttest_indResult(statistic=-0.6684617574217396, pvalue=0.5179624120563474)\n",
      "Least and most Ttest_indResult(statistic=-2.454242862923827, pvalue=0.023607171835703884)\n",
      "Mid and most Ttest_indResult(statistic=1.3013728967517542, pvalue=0.21646318120450947)\n"
     ]
    },
    {
     "data": {
      "image/png": "[encoded data removed]",
      "text/plain": [
       "<Figure size 432x288 with 1 Axes>"
      ]
     },
     "metadata": {
      "needs_background": "light"
     },
     "output_type": "display_data"
    },
    {
     "name": "stdout",
     "output_type": "stream",
     "text": [
      "Least and mid Ttest_indResult(statistic=-0.31161785597706887, pvalue=0.7658126201267644)\n",
      "Least and most Ttest_indResult(statistic=-2.469791624882359, pvalue=0.033030243225199284)\n",
      "Mid and most Ttest_indResult(statistic=1.5615926625099095, pvalue=0.1546513843363734)\n"
     ]
    },
    {
     "data": {
      "image/png": "[encoded data removed]",
      "text/plain": [
       "<Figure size 432x288 with 1 Axes>"
      ]
     },
     "metadata": {
      "needs_background": "light"
     },
     "output_type": "display_data"
    },
    {
     "name": "stdout",
     "output_type": "stream",
     "text": [
      "Least and mid Ttest_indResult(statistic=-1.9141338887371169, pvalue=0.0935240276136069)\n",
      "Least and most Ttest_indResult(statistic=-4.70480358147686, pvalue=0.005062893758803562)\n",
      "Mid and most Ttest_indResult(statistic=1.5354012555644083, pvalue=0.18860451781605211)\n"
     ]
    },
    {
     "data": {
      "image/png": "[encoded data removed]",
      "text/plain": [
       "<Figure size 432x288 with 1 Axes>"
      ]
     },
     "metadata": {
      "needs_background": "light"
     },
     "output_type": "display_data"
    },
    {
     "name": "stdout",
     "output_type": "stream",
     "text": [
      "Least and mid Ttest_indResult(statistic=-4.720338145523628, pvalue=0.0016013936966763002)\n",
      "Least and most Ttest_indResult(statistic=-3.3536939839749467, pvalue=0.010733294682982722)\n",
      "Mid and most Ttest_indResult(statistic=-1.106196116856871, pvalue=0.3009325811616268)\n"
     ]
    }
   ],
   "source": [
    "n_epochs = [1,5,25,125,251]\n",
    "\n",
    "for n in n_epochs:\n",
    "    dbs = []\n",
    "    for db in [least_folded, mid_folded, most_folded]:\n",
    "        db = db[db.max_epochs == n]\n",
    "        dbs.append(db)\n",
    "        \n",
    "    plot_bars_with_errors(dbs, title=f'Max epochs = {n}')\n",
    "    print('Least and mid', ttest_ind(dbs[0].auc, dbs[1].auc, equal_var=False))\n",
    "    print('Least and most', ttest_ind(dbs[0].auc, dbs[2].auc, equal_var=False))\n",
    "    print('Mid and most', ttest_ind(dbs[2].auc, dbs[1].auc, equal_var=False))"
   ]
  },
  {
   "cell_type": "code",
   "execution_count": null,
   "metadata": {},
   "outputs": [],
   "source": [
    "dbs = [least_folded, mid_folded, most_folded]\n",
    "\n",
    "for db in dbs:\n",
    "    print(\n"
   ]
  }
 ],
 "metadata": {
  "kernelspec": {
   "display_name": "venv_local",
   "language": "python",
   "name": "python3"
  },
  "language_info": {
   "codemirror_mode": {
    "name": "ipython",
    "version": 3
   },
   "file_extension": ".py",
   "mimetype": "text/x-python",
   "name": "python",
   "nbconvert_exporter": "python",
   "pygments_lexer": "ipython3",
   "version": "3.6.9"
  },
  "orig_nbformat": 4,
  "vscode": {
   "interpreter": {
    "hash": "29d17951836d0959caaf0c9cd10ee54c4ed7100b51f8cf6fe8a170600c2ce0e9"
   }
  }
 },
 "nbformat": 4,
 "nbformat_minor": 2
}
