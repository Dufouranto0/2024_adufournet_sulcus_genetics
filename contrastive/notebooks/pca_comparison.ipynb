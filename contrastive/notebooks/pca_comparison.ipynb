{
 "cells": [
  {
   "cell_type": "code",
   "execution_count": 1,
   "metadata": {},
   "outputs": [],
   "source": [
    "import numpy as np\n",
    "import matplotlib.pyplot as plt\n",
    "import pytorch_lightning as pl\n",
    "import pandas as pd\n",
    "\n",
    "from torch import nn\n",
    "from torch.utils.data import DataLoader, TensorDataset\n",
    "from sklearn.decomposition import PCA\n",
    "from sklearn.metrics import accuracy_score, confusion_matrix, roc_curve,\\\n",
    "roc_auc_score\n",
    "\n",
    "from contrastive.backbones.densenet import *\n",
    "from contrastive.data.utils import read_labels"
   ]
  },
  {
   "cell_type": "code",
   "execution_count": 2,
   "metadata": {},
   "outputs": [
    {
     "data": {
      "text/plain": [
       "(341, 17, 40, 38, 1)"
      ]
     },
     "execution_count": 2,
     "metadata": {},
     "output_type": "execute_result"
    }
   ],
   "source": [
    "# get ACCpatterns dataset\n",
    "numpy_all = \"/neurospin/dico/data/deep_folding/current/datasets/ACCpatterns/crops/2mm/CINGULATE/mask/Rskeleton.npy\"\n",
    "\n",
    "X = np.load(numpy_all)\n",
    "X.shape"
   ]
  },
  {
   "cell_type": "code",
   "execution_count": 3,
   "metadata": {},
   "outputs": [
    {
     "name": "stdout",
     "output_type": "stream",
     "text": [
      "25840\n"
     ]
    },
    {
     "data": {
      "image/png": "[encoded data removed]",
      "text/plain": [
       "<Figure size 432x288 with 1 Axes>"
      ]
     },
     "metadata": {
      "needs_background": "light"
     },
     "output_type": "display_data"
    }
   ],
   "source": [
    "non_zeros = []\n",
    "\n",
    "for x in X:\n",
    "    non_zeros.append(np.count_nonzero(x))\n",
    "\n",
    "print(np.size(X[0]))\n",
    "plt.hist(non_zeros, bins=50)\n",
    "plt.show()"
   ]
  },
  {
   "cell_type": "markdown",
   "metadata": {},
   "source": [
    "## Try dimension reduction before training (PCA)"
   ]
  },
  {
   "cell_type": "code",
   "execution_count": 4,
   "metadata": {},
   "outputs": [
    {
     "data": {
      "text/plain": [
       "(341, 25840)"
      ]
     },
     "execution_count": 4,
     "metadata": {},
     "output_type": "execute_result"
    }
   ],
   "source": [
    "X_flatten = X.reshape(X.shape[0], np.prod(X.shape[1:]))\n",
    "X_flatten.shape"
   ]
  },
  {
   "cell_type": "code",
   "execution_count": 15,
   "metadata": {},
   "outputs": [
    {
     "name": "stdout",
     "output_type": "stream",
     "text": [
      "(341, 100)\n"
     ]
    },
    {
     "data": {
      "text/plain": [
       "tensor([[ 245.7662,  237.2004,   62.2442,  ..., -133.4796,  -57.0979,\n",
       "          -26.8270],\n",
       "        [ 197.3744,  -69.5136,  244.6385,  ...,   14.8301,  -82.0342,\n",
       "          -62.4103],\n",
       "        [ 280.1981,   17.5589,  185.6597,  ...,  -89.9254,  -59.9093,\n",
       "           29.6441],\n",
       "        ...,\n",
       "        [   4.1137,   85.1607, -140.7252,  ...,  -30.3269,   41.5756,\n",
       "           -0.7341],\n",
       "        [ -84.7407,   -8.6205,  -22.7353,  ...,   87.7418,  -10.9102,\n",
       "           -3.1039],\n",
       "        [-165.8072,  -89.3121,  117.3370,  ...,  -21.4307,   70.8993,\n",
       "           56.3121]])"
      ]
     },
     "execution_count": 15,
     "metadata": {},
     "output_type": "execute_result"
    }
   ],
   "source": [
    "n_pca = 100\n",
    "\n",
    "pca = PCA(n_components=n_pca)\n",
    "X_reduced = pca.fit_transform(X_flatten)\n",
    "print(X_reduced.shape)\n",
    "\n",
    "X_reduced = torch.from_numpy(X_reduced).type(torch.float)\n",
    "X_reduced"
   ]
  },
  {
   "cell_type": "code",
   "execution_count": 16,
   "metadata": {},
   "outputs": [
    {
     "name": "stderr",
     "output_type": "stream",
     "text": [
      "INFO:utils.py: Labels to keep = ['Right_PCS'] of type <class 'list'>\n",
      "INFO:utils.py: Column Right_PCS sorted as categories. Categories are Index(['absent', 'present'], dtype='object')\n",
      "INFO:utils.py: Head of subject_labels:\n",
      "            Subject  Right_PCS\n",
      "0  nih_chp_04701_t1          0\n",
      "1  nih_chp_01534_t1          1\n",
      "2  nih_chp_04623_t1          1\n",
      "3  nih_chp_01503_t1          0\n",
      "4  nih_chp_00404_t1          1\n",
      "INFO:utils.py: Number of non-NaN subjects with label = 341\n"
     ]
    },
    {
     "data": {
      "text/plain": [
       "tensor([0., 1., 1., 0., 1., 0., 0., 0., 1., 1., 1., 0., 0., 1., 0., 1., 1., 0.,\n",
       "        0., 1., 1., 0., 0., 0., 0., 0., 0., 0., 1., 0., 0., 1., 1., 1., 1., 1.,\n",
       "        1., 1., 0., 0., 1., 1., 1., 0., 1., 1., 0., 0., 0., 0., 1., 0., 1., 1.,\n",
       "        1., 0., 0., 1., 0., 1., 0., 0., 1., 0., 0., 1., 1., 1., 0., 0., 0., 1.,\n",
       "        1., 0., 0., 0., 1., 0., 1., 1., 0., 1., 1., 1., 0., 1., 0., 0., 0., 1.,\n",
       "        0., 1., 0., 1., 0., 0., 0., 0., 0., 1., 1., 1., 1., 1., 1., 0., 1., 1.,\n",
       "        0., 0., 0., 0., 1., 0., 1., 0., 0., 1., 0., 0., 1., 1., 1., 0., 0., 1.,\n",
       "        0., 0., 0., 1., 0., 1., 1., 1., 0., 0., 1., 0., 0., 1., 0., 0., 1., 0.,\n",
       "        1., 1., 0., 1., 1., 0., 0., 0., 0., 1., 0., 1., 1., 0., 0., 0., 1., 0.,\n",
       "        1., 1., 1., 1., 0., 0., 1., 0., 1., 0., 0., 0., 1., 0., 0., 0., 0., 1.,\n",
       "        1., 1., 0., 0., 1., 0., 0., 1., 0., 0., 1., 1., 0., 0., 1., 1., 1., 1.,\n",
       "        1., 0., 0., 0., 1., 1., 0., 1., 0., 0., 1., 0., 0., 0., 0., 0., 0., 0.,\n",
       "        0., 0., 0., 1., 1., 1., 1., 0., 0., 0., 0., 1., 0., 0., 1., 1., 0., 0.,\n",
       "        0., 0., 1., 1., 1., 0., 0., 0., 1., 1., 1., 0., 0., 0., 0., 0., 1., 0.,\n",
       "        1., 0., 0., 0., 0., 0., 1., 0., 0., 1., 1., 0., 1., 1., 0., 0., 0., 1.,\n",
       "        0., 1., 0., 1., 1., 0., 0., 0., 1., 0., 1., 0., 0., 0., 0., 1., 1., 0.,\n",
       "        0., 0., 1., 0., 0., 1., 0., 0., 1., 0., 1., 0., 1., 1., 0., 0., 0., 0.,\n",
       "        0., 0., 1., 0., 0., 0., 1., 1., 0., 1., 1., 0., 0., 0., 0., 0., 0., 0.,\n",
       "        1., 0., 0., 0., 0., 0., 0., 0., 0., 0., 1., 1., 1., 0., 1., 1., 0.])"
      ]
     },
     "execution_count": 16,
     "metadata": {},
     "output_type": "execute_result"
    }
   ],
   "source": [
    "# get the labels (0 = no paracingulate, 1 = paracingulate)\n",
    "# /!\\ use read_labels\n",
    "labels = read_labels(\"/neurospin/dico/data/bv_databases/human/partially_labeled/ACCpatterns/all.csv\",\n",
    "                'long_name', [\"Right_PCS\"])\n",
    "\n",
    "Y = labels.Right_PCS.values\n",
    "\n",
    "Y = torch.from_numpy(Y).type(torch.float)\n",
    "Y"
   ]
  },
  {
   "cell_type": "code",
   "execution_count": 17,
   "metadata": {},
   "outputs": [],
   "source": [
    "class BinaryClassifier(pl.LightningModule):\n",
    "    def __init__(self, layers_sizes, activation=None, loss='MSE', keep_log=False):\n",
    "        super().__init__()\n",
    "        self.keep_log = keep_log\n",
    "        self.layers = nn.Sequential()\n",
    "        for i in range(len(layers_sizes)-1):\n",
    "            self.layers.add_module('layer%d'%(i), nn.Linear(layers_sizes[i], layers_sizes[i+1]))\n",
    "\n",
    "        if activation == 'sigmoid':\n",
    "            self.activation = nn.Sigmoid()\n",
    "        else:\n",
    "            self.activation = None\n",
    "        \n",
    "        if loss == 'BCE':\n",
    "            self.loss = nn.BCELoss()\n",
    "        else:\n",
    "            self.loss = nn.MSELoss()\n",
    "        \n",
    "\n",
    "    def forward(self, x):\n",
    "        # in lightning, forward defines the prediction/inference actions\n",
    "        for layer in self.layers:\n",
    "            x = layer(x)\n",
    "        if self.activation:\n",
    "            x = self.activation(x)\n",
    "        return x\n",
    "    \n",
    "    def training_step(self, batch, batch_idx):\n",
    "        # training_step defined the train loop.\n",
    "        # It is independent of forward\n",
    "        x, y = batch\n",
    "        x = x.view(x.size(0), -1)\n",
    "        output = self.forward(x)\n",
    "        y = y.view(y.size(0), 1)\n",
    "        loss = self.loss(output, y)\n",
    "        if self.keep_log:\n",
    "            print(\"KEEP LOG\")\n",
    "            # Logging to TensorBoard by default\n",
    "            self.log(\"train_loss\", loss)\n",
    "        return loss\n",
    "\n",
    "    def configure_optimizers(self):\n",
    "        optimizer = torch.optim.Adam(self.parameters(), lr=1e-3)\n",
    "        return optimizer"
   ]
  },
  {
   "cell_type": "code",
   "execution_count": 18,
   "metadata": {},
   "outputs": [],
   "source": [
    "classifier = BinaryClassifier([n_pca, 10, 1], activation=None, loss='MSE')"
   ]
  },
  {
   "cell_type": "code",
   "execution_count": 19,
   "metadata": {},
   "outputs": [
    {
     "name": "stderr",
     "output_type": "stream",
     "text": [
      "GPU available: False, used: False\n",
      "TPU available: False, using: 0 TPU cores\n",
      "IPU available: False, using: 0 IPUs\n",
      "\n",
      "  | Name   | Type       | Params\n",
      "--------------------------------------\n",
      "0 | layers | Sequential | 1.0 K \n",
      "1 | loss   | MSELoss    | 0     \n",
      "--------------------------------------\n",
      "1.0 K     Trainable params\n",
      "0         Non-trainable params\n",
      "1.0 K     Total params\n",
      "0.004     Total estimated model params size (MB)\n",
      "/neurospin/dico/agaudin/Runs/03_monkeys/2022_jchavas_cingulate_inhibitory_control/venv_local/lib/python3.6/site-packages/pytorch_lightning/trainer/data_loading.py:133: UserWarning: The dataloader, train_dataloader, does not have many workers which may be a bottleneck. Consider increasing the value of the `num_workers` argument` (try 4 which is the number of cpus on this machine) in the `DataLoader` init to improve performance.\n",
      "  f\"The dataloader, {name}, does not have many workers which may be a bottleneck.\"\n",
      "/neurospin/dico/agaudin/Runs/03_monkeys/2022_jchavas_cingulate_inhibitory_control/venv_local/lib/python3.6/site-packages/pytorch_lightning/trainer/data_loading.py:433: UserWarning: The number of training samples (35) is smaller than the logging interval Trainer(log_every_n_steps=50). Set a lower value for log_every_n_steps if you want to see logs for the training epoch.\n",
      "  f\"The number of training samples ({self.num_training_batches}) is smaller than the logging interval\"\n"
     ]
    },
    {
     "data": {
      "application/vnd.jupyter.widget-view+json": {
       "model_id": "4869404d971f4e7c8ff80853529ff9d6",
       "version_major": 2,
       "version_minor": 0
      },
      "text/plain": [
       "Training: 0it [00:00, ?it/s]"
      ]
     },
     "metadata": {},
     "output_type": "display_data"
    }
   ],
   "source": [
    "train_set = TensorDataset(X_reduced, Y)\n",
    "train_loader_lin = DataLoader(train_set, batch_size=10)\n",
    "\n",
    "trainer_lin = pl.Trainer(max_epochs=10)\n",
    "trainer_lin.fit(model=classifier, train_dataloaders=train_loader_lin)"
   ]
  },
  {
   "cell_type": "code",
   "execution_count": 20,
   "metadata": {},
   "outputs": [],
   "source": [
    "# get predictions\n",
    "Y_pred = classifier.forward(X_reduced)\n",
    "Y_pred = Y_pred.detach().numpy()\n",
    "Y = Y.detach_().numpy()"
   ]
  },
  {
   "cell_type": "code",
   "execution_count": 21,
   "metadata": {},
   "outputs": [
    {
     "name": "stdout",
     "output_type": "stream",
     "text": [
      "0.6187683284457478\n"
     ]
    },
    {
     "data": {
      "image/png": "[encoded data removed]",
      "text/plain": [
       "<Figure size 432x288 with 1 Axes>"
      ]
     },
     "metadata": {
      "needs_background": "light"
     },
     "output_type": "display_data"
    }
   ],
   "source": [
    "# confusion matrix\n",
    "binary_preds = (Y_pred >= 0.5)\n",
    "\n",
    "print(accuracy_score(Y, binary_preds))\n",
    "conf_mat = confusion_matrix(Y, binary_preds)\n",
    "\n",
    "fig, ax = plt.subplots()\n",
    "# Using matshow here just because it sets the ticks up nicely. imshow is faster.\n",
    "ax.matshow(conf_mat)\n",
    "\n",
    "for (i, j), z in np.ndenumerate(conf_mat):\n",
    "    ax.text(j, i, '{:1.0f}'.format(z), ha='center', va='center')"
   ]
  },
  {
   "cell_type": "code",
   "execution_count": 22,
   "metadata": {},
   "outputs": [
    {
     "data": {
      "text/plain": [
       "<matplotlib.legend.Legend at 0x7f184db3e9b0>"
      ]
     },
     "execution_count": 22,
     "metadata": {},
     "output_type": "execute_result"
    },
    {
     "data": {
      "image/png": "[encoded data removed]",
      "text/plain": [
       "<Figure size 432x288 with 1 Axes>"
      ]
     },
     "metadata": {
      "needs_background": "light"
     },
     "output_type": "display_data"
    }
   ],
   "source": [
    "# roc curve\n",
    "curves = roc_curve(Y, Y_pred)\n",
    "roc_auc = roc_auc_score(Y, Y_pred)\n",
    "\n",
    "plt.plot(curves[0], curves[1], label=\"ROC curve (area = %0.2f)\" % roc_auc)\n",
    "plt.plot([0,1],[0,1],color='r')\n",
    "plt.legend()"
   ]
  },
  {
   "cell_type": "code",
   "execution_count": 23,
   "metadata": {},
   "outputs": [
    {
     "data": {
      "text/html": [
       "<div>\n",
       "<style scoped>\n",
       "    .dataframe tbody tr th:only-of-type {\n",
       "        vertical-align: middle;\n",
       "    }\n",
       "\n",
       "    .dataframe tbody tr th {\n",
       "        vertical-align: top;\n",
       "    }\n",
       "\n",
       "    .dataframe thead th {\n",
       "        text-align: right;\n",
       "    }\n",
       "</style>\n",
       "<table border=\"1\" class=\"dataframe\">\n",
       "  <thead>\n",
       "    <tr style=\"text-align: right;\">\n",
       "      <th></th>\n",
       "      <th>true</th>\n",
       "      <th>pred</th>\n",
       "    </tr>\n",
       "  </thead>\n",
       "  <tbody>\n",
       "    <tr>\n",
       "      <th>0</th>\n",
       "      <td>0.0</td>\n",
       "      <td>-0.076956</td>\n",
       "    </tr>\n",
       "    <tr>\n",
       "      <th>1</th>\n",
       "      <td>1.0</td>\n",
       "      <td>0.395233</td>\n",
       "    </tr>\n",
       "    <tr>\n",
       "      <th>2</th>\n",
       "      <td>1.0</td>\n",
       "      <td>0.137753</td>\n",
       "    </tr>\n",
       "    <tr>\n",
       "      <th>3</th>\n",
       "      <td>0.0</td>\n",
       "      <td>-0.151873</td>\n",
       "    </tr>\n",
       "    <tr>\n",
       "      <th>4</th>\n",
       "      <td>1.0</td>\n",
       "      <td>0.108997</td>\n",
       "    </tr>\n",
       "    <tr>\n",
       "      <th>...</th>\n",
       "      <td>...</td>\n",
       "      <td>...</td>\n",
       "    </tr>\n",
       "    <tr>\n",
       "      <th>336</th>\n",
       "      <td>1.0</td>\n",
       "      <td>0.237254</td>\n",
       "    </tr>\n",
       "    <tr>\n",
       "      <th>337</th>\n",
       "      <td>0.0</td>\n",
       "      <td>-0.033554</td>\n",
       "    </tr>\n",
       "    <tr>\n",
       "      <th>338</th>\n",
       "      <td>1.0</td>\n",
       "      <td>0.039403</td>\n",
       "    </tr>\n",
       "    <tr>\n",
       "      <th>339</th>\n",
       "      <td>1.0</td>\n",
       "      <td>-0.115169</td>\n",
       "    </tr>\n",
       "    <tr>\n",
       "      <th>340</th>\n",
       "      <td>0.0</td>\n",
       "      <td>-0.165315</td>\n",
       "    </tr>\n",
       "  </tbody>\n",
       "</table>\n",
       "<p>341 rows × 2 columns</p>\n",
       "</div>"
      ],
      "text/plain": [
       "     true      pred\n",
       "0     0.0 -0.076956\n",
       "1     1.0  0.395233\n",
       "2     1.0  0.137753\n",
       "3     0.0 -0.151873\n",
       "4     1.0  0.108997\n",
       "..    ...       ...\n",
       "336   1.0  0.237254\n",
       "337   0.0 -0.033554\n",
       "338   1.0  0.039403\n",
       "339   1.0 -0.115169\n",
       "340   0.0 -0.165315\n",
       "\n",
       "[341 rows x 2 columns]"
      ]
     },
     "execution_count": 23,
     "metadata": {},
     "output_type": "execute_result"
    }
   ],
   "source": [
    "data = {\"true\": Y,\n",
    "        \"pred\": Y_pred.flatten()}\n",
    "\n",
    "df = pd.DataFrame(data)\n",
    "df"
   ]
  },
  {
   "cell_type": "code",
   "execution_count": 24,
   "metadata": {},
   "outputs": [
    {
     "name": "stdout",
     "output_type": "stream",
     "text": [
      "144 - 197\n",
      "-0.6475701 1\n"
     ]
    },
    {
     "data": {
      "image/png": "[encoded data removed]",
      "text/plain": [
       "<Figure size 432x288 with 1 Axes>"
      ]
     },
     "metadata": {
      "needs_background": "light"
     },
     "output_type": "display_data"
    }
   ],
   "source": [
    "with_paracingulate = df[df.true == 1]\n",
    "without_paracingulate = df[df.true == 0]\n",
    "\n",
    "print(with_paracingulate.shape[0], \"-\", without_paracingulate.shape[0])\n",
    "\n",
    "x_min = min(0, np.min(df.pred))\n",
    "x_max = max(1, np.max(df.pred))\n",
    "\n",
    "print(x_min, x_max)\n",
    "\n",
    "plt.hist(without_paracingulate.pred, bins=np.arange(x_min,x_max,0.01), alpha=0.6)\n",
    "plt.hist(with_paracingulate.pred, bins=np.arange(x_min,x_max,0.01), alpha=0.6, color='r')\n",
    "plt.legend(['without_paracingulate', \"with_paracingulate\"])\n",
    "\n",
    "ax = plt.gca()\n",
    "plt.vlines([0.5], ax.get_ylim()[0], ax.get_ylim()[1], color='black')\n",
    "plt.show()"
   ]
  }
 ],
 "metadata": {
  "interpreter": {
   "hash": "0f73fcffcecfd9979321d9d12d04ab853f30b45e10a8d384ec997dbe5450be03"
  },
  "kernelspec": {
   "display_name": "Python 3.6.9 ('venv_local': venv)",
   "language": "python",
   "name": "python3"
  },
  "language_info": {
   "codemirror_mode": {
    "name": "ipython",
    "version": 3
   },
   "file_extension": ".py",
   "mimetype": "text/x-python",
   "name": "python",
   "nbconvert_exporter": "python",
   "pygments_lexer": "ipython3",
   "version": "3.6.9"
  },
  "orig_nbformat": 4
 },
 "nbformat": 4,
 "nbformat_minor": 2
}
