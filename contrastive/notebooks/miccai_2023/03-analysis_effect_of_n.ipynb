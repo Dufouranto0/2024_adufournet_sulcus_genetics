{
 "cells": [
  {
   "cell_type": "markdown",
   "metadata": {},
   "source": [
    "Notebook where to plot the curves and display the performance of all models in \n",
    "a chosen folder. It is also where to conduct the performance analysis about the\n",
    "models database."
   ]
  },
  {
   "cell_type": "code",
   "execution_count": 1,
   "metadata": {},
   "outputs": [],
   "source": [
    "import numpy as np\n",
    "import pandas as pd\n",
    "import seaborn as sns\n",
    "import matplotlib.pyplot as plt\n",
    "\n",
    "from scipy.stats import ttest_1samp\n",
    "\n",
    "from contrastive.utils.models_database import import_bdd"
   ]
  },
  {
   "cell_type": "code",
   "execution_count": 2,
   "metadata": {},
   "outputs": [],
   "source": [
    "import os\n",
    "\n",
    "def last_part(path):\n",
    "    return os.sep.join(path.rsplit(r\"/\")[-2:])"
   ]
  },
  {
   "cell_type": "markdown",
   "metadata": {},
   "source": [
    "## Use the different-n database"
   ]
  },
  {
   "cell_type": "code",
   "execution_count": 18,
   "metadata": {},
   "outputs": [],
   "source": [
    "database_path = \"/neurospin/dico/data/deep_folding/papers/miccai2023/Output/contrastive/summary/bdd_HCP-UkBioBank_different-n_evaluation-ACCpatterns-1.csv\"\n",
    "bdd = pd.read_csv(database_path, index_col=0)\n",
    "bdd.sort_values(by='auc', ascending=False, inplace=True)\n",
    "bdd.loc[bdd.dataset_name.str.contains(\"UkBioBank\"), \"dataset_name\"] = \"UKBioBank\"\n",
    "bdd.loc[bdd.dataset_name.str.contains(\"ACCpatterns\"), \"dataset_name\"] = \"ACC-1\"\n",
    "bdd.loc[bdd.dataset_name.str.contains(\"HCP\"), \"dataset_name\"] = \"HCP-2\""
   ]
  },
  {
   "cell_type": "code",
   "execution_count": 22,
   "metadata": {},
   "outputs": [
    {
     "data": {
      "text/html": [
       "<div>\n",
       "<style scoped>\n",
       "    .dataframe tbody tr th:only-of-type {\n",
       "        vertical-align: middle;\n",
       "    }\n",
       "\n",
       "    .dataframe tbody tr th {\n",
       "        vertical-align: top;\n",
       "    }\n",
       "\n",
       "    .dataframe thead th {\n",
       "        text-align: right;\n",
       "    }\n",
       "</style>\n",
       "<table border=\"1\" class=\"dataframe\">\n",
       "  <thead>\n",
       "    <tr style=\"text-align: right;\">\n",
       "      <th></th>\n",
       "      <th>auc</th>\n",
       "      <th>nb_subjects</th>\n",
       "      <th>n</th>\n",
       "      <th>dataset_name</th>\n",
       "      <th>model_name</th>\n",
       "      <th>short_model_path</th>\n",
       "    </tr>\n",
       "  </thead>\n",
       "  <tbody>\n",
       "    <tr>\n",
       "      <th>69</th>\n",
       "      <td>0.786104</td>\n",
       "      <td>10000</td>\n",
       "      <td>10000</td>\n",
       "      <td>UKBioBank</td>\n",
       "      <td>ukbiobank-n=10000</td>\n",
       "      <td>ukbiobank-n=10000/06-01-30_1</td>\n",
       "    </tr>\n",
       "    <tr>\n",
       "      <th>67</th>\n",
       "      <td>0.721448</td>\n",
       "      <td>10000</td>\n",
       "      <td>10000</td>\n",
       "      <td>UKBioBank</td>\n",
       "      <td>ukbiobank-n=10000</td>\n",
       "      <td>ukbiobank-n=10000/06-35-47</td>\n",
       "    </tr>\n",
       "    <tr>\n",
       "      <th>68</th>\n",
       "      <td>0.708426</td>\n",
       "      <td>10000</td>\n",
       "      <td>10000</td>\n",
       "      <td>UKBioBank</td>\n",
       "      <td>ukbiobank-n=10000</td>\n",
       "      <td>ukbiobank-n=10000/06-01-30_0</td>\n",
       "    </tr>\n",
       "    <tr>\n",
       "      <th>66</th>\n",
       "      <td>0.699594</td>\n",
       "      <td>10000</td>\n",
       "      <td>10000</td>\n",
       "      <td>UKBioBank</td>\n",
       "      <td>ukbiobank-n=10000</td>\n",
       "      <td>ukbiobank-n=10000/06-34-49</td>\n",
       "    </tr>\n",
       "  </tbody>\n",
       "</table>\n",
       "</div>"
      ],
      "text/plain": [
       "         auc  nb_subjects      n dataset_name         model_name  \\\n",
       "69  0.786104        10000  10000    UKBioBank  ukbiobank-n=10000   \n",
       "67  0.721448        10000  10000    UKBioBank  ukbiobank-n=10000   \n",
       "68  0.708426        10000  10000    UKBioBank  ukbiobank-n=10000   \n",
       "66  0.699594        10000  10000    UKBioBank  ukbiobank-n=10000   \n",
       "\n",
       "                short_model_path  \n",
       "69  ukbiobank-n=10000/06-01-30_1  \n",
       "67    ukbiobank-n=10000/06-35-47  \n",
       "68  ukbiobank-n=10000/06-01-30_0  \n",
       "66    ukbiobank-n=10000/06-34-49  "
      ]
     },
     "execution_count": 22,
     "metadata": {},
     "output_type": "execute_result"
    }
   ],
   "source": [
    "bdd = bdd.copy()\n",
    "bdd[\"model_name\"] = \"=0\"\n",
    "bdd[\"model_name\"] = bdd.model_path.apply(lambda x: x.split(sep='/')[-2])\n",
    "bdd.loc[bdd.dataset_name==\"ACC\",\"model_name\"] = \"cingulate_ACCpatterns_0_n=171\"\n",
    "bdd.loc[bdd.model_name==\"all\",\"model_name\"] = \"cingulate_HCP_n=1101\"\n",
    "bdd.loc[bdd.model_path.str.contains(\"n=1114\"),\"model_name\"] = \"cingulate_UkBioBank_n=1101\"\n",
    "bdd[\"n\"] = -1\n",
    "bdd[\"n\"] = bdd.model_name.apply(lambda x: int(x.split(sep='=')[-1]))\n",
    "bdd[\"n\"] = bdd.apply(lambda x: x[\"nb_subjects\"] if x[\"nb_subjects\"]>=0 else x[\"n\"], axis=1)\n",
    "bdd[\"short_model_path\"] = bdd.model_path.apply(last_part)\n",
    "bdd[[\"auc\", \"nb_subjects\", \"n\", \"dataset_name\", \"model_name\", \"short_model_path\"]][bdd.short_model_path.str.contains(\"10000\")].sort_values(by='n')"
   ]
  },
  {
   "cell_type": "code",
   "execution_count": 20,
   "metadata": {},
   "outputs": [
    {
     "data": {
      "text/plain": [
       "(0.5, 0.8)"
      ]
     },
     "execution_count": 20,
     "metadata": {},
     "output_type": "execute_result"
    },
    {
     "data": {
      "image/png": "[encoded data removed]",
      "text/plain": [
       "<Figure size 720x360 with 1 Axes>"
      ]
     },
     "metadata": {
      "needs_background": "light"
     },
     "output_type": "display_data"
    }
   ],
   "source": [
    "f, ax = plt.subplots(1, 1, figsize=(10, 5))\n",
    "ax.plot(bdd.n, bdd.auc)\n",
    "ax.set_xscale(\"log\")\n",
    "ax.set_ylim([0.5,0.8])"
   ]
  },
  {
   "cell_type": "code",
   "execution_count": 21,
   "metadata": {},
   "outputs": [
    {
     "data": {
      "text/plain": [
       "(0.5, 0.8)"
      ]
     },
     "execution_count": 21,
     "metadata": {},
     "output_type": "execute_result"
    },
    {
     "data": {
      "image/png": "[encoded data removed]",
      "text/plain": [
       "<Figure size 720x360 with 1 Axes>"
      ]
     },
     "metadata": {
      "needs_background": "light"
     },
     "output_type": "display_data"
    }
   ],
   "source": [
    "f, ax = plt.subplots(1, 1, figsize=(10, 5))\n",
    "sns.pointplot(data=bdd, x=bdd.n, y=\"auc\", palette=['grey', 'black', 'grey'],markers=['^', 's','o'], hue='dataset_name', linestyles=['-','-','-'], scale=2,ax=ax)\n",
    "sns.stripplot(data=bdd, x=bdd.n, y=\"auc\", marker='s', palette=['grey', 'black', 'grey'], hue='dataset_name', jitter=1, ax=ax)\n",
    "ax.legend([],[], frameon=False)\n",
    "ax.set_ylim([0.5,0.8])\n",
    "# ax.set_xscale('log')"
   ]
  },
  {
   "cell_type": "code",
   "execution_count": 8,
   "metadata": {},
   "outputs": [],
   "source": [
    "database_path = \"/neurospin/dico/data/deep_folding/papers/ipmi2023/models/contrastive/summary/bdd_HCP-half-2-different-n_evaluation-ACCpatterns-1.csv\""
   ]
  },
  {
   "cell_type": "code",
   "execution_count": 9,
   "metadata": {},
   "outputs": [
    {
     "name": "stdout",
     "output_type": "stream",
     "text": [
      "path /neurospin/dico/data/deep_folding/papers/ipmi2023/models/contrastive/summary/bdd_HCP-half-2-different-n_evaluation-ACCpatterns-1.csv\n",
      "0 have been removed for bad learning\n",
      "                                           model_path       auc   auc_std  \\\n",
      "29  /neurospin/dico/data/deep_folding/papers/ipmi2...  0.668262  0.002930   \n",
      "26  /neurospin/dico/data/deep_folding/papers/ipmi2...  0.741189  0.002659   \n",
      "25  /neurospin/dico/data/deep_folding/papers/ipmi2...  0.741980  0.003783   \n",
      "27  /neurospin/dico/data/deep_folding/papers/ipmi2...  0.745901  0.003135   \n",
      "28  /neurospin/dico/data/deep_folding/papers/ipmi2...  0.749881  0.003085   \n",
      "\n",
      "    accuracy  accuracy_std          dataset_name   model  n_max  with_labels  \\\n",
      "29  0.662199      0.008900  cingulate_HCP_half_2  SimCLR   1080        False   \n",
      "26  0.691532      0.006607  cingulate_HCP_half_2  SimCLR   1080        False   \n",
      "25  0.690924      0.008623  cingulate_HCP_half_2  SimCLR   1080        False   \n",
      "27  0.699181      0.006776  cingulate_HCP_half_2  SimCLR   1080        False   \n",
      "28  0.699977      0.010915  cingulate_HCP_half_2  SimCLR   1080        False   \n",
      "\n",
      "   train_val_csv_file exclude  \n",
      "29                NaN   False  \n",
      "26                NaN   False  \n",
      "25                NaN   False  \n",
      "27                NaN   False  \n",
      "28                NaN   False  \n",
      "                                           model_path       auc   auc_std  \\\n",
      "29  /neurospin/dico/data/deep_folding/papers/ipmi2...  0.668262  0.002930   \n",
      "26  /neurospin/dico/data/deep_folding/papers/ipmi2...  0.741189  0.002659   \n",
      "25  /neurospin/dico/data/deep_folding/papers/ipmi2...  0.741980  0.003783   \n",
      "27  /neurospin/dico/data/deep_folding/papers/ipmi2...  0.745901  0.003135   \n",
      "28  /neurospin/dico/data/deep_folding/papers/ipmi2...  0.749881  0.003085   \n",
      "\n",
      "    accuracy  accuracy_std          dataset_name   model  n_max  with_labels  \\\n",
      "29  0.662199      0.008900  cingulate_HCP_half_2  SimCLR   1080        False   \n",
      "26  0.691532      0.006607  cingulate_HCP_half_2  SimCLR   1080        False   \n",
      "25  0.690924      0.008623  cingulate_HCP_half_2  SimCLR   1080        False   \n",
      "27  0.699181      0.006776  cingulate_HCP_half_2  SimCLR   1080        False   \n",
      "28  0.699977      0.010915  cingulate_HCP_half_2  SimCLR   1080        False   \n",
      "\n",
      "   train_val_csv_file exclude               model_name  \n",
      "29                NaN   False  training-on-hcp-2-n=551  \n",
      "26                NaN   False  training-on-hcp-2-n=551  \n",
      "25                NaN   False  training-on-hcp-2-n=551  \n",
      "27                NaN   False  training-on-hcp-2-n=551  \n",
      "28                NaN   False  training-on-hcp-2-n=551  \n"
     ]
    },
    {
     "data": {
      "text/html": [
       "<div>\n",
       "<style scoped>\n",
       "    .dataframe tbody tr th:only-of-type {\n",
       "        vertical-align: middle;\n",
       "    }\n",
       "\n",
       "    .dataframe tbody tr th {\n",
       "        vertical-align: top;\n",
       "    }\n",
       "\n",
       "    .dataframe thead th {\n",
       "        text-align: right;\n",
       "    }\n",
       "</style>\n",
       "<table border=\"1\" class=\"dataframe\">\n",
       "  <thead>\n",
       "    <tr style=\"text-align: right;\">\n",
       "      <th></th>\n",
       "      <th>model_path</th>\n",
       "      <th>auc</th>\n",
       "      <th>auc_std</th>\n",
       "      <th>accuracy</th>\n",
       "      <th>accuracy_std</th>\n",
       "      <th>dataset_name</th>\n",
       "      <th>model</th>\n",
       "      <th>n_max</th>\n",
       "      <th>with_labels</th>\n",
       "      <th>train_val_csv_file</th>\n",
       "      <th>exclude</th>\n",
       "      <th>model_name</th>\n",
       "    </tr>\n",
       "  </thead>\n",
       "  <tbody>\n",
       "    <tr>\n",
       "      <th>12</th>\n",
       "      <td>/neurospin/dico/data/deep_folding/papers/ipmi2...</td>\n",
       "      <td>0.496505</td>\n",
       "      <td>0.035252</td>\n",
       "      <td>0.551228</td>\n",
       "      <td>0.010062</td>\n",
       "      <td>cingulate_HCP_half_2</td>\n",
       "      <td>SimCLR_supervised</td>\n",
       "      <td>1080</td>\n",
       "      <td>True</td>\n",
       "      <td>/neurospin/dico/data/deep_folding/papers/ipmi2...</td>\n",
       "      <td>False</td>\n",
       "      <td>training-on-hcp-2-n=20</td>\n",
       "    </tr>\n",
       "    <tr>\n",
       "      <th>32</th>\n",
       "      <td>/neurospin/dico/data/deep_folding/papers/ipmi2...</td>\n",
       "      <td>0.570375</td>\n",
       "      <td>0.015530</td>\n",
       "      <td>0.588257</td>\n",
       "      <td>0.012994</td>\n",
       "      <td>cingulate_HCP_half_2</td>\n",
       "      <td>SimCLR_supervised</td>\n",
       "      <td>1080</td>\n",
       "      <td>True</td>\n",
       "      <td>/neurospin/dico/data/deep_folding/papers/ipmi2...</td>\n",
       "      <td>False</td>\n",
       "      <td>training-on-hcp-2-n=64</td>\n",
       "    </tr>\n",
       "    <tr>\n",
       "      <th>23</th>\n",
       "      <td>/neurospin/dico/data/deep_folding/papers/ipmi2...</td>\n",
       "      <td>0.596417</td>\n",
       "      <td>0.045014</td>\n",
       "      <td>0.584515</td>\n",
       "      <td>0.010981</td>\n",
       "      <td>cingulate_HCP_half_2</td>\n",
       "      <td>SimCLR_supervised</td>\n",
       "      <td>1080</td>\n",
       "      <td>True</td>\n",
       "      <td>/neurospin/dico/data/deep_folding/papers/ipmi2...</td>\n",
       "      <td>False</td>\n",
       "      <td>training-on-hcp-2-n=32</td>\n",
       "    </tr>\n",
       "    <tr>\n",
       "      <th>20</th>\n",
       "      <td>/neurospin/dico/data/deep_folding/papers/ipmi2...</td>\n",
       "      <td>0.616425</td>\n",
       "      <td>0.007069</td>\n",
       "      <td>0.616936</td>\n",
       "      <td>0.010266</td>\n",
       "      <td>cingulate_HCP_half_2</td>\n",
       "      <td>SimCLR</td>\n",
       "      <td>1080</td>\n",
       "      <td>False</td>\n",
       "      <td>NaN</td>\n",
       "      <td>False</td>\n",
       "      <td>training-on-hcp-2-n=32</td>\n",
       "    </tr>\n",
       "    <tr>\n",
       "      <th>6</th>\n",
       "      <td>/neurospin/dico/data/deep_folding/papers/ipmi2...</td>\n",
       "      <td>0.620586</td>\n",
       "      <td>0.010187</td>\n",
       "      <td>0.625216</td>\n",
       "      <td>0.013397</td>\n",
       "      <td>cingulate_HCP_half_2</td>\n",
       "      <td>SimCLR</td>\n",
       "      <td>1080</td>\n",
       "      <td>False</td>\n",
       "      <td>NaN</td>\n",
       "      <td>False</td>\n",
       "      <td>training-on-hcp-2-n=171</td>\n",
       "    </tr>\n",
       "  </tbody>\n",
       "</table>\n",
       "</div>"
      ],
      "text/plain": [
       "                                           model_path       auc   auc_std  \\\n",
       "12  /neurospin/dico/data/deep_folding/papers/ipmi2...  0.496505  0.035252   \n",
       "32  /neurospin/dico/data/deep_folding/papers/ipmi2...  0.570375  0.015530   \n",
       "23  /neurospin/dico/data/deep_folding/papers/ipmi2...  0.596417  0.045014   \n",
       "20  /neurospin/dico/data/deep_folding/papers/ipmi2...  0.616425  0.007069   \n",
       "6   /neurospin/dico/data/deep_folding/papers/ipmi2...  0.620586  0.010187   \n",
       "\n",
       "    accuracy  accuracy_std          dataset_name              model  n_max  \\\n",
       "12  0.551228      0.010062  cingulate_HCP_half_2  SimCLR_supervised   1080   \n",
       "32  0.588257      0.012994  cingulate_HCP_half_2  SimCLR_supervised   1080   \n",
       "23  0.584515      0.010981  cingulate_HCP_half_2  SimCLR_supervised   1080   \n",
       "20  0.616936      0.010266  cingulate_HCP_half_2             SimCLR   1080   \n",
       "6   0.625216      0.013397  cingulate_HCP_half_2             SimCLR   1080   \n",
       "\n",
       "    with_labels                                 train_val_csv_file exclude  \\\n",
       "12         True  /neurospin/dico/data/deep_folding/papers/ipmi2...   False   \n",
       "32         True  /neurospin/dico/data/deep_folding/papers/ipmi2...   False   \n",
       "23         True  /neurospin/dico/data/deep_folding/papers/ipmi2...   False   \n",
       "20        False                                                NaN   False   \n",
       "6         False                                                NaN   False   \n",
       "\n",
       "                 model_name  \n",
       "12   training-on-hcp-2-n=20  \n",
       "32   training-on-hcp-2-n=64  \n",
       "23   training-on-hcp-2-n=32  \n",
       "20   training-on-hcp-2-n=32  \n",
       "6   training-on-hcp-2-n=171  "
      ]
     },
     "execution_count": 9,
     "metadata": {},
     "output_type": "execute_result"
    }
   ],
   "source": [
    "bdd_n_site = import_bdd(database_path, verbose=True)\n",
    "bdd_n_site.sort_values(by='auc', inplace=True)\n",
    "print(bdd_n_site[bdd_n_site.model_path.str.contains(\"training-on-hcp-2-n=551\")])\n",
    "bdd_n_site = bdd_n_site[bdd_n_site.exclude == 'False']\n",
    "\n",
    "bdd_n_site[\"model_name\"] = bdd_n_site.model_path.apply(lambda x: x.split(sep='/')[-2])\n",
    "print(bdd_n_site[bdd_n_site[\"model_name\"]==\"training-on-hcp-2-n=551\"])\n",
    "bdd_n_site.head()"
   ]
  },
  {
   "cell_type": "markdown",
   "metadata": {},
   "source": []
  },
  {
   "cell_type": "code",
   "execution_count": null,
   "metadata": {},
   "outputs": [],
   "source": [
    "bdd_n_site[bdd_n_site.model_name=='training-on-hcp-2-n=551']"
   ]
  },
  {
   "cell_type": "code",
   "execution_count": null,
   "metadata": {},
   "outputs": [],
   "source": [
    "bdd_n = bdd_n_site[(bdd_n_site[\"dataset_name\"] != \"cingulate_ACCpatterns_0\")].copy(deep=True)\n",
    "print(bdd_n[bdd_n.model_name=='training-on-hcp-2-n=551'])\n",
    "bdd_n[\"n\"] = bdd_n.model_name.apply(lambda x: int(float(x.split(sep='=')[-1])))\n",
    "# bdd_n = bdd_n[bdd_n[\"n\"]<=551]\n",
    "bdd_n['id'] = True\n",
    "bdd_n[bdd_n.model_name=='training-on-hcp-2-n=551']"
   ]
  },
  {
   "cell_type": "code",
   "execution_count": null,
   "metadata": {},
   "outputs": [],
   "source": [
    "bdd_n[bdd_n.model_name==\"training-on-hcp-2-n=551\"]"
   ]
  },
  {
   "cell_type": "code",
   "execution_count": null,
   "metadata": {},
   "outputs": [],
   "source": [
    "plt.rc('xtick', labelsize=14) \n",
    "plt.rc('ytick', labelsize=14) \n",
    "plt.rc('axes', labelsize=18) \n",
    "f, axs = plt.subplots(1, 1, figsize=(10, 5))\n",
    "sns.pointplot(data=bdd_n, x=bdd_n.n, y=\"auc\", palette=['black'], hue='id', markers='s', linestyles=['-'], scale=2,ax=axs)\n",
    "sns.stripplot(data=bdd_n, x=bdd_n.n, y=\"auc\", marker='s', palette=['black'], jitter=.05, ax=axs)\n",
    "axs.legend([],[], frameon=False)\n",
    "axs.set_ylim([0.5,0.8])"
   ]
  },
  {
   "cell_type": "code",
   "execution_count": null,
   "metadata": {},
   "outputs": [],
   "source": [
    "bdd.head()"
   ]
  },
  {
   "cell_type": "code",
   "execution_count": null,
   "metadata": {},
   "outputs": [],
   "source": [
    "bdd_uk = bdd.copy()[[\"auc\", \"model_name\", \"n\"]]\n",
    "bdd_uk.head()"
   ]
  },
  {
   "cell_type": "code",
   "execution_count": null,
   "metadata": {},
   "outputs": [],
   "source": [
    "bdd_all = bdd_n.copy()[[\"auc\", \"model_name\", \"n\"]]\n",
    "bdd_all.head()"
   ]
  },
  {
   "cell_type": "code",
   "execution_count": null,
   "metadata": {},
   "outputs": [],
   "source": [
    "bdd_concat = pd.concat([bdd_all, bdd_uk])"
   ]
  },
  {
   "cell_type": "code",
   "execution_count": null,
   "metadata": {},
   "outputs": [],
   "source": [
    "plt.rc('xtick', labelsize=14) \n",
    "plt.rc('ytick', labelsize=14) \n",
    "plt.rc('axes', labelsize=18) \n",
    "f, axs = plt.subplots(1, 1, figsize=(10, 5))\n",
    "sns.pointplot(data=bdd_concat, x=bdd_concat.n, y=\"auc\", palette=['black'], markers='s', linestyles=['-'], scale=2,ax=axs)\n",
    "sns.stripplot(data=bdd_concat, x=bdd_concat.n, y=\"auc\", marker='s', palette=['black'], jitter=.05, ax=axs)\n",
    "axs.legend([],[], frameon=False)\n",
    "axs.set_ylim([0.5,0.8])"
   ]
  },
  {
   "cell_type": "code",
   "execution_count": null,
   "metadata": {},
   "outputs": [],
   "source": [
    "bdd_n2 = bdd_n_site.copy(deep=True)\n",
    "bdd_n2[\"n\"] = bdd_n2.model_name.apply(lambda x: int((x.split(sep='=')[-1])))\n",
    "bdd_n2 = bdd_n2[bdd_n2[\"n\"]<=551]\n",
    "bdd_n2.head()"
   ]
  },
  {
   "cell_type": "code",
   "execution_count": null,
   "metadata": {},
   "outputs": [],
   "source": [
    "bdd_n2[bdd_n2.n == 20]"
   ]
  },
  {
   "cell_type": "code",
   "execution_count": null,
   "metadata": {},
   "outputs": [],
   "source": [
    "bdd_n2.rename(columns={\"n\": \"training set size\"}, inplace=True)"
   ]
  },
  {
   "cell_type": "code",
   "execution_count": null,
   "metadata": {},
   "outputs": [],
   "source": [
    "def plotting_against_n(bdd, ax, label_axes=True):\n",
    "    sns.pointplot(data=bdd, x=bdd[\"training set size\"], y=\"auc\", palette=['black', 'grey'], hue='dataset_name', markers=['s', 'o'], linestyles=['-', '--'], scale=2,ax=ax)\n",
    "    sns.stripplot(data=bdd[bdd.dataset_name==\"cingulate_HCP_half_2\"], x=bdd[\"training set size\"], y=\"auc\", marker='s', palette=['black'], jitter=.05, ax=ax)\n",
    "    sns.stripplot(data=bdd[bdd.dataset_name==\"cingulate_ACCpatterns_0\"], x=bdd[\"training set size\"], y=\"auc\", marker='s', palette=['grey'], jitter=.1, ax=ax)\n",
    "    handles, _ = ax.get_legend_handles_labels()\n",
    "    ax.legend([handles[0], handles[1]], [\"HCP-2\", \"ACC-1\"], fontsize=14, labelspacing=1.)\n",
    "    ax.set_ylim([0.5,0.8])\n",
    "    if not label_axes:\n",
    "        ax.set_ylabel(\"\")\n",
    "        ax.set_yticks([])\n",
    "\n",
    "plt.rc('xtick', labelsize=14) \n",
    "plt.rc('ytick', labelsize=14) \n",
    "plt.rc('axes', labelsize=18) \n",
    "f, ax = plt.subplots(1, 1, figsize=(5, 5))\n",
    "\n",
    "plotting_against_n(bdd=bdd_n2, ax=ax)"
   ]
  },
  {
   "cell_type": "code",
   "execution_count": null,
   "metadata": {},
   "outputs": [],
   "source": [
    "bdd_n2[bdd_n2.dataset_name==\"cingulate_ACCpatterns_0\"].auc"
   ]
  },
  {
   "cell_type": "code",
   "execution_count": null,
   "metadata": {},
   "outputs": [],
   "source": [
    "bdd_n2[(bdd_n2.dataset_name==\"cingulate_HCP_half_2\") & (bdd_n2[\"training set size\"]==171)].auc"
   ]
  },
  {
   "cell_type": "code",
   "execution_count": null,
   "metadata": {},
   "outputs": [],
   "source": [
    "from scipy import stats\n",
    "stats.ttest_ind(bdd_n2[bdd_n2.dataset_name==\"cingulate_ACCpatterns_0\"].auc, bdd_n2[(bdd_n2.dataset_name==\"cingulate_HCP_half_2\") & (bdd_n2[\"training set size\"]==171)].auc)"
   ]
  },
  {
   "cell_type": "code",
   "execution_count": null,
   "metadata": {},
   "outputs": [],
   "source": [
    "bdd_n2.model_name[:7]"
   ]
  },
  {
   "cell_type": "code",
   "execution_count": null,
   "metadata": {},
   "outputs": [],
   "source": [
    "bdd_site = bdd_n_site[(bdd_n_site.model_name == \"training-on-hcp-2-n=171\") | (bdd_n_site.model_name == \"convnet-10-n=171\")].copy(deep=True)"
   ]
  },
  {
   "cell_type": "code",
   "execution_count": null,
   "metadata": {},
   "outputs": [],
   "source": [
    "bdd_site[\"training_set\"] = bdd_site.model_name.apply(lambda x: \"HCP-2\" if x==\"training-on-hcp-2-n=171\" else \"ACC-1\")\n",
    "bdd_site"
   ]
  },
  {
   "cell_type": "code",
   "execution_count": null,
   "metadata": {},
   "outputs": [],
   "source": [
    "bdd_site.rename(columns={\"training_set\": \"training set\"}, inplace=True)"
   ]
  },
  {
   "cell_type": "code",
   "execution_count": null,
   "metadata": {},
   "outputs": [],
   "source": [
    "def plotting_against_site(bdd, ax, label_axes=True):\n",
    "    ax.set_title(\"n = 171\", fontsize=18)\n",
    "    sns.pointplot(data=bdd, x=bdd[\"training set\"], y=\"auc\", hue=\"training set\", palette=['black', 'grey'], markers=['s', 'o'], linestyles=['-', '-'], scale=2,ax=ax)\n",
    "    sns.stripplot(data=bdd, x=bdd[\"training set\"], y=\"auc\", marker='s', palette=['black', 'grey'], jitter=.05, ax=ax)\n",
    "    ax.legend([],[], frameon=False)\n",
    "    ax.set_ylim([0.5,0.8])\n",
    "    if not label_axes:\n",
    "        ax.set(ylabel=None)\n",
    "\n",
    "plt.rc('xtick', labelsize=14) \n",
    "plt.rc('ytick', labelsize=14) \n",
    "plt.rc('axes', labelsize=18) \n",
    "f, ax = plt.subplots(1, 1, figsize=(5, 5))\n",
    "\n",
    "plotting_against_site(bdd=bdd_site, ax=ax)"
   ]
  },
  {
   "cell_type": "markdown",
   "metadata": {},
   "source": [
    "## Variation with batch size"
   ]
  },
  {
   "cell_type": "code",
   "execution_count": null,
   "metadata": {},
   "outputs": [],
   "source": [
    "batch_bdd = pd.read_csv(\"/neurospin/dico/data/deep_folding/papers/ipmi2023/models/contrastive/summary/bdd_batch-size_training-HCP-half-2_evaluation-ACCpatterns-1.csv\")"
   ]
  },
  {
   "cell_type": "code",
   "execution_count": null,
   "metadata": {},
   "outputs": [],
   "source": [
    "batch_bdd.rename(columns={\"batch_size\": \"batch size\"}, inplace=True)"
   ]
  },
  {
   "cell_type": "code",
   "execution_count": null,
   "metadata": {},
   "outputs": [],
   "source": [
    "batch_bdd.head()"
   ]
  },
  {
   "cell_type": "code",
   "execution_count": null,
   "metadata": {},
   "outputs": [],
   "source": []
  },
  {
   "cell_type": "code",
   "execution_count": null,
   "metadata": {},
   "outputs": [],
   "source": [
    "def plotting_against_batch_size(bdd, ax, label_axes=True):\n",
    "    sns.pointplot(data=bdd, x=bdd[\"batch size\"], markers='s', color='black', y=\"auc\", scale=2,ax=ax)\n",
    "    sns.stripplot(data=bdd, x=bdd[\"batch size\"], y=\"auc\", marker='s', color='black', jitter=.05, ax=ax)\n",
    "    ax.set_ylim([0.5,0.8])\n",
    "    if not label_axes:\n",
    "        ax.set(ylabel=None)\n",
    "    ax.set_ylabel(\"\")\n",
    "    ax.set_yticks([])\n",
    "    secax = ax.secondary_yaxis('right')\n",
    "    secax.set_ylabel('auc', rotation=270, labelpad=15)\n",
    "\n",
    "plt.rc('xtick', labelsize=14) \n",
    "plt.rc('ytick', labelsize=14) \n",
    "plt.rc('axes', labelsize=18) \n",
    "f, ax = plt.subplots(1, 1, figsize=(5, 5))\n",
    "plotting_against_batch_size(bdd=batch_bdd, ax=ax)"
   ]
  },
  {
   "cell_type": "markdown",
   "metadata": {},
   "source": [
    "## Summary"
   ]
  },
  {
   "cell_type": "code",
   "execution_count": null,
   "metadata": {},
   "outputs": [],
   "source": [
    "plt.rc('xtick', labelsize=14) \n",
    "plt.rc('ytick', labelsize=14) \n",
    "plt.rc('axes', labelsize=18) \n",
    "f, axs = plt.subplots(1,3, figsize=(17, 5))\n",
    "\n",
    "plotting_SimCLR_betaVAE(bdd=res_bdd, ax=axs[0])\n",
    "plotting_against_n(bdd=bdd_n2, ax=axs[1], label_axes=False)\n",
    "# plotting_against_site(bdd=bdd_site, ax=axs[2], label_axes=False)\n",
    "plotting_against_batch_size(bdd=batch_bdd, ax=axs[2], label_axes=False)"
   ]
  },
  {
   "cell_type": "code",
   "execution_count": null,
   "metadata": {},
   "outputs": [],
   "source": [
    "f.savefig(save_fig_path + \"/testing.png\")"
   ]
  },
  {
   "cell_type": "code",
   "execution_count": null,
   "metadata": {},
   "outputs": [],
   "source": []
  }
 ],
 "metadata": {
  "kernelspec": {
   "display_name": "Python 3.6.9 ('venv_local': venv)",
   "language": "python",
   "name": "python3"
  },
  "language_info": {
   "codemirror_mode": {
    "name": "ipython",
    "version": 3
   },
   "file_extension": ".py",
   "mimetype": "text/x-python",
   "name": "python",
   "nbconvert_exporter": "python",
   "pygments_lexer": "ipython3",
   "version": "3.6.9"
  },
  "orig_nbformat": 4,
  "vscode": {
   "interpreter": {
    "hash": "b3f951fa4227f6aee2764c66da50d1aa01efee6b5e95e7b587fda0e6104695b3"
   }
  }
 },
 "nbformat": 4,
 "nbformat_minor": 2
}
