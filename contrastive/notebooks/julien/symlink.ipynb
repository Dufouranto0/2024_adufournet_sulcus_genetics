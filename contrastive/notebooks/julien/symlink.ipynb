{
 "cells": [
  {
   "cell_type": "code",
   "execution_count": 1,
   "metadata": {},
   "outputs": [],
   "source": [
    "import os\n",
    "import pandas as pd\n",
    "import numpy as np\n",
    "import json"
   ]
  },
  {
   "cell_type": "code",
   "execution_count": 2,
   "metadata": {},
   "outputs": [],
   "source": [
    "# Release3\n",
    "dir_Release3 = '/neurospin/grip/external_databases/dHCP_CR_JD_2018/Projects/denis/release3_scripts/subjects_file_v4.json'\n",
    "with open(dir_Release3) as f:\n",
    "    subjects_R3 = json.load(f)\n",
    "\n",
    "subjects_R3 = list(subjects_R3.keys())\n",
    "\n",
    "# get the session ids of R3\n",
    "dir_sessions = '/neurospin/grip/external_databases/dHCP_CR_JD_2018/Projects/denis/release3_scripts/subjects_file_v4.json'\n",
    "with open(dir_sessions) as f:\n",
    "    dict_sessions = json.load(f)\n",
    "sessions = [value['session_id'] for _, value in dict_sessions.items()]"
   ]
  },
  {
   "cell_type": "code",
   "execution_count": 6,
   "metadata": {},
   "outputs": [],
   "source": [
    "graphs_dir = '/neurospin/grip/external_databases/dHCP_CR_JD_2018/Projects/denis/release3_morpho_bids/'\n",
    "path_to_graph = '/anat/t1mri/default_acquisition/default_analysis/folds/3.1/default_session_auto/'\n",
    "graphs_dir_link = '/neurospin/dico/jlaval/data/dHCP_374/graphs/'\n",
    "\n",
    "# mkdir folder for each subject in graphs_dir_link\n",
    "for subject in subjects_R3:\n",
    "    os.mkdir(graphs_dir_link+f'{subject}')\n",
    "    os.mkdir(graphs_dir_link+f'{subject}/R{subject}.data')"
   ]
  },
  {
   "cell_type": "code",
   "execution_count": 7,
   "metadata": {},
   "outputs": [],
   "source": [
    "\n",
    "for subject, session in zip(subjects_R3, sessions):\n",
    "    src = graphs_dir+f'sub-{subject}/ses-{session}/'+path_to_graph+f'R{subject}_default_session_auto.arg'\n",
    "    dst = graphs_dir_link+f'{subject}/R{subject}_default_session_auto.arg'\n",
    "    os.symlink(src, dst)\n",
    "    # and the inside of the data folders\n",
    "    data_dir = graphs_dir+f'sub-{subject}/ses-{session}/'+path_to_graph+f'/R{subject}_default_session_auto.data/'\n",
    "    files_data = os.listdir(data_dir)\n",
    "    for file in files_data:\n",
    "        file_dir = data_dir + file\n",
    "        os.symlink(file_dir, graphs_dir_link+f'{subject}/R{subject}.data/{file}')"
   ]
  },
  {
   "cell_type": "code",
   "execution_count": null,
   "metadata": {},
   "outputs": [],
   "source": []
  }
 ],
 "metadata": {
  "kernelspec": {
   "display_name": "venv",
   "language": "python",
   "name": "python3"
  },
  "language_info": {
   "codemirror_mode": {
    "name": "ipython",
    "version": 3
   },
   "file_extension": ".py",
   "mimetype": "text/x-python",
   "name": "python",
   "nbconvert_exporter": "python",
   "pygments_lexer": "ipython3",
   "version": "3.6.9"
  },
  "orig_nbformat": 4
 },
 "nbformat": 4,
 "nbformat_minor": 2
}
