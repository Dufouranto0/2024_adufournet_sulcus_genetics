{
 "cells": [
  {
   "cell_type": "code",
   "execution_count": 13,
   "metadata": {},
   "outputs": [],
   "source": [
    "import numpy as np\n",
    "\n",
    "import torch\n",
    "import torch.nn as nn\n",
    "import torch.nn.functional as F\n",
    "\n",
    "from captum.attr import IntegratedGradients, GuidedGradCam"
   ]
  },
  {
   "cell_type": "code",
   "execution_count": 40,
   "metadata": {},
   "outputs": [
    {
     "data": {
      "text/plain": [
       "Net(\n",
       "  (conv1): Conv2d(3, 6, kernel_size=(5, 5), stride=(1, 1))\n",
       "  (pool): MaxPool2d(kernel_size=2, stride=2, padding=0, dilation=1, ceil_mode=False)\n",
       "  (conv2): Conv2d(6, 16, kernel_size=(5, 5), stride=(1, 1))\n",
       "  (fc1): Linear(in_features=400, out_features=120, bias=True)\n",
       "  (fc2): Linear(in_features=120, out_features=84, bias=True)\n",
       "  (fc3): Linear(in_features=84, out_features=10, bias=True)\n",
       ")"
      ]
     },
     "execution_count": 40,
     "metadata": {},
     "output_type": "execute_result"
    }
   ],
   "source": [
    "class Net(nn.Module):\n",
    "    def __init__(self):\n",
    "        super().__init__()\n",
    "        self.conv1 = nn.Conv2d(3, 6, 5)\n",
    "        self.pool = nn.MaxPool2d(2, 2)\n",
    "        self.conv2 = nn.Conv2d(6, 16, 5)\n",
    "        self.fc1 = nn.Linear(16 * 5 * 5, 120)\n",
    "        self.fc2 = nn.Linear(120, 84)\n",
    "        self.fc3 = nn.Linear(84, 10)\n",
    "\n",
    "    def forward(self, x):\n",
    "        x = self.pool(F.relu(self.conv1(x)))\n",
    "        x = self.pool(F.relu(self.conv2(x)))\n",
    "        x = torch.flatten(x, 1) # flatten all dimensions except batch\n",
    "        x = F.relu(self.fc1(x))\n",
    "        x = F.relu(self.fc2(x))\n",
    "        x = self.fc3(x)\n",
    "        return x\n",
    "\n",
    "\n",
    "net = Net()\n",
    "net.eval()"
   ]
  },
  {
   "cell_type": "code",
   "execution_count": 41,
   "metadata": {},
   "outputs": [],
   "source": [
    "torch.manual_seed(123)\n",
    "np.random.seed(123)"
   ]
  },
  {
   "cell_type": "code",
   "execution_count": 49,
   "metadata": {},
   "outputs": [],
   "source": [
    "input = torch.randn(2, 3, 32, 32, requires_grad=True)\n",
    "baseline = torch.zeros(2, 3, 32, 32, requires_grad=True)"
   ]
  },
  {
   "cell_type": "code",
   "execution_count": 50,
   "metadata": {},
   "outputs": [
    {
     "data": {
      "text/plain": [
       "torch.Size([2, 10])"
      ]
     },
     "execution_count": 50,
     "metadata": {},
     "output_type": "execute_result"
    }
   ],
   "source": [
    "net.forward(input).shape"
   ]
  },
  {
   "cell_type": "code",
   "execution_count": 51,
   "metadata": {},
   "outputs": [
    {
     "name": "stdout",
     "output_type": "stream",
     "text": [
      "IG Attributions: tensor([[[[ 6.3683e-07, -4.3761e-05,  1.0798e-04,  ..., -1.6316e-05,\n",
      "           -1.0539e-06,  4.1250e-06],\n",
      "          [-1.9535e-06,  1.3273e-05, -4.6452e-05,  ...,  1.1455e-05,\n",
      "           -9.3257e-05,  7.5016e-07],\n",
      "          [-2.0024e-05, -1.4892e-06,  3.0204e-06,  ...,  2.6304e-06,\n",
      "           -3.3324e-05, -5.6176e-06],\n",
      "          ...,\n",
      "          [ 2.3188e-05, -1.1999e-05, -1.7863e-04,  ..., -5.9960e-05,\n",
      "           -7.5432e-06,  4.4262e-05],\n",
      "          [-2.4319e-05, -1.9926e-05, -2.6035e-05,  ...,  4.3013e-05,\n",
      "           -1.1178e-04,  3.8659e-05],\n",
      "          [-1.7762e-05,  2.4422e-06, -4.2533e-05,  ..., -2.8849e-06,\n",
      "           -2.3789e-06, -0.0000e+00]],\n",
      "\n",
      "         [[ 2.0664e-06,  6.5487e-06, -5.5454e-06,  ..., -7.9054e-06,\n",
      "            4.3573e-06,  3.4717e-07],\n",
      "          [ 5.8330e-05,  5.4995e-06, -3.9337e-05,  ...,  1.4053e-05,\n",
      "            7.4643e-06, -7.8505e-06],\n",
      "          [ 6.8292e-06,  5.9402e-05, -5.2461e-06,  ..., -1.3300e-05,\n",
      "           -6.7564e-05, -1.0904e-05],\n",
      "          ...,\n",
      "          [ 2.1003e-05, -1.0700e-04,  7.6496e-07,  ..., -7.6665e-05,\n",
      "           -1.5197e-05, -4.7182e-07],\n",
      "          [-3.0450e-06,  6.1651e-06, -5.1426e-06,  ..., -2.5894e-05,\n",
      "            7.3067e-06,  4.7759e-05],\n",
      "          [ 4.1138e-06, -9.0800e-06, -6.7668e-05,  ...,  1.5392e-05,\n",
      "            1.5992e-06,  0.0000e+00]],\n",
      "\n",
      "         [[ 1.5796e-05, -1.3488e-06, -3.2471e-06,  ..., -1.5435e-05,\n",
      "           -4.0300e-07, -2.3521e-07],\n",
      "          [ 1.7700e-05,  5.4159e-05, -3.0842e-05,  ..., -8.1780e-07,\n",
      "            1.7557e-05,  1.3777e-05],\n",
      "          [-9.5665e-06, -1.0711e-05, -6.2040e-05,  ..., -1.6126e-05,\n",
      "           -6.1946e-05, -5.4889e-05],\n",
      "          ...,\n",
      "          [ 1.2507e-05, -6.9835e-06, -8.2033e-06,  ..., -7.2485e-06,\n",
      "            1.3655e-05, -2.2701e-05],\n",
      "          [ 5.1573e-06,  3.6808e-06, -3.1156e-06,  ...,  7.8530e-05,\n",
      "           -9.9590e-07, -1.9583e-05],\n",
      "          [-2.3535e-06, -1.3845e-05, -5.6204e-05,  ...,  1.3999e-06,\n",
      "           -9.2582e-08,  0.0000e+00]]],\n",
      "\n",
      "\n",
      "        [[[-7.1110e-06,  6.0259e-06, -6.4529e-06,  ...,  3.1067e-06,\n",
      "           -4.2191e-05, -1.3681e-05],\n",
      "          [ 1.1161e-06, -2.3343e-06, -1.1598e-05,  ..., -4.6312e-05,\n",
      "           -3.7298e-05, -5.8115e-06],\n",
      "          [ 3.2746e-07, -6.4045e-05,  1.9039e-05,  ...,  2.9687e-06,\n",
      "           -9.0765e-08,  7.6096e-08],\n",
      "          ...,\n",
      "          [ 4.2497e-06,  1.6042e-05, -8.2757e-05,  ...,  7.8868e-07,\n",
      "           -4.7495e-06,  1.1491e-07],\n",
      "          [-6.0008e-06,  1.9700e-05, -9.2970e-05,  ..., -1.9410e-05,\n",
      "            1.0538e-05,  1.2706e-06],\n",
      "          [ 1.7188e-05,  9.0291e-07, -1.0764e-05,  ..., -1.7469e-05,\n",
      "            1.3084e-05,  3.3494e-06]],\n",
      "\n",
      "         [[ 1.2868e-06,  2.9349e-05, -2.2129e-07,  ..., -1.5765e-06,\n",
      "            2.2299e-05, -1.3989e-05],\n",
      "          [ 2.6159e-05, -7.5311e-07, -3.3193e-05,  ..., -1.7016e-05,\n",
      "           -5.5619e-07, -1.4417e-05],\n",
      "          [-6.5355e-05,  2.7723e-05, -4.1579e-05,  ..., -1.9871e-05,\n",
      "           -3.5029e-06,  1.0452e-05],\n",
      "          ...,\n",
      "          [ 5.2074e-05,  9.0496e-05, -1.3093e-06,  ..., -2.3651e-05,\n",
      "            1.2961e-05, -3.9951e-06],\n",
      "          [ 5.4341e-05,  1.1472e-06, -3.3557e-05,  ...,  9.3857e-06,\n",
      "            2.4351e-06,  1.0068e-05],\n",
      "          [-1.4169e-05, -9.0652e-05,  1.3104e-04,  ...,  8.0429e-06,\n",
      "            7.8563e-06,  5.7250e-06]],\n",
      "\n",
      "         [[-3.9450e-07,  5.0869e-05, -2.4423e-05,  ..., -9.4934e-06,\n",
      "            2.3451e-05,  1.1374e-06],\n",
      "          [ 3.7445e-06, -3.5231e-05, -3.1651e-06,  ..., -2.7733e-06,\n",
      "           -1.3836e-05,  1.3066e-06],\n",
      "          [ 1.6675e-05,  2.6685e-05, -1.4411e-04,  ..., -9.7580e-05,\n",
      "           -1.7500e-05, -1.5637e-05],\n",
      "          ...,\n",
      "          [-7.0164e-05,  1.5377e-06,  1.2885e-04,  ..., -9.6229e-05,\n",
      "           -3.3467e-05, -3.4853e-06],\n",
      "          [ 2.7237e-05,  1.5517e-06, -2.1138e-05,  ..., -9.5267e-06,\n",
      "            6.0700e-06,  6.9539e-07],\n",
      "          [-4.4011e-05,  7.5527e-06, -4.2283e-05,  ...,  1.7220e-05,\n",
      "           -4.9469e-05,  2.3253e-05]]]], dtype=torch.float64,\n",
      "       grad_fn=<MulBackward0>)\n",
      "Convergence Delta: tensor([1.0570e-04, 7.2772e-05], dtype=torch.float64)\n"
     ]
    }
   ],
   "source": [
    "\n",
    "ig = IntegratedGradients(net)\n",
    "attributions, delta = ig.attribute(input, baseline, target=0, return_convergence_delta=True)\n",
    "print('IG Attributions:', attributions)\n",
    "print('Convergence Delta:', delta)\n"
   ]
  },
  {
   "cell_type": "code",
   "execution_count": 52,
   "metadata": {},
   "outputs": [
    {
     "name": "stdout",
     "output_type": "stream",
     "text": [
      "GC Attributions: tensor([[[[-0., -0., -0.,  ..., -0., 0., -0.],\n",
      "          [-0., 0., 0.,  ..., 0., -0., -0.],\n",
      "          [0., -0., 0.,  ..., 0., -0., 0.],\n",
      "          ...,\n",
      "          [0., 0., 0.,  ..., 0., 0., 0.],\n",
      "          [0., -0., 0.,  ..., 0., -0., -0.],\n",
      "          [0., -0., -0.,  ..., -0., -0., 0.]],\n",
      "\n",
      "         [[-0., 0., -0.,  ..., -0., -0., 0.],\n",
      "          [-0., 0., -0.,  ..., 0., 0., 0.],\n",
      "          [-0., -0., 0.,  ..., 0., -0., -0.],\n",
      "          ...,\n",
      "          [-0., 0., 0.,  ..., -0., 0., -0.],\n",
      "          [-0., -0., 0.,  ..., -0., -0., 0.],\n",
      "          [-0., 0., 0.,  ..., -0., 0., 0.]],\n",
      "\n",
      "         [[0., -0., 0.,  ..., 0., 0., -0.],\n",
      "          [-0., 0., -0.,  ..., -0., -0., 0.],\n",
      "          [-0., 0., 0.,  ..., -0., 0., 0.],\n",
      "          ...,\n",
      "          [-0., 0., -0.,  ..., -0., -0., -0.],\n",
      "          [-0., 0., -0.,  ..., -0., -0., -0.],\n",
      "          [-0., 0., 0.,  ..., -0., -0., 0.]]],\n",
      "\n",
      "\n",
      "        [[[-0., 0., -0.,  ..., -0., -0., 0.],\n",
      "          [-0., -0., -0.,  ..., 0., -0., 0.],\n",
      "          [0., 0., 0.,  ..., -0., -0., -0.],\n",
      "          ...,\n",
      "          [-0., 0., -0.,  ..., 0., -0., 0.],\n",
      "          [-0., 0., 0.,  ..., 0., -0., 0.],\n",
      "          [0., -0., 0.,  ..., 0., -0., -0.]],\n",
      "\n",
      "         [[0., -0., -0.,  ..., -0., -0., -0.],\n",
      "          [-0., 0., 0.,  ..., 0., 0., -0.],\n",
      "          [-0., 0., 0.,  ..., -0., -0., 0.],\n",
      "          ...,\n",
      "          [0., 0., -0.,  ..., 0., 0., 0.],\n",
      "          [0., 0., -0.,  ..., -0., -0., 0.],\n",
      "          [-0., -0., 0.,  ..., -0., -0., 0.]],\n",
      "\n",
      "         [[0., -0., -0.,  ..., -0., 0., 0.],\n",
      "          [0., 0., -0.,  ..., 0., -0., 0.],\n",
      "          [-0., -0., -0.,  ..., -0., 0., -0.],\n",
      "          ...,\n",
      "          [0., 0., 0.,  ..., -0., 0., 0.],\n",
      "          [0., -0., 0.,  ..., -0., 0., 0.],\n",
      "          [-0., 0., -0.,  ..., -0., -0., -0.]]]], grad_fn=<MulBackward0>)\n"
     ]
    }
   ],
   "source": [
    "GC = GuidedGradCam(net, net.conv2)\n",
    "attributions = GC.attribute(input, target=0) # no need to give target for single output\n",
    "print('GC Attributions:', attributions)"
   ]
  },
  {
   "cell_type": "code",
   "execution_count": null,
   "metadata": {},
   "outputs": [],
   "source": []
  }
 ],
 "metadata": {
  "kernelspec": {
   "display_name": "venv",
   "language": "python",
   "name": "python3"
  },
  "language_info": {
   "codemirror_mode": {
    "name": "ipython",
    "version": 3
   },
   "file_extension": ".py",
   "mimetype": "text/x-python",
   "name": "python",
   "nbconvert_exporter": "python",
   "pygments_lexer": "ipython3",
   "version": "3.6.9"
  },
  "orig_nbformat": 4
 },
 "nbformat": 4,
 "nbformat_minor": 2
}
