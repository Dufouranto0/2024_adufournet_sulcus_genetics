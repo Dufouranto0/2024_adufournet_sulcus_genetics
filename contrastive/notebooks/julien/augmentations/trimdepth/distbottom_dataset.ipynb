{
 "cells": [
  {
   "cell_type": "code",
   "execution_count": 1,
   "metadata": {},
   "outputs": [
    {
     "name": "stderr",
     "output_type": "stream",
     "text": [
      "/usr/lib/python3/dist-packages/scipy/__init__.py:146: UserWarning: A NumPy version >=1.17.3 and <1.25.0 is required for this version of SciPy (detected version 1.26.4\n",
      "  warnings.warn(f\"A NumPy version >={np_minversion} and <{np_maxversion}\"\n"
     ]
    }
   ],
   "source": [
    "import numpy as np\n",
    "import os\n",
    "from soma import aims, aimsalgo\n",
    "import pandas as pd\n",
    "import matplotlib.pyplot as plt"
   ]
  },
  {
   "cell_type": "code",
   "execution_count": 25,
   "metadata": {},
   "outputs": [],
   "source": [
    "#b='_old'\n",
    "b=''\n",
    "directory = f'/volatile/jl277509/data/UkBioBank/crops/2mm{b}/CINGULATE/mask/'\n",
    "side = 'R'"
   ]
  },
  {
   "cell_type": "code",
   "execution_count": 26,
   "metadata": {},
   "outputs": [],
   "source": [
    "crops_dirs = directory+side+'crops/'\n",
    "skel_subjects = pd.read_csv(directory+side+'skeleton_subject.csv')"
   ]
  },
  {
   "cell_type": "markdown",
   "metadata": {},
   "source": [
    "distbottom_list = []\n",
    "fm = aims.FastMarching()\n",
    "for i, subject in enumerate(skel_subjects.Subject):\n",
    "    vol = aims.read(crops_dirs+subject+'_cropped_skeleton.nii.gz')\n",
    "    print(np.unique(vol.np))\n",
    "    vol[vol.np > 30] = 100\n",
    "    print(np.unique(vol.np))\n",
    "    print(np.sum(vol.np>0))\n",
    "    # carte de distance par FastMarching\n",
    "    # propagation dans le label 100 (squelette) à partir de la graine 30 (bottom), sans graine extérieure (-1 n'existe pas dans l'image)\n",
    "    dist = fm.doit(vol, 100, 30, -1)\n",
    "    # convertir en np, modifier le type, puis reconvertir en vol int16\n",
    "    arr_to_write = dist.np\n",
    "    print(np.unique(arr_to_write))\n",
    "    print(np.sum(arr_to_write<10000))\n",
    "    outside = np.max(arr_to_write)\n",
    "    inf_dist=2**15-1\n",
    "    arr_to_write[arr_to_write==outside]=inf_dist\n",
    "    arr_to_write = arr_to_write.astype(np.int16)\n",
    "    arr_to_write = np.array(arr_to_write, order='F')\n",
    "    print(np.sum(arr_to_write<10000))\n",
    "    vol_to_write = aims.Volume(arr_to_write)\n",
    "    #aims.write(vol_to_write, directory+side+f'distbottom/{subject}_cropped_distbottom.nii.gz')\n",
    "    distbottom_list.append(arr_to_write)\n",
    "    break"
   ]
  },
  {
   "cell_type": "markdown",
   "metadata": {},
   "source": [
    "# Save all distance maps"
   ]
  },
  {
   "cell_type": "code",
   "execution_count": 4,
   "metadata": {},
   "outputs": [],
   "source": [
    "distbottom_list = []\n",
    "fm = aims.FastMarching()\n",
    "for i, subject in enumerate(skel_subjects.Subject):\n",
    "    vol = aims.read(crops_dirs+subject+'_cropped_skeleton.nii.gz')\n",
    "    outside = 0\n",
    "    other_outside = 11\n",
    "    bottom_val = 30\n",
    "    ss_val = 60\n",
    "\n",
    "    # change all other values to ss_val\n",
    "    vol_tmp = aims.Volume(vol)\n",
    "    vol[vol.np != ss_val] = ss_val\n",
    "    vol[vol_tmp.np == bottom_val] = bottom_val\n",
    "    vol[vol_tmp.np == outside] = outside\n",
    "    vol[vol_tmp.np == other_outside] = outside\n",
    "\n",
    "    # propagation dans ss_val, avec outside non-atteignable\n",
    "    aimsalgo.AimsDistanceFrontPropagation(vol, ss_val, outside, 3, 3, 3, 50, False)\n",
    "    #aims.write(vol, directory+side+f'distbottom/{subject}_cropped_distbottom.nii.gz')\n",
    "    break"
   ]
  },
  {
   "cell_type": "code",
   "execution_count": 5,
   "metadata": {},
   "outputs": [
    {
     "data": {
      "text/plain": [
       "'sub-1000021'"
      ]
     },
     "execution_count": 5,
     "metadata": {},
     "output_type": "execute_result"
    }
   ],
   "source": [
    "subject"
   ]
  },
  {
   "cell_type": "markdown",
   "metadata": {},
   "source": [
    "# Save bool volumes to convert to buckets"
   ]
  },
  {
   "cell_type": "code",
   "execution_count": 6,
   "metadata": {},
   "outputs": [],
   "source": [
    "save_dir='/volatile/jl277509/data/test_augmentations/trimdepth/volumes/'"
   ]
  },
  {
   "cell_type": "code",
   "execution_count": 86,
   "metadata": {},
   "outputs": [],
   "source": [
    "#subject='sub-1000021'\n",
    "subject='sub-2217188'\n",
    "t_list = [0, 100, 200, 300, 400, 500, 600, 700, 800, 900, 1000, 1100, 1200, 1300, 1400, 1500]\n",
    "for k in t_list:\n",
    "    vol = aims.read(crops_dirs+subject+'_cropped_skeleton.nii.gz')\n",
    "    outside = 0\n",
    "    other_outside = 11\n",
    "    bottom_val = 30\n",
    "    ss_val = 60\n",
    "\n",
    "    # change all other values to ss_val\n",
    "    vol_tmp = aims.Volume(vol)\n",
    "    vol[vol.np != ss_val] = ss_val\n",
    "    vol[vol_tmp.np == bottom_val] = bottom_val\n",
    "    vol[vol_tmp.np == outside] = outside\n",
    "    vol[vol_tmp.np == other_outside] = outside\n",
    "\n",
    "    # propagation dans ss_val, avec outside non-atteignable\n",
    "    aimsalgo.AimsDistanceFrontPropagation(vol, ss_val, outside, 3, 3, 3, 50, False)\n",
    "\n",
    "    # threshold for visu\n",
    "    arr = vol.np <= k\n",
    "    arr = arr.astype(np.int16)\n",
    "    arr = np.array(arr, order='F')\n",
    "    vol = aims.Volume(arr)\n",
    "    vol.header()['voxel_size'] = [2, 2, 2]\n",
    "    aims.write(vol,save_dir+f'dist_{subject}_{k}.nii.gz')\n",
    "vol = aims.read(crops_dirs+subject+'_cropped_skeleton.nii.gz')\n",
    "aims.write(vol, save_dir+subject+'skel.nii.gz')"
   ]
  },
  {
   "cell_type": "code",
   "execution_count": 57,
   "metadata": {},
   "outputs": [
    {
     "data": {
      "text/plain": [
       "array([    0,   100,   141,   173,   200,   241,   273,   282,   300,\n",
       "         314,   341,   373,   382,   400,   414,   441,   446,   455,\n",
       "         473,   482,   487,   514,   523,   541,   546,   573,   582,\n",
       "         587,   614,   646,   682, 32500, 32501], dtype=int16)"
      ]
     },
     "execution_count": 57,
     "metadata": {},
     "output_type": "execute_result"
    }
   ],
   "source": [
    "np.unique(vol)"
   ]
  },
  {
   "cell_type": "markdown",
   "metadata": {},
   "source": [
    "# Check distance distribution"
   ]
  },
  {
   "cell_type": "code",
   "execution_count": 4,
   "metadata": {},
   "outputs": [
    {
     "name": "stdout",
     "output_type": "stream",
     "text": [
      "(21052, 16, 37, 37, 1)\n"
     ]
    }
   ],
   "source": [
    "# load npy\n",
    "arr = np.load(directory+side+'distbottom.npy')\n",
    "print(arr.shape)"
   ]
  },
  {
   "cell_type": "code",
   "execution_count": 78,
   "metadata": {},
   "outputs": [
    {
     "name": "stdout",
     "output_type": "stream",
     "text": [
      "500 385505\n",
      "16711 181\n",
      "600 101979\n",
      "5117 128\n",
      "700 28010\n",
      "5117 123\n",
      "800 13010\n",
      "5117 118\n",
      "900 7838\n",
      "5117 114\n",
      "1000 4811\n",
      "5117 109\n",
      "1100 2904\n",
      "5117 106\n",
      "1200 1811\n",
      "5117 101\n",
      "1300 1161\n",
      "5117 98\n",
      "1400 778\n",
      "5117 94\n",
      "1500 565\n",
      "18539 91\n",
      "1600 438\n",
      "18539 87\n",
      "1700 362\n",
      "18539 85\n",
      "1800 308\n",
      "5117 82\n",
      "1900 272\n",
      "5117 80\n",
      "2000 245\n",
      "5117 77\n",
      "2100 220\n",
      "5117 75\n",
      "2200 201\n",
      "5117 72\n",
      "2300 183\n",
      "5117 69\n",
      "2400 168\n",
      "5117 66\n"
     ]
    }
   ],
   "source": [
    "for k in range(500, 2500, 100):\n",
    "    a = np.sum(np.logical_and(arr >= k, arr<32000),axis=(1,2,3))\n",
    "    print(k, np.sum(a))\n",
    "    print(np.argmax(a), np.max(a))"
   ]
  },
  {
   "cell_type": "code",
   "execution_count": 27,
   "metadata": {},
   "outputs": [
    {
     "name": "stdout",
     "output_type": "stream",
     "text": [
      "sub-2217188\n"
     ]
    }
   ],
   "source": [
    "# find corresponding subject to rank 5117\n",
    "subjects = pd.read_csv('/volatile/jl277509/data/UkBioBank/crops/2mm/CINGULATE/mask/Rskeleton_subject.csv')\n",
    "subjects = subjects['Subject'].tolist()\n",
    "sub = subjects[5117]\n",
    "print(sub)"
   ]
  },
  {
   "cell_type": "code",
   "execution_count": 28,
   "metadata": {},
   "outputs": [],
   "source": [
    "# save its bottom line\n",
    "vol = aims.read(crops_dirs+sub+'_cropped_skeleton.nii.gz')\n",
    "aims.write(vol, save_dir+sub+f'skel{b}.nii.gz')\n",
    "vol[vol.np!=30]=0\n",
    "aims.write(vol, save_dir+sub+f'skel{b}_bottom.nii.gz')"
   ]
  },
  {
   "cell_type": "code",
   "execution_count": 29,
   "metadata": {},
   "outputs": [],
   "source": [
    "crops_dirs = directory+side+'labels/'\n",
    "vol = aims.read(crops_dirs+sub+'_cropped_foldlabel.nii.gz')\n",
    "vol[vol.np<7000]=0\n",
    "vol[vol.np>=8000]=0\n",
    "vol.header()['voxel_size'] = [2,2,2]\n",
    "aims.write(vol, save_dir+sub+f'foldlabel{b}_bottom.nii.gz')"
   ]
  },
  {
   "cell_type": "code",
   "execution_count": 7,
   "metadata": {},
   "outputs": [
    {
     "data": {
      "image/png": "[encoded data removed]",
      "text/plain": [
       "<Figure size 640x480 with 1 Axes>"
      ]
     },
     "metadata": {},
     "output_type": "display_data"
    }
   ],
   "source": [
    "plt.hist(arr.flatten(), range=(0,1000), bins=range(0,1000,100))\n",
    "plt.show()"
   ]
  },
  {
   "cell_type": "code",
   "execution_count": 8,
   "metadata": {},
   "outputs": [
    {
     "name": "stdout",
     "output_type": "stream",
     "text": [
      "0 0.24236237909040248\n",
      "100 0.389836520061877\n",
      "200 0.5794976909031614\n",
      "300 0.7451215389285233\n",
      "400 0.8671556961596528\n",
      "500 0.9502467841019363\n",
      "600 0.986608101798193\n",
      "700 0.9962863160523577\n",
      "800 0.9982717474546134\n",
      "900 0.9989587975825719\n"
     ]
    }
   ],
   "source": [
    "# nb: 600 is like foldlabel 50...\n",
    "# 300 seems the reasonable maximum ?\n",
    "# proportion of voxels for each threshold\n",
    "for k in range(0, 1000, 100):   \n",
    "    print(k, np.sum(arr <= k)/np.sum(arr < 30000))"
   ]
  },
  {
   "cell_type": "code",
   "execution_count": 20,
   "metadata": {},
   "outputs": [
    {
     "data": {
      "text/plain": [
       "(array([    0,   100,   141,   173,   200,   241,   273,   282,   300,\n",
       "          314,   341,   346,   373,   382,   400,   414,   423,   441,\n",
       "          446,   455,   473,   482,   487,   500,   514,   519,   523,\n",
       "          541,   546,   555,   564,   573,   582,   587,   596,   600,\n",
       "          614,   619,   623,   628,   641,   646,   655,   660,   664,\n",
       "          673,   682,   687,   692,   696,   700,   705,   714,   719,\n",
       "          723,   728,   737,   741,   746,   755,   760,   764,   769,\n",
       "          773,   782,   787,   792,   796,   801,   805,   814,   819,\n",
       "          823,   828,   833,   837,   841,   846,   855,   860,   864,\n",
       "          865,   869,   873,   878,   882,   887,   892,   896,   901,\n",
       "          905,   910,   914,   919,   923,   928,   933,   937,   942,\n",
       "          946,   955,   960,   964,   965,   969,   974,   978,   982,\n",
       "          987,   992,   996,  1001,  1005,  1006,  1010,  1014,  1019,\n",
       "         1023,  1028,  1033,  1037,  1042,  1046,  1051,  1055,  1060,\n",
       "         1064,  1065,  1069,  1074,  1078,  1082,  1083,  1087,  1092,\n",
       "         1096,  1101,  1105,  1106,  1110,  1115,  1119,  1123,  1128,\n",
       "         1133,  1137,  1138,  1142,  1146,  1147,  1151,  1155,  1160,\n",
       "         1164,  1165,  1169,  1174,  1178,  1182,  1183,  1187,  1192,\n",
       "         1196,  1201,  1205,  1206,  1210,  1215,  1219,  1223,  1224,\n",
       "         1228,  1233,  1237,  1242,  1246,  1247,  1251,  1255,  1256,\n",
       "         1260,  1264,  1265,  1269,  1274,  1278,  1279,  1283,  1287,\n",
       "         1288,  1292,  1296,  1301,  1305,  1306,  1310,  1315,  1319,\n",
       "         1320,  1323,  1324,  1328,  1333,  1337,  1342,  1346,  1347,\n",
       "         1351,  1355,  1356,  1360,  1364,  1365,  1369,  1374,  1378,\n",
       "         1383,  1387,  1388,  1392,  1396,  1397,  1401,  1405,  1406,\n",
       "         1410,  1415,  1419,  1420,  1424,  1428,  1429,  1433,  1437,\n",
       "         1442,  1446,  1447,  1451,  1456,  1460,  1464,  1465,  1469,\n",
       "         1474,  1478,  1483,  1487,  1492,  1497,  1501,  1506,  1510,\n",
       "         1515,  1519,  1524,  1528,  1533,  1537,  1542,  1546,  1547,\n",
       "         1551,  1556,  1560,  1565,  1569,  1574,  1578,  1583,  1588,\n",
       "         1592,  1597,  1601,  1610,  1615,  1619,  1624,  1628,  1629,\n",
       "         1633,  1637,  1642,  1647,  1651,  1656,  1660,  1665,  1669,\n",
       "         1674,  1678,  1683,  1687,  1692,  1701,  1706,  1710,  1715,\n",
       "         1719,  1724,  1728,  1733,  1742,  1747,  1751,  1756,  1760,\n",
       "         1765,  1774,  1778,  1783,  1792,  1797,  1801,  1806,  1815,\n",
       "         1819,  1824,  1828,  1833,  1842,  1847,  1851,  1856,  1860,\n",
       "         1869,  1874,  1883,  1892,  1897,  1901,  1906,  1915,  1919,\n",
       "         1924,  1933,  1951,  1956,  1960,  1965,  1974,  1983,  1988,\n",
       "         2001,  2015,  2019,  2024,  2033,  2042,  2047,  2051,  2056,\n",
       "         2065,  2074,  2088,  2092,  2097,  2106,  2115,  2124,  2142,\n",
       "         2147,  2156,  2165,  2174,  2188,  2192,  2206,  2215,  2224,\n",
       "         2238,  2242,  2256,  2265,  2274,  2288,  2315,  2324,  2329,\n",
       "         2342,  2347,  2356,  2374,  2379,  2383,  2388,  2415,  2429,\n",
       "         2456,  2461,  2465,  2470,  2479,  2483,  2488,  2497,  2520,\n",
       "         2524,  2529,  2556,  2561,  2565,  2583,  2588,  2597,  2620,\n",
       "         2624,  2638,  2665,  2670,  2683,  2688,  2697,  2702,  2720,\n",
       "         2724,  2738,  2761,  2765,  2770,  2783,  2788,  2797,  2802,\n",
       "         2806,  2811,  2820,  2824,  2829,  2838,  2865,  2883,  2897,\n",
       "         2911,  2920,  2924,  2929,  2938,  2943,  2947,  2961,  2979,\n",
       "         2997,  3024,  3038,  3043,  3052,  3056,  3061,  3070,  3079,\n",
       "         3084,  3102,  3111,  3138,  3152,  3165,  3170,  3179,  3184,\n",
       "         3197,  3202,  3211,  3270,  3279,  3284,  3302,  3306,  3311,\n",
       "         3320,  3325,  3343,  3352,  3370,  3379,  3402,  3411,  3443,\n",
       "         3457,  3461,  3470,  3493,  3511,  3520,  3543,  3552,  3575,\n",
       "         3584,  3602,  3611,  3620,  3634,  3652,  3684,  3693,  3702,\n",
       "         3711,  3716,  3720,  3734,  3761,  3784,  3793,  3816,  3820,\n",
       "         3852,  3893,  3952,  3989, 32500, 32501], dtype=int16),\n",
       " array([  1824464,   1110161,    813863,    324278,    289597,    665383,\n",
       "           259232,    199562,    122612,    205484,    318393,     35851,\n",
       "           110914,    200870,     47141,    158348,     36478,    151112,\n",
       "            31187,     55244,     41817,    118150,     22189,     10971,\n",
       "            67016,      3205,     34776,     42930,     11418,     36411,\n",
       "             4014,     10433,     41370,     13567,      7415,      1167,\n",
       "            17694,      2287,     13845,      4464,      4665,      2375,\n",
       "            10557,      1429,      2339,      1042,      5064,      3460,\n",
       "              148,      3433,        54,       251,      2148,       652,\n",
       "             2187,      2364,       661,       198,       255,      1639,\n",
       "              967,       673,       630,        45,       247,       686,\n",
       "              133,      1210,       327,       186,       168,       132,\n",
       "              252,       948,       107,       525,         3,        79,\n",
       "              333,       393,       235,         5,       684,         3,\n",
       "              109,        17,       183,        69,       414,       394,\n",
       "              136,       155,        26,        37,        54,       349,\n",
       "              140,       399,       112,        62,        80,       157,\n",
       "               85,        10,       389,        42,       141,         2,\n",
       "               68,        24,       165,       241,        79,         8,\n",
       "              211,         4,        48,        16,       134,        66,\n",
       "              197,       139,        50,        45,        31,        48,\n",
       "               28,         8,       209,        71,       142,         1,\n",
       "               37,        36,         7,        51,       112,        37,\n",
       "               19,       142,        15,        45,         5,        31,\n",
       "               36,        87,         1,        81,        37,         4,\n",
       "               72,        14,        21,         6,         3,        82,\n",
       "               41,       100,         1,        44,        22,        12,\n",
       "               23,        43,         7,         7,        85,        32,\n",
       "               42,         4,         9,        20,        12,        40,\n",
       "               49,        22,        12,        54,         3,         4,\n",
       "               16,         4,         1,        37,        19,        43,\n",
       "                2,        36,        15,         2,        18,        12,\n",
       "               18,         5,         5,        40,        18,        40,\n",
       "                1,         2,        12,         9,         9,        13,\n",
       "               25,        12,         4,        46,         1,         8,\n",
       "                7,         1,         5,        18,         9,        22,\n",
       "               19,        10,         3,        16,         3,         2,\n",
       "                9,         4,         1,        20,         8,        13,\n",
       "                1,         7,         6,         1,         3,         7,\n",
       "               16,         3,         3,        22,         4,        14,\n",
       "                1,         3,        10,         8,        12,        19,\n",
       "                1,        15,         2,         5,         1,        19,\n",
       "                7,         5,        11,         1,         6,         4,\n",
       "               10,         1,         2,        13,         2,         4,\n",
       "                1,         6,         1,         4,        11,         3,\n",
       "                7,         3,         9,        11,         5,         4,\n",
       "                5,         1,         1,         3,         1,         4,\n",
       "                1,         6,         5,         2,         3,         1,\n",
       "                2,         3,         6,         1,         2,         4,\n",
       "                1,         6,         2,         4,         3,         1,\n",
       "                4,         5,         1,         5,         2,         2,\n",
       "                1,         2,         2,         4,         4,         1,\n",
       "                1,         2,         2,         3,         2,         1,\n",
       "                4,         2,         2,         3,         1,         1,\n",
       "                1,         3,         4,         2,         2,         2,\n",
       "                2,         1,         3,         4,         2,         2,\n",
       "                1,         2,         2,         2,         3,         1,\n",
       "                2,         4,         1,         1,         1,         1,\n",
       "                3,         1,         2,         3,         2,         1,\n",
       "                2,         1,         1,         1,         2,         3,\n",
       "                3,         2,         1,         3,         1,         2,\n",
       "                2,         1,         2,         1,         3,         2,\n",
       "                1,         3,         3,         1,         2,         1,\n",
       "                1,         1,         3,         2,         1,         2,\n",
       "                1,         3,         1,         2,         1,         1,\n",
       "                1,         1,         2,         1,         1,         1,\n",
       "                2,         2,         1,         1,         1,         1,\n",
       "                1,         2,         2,         3,         1,         3,\n",
       "                3,         1,         1,         3,         1,         1,\n",
       "                2,         2,         1,         3,         1,         1,\n",
       "                1,         1,         1,         1,         2,         1,\n",
       "                1,         1,         5,         1,         1,         1,\n",
       "                2,         1,         2,         2,         3,         2,\n",
       "                1,         1,         1,         1,         1,         2,\n",
       "                1,         1,         2,         1,         1,         1,\n",
       "                1,         2,         1,         1,         1,         1,\n",
       "                1,         2,         1,         2,         3,         1,\n",
       "                1,         2,         1,         1,         1,         1,\n",
       "                2,         1,         2,         1,         1,         1,\n",
       "                1,         2,         1,         1,         1,         1,\n",
       "                1,         1,         1,         1,         1,         1,\n",
       "                1,         1,         2,         1,         1,         1,\n",
       "                2,         1,         1,         2,         1,         1,\n",
       "                1,         1,         1,         1,         1,         1,\n",
       "                1,         1,         1,         1,     26526, 453568647]))"
      ]
     },
     "execution_count": 20,
     "metadata": {},
     "output_type": "execute_result"
    }
   ],
   "source": [
    "np.unique(arr, return_counts=True)"
   ]
  },
  {
   "cell_type": "markdown",
   "metadata": {},
   "source": [
    "# Obsolete"
   ]
  },
  {
   "cell_type": "code",
   "execution_count": 8,
   "metadata": {},
   "outputs": [],
   "source": [
    "aims.write(vol, save_dir+'skel.nii.gz')"
   ]
  },
  {
   "cell_type": "code",
   "execution_count": 9,
   "metadata": {},
   "outputs": [],
   "source": [
    "arr_to_write = dist.np\n",
    "outside = np.max(arr_to_write)\n",
    "inf_dist=2**15-1\n",
    "arr_to_write[arr_to_write==outside]=inf_dist\n",
    "arr_to_write = arr_to_write < 10000\n",
    "arr_to_write = arr_to_write.astype(np.int16)\n",
    "arr_to_write = np.array(arr_to_write, order='F')\n",
    "d = aims.Volume(arr_to_write)\n",
    "vs = vol.header()['voxel_size']\n",
    "d.header()['voxel_size'] = vs\n",
    "aims.write(d, save_dir+'dist_no_inf.nii.gz')"
   ]
  },
  {
   "cell_type": "code",
   "execution_count": 10,
   "metadata": {},
   "outputs": [
    {
     "data": {
      "text/plain": [
       "4"
      ]
     },
     "execution_count": 10,
     "metadata": {},
     "output_type": "execute_result"
    }
   ],
   "source": [
    "arr1 = vol.np == 30 # bottom voxels\n",
    "arr2 = dist.np == 0 # voxels with distance 0 to bottom\n",
    "np.sum(arr1!=arr2) # difference\n",
    "# certains bottoms n'ont pas une distance nulle aux bottoms (4)"
   ]
  },
  {
   "cell_type": "code",
   "execution_count": 79,
   "metadata": {},
   "outputs": [],
   "source": [
    "arr3=(arr1!=arr2).astype(np.int16)\n",
    "arr3=np.array(arr3, order='F')\n",
    "vol3 = aims.Volume(arr3)\n",
    "vs = vol.header()['voxel_size']\n",
    "vol3.header()['voxel_size'] = vs\n",
    "aims.write(vol3, save_dir+'weird_bottoms.nii.gz')"
   ]
  },
  {
   "cell_type": "code",
   "execution_count": 80,
   "metadata": {},
   "outputs": [
    {
     "data": {
      "text/plain": [
       "4"
      ]
     },
     "execution_count": 80,
     "metadata": {},
     "output_type": "execute_result"
    }
   ],
   "source": [
    "np.sum(vol3)"
   ]
  },
  {
   "cell_type": "code",
   "execution_count": 13,
   "metadata": {},
   "outputs": [
    {
     "name": "stdout",
     "output_type": "stream",
     "text": [
      "376\n",
      "297\n"
     ]
    }
   ],
   "source": [
    "print(np.sum(vol.np>0))\n",
    "print(np.sum(arr_to_write<10000))"
   ]
  },
  {
   "cell_type": "code",
   "execution_count": 43,
   "metadata": {},
   "outputs": [],
   "source": [
    "arr_distbottom_all = np.stack(distbottom_list)"
   ]
  },
  {
   "cell_type": "code",
   "execution_count": 44,
   "metadata": {},
   "outputs": [
    {
     "data": {
      "text/plain": [
       "(21052, 16, 37, 37, 1)"
      ]
     },
     "execution_count": 44,
     "metadata": {},
     "output_type": "execute_result"
    }
   ],
   "source": [
    "arr_distbottom_all.shape"
   ]
  },
  {
   "cell_type": "code",
   "execution_count": 54,
   "metadata": {},
   "outputs": [
    {
     "data": {
      "text/plain": [
       "0"
      ]
     },
     "execution_count": 54,
     "metadata": {},
     "output_type": "execute_result"
    }
   ],
   "source": [
    "np.random.randint(0,1)"
   ]
  },
  {
   "cell_type": "code",
   "execution_count": 45,
   "metadata": {},
   "outputs": [],
   "source": [
    "np.save(directory+side+'distbottom.npy', arr_distbottom_all)"
   ]
  },
  {
   "cell_type": "code",
   "execution_count": 32,
   "metadata": {},
   "outputs": [],
   "source": [
    "a = np.load('/volatile/jl277509/data/UkBioBank/crops/2mm/CINGULATE/mask/Rskeleton.npy')"
   ]
  },
  {
   "cell_type": "code",
   "execution_count": 33,
   "metadata": {},
   "outputs": [
    {
     "data": {
      "text/plain": [
       "(21052, 16, 37, 37, 1)"
      ]
     },
     "execution_count": 33,
     "metadata": {},
     "output_type": "execute_result"
    }
   ],
   "source": [
    "a.shape"
   ]
  },
  {
   "cell_type": "code",
   "execution_count": 29,
   "metadata": {},
   "outputs": [],
   "source": [
    "b = np.load('/neurospin/dico/data/deep_folding/current/datasets/ACCpatterns/crops/2mm/CINGULATE/mask/Rskeleton.npy')"
   ]
  },
  {
   "cell_type": "code",
   "execution_count": 30,
   "metadata": {},
   "outputs": [
    {
     "data": {
      "text/plain": [
       "(341, 16, 37, 37, 1)"
      ]
     },
     "execution_count": 30,
     "metadata": {},
     "output_type": "execute_result"
    }
   ],
   "source": [
    "b.shape"
   ]
  },
  {
   "cell_type": "code",
   "execution_count": null,
   "metadata": {},
   "outputs": [],
   "source": []
  }
 ],
 "metadata": {
  "kernelspec": {
   "display_name": "venv",
   "language": "python",
   "name": "python3"
  },
  "language_info": {
   "codemirror_mode": {
    "name": "ipython",
    "version": 3
   },
   "file_extension": ".py",
   "mimetype": "text/x-python",
   "name": "python",
   "nbconvert_exporter": "python",
   "pygments_lexer": "ipython3",
   "version": "3.10.12"
  }
 },
 "nbformat": 4,
 "nbformat_minor": 2
}
