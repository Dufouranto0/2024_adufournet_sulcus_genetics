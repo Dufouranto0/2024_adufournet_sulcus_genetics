{
 "cells": [
  {
   "cell_type": "code",
   "execution_count": 40,
   "metadata": {},
   "outputs": [],
   "source": [
    "from soma import aims\n",
    "import numpy as np"
   ]
  },
  {
   "cell_type": "code",
   "execution_count": 41,
   "metadata": {},
   "outputs": [],
   "source": [
    "subject = '_sub-5978118.nii.gz'"
   ]
  },
  {
   "cell_type": "code",
   "execution_count": 42,
   "metadata": {},
   "outputs": [],
   "source": [
    "a = aims.read(f'/neurospin/dico/data/deep_folding/current/datasets/UkBioBank/skeletons/2mm/R/Rresampled_skeleton'+subject)\n",
    "a_arr = a.np\n",
    "b = aims.read('/neurospin/dico/data/deep_folding/current/datasets/UkBioBank/skeletons/2mm_old/R/Rresampled_skeleton'+subject)\n",
    "b_arr = b.np"
   ]
  },
  {
   "cell_type": "code",
   "execution_count": 43,
   "metadata": {},
   "outputs": [
    {
     "name": "stdout",
     "output_type": "stream",
     "text": [
      "561625\n",
      "10437\n",
      "946405\n",
      "17962\n"
     ]
    }
   ],
   "source": [
    "print(np.sum(a_arr))\n",
    "print(np.sum(a_arr!=0))\n",
    "print(np.sum(b_arr))\n",
    "print(np.sum(b_arr!=0))"
   ]
  },
  {
   "cell_type": "code",
   "execution_count": 44,
   "metadata": {},
   "outputs": [
    {
     "name": "stdout",
     "output_type": "stream",
     "text": [
      "7525\n"
     ]
    }
   ],
   "source": [
    "print(np.sum(b_arr.astype(bool)!=a_arr.astype(bool)))"
   ]
  },
  {
   "cell_type": "code",
   "execution_count": 45,
   "metadata": {},
   "outputs": [],
   "source": [
    "c = aims.read('/neurospin/dico/data/deep_folding/current/datasets/UkBioBank/foldlabels/2mm/R/Rresampled_foldlabel'+subject)\n",
    "c_arr = c.np\n",
    "d = aims.read('/neurospin/dico/data/deep_folding/current/datasets/UkBioBank/foldlabels/2mm_old/R/Rresampled_foldlabel'+subject)\n",
    "d_arr = d.np"
   ]
  },
  {
   "cell_type": "code",
   "execution_count": 46,
   "metadata": {},
   "outputs": [
    {
     "name": "stdout",
     "output_type": "stream",
     "text": [
      "31265353\n",
      "10437\n",
      "57349577\n",
      "17962\n"
     ]
    }
   ],
   "source": [
    "print(np.sum(c_arr))\n",
    "print(np.sum(c_arr!=0))\n",
    "print(np.sum(d_arr))\n",
    "print(np.sum(d_arr!=0))"
   ]
  },
  {
   "cell_type": "code",
   "execution_count": 47,
   "metadata": {},
   "outputs": [
    {
     "name": "stdout",
     "output_type": "stream",
     "text": [
      "7525\n"
     ]
    }
   ],
   "source": [
    "print(np.sum(c_arr.astype(bool)!=d_arr.astype(bool)))"
   ]
  },
  {
   "cell_type": "code",
   "execution_count": null,
   "metadata": {},
   "outputs": [],
   "source": []
  }
 ],
 "metadata": {
  "kernelspec": {
   "display_name": "venv",
   "language": "python",
   "name": "python3"
  },
  "language_info": {
   "codemirror_mode": {
    "name": "ipython",
    "version": 3
   },
   "file_extension": ".py",
   "mimetype": "text/x-python",
   "name": "python",
   "nbconvert_exporter": "python",
   "pygments_lexer": "ipython3",
   "version": "3.10.12"
  }
 },
 "nbformat": 4,
 "nbformat_minor": 2
}
