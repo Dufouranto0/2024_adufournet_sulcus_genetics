{
 "cells": [
  {
   "cell_type": "code",
   "execution_count": 8,
   "metadata": {},
   "outputs": [],
   "source": [
    "import numpy as np\n",
    "import os\n",
    "from soma import aims, aimsalgo\n",
    "import pandas as pd"
   ]
  },
  {
   "cell_type": "code",
   "execution_count": 5,
   "metadata": {},
   "outputs": [],
   "source": [
    "directory = '/volatile/jl277509/data/UkBioBank/crops/2mm/CINGULATE/mask/'\n",
    "side = 'R'"
   ]
  },
  {
   "cell_type": "code",
   "execution_count": 10,
   "metadata": {},
   "outputs": [],
   "source": [
    "crops_dirs = directory+side+'crops/'\n",
    "skel_subjects = pd.read_csv(directory+side+'skeleton_subject.csv')"
   ]
  },
  {
   "cell_type": "code",
   "execution_count": 31,
   "metadata": {},
   "outputs": [],
   "source": [
    "distbottom_list = []\n",
    "fm = aims.FastMarching()\n",
    "for i, subject in enumerate(skel_subjects.Subject):\n",
    "    vol = aims.read(crops_dirs+subject+'_cropped_skeleton.nii.gz')\n",
    "    vol[vol.np > 30] = 100\n",
    "    # carte de distance par FastMarching\n",
    "    # propagation dans le label 100 (squelette) à partir de la graine 30 (bottom), sans graine extérieure (-1 n'existe pas dans l'image)\n",
    "    dist = fm.doit(vol, 100, 30, -1)\n",
    "    # convertir en np, modifier le type, puis reconvertir en vol int16\n",
    "    arr_to_write = dist.np\n",
    "    outside = np.max(arr_to_write)\n",
    "    inf_dist=2**15-1\n",
    "    arr_to_write[arr_to_write==outside]=inf_dist\n",
    "    arr_to_write = arr_to_write.astype(np.int16)\n",
    "    arr_to_write = np.array(arr_to_write, order='F')\n",
    "    vol_to_write = aims.Volume(arr_to_write)\n",
    "    aims.write(vol_to_write, directory+side+f'distbottom/{subject}_cropped_distbottom.nii.gz')\n",
    "    distbottom_list.append(arr_to_write)"
   ]
  },
  {
   "cell_type": "code",
   "execution_count": 43,
   "metadata": {},
   "outputs": [],
   "source": [
    "arr_distbottom_all = np.stack(distbottom_list)"
   ]
  },
  {
   "cell_type": "code",
   "execution_count": 44,
   "metadata": {},
   "outputs": [
    {
     "data": {
      "text/plain": [
       "(21052, 16, 37, 37, 1)"
      ]
     },
     "execution_count": 44,
     "metadata": {},
     "output_type": "execute_result"
    }
   ],
   "source": [
    "arr_distbottom_all.shape"
   ]
  },
  {
   "cell_type": "code",
   "execution_count": 54,
   "metadata": {},
   "outputs": [
    {
     "data": {
      "text/plain": [
       "0"
      ]
     },
     "execution_count": 54,
     "metadata": {},
     "output_type": "execute_result"
    }
   ],
   "source": [
    "np.random.randint(0,1)"
   ]
  },
  {
   "cell_type": "code",
   "execution_count": 45,
   "metadata": {},
   "outputs": [],
   "source": [
    "np.save(directory+side+'distbottom.npy', arr_distbottom_all)"
   ]
  },
  {
   "cell_type": "code",
   "execution_count": 32,
   "metadata": {},
   "outputs": [],
   "source": [
    "a = np.load('/volatile/jl277509/data/UkBioBank/crops/2mm/CINGULATE/mask/Rskeleton.npy')"
   ]
  },
  {
   "cell_type": "code",
   "execution_count": 33,
   "metadata": {},
   "outputs": [
    {
     "data": {
      "text/plain": [
       "(21052, 16, 37, 37, 1)"
      ]
     },
     "execution_count": 33,
     "metadata": {},
     "output_type": "execute_result"
    }
   ],
   "source": [
    "a.shape"
   ]
  },
  {
   "cell_type": "code",
   "execution_count": 29,
   "metadata": {},
   "outputs": [],
   "source": [
    "b = np.load('/neurospin/dico/data/deep_folding/current/datasets/ACCpatterns/crops/2mm/CINGULATE/mask/Rskeleton.npy')"
   ]
  },
  {
   "cell_type": "code",
   "execution_count": 30,
   "metadata": {},
   "outputs": [
    {
     "data": {
      "text/plain": [
       "(341, 16, 37, 37, 1)"
      ]
     },
     "execution_count": 30,
     "metadata": {},
     "output_type": "execute_result"
    }
   ],
   "source": [
    "b.shape"
   ]
  },
  {
   "cell_type": "code",
   "execution_count": null,
   "metadata": {},
   "outputs": [],
   "source": []
  }
 ],
 "metadata": {
  "kernelspec": {
   "display_name": "venv",
   "language": "python",
   "name": "python3"
  },
  "language_info": {
   "codemirror_mode": {
    "name": "ipython",
    "version": 3
   },
   "file_extension": ".py",
   "mimetype": "text/x-python",
   "name": "python",
   "nbconvert_exporter": "python",
   "pygments_lexer": "ipython3",
   "version": "3.10.12"
  }
 },
 "nbformat": 4,
 "nbformat_minor": 2
}
