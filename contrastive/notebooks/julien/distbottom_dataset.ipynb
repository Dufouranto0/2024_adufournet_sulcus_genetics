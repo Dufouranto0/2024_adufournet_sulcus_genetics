{
 "cells": [
  {
   "cell_type": "code",
   "execution_count": 1,
   "metadata": {},
   "outputs": [
    {
     "name": "stderr",
     "output_type": "stream",
     "text": [
      "/usr/lib/python3/dist-packages/scipy/__init__.py:146: UserWarning: A NumPy version >=1.17.3 and <1.25.0 is required for this version of SciPy (detected version 1.26.4\n",
      "  warnings.warn(f\"A NumPy version >={np_minversion} and <{np_maxversion}\"\n"
     ]
    }
   ],
   "source": [
    "import numpy as np\n",
    "import os\n",
    "from soma import aims, aimsalgo\n",
    "import pandas as pd"
   ]
  },
  {
   "cell_type": "code",
   "execution_count": 2,
   "metadata": {},
   "outputs": [],
   "source": [
    "directory = '/volatile/jl277509/data/UkBioBank/crops/2mm/CINGULATE/mask/'\n",
    "side = 'R'"
   ]
  },
  {
   "cell_type": "code",
   "execution_count": 3,
   "metadata": {},
   "outputs": [],
   "source": [
    "crops_dirs = directory+side+'crops/'\n",
    "skel_subjects = pd.read_csv(directory+side+'skeleton_subject.csv')"
   ]
  },
  {
   "cell_type": "code",
   "execution_count": 18,
   "metadata": {},
   "outputs": [
    {
     "name": "stdout",
     "output_type": "stream",
     "text": [
      "[  0  30  35  60 100 120]\n",
      "[  0  30 100]\n",
      "376\n",
      "[0.00000000e+00 1.41421354e+00 1.93185163e+00 2.00000000e+00\n",
      " 3.09065795e+00 3.41421366e+00 3.80132914e+00 4.00000000e+00\n",
      " 4.88446140e+00 5.09065819e+00 5.41421366e+00 5.80132914e+00\n",
      " 6.00000000e+00 6.39801025e+00 6.88446140e+00 7.09065628e+00\n",
      " 7.09065819e+00 7.21554279e+00 7.41421366e+00 8.00000000e+00\n",
      " 8.03437710e+00 8.65736294e+00 9.09065533e+00 9.09065628e+00\n",
      " 9.21554279e+00 9.41421318e+00 9.93185139e+00 1.00000000e+01\n",
      " 1.00343771e+01 1.02715340e+01 1.05048685e+01 1.06297560e+01\n",
      " 1.06573591e+01 1.06573629e+01 1.10633669e+01 1.10906563e+01\n",
      " 1.14142132e+01 1.19318514e+01 1.20000000e+01 1.20343771e+01\n",
      " 1.26297560e+01 1.26573591e+01 1.28435097e+01 1.34142132e+01\n",
      " 1.40000000e+01 1.46573591e+01 1.54142132e+01 1.60000000e+01\n",
      " 1.66573601e+01 1.80000000e+01 2.00000000e+01 3.40282347e+38]\n",
      "297\n",
      "297\n"
     ]
    }
   ],
   "source": [
    "distbottom_list = []\n",
    "fm = aims.FastMarching()\n",
    "for i, subject in enumerate(skel_subjects.Subject):\n",
    "    vol = aims.read(crops_dirs+subject+'_cropped_skeleton.nii.gz')\n",
    "    print(np.unique(vol.np))\n",
    "    vol[vol.np > 30] = 100\n",
    "    print(np.unique(vol.np))\n",
    "    print(np.sum(vol.np>0))\n",
    "    # carte de distance par FastMarching\n",
    "    # propagation dans le label 100 (squelette) à partir de la graine 30 (bottom), sans graine extérieure (-1 n'existe pas dans l'image)\n",
    "    dist = fm.doit(vol, 100, 30, -1)\n",
    "    # convertir en np, modifier le type, puis reconvertir en vol int16\n",
    "    arr_to_write = dist.np\n",
    "    print(np.unique(arr_to_write))\n",
    "    print(np.sum(arr_to_write<10000))\n",
    "    outside = np.max(arr_to_write)\n",
    "    inf_dist=2**15-1\n",
    "    arr_to_write[arr_to_write==outside]=inf_dist\n",
    "    arr_to_write = arr_to_write.astype(np.int16)\n",
    "    arr_to_write = np.array(arr_to_write, order='F')\n",
    "    print(np.sum(arr_to_write<10000))\n",
    "    vol_to_write = aims.Volume(arr_to_write)\n",
    "    #aims.write(vol_to_write, directory+side+f'distbottom/{subject}_cropped_distbottom.nii.gz')\n",
    "    distbottom_list.append(arr_to_write)\n",
    "    break"
   ]
  },
  {
   "cell_type": "code",
   "execution_count": null,
   "metadata": {},
   "outputs": [],
   "source": [
    "arr1 = vol.np == 30\n",
    "arr2 = dist.np == 0\n",
    "np.sum(arr1!=arr2)"
   ]
  },
  {
   "cell_type": "code",
   "execution_count": 13,
   "metadata": {},
   "outputs": [
    {
     "name": "stdout",
     "output_type": "stream",
     "text": [
      "376\n",
      "297\n"
     ]
    }
   ],
   "source": [
    "print(np.sum(vol.np>0))\n",
    "print(np.sum(arr_to_write<10000))"
   ]
  },
  {
   "cell_type": "code",
   "execution_count": 43,
   "metadata": {},
   "outputs": [],
   "source": [
    "arr_distbottom_all = np.stack(distbottom_list)"
   ]
  },
  {
   "cell_type": "code",
   "execution_count": 44,
   "metadata": {},
   "outputs": [
    {
     "data": {
      "text/plain": [
       "(21052, 16, 37, 37, 1)"
      ]
     },
     "execution_count": 44,
     "metadata": {},
     "output_type": "execute_result"
    }
   ],
   "source": [
    "arr_distbottom_all.shape"
   ]
  },
  {
   "cell_type": "code",
   "execution_count": 54,
   "metadata": {},
   "outputs": [
    {
     "data": {
      "text/plain": [
       "0"
      ]
     },
     "execution_count": 54,
     "metadata": {},
     "output_type": "execute_result"
    }
   ],
   "source": [
    "np.random.randint(0,1)"
   ]
  },
  {
   "cell_type": "code",
   "execution_count": 45,
   "metadata": {},
   "outputs": [],
   "source": [
    "np.save(directory+side+'distbottom.npy', arr_distbottom_all)"
   ]
  },
  {
   "cell_type": "code",
   "execution_count": 32,
   "metadata": {},
   "outputs": [],
   "source": [
    "a = np.load('/volatile/jl277509/data/UkBioBank/crops/2mm/CINGULATE/mask/Rskeleton.npy')"
   ]
  },
  {
   "cell_type": "code",
   "execution_count": 33,
   "metadata": {},
   "outputs": [
    {
     "data": {
      "text/plain": [
       "(21052, 16, 37, 37, 1)"
      ]
     },
     "execution_count": 33,
     "metadata": {},
     "output_type": "execute_result"
    }
   ],
   "source": [
    "a.shape"
   ]
  },
  {
   "cell_type": "code",
   "execution_count": 29,
   "metadata": {},
   "outputs": [],
   "source": [
    "b = np.load('/neurospin/dico/data/deep_folding/current/datasets/ACCpatterns/crops/2mm/CINGULATE/mask/Rskeleton.npy')"
   ]
  },
  {
   "cell_type": "code",
   "execution_count": 30,
   "metadata": {},
   "outputs": [
    {
     "data": {
      "text/plain": [
       "(341, 16, 37, 37, 1)"
      ]
     },
     "execution_count": 30,
     "metadata": {},
     "output_type": "execute_result"
    }
   ],
   "source": [
    "b.shape"
   ]
  },
  {
   "cell_type": "code",
   "execution_count": null,
   "metadata": {},
   "outputs": [],
   "source": []
  }
 ],
 "metadata": {
  "kernelspec": {
   "display_name": "venv",
   "language": "python",
   "name": "python3"
  },
  "language_info": {
   "codemirror_mode": {
    "name": "ipython",
    "version": 3
   },
   "file_extension": ".py",
   "mimetype": "text/x-python",
   "name": "python",
   "nbconvert_exporter": "python",
   "pygments_lexer": "ipython3",
   "version": "3.10.12"
  }
 },
 "nbformat": 4,
 "nbformat_minor": 2
}
