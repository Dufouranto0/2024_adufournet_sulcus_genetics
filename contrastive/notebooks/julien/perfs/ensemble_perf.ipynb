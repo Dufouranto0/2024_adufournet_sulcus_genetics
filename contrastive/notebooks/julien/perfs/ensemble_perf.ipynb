{
 "cells": [
  {
   "cell_type": "markdown",
   "metadata": {},
   "source": [
    "Average predictions across models to increase performances"
   ]
  },
  {
   "cell_type": "code",
   "execution_count": 13,
   "metadata": {},
   "outputs": [],
   "source": [
    "import numpy as np\n",
    "import os\n",
    "import pandas as pd\n",
    "from sklearn.metrics import roc_auc_score"
   ]
  },
  {
   "cell_type": "code",
   "execution_count": 14,
   "metadata": {},
   "outputs": [],
   "source": [
    "output_dir = '/volatile/jl277509/Runs/02_STS_babies/Program/Output/'\n",
    "models_dir = 'CINGULATE_SELECTED_1-5MM'\n",
    "models_dir = os.path.join(output_dir, models_dir)\n",
    "models = [f'14-17-27_{k}' for k in range(4)]\n",
    "label = 'Right_PCS'\n",
    "preds_dir = f'ACC_custom_embeddings/{label}/test_predicted_probas.csv'\n",
    "#preds_dir = 'ACC_1_epoch240_embeddings/Right_PCS/train_val_predicted_probas.csv'"
   ]
  },
  {
   "cell_type": "code",
   "execution_count": 15,
   "metadata": {},
   "outputs": [],
   "source": [
    "to_keep = 'mean_pred' # accross the 5 SVC\n",
    "Y_list = []\n",
    "for model in models:\n",
    "    preds = pd.read_csv(os.path.join(models_dir, model, preds_dir))\n",
    "    Y = preds[['label', to_keep]].to_numpy()\n",
    "    Y_list.append(Y)\n",
    "Y_pred = np.mean([Y[:, 1] for Y in Y_list], axis=0)\n",
    "Y_true = Y_list[0][:, 0]"
   ]
  },
  {
   "cell_type": "code",
   "execution_count": 16,
   "metadata": {},
   "outputs": [
    {
     "name": "stdout",
     "output_type": "stream",
     "text": [
      "14-17-27_0 0.8597898230088494\n",
      "14-17-27_1 0.8666482300884957\n",
      "14-17-27_2 0.8578539823008849\n",
      "14-17-27_3 0.8589601769911505\n"
     ]
    }
   ],
   "source": [
    "for k, model in enumerate(models):\n",
    "    print(model, roc_auc_score(Y_list[k][:, 0], Y_list[k][:, 1]))"
   ]
  },
  {
   "cell_type": "code",
   "execution_count": 17,
   "metadata": {},
   "outputs": [
    {
     "data": {
      "text/plain": [
       "0.8751106194690266"
      ]
     },
     "execution_count": 17,
     "metadata": {},
     "output_type": "execute_result"
    }
   ],
   "source": [
    "roc_auc_score(Y_true, Y_pred)"
   ]
  }
 ],
 "metadata": {
  "kernelspec": {
   "display_name": "venv",
   "language": "python",
   "name": "python3"
  },
  "language_info": {
   "codemirror_mode": {
    "name": "ipython",
    "version": 3
   },
   "file_extension": ".py",
   "mimetype": "text/x-python",
   "name": "python",
   "nbconvert_exporter": "python",
   "pygments_lexer": "ipython3",
   "version": "3.10.12"
  }
 },
 "nbformat": 4,
 "nbformat_minor": 2
}
