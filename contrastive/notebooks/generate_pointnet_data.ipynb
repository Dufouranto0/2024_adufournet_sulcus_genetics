{
 "cells": [
  {
   "cell_type": "code",
   "execution_count": 1,
   "metadata": {},
   "outputs": [],
   "source": [
    "import numpy as np\n",
    "import matplotlib.pyplot as plt\n",
    "import torch\n",
    "\n",
    "from contrastive.backbones.pointnet import PointNetCls"
   ]
  },
  {
   "cell_type": "code",
   "execution_count": 2,
   "metadata": {},
   "outputs": [
    {
     "data": {
      "text/plain": [
       "(1114, 17, 40, 38, 1)"
      ]
     },
     "execution_count": 2,
     "metadata": {},
     "output_type": "execute_result"
    }
   ],
   "source": [
    "data = np.load(\"/neurospin/dico/data/deep_folding/current/datasets/hcp/crops/2mm/CINGULATE/mask/Rskeleton.npy\")\n",
    "data.shape"
   ]
  },
  {
   "cell_type": "code",
   "execution_count": 3,
   "metadata": {},
   "outputs": [
    {
     "data": {
      "text/plain": [
       "28785760"
      ]
     },
     "execution_count": 3,
     "metadata": {},
     "output_type": "execute_result"
    }
   ],
   "source": [
    "np.product(data.shape)"
   ]
  },
  {
   "cell_type": "code",
   "execution_count": 4,
   "metadata": {},
   "outputs": [
    {
     "name": "stdout",
     "output_type": "stream",
     "text": [
      "870630\n",
      "870630\n",
      "870630\n",
      "870630\n",
      "870630\n"
     ]
    },
    {
     "data": {
      "text/plain": [
       "(array([   0,    0,    0, ..., 1113, 1113, 1113]),\n",
       " array([ 1,  1,  1, ..., 13, 13, 13]),\n",
       " array([ 7,  8,  9, ..., 11, 12, 12]),\n",
       " array([23, 23, 22, ..., 33, 29, 30]),\n",
       " array([0, 0, 0, ..., 0, 0, 0]))"
      ]
     },
     "execution_count": 4,
     "metadata": {},
     "output_type": "execute_result"
    }
   ],
   "source": [
    "points = np.nonzero(data)\n",
    "for coord in points:\n",
    "    print(len(coord))\n",
    "\n",
    "points"
   ]
  },
  {
   "cell_type": "code",
   "execution_count": 5,
   "metadata": {},
   "outputs": [],
   "source": [
    "clouds = []\n",
    "\n",
    "for i in range(data.shape[0]):\n",
    "    point_cloud = data[i].nonzero()\n",
    "    clouds.append(point_cloud)"
   ]
  },
  {
   "cell_type": "code",
   "execution_count": 6,
   "metadata": {},
   "outputs": [
    {
     "data": {
      "image/png": "[encoded data removed]",
      "text/plain": [
       "<Figure size 432x288 with 1 Axes>"
      ]
     },
     "metadata": {
      "needs_background": "light"
     },
     "output_type": "display_data"
    }
   ],
   "source": [
    "hist = []\n",
    "\n",
    "for point_cloud in clouds:\n",
    "    #print(len(point_cloud), len(point_cloud[0]))\n",
    "    hist.append(len(point_cloud[0]))\n",
    "\n",
    "plt.hist(hist, bins=100)\n",
    "plt.show()"
   ]
  },
  {
   "cell_type": "code",
   "execution_count": 7,
   "metadata": {},
   "outputs": [
    {
     "name": "stdout",
     "output_type": "stream",
     "text": [
      "(3, 912)\n"
     ]
    }
   ],
   "source": [
    "dats = data[0]\n",
    "\n",
    "point_cloud = np.nonzero(dats)\n",
    "\n",
    "point_cloud = np.matrix(point_cloud[:3])\n",
    "print(point_cloud.shape)\n",
    "#point_cloud = np.expand_dims(point_cloud, axis=0)\n",
    "#print(point_cloud.shape)"
   ]
  },
  {
   "cell_type": "code",
   "execution_count": 28,
   "metadata": {},
   "outputs": [
    {
     "data": {
      "text/plain": [
       "((10, 3, 912), (10, 3, 500))"
      ]
     },
     "execution_count": 28,
     "metadata": {},
     "output_type": "execute_result"
    }
   ],
   "source": [
    "points = [point_cloud for i in range(10)]\n",
    "points = np.array(points)\n",
    "\n",
    "semi_points = [point_cloud[:,:500] for i in range(10)]\n",
    "semi_points = np.array(semi_points)\n",
    "\n",
    "points.shape, semi_points.shape"
   ]
  },
  {
   "cell_type": "code",
   "execution_count": 29,
   "metadata": {},
   "outputs": [
    {
     "data": {
      "text/plain": [
       "(tensor([[[ 1.,  1.,  1.,  ..., 12., 12., 12.],\n",
       "          [ 7.,  8.,  9.,  ..., 14., 18., 31.],\n",
       "          [23., 23., 22.,  ..., 14., 16., 11.]],\n",
       " \n",
       "         [[ 1.,  1.,  1.,  ..., 12., 12., 12.],\n",
       "          [ 7.,  8.,  9.,  ..., 14., 18., 31.],\n",
       "          [23., 23., 22.,  ..., 14., 16., 11.]],\n",
       " \n",
       "         [[ 1.,  1.,  1.,  ..., 12., 12., 12.],\n",
       "          [ 7.,  8.,  9.,  ..., 14., 18., 31.],\n",
       "          [23., 23., 22.,  ..., 14., 16., 11.]],\n",
       " \n",
       "         ...,\n",
       " \n",
       "         [[ 1.,  1.,  1.,  ..., 12., 12., 12.],\n",
       "          [ 7.,  8.,  9.,  ..., 14., 18., 31.],\n",
       "          [23., 23., 22.,  ..., 14., 16., 11.]],\n",
       " \n",
       "         [[ 1.,  1.,  1.,  ..., 12., 12., 12.],\n",
       "          [ 7.,  8.,  9.,  ..., 14., 18., 31.],\n",
       "          [23., 23., 22.,  ..., 14., 16., 11.]],\n",
       " \n",
       "         [[ 1.,  1.,  1.,  ..., 12., 12., 12.],\n",
       "          [ 7.,  8.,  9.,  ..., 14., 18., 31.],\n",
       "          [23., 23., 22.,  ..., 14., 16., 11.]]]),\n",
       " tensor([[[ 1.,  1.,  1.,  ...,  9.,  9.,  9.],\n",
       "          [ 7.,  8.,  9.,  ..., 21., 21., 21.],\n",
       "          [23., 23., 22.,  ...,  6.,  7.,  8.]],\n",
       " \n",
       "         [[ 1.,  1.,  1.,  ...,  9.,  9.,  9.],\n",
       "          [ 7.,  8.,  9.,  ..., 21., 21., 21.],\n",
       "          [23., 23., 22.,  ...,  6.,  7.,  8.]],\n",
       " \n",
       "         [[ 1.,  1.,  1.,  ...,  9.,  9.,  9.],\n",
       "          [ 7.,  8.,  9.,  ..., 21., 21., 21.],\n",
       "          [23., 23., 22.,  ...,  6.,  7.,  8.]],\n",
       " \n",
       "         ...,\n",
       " \n",
       "         [[ 1.,  1.,  1.,  ...,  9.,  9.,  9.],\n",
       "          [ 7.,  8.,  9.,  ..., 21., 21., 21.],\n",
       "          [23., 23., 22.,  ...,  6.,  7.,  8.]],\n",
       " \n",
       "         [[ 1.,  1.,  1.,  ...,  9.,  9.,  9.],\n",
       "          [ 7.,  8.,  9.,  ..., 21., 21., 21.],\n",
       "          [23., 23., 22.,  ...,  6.,  7.,  8.]],\n",
       " \n",
       "         [[ 1.,  1.,  1.,  ...,  9.,  9.,  9.],\n",
       "          [ 7.,  8.,  9.,  ..., 21., 21., 21.],\n",
       "          [23., 23., 22.,  ...,  6.,  7.,  8.]]]))"
      ]
     },
     "execution_count": 29,
     "metadata": {},
     "output_type": "execute_result"
    }
   ],
   "source": [
    "X = torch.from_numpy(points).type(torch.FloatTensor)\n",
    "semi_X = torch.from_numpy(semi_points).type(torch.FloatTensor)\n",
    "X, semi_X"
   ]
  },
  {
   "cell_type": "code",
   "execution_count": 33,
   "metadata": {},
   "outputs": [
    {
     "name": "stdout",
     "output_type": "stream",
     "text": [
      "torch.Size([10, 3, 912]) torch.Size([10, 4])\n"
     ]
    },
    {
     "data": {
      "text/plain": [
       "tensor([[-1.1956, -1.1701, -1.7424, -1.5510],\n",
       "        [-1.1956, -1.1701, -1.7424, -1.5510],\n",
       "        [-1.1956, -1.1701, -1.7424, -1.5510],\n",
       "        [-1.1956, -1.1701, -1.7424, -1.5510],\n",
       "        [-1.1956, -1.1701, -1.7424, -1.5510],\n",
       "        [-1.1956, -1.1701, -1.7424, -1.5510],\n",
       "        [-1.1956, -1.1701, -1.7424, -1.5510],\n",
       "        [-1.1956, -1.1701, -1.7424, -1.5510],\n",
       "        [-1.1956, -1.1701, -1.7424, -1.5510],\n",
       "        [-1.1956, -1.1701, -1.7424, -1.5510]], grad_fn=<LogSoftmaxBackward0>)"
      ]
     },
     "execution_count": 33,
     "metadata": {},
     "output_type": "execute_result"
    }
   ],
   "source": [
    "net = PointNetCls(k=4)\n",
    "net.eval()\n",
    "\n",
    "Y, trans, trans_feat = net.forward(X)\n",
    "\n",
    "print(X.shape, Y.shape)\n",
    "Y"
   ]
  },
  {
   "cell_type": "code",
   "execution_count": 34,
   "metadata": {},
   "outputs": [
    {
     "name": "stdout",
     "output_type": "stream",
     "text": [
      "torch.Size([10, 3, 500]) torch.Size([10, 4])\n"
     ]
    },
    {
     "data": {
      "text/plain": [
       "tensor([[-1.1908, -1.1744, -1.7382, -1.5550],\n",
       "        [-1.1908, -1.1744, -1.7382, -1.5550],\n",
       "        [-1.1908, -1.1744, -1.7382, -1.5550],\n",
       "        [-1.1908, -1.1744, -1.7382, -1.5550],\n",
       "        [-1.1908, -1.1744, -1.7382, -1.5550],\n",
       "        [-1.1908, -1.1744, -1.7382, -1.5550],\n",
       "        [-1.1908, -1.1744, -1.7382, -1.5550],\n",
       "        [-1.1908, -1.1744, -1.7382, -1.5550],\n",
       "        [-1.1908, -1.1744, -1.7382, -1.5550],\n",
       "        [-1.1908, -1.1744, -1.7382, -1.5550]], grad_fn=<LogSoftmaxBackward0>)"
      ]
     },
     "execution_count": 34,
     "metadata": {},
     "output_type": "execute_result"
    }
   ],
   "source": [
    "#net = PointNetCls(k=4)\n",
    "#net.eval()\n",
    "\n",
    "semi_Y, trans, trans_feat = net.forward(semi_X)\n",
    "\n",
    "print(semi_X.shape, semi_Y.shape)\n",
    "semi_Y"
   ]
  },
  {
   "cell_type": "code",
   "execution_count": 25,
   "metadata": {},
   "outputs": [
    {
     "data": {
      "text/plain": [
       "torch.Size([10, 3, 912])"
      ]
     },
     "execution_count": 25,
     "metadata": {},
     "output_type": "execute_result"
    }
   ],
   "source": [
    "X.shape"
   ]
  },
  {
   "cell_type": "code",
   "execution_count": 23,
   "metadata": {},
   "outputs": [
    {
     "data": {
      "text/plain": [
       "(tensor([[-1.5385, -1.5215, -1.3412, -1.1863],\n",
       "         [-1.5385, -1.5215, -1.3412, -1.1863],\n",
       "         [-1.5385, -1.5215, -1.3412, -1.1863],\n",
       "         [-1.5385, -1.5215, -1.3412, -1.1863],\n",
       "         [-1.5385, -1.5215, -1.3412, -1.1863],\n",
       "         [-1.5385, -1.5215, -1.3412, -1.1863],\n",
       "         [-1.5385, -1.5215, -1.3412, -1.1863],\n",
       "         [-1.5385, -1.5215, -1.3412, -1.1863],\n",
       "         [-1.5385, -1.5215, -1.3412, -1.1863],\n",
       "         [-1.5385, -1.5215, -1.3412, -1.1863]], grad_fn=<LogSoftmaxBackward0>),\n",
       " tensor([[[ 1.1108, -0.0153, -0.0385],\n",
       "          [-0.2198,  1.0605, -0.0155],\n",
       "          [-0.2869, -0.2403,  0.8163]],\n",
       " \n",
       "         [[ 1.1108, -0.0153, -0.0385],\n",
       "          [-0.2198,  1.0605, -0.0155],\n",
       "          [-0.2869, -0.2403,  0.8163]],\n",
       " \n",
       "         [[ 1.1108, -0.0153, -0.0385],\n",
       "          [-0.2198,  1.0605, -0.0155],\n",
       "          [-0.2869, -0.2403,  0.8163]],\n",
       " \n",
       "         [[ 1.1108, -0.0153, -0.0385],\n",
       "          [-0.2198,  1.0605, -0.0155],\n",
       "          [-0.2869, -0.2403,  0.8163]],\n",
       " \n",
       "         [[ 1.1108, -0.0153, -0.0385],\n",
       "          [-0.2198,  1.0605, -0.0155],\n",
       "          [-0.2869, -0.2403,  0.8163]],\n",
       " \n",
       "         [[ 1.1108, -0.0153, -0.0385],\n",
       "          [-0.2198,  1.0605, -0.0155],\n",
       "          [-0.2869, -0.2403,  0.8163]],\n",
       " \n",
       "         [[ 1.1108, -0.0153, -0.0385],\n",
       "          [-0.2198,  1.0605, -0.0155],\n",
       "          [-0.2869, -0.2403,  0.8163]],\n",
       " \n",
       "         [[ 1.1108, -0.0153, -0.0385],\n",
       "          [-0.2198,  1.0605, -0.0155],\n",
       "          [-0.2869, -0.2403,  0.8163]],\n",
       " \n",
       "         [[ 1.1108, -0.0153, -0.0385],\n",
       "          [-0.2198,  1.0605, -0.0155],\n",
       "          [-0.2869, -0.2403,  0.8163]],\n",
       " \n",
       "         [[ 1.1108, -0.0153, -0.0385],\n",
       "          [-0.2198,  1.0605, -0.0155],\n",
       "          [-0.2869, -0.2403,  0.8163]]], grad_fn=<ViewBackward0>),\n",
       " None)"
      ]
     },
     "execution_count": 23,
     "metadata": {},
     "output_type": "execute_result"
    }
   ],
   "source": [
    "net.forward(X)"
   ]
  },
  {
   "cell_type": "markdown",
   "metadata": {},
   "source": [
    "## accept point clouds with different sizes"
   ]
  },
  {
   "cell_type": "code",
   "execution_count": 40,
   "metadata": {},
   "outputs": [
    {
     "data": {
      "text/plain": [
       "(tensor([[-1.1956, -1.1701, -1.7424, -1.5510],\n",
       "         [-1.1956, -1.1701, -1.7424, -1.5510],\n",
       "         [-1.1956, -1.1701, -1.7424, -1.5510],\n",
       "         [-1.1956, -1.1701, -1.7424, -1.5510],\n",
       "         [-1.1956, -1.1701, -1.7424, -1.5510],\n",
       "         [-1.1956, -1.1701, -1.7424, -1.5510],\n",
       "         [-1.1956, -1.1701, -1.7424, -1.5510],\n",
       "         [-1.1956, -1.1701, -1.7424, -1.5510],\n",
       "         [-1.1956, -1.1701, -1.7424, -1.5510],\n",
       "         [-1.1956, -1.1701, -1.7424, -1.5510]], grad_fn=<LogSoftmaxBackward0>),\n",
       " tensor([[[ 0.6659, -0.2436,  0.0184],\n",
       "          [-0.3328,  0.7577,  0.0911],\n",
       "          [ 0.0200,  0.1578,  0.7277]],\n",
       " \n",
       "         [[ 0.6659, -0.2436,  0.0184],\n",
       "          [-0.3328,  0.7577,  0.0911],\n",
       "          [ 0.0200,  0.1578,  0.7277]],\n",
       " \n",
       "         [[ 0.6659, -0.2436,  0.0184],\n",
       "          [-0.3328,  0.7577,  0.0911],\n",
       "          [ 0.0200,  0.1578,  0.7277]],\n",
       " \n",
       "         [[ 0.6659, -0.2436,  0.0184],\n",
       "          [-0.3328,  0.7577,  0.0911],\n",
       "          [ 0.0200,  0.1578,  0.7277]],\n",
       " \n",
       "         [[ 0.6659, -0.2436,  0.0184],\n",
       "          [-0.3328,  0.7577,  0.0911],\n",
       "          [ 0.0200,  0.1578,  0.7277]],\n",
       " \n",
       "         [[ 0.6659, -0.2436,  0.0184],\n",
       "          [-0.3328,  0.7577,  0.0911],\n",
       "          [ 0.0200,  0.1578,  0.7277]],\n",
       " \n",
       "         [[ 0.6659, -0.2436,  0.0184],\n",
       "          [-0.3328,  0.7577,  0.0911],\n",
       "          [ 0.0200,  0.1578,  0.7277]],\n",
       " \n",
       "         [[ 0.6659, -0.2436,  0.0184],\n",
       "          [-0.3328,  0.7577,  0.0911],\n",
       "          [ 0.0200,  0.1578,  0.7277]],\n",
       " \n",
       "         [[ 0.6659, -0.2436,  0.0184],\n",
       "          [-0.3328,  0.7577,  0.0911],\n",
       "          [ 0.0200,  0.1578,  0.7277]],\n",
       " \n",
       "         [[ 0.6659, -0.2436,  0.0184],\n",
       "          [-0.3328,  0.7577,  0.0911],\n",
       "          [ 0.0200,  0.1578,  0.7277]]], grad_fn=<ViewBackward0>),\n",
       " None)"
      ]
     },
     "execution_count": 40,
     "metadata": {},
     "output_type": "execute_result"
    }
   ],
   "source": [
    "net.forward(torch.Tensor(X))"
   ]
  },
  {
   "cell_type": "code",
   "execution_count": null,
   "metadata": {},
   "outputs": [],
   "source": []
  }
 ],
 "metadata": {
  "kernelspec": {
   "display_name": "Python 3.6.9 ('venv_local': venv)",
   "language": "python",
   "name": "python3"
  },
  "language_info": {
   "codemirror_mode": {
    "name": "ipython",
    "version": 3
   },
   "file_extension": ".py",
   "mimetype": "text/x-python",
   "name": "python",
   "nbconvert_exporter": "python",
   "pygments_lexer": "ipython3",
   "version": "3.6.9"
  },
  "orig_nbformat": 4,
  "vscode": {
   "interpreter": {
    "hash": "b3f951fa4227f6aee2764c66da50d1aa01efee6b5e95e7b587fda0e6104695b3"
   }
  }
 },
 "nbformat": 4,
 "nbformat_minor": 2
}
