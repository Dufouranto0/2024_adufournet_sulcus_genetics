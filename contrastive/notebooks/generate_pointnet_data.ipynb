{
 "cells": [
  {
   "cell_type": "code",
   "execution_count": 48,
   "metadata": {},
   "outputs": [],
   "source": [
    "import numpy as np\n",
    "import matplotlib.pyplot as plt\n",
    "import torch\n",
    "\n",
    "from contrastive.backbones.pointnet import PointNetCls\n",
    "from torch.nn.utils.rnn import pack_padded_sequence"
   ]
  },
  {
   "cell_type": "code",
   "execution_count": 29,
   "metadata": {},
   "outputs": [
    {
     "data": {
      "text/plain": [
       "(1114, 17, 40, 38, 1)"
      ]
     },
     "execution_count": 29,
     "metadata": {},
     "output_type": "execute_result"
    }
   ],
   "source": [
    "data = np.load(\"/neurospin/dico/data/deep_folding/current/datasets/hcp/crops/2mm/CINGULATE/mask/Rskeleton.npy\")\n",
    "data.shape"
   ]
  },
  {
   "cell_type": "code",
   "execution_count": 30,
   "metadata": {},
   "outputs": [
    {
     "data": {
      "text/plain": [
       "28785760"
      ]
     },
     "execution_count": 30,
     "metadata": {},
     "output_type": "execute_result"
    }
   ],
   "source": [
    "np.product(data.shape)"
   ]
  },
  {
   "cell_type": "code",
   "execution_count": 31,
   "metadata": {},
   "outputs": [
    {
     "name": "stdout",
     "output_type": "stream",
     "text": [
      "870630\n",
      "870630\n",
      "870630\n",
      "870630\n",
      "870630\n"
     ]
    },
    {
     "data": {
      "text/plain": [
       "(array([   0,    0,    0, ..., 1113, 1113, 1113]),\n",
       " array([ 1,  1,  1, ..., 13, 13, 13]),\n",
       " array([ 7,  8,  9, ..., 11, 12, 12]),\n",
       " array([23, 23, 22, ..., 33, 29, 30]),\n",
       " array([0, 0, 0, ..., 0, 0, 0]))"
      ]
     },
     "execution_count": 31,
     "metadata": {},
     "output_type": "execute_result"
    }
   ],
   "source": [
    "points = np.nonzero(data)\n",
    "for coord in points:\n",
    "    print(len(coord))\n",
    "\n",
    "points"
   ]
  },
  {
   "cell_type": "code",
   "execution_count": 62,
   "metadata": {},
   "outputs": [
    {
     "data": {
      "text/plain": [
       "((3, 912), (3, 711))"
      ]
     },
     "execution_count": 62,
     "metadata": {},
     "output_type": "execute_result"
    }
   ],
   "source": [
    "clouds = []\n",
    "\n",
    "for i in range(data.shape[0]):\n",
    "    point_cloud = np.array(data[i].nonzero()[:3])\n",
    "    clouds.append(point_cloud)\n",
    "\n",
    "clouds[0].shape, clouds[1].shape"
   ]
  },
  {
   "cell_type": "code",
   "execution_count": 63,
   "metadata": {},
   "outputs": [
    {
     "data": {
      "image/png": "[encoded data removed]",
      "text/plain": [
       "<Figure size 432x288 with 1 Axes>"
      ]
     },
     "metadata": {
      "needs_background": "light"
     },
     "output_type": "display_data"
    }
   ],
   "source": [
    "lengths = []\n",
    "\n",
    "for point_cloud in clouds:\n",
    "    #print(len(point_cloud), len(point_cloud[0]))\n",
    "    lengths.append(point_cloud.shape[1])\n",
    "\n",
    "plt.hist(lengths, bins=100)\n",
    "plt.show()"
   ]
  },
  {
   "cell_type": "code",
   "execution_count": 64,
   "metadata": {},
   "outputs": [
    {
     "name": "stdout",
     "output_type": "stream",
     "text": [
      "(3, 912)\n"
     ]
    }
   ],
   "source": [
    "dats = data[0]\n",
    "\n",
    "point_cloud = np.nonzero(dats)\n",
    "\n",
    "point_cloud = np.matrix(point_cloud[:3])\n",
    "print(point_cloud.shape)\n",
    "#point_cloud = np.expand_dims(point_cloud, axis=0)\n",
    "#print(point_cloud.shape)"
   ]
  },
  {
   "cell_type": "code",
   "execution_count": 36,
   "metadata": {},
   "outputs": [
    {
     "data": {
      "text/plain": [
       "((10, 3, 912), (10, 3, 500))"
      ]
     },
     "execution_count": 36,
     "metadata": {},
     "output_type": "execute_result"
    }
   ],
   "source": [
    "points = [point_cloud for i in range(10)]\n",
    "points = np.array(points)\n",
    "\n",
    "semi_points = [point_cloud[:,:500] for i in range(10)]\n",
    "semi_points = np.array(semi_points)\n",
    "\n",
    "points.shape, semi_points.shape"
   ]
  },
  {
   "cell_type": "code",
   "execution_count": 37,
   "metadata": {},
   "outputs": [
    {
     "data": {
      "text/plain": [
       "(tensor([[[ 1.,  1.,  1.,  ..., 12., 12., 12.],\n",
       "          [ 7.,  8.,  9.,  ..., 14., 18., 31.],\n",
       "          [23., 23., 22.,  ..., 14., 16., 11.]],\n",
       " \n",
       "         [[ 1.,  1.,  1.,  ..., 12., 12., 12.],\n",
       "          [ 7.,  8.,  9.,  ..., 14., 18., 31.],\n",
       "          [23., 23., 22.,  ..., 14., 16., 11.]],\n",
       " \n",
       "         [[ 1.,  1.,  1.,  ..., 12., 12., 12.],\n",
       "          [ 7.,  8.,  9.,  ..., 14., 18., 31.],\n",
       "          [23., 23., 22.,  ..., 14., 16., 11.]],\n",
       " \n",
       "         ...,\n",
       " \n",
       "         [[ 1.,  1.,  1.,  ..., 12., 12., 12.],\n",
       "          [ 7.,  8.,  9.,  ..., 14., 18., 31.],\n",
       "          [23., 23., 22.,  ..., 14., 16., 11.]],\n",
       " \n",
       "         [[ 1.,  1.,  1.,  ..., 12., 12., 12.],\n",
       "          [ 7.,  8.,  9.,  ..., 14., 18., 31.],\n",
       "          [23., 23., 22.,  ..., 14., 16., 11.]],\n",
       " \n",
       "         [[ 1.,  1.,  1.,  ..., 12., 12., 12.],\n",
       "          [ 7.,  8.,  9.,  ..., 14., 18., 31.],\n",
       "          [23., 23., 22.,  ..., 14., 16., 11.]]]),\n",
       " tensor([[[ 1.,  1.,  1.,  ...,  9.,  9.,  9.],\n",
       "          [ 7.,  8.,  9.,  ..., 21., 21., 21.],\n",
       "          [23., 23., 22.,  ...,  6.,  7.,  8.]],\n",
       " \n",
       "         [[ 1.,  1.,  1.,  ...,  9.,  9.,  9.],\n",
       "          [ 7.,  8.,  9.,  ..., 21., 21., 21.],\n",
       "          [23., 23., 22.,  ...,  6.,  7.,  8.]],\n",
       " \n",
       "         [[ 1.,  1.,  1.,  ...,  9.,  9.,  9.],\n",
       "          [ 7.,  8.,  9.,  ..., 21., 21., 21.],\n",
       "          [23., 23., 22.,  ...,  6.,  7.,  8.]],\n",
       " \n",
       "         ...,\n",
       " \n",
       "         [[ 1.,  1.,  1.,  ...,  9.,  9.,  9.],\n",
       "          [ 7.,  8.,  9.,  ..., 21., 21., 21.],\n",
       "          [23., 23., 22.,  ...,  6.,  7.,  8.]],\n",
       " \n",
       "         [[ 1.,  1.,  1.,  ...,  9.,  9.,  9.],\n",
       "          [ 7.,  8.,  9.,  ..., 21., 21., 21.],\n",
       "          [23., 23., 22.,  ...,  6.,  7.,  8.]],\n",
       " \n",
       "         [[ 1.,  1.,  1.,  ...,  9.,  9.,  9.],\n",
       "          [ 7.,  8.,  9.,  ..., 21., 21., 21.],\n",
       "          [23., 23., 22.,  ...,  6.,  7.,  8.]]]))"
      ]
     },
     "execution_count": 37,
     "metadata": {},
     "output_type": "execute_result"
    }
   ],
   "source": [
    "X = torch.from_numpy(points).type(torch.FloatTensor)\n",
    "semi_X = torch.from_numpy(semi_points).type(torch.FloatTensor)\n",
    "X, semi_X"
   ]
  },
  {
   "cell_type": "code",
   "execution_count": 38,
   "metadata": {},
   "outputs": [
    {
     "name": "stdout",
     "output_type": "stream",
     "text": [
      "torch.Size([10, 3, 912]) torch.Size([10, 4])\n"
     ]
    },
    {
     "data": {
      "text/plain": [
       "tensor([[-1.2886, -1.3629, -1.3529, -1.5610],\n",
       "        [-1.2886, -1.3629, -1.3529, -1.5610],\n",
       "        [-1.2886, -1.3629, -1.3529, -1.5610],\n",
       "        [-1.2886, -1.3629, -1.3529, -1.5610],\n",
       "        [-1.2886, -1.3629, -1.3529, -1.5610],\n",
       "        [-1.2886, -1.3629, -1.3529, -1.5610],\n",
       "        [-1.2886, -1.3629, -1.3529, -1.5610],\n",
       "        [-1.2886, -1.3629, -1.3529, -1.5610],\n",
       "        [-1.2886, -1.3629, -1.3529, -1.5610],\n",
       "        [-1.2886, -1.3629, -1.3529, -1.5610]], grad_fn=<LogSoftmaxBackward0>)"
      ]
     },
     "execution_count": 38,
     "metadata": {},
     "output_type": "execute_result"
    }
   ],
   "source": [
    "net = PointNetCls(k=4)\n",
    "net.eval()\n",
    "\n",
    "Y, trans, trans_feat = net.forward(X)\n",
    "\n",
    "print(X.shape, Y.shape)\n",
    "Y"
   ]
  },
  {
   "cell_type": "code",
   "execution_count": 39,
   "metadata": {},
   "outputs": [
    {
     "name": "stdout",
     "output_type": "stream",
     "text": [
      "torch.Size([10, 3, 500]) torch.Size([10, 4])\n"
     ]
    },
    {
     "data": {
      "text/plain": [
       "tensor([[-1.2973, -1.3581, -1.3525, -1.5559],\n",
       "        [-1.2973, -1.3581, -1.3525, -1.5559],\n",
       "        [-1.2973, -1.3581, -1.3525, -1.5559],\n",
       "        [-1.2973, -1.3581, -1.3525, -1.5559],\n",
       "        [-1.2973, -1.3581, -1.3525, -1.5559],\n",
       "        [-1.2973, -1.3581, -1.3525, -1.5559],\n",
       "        [-1.2973, -1.3581, -1.3525, -1.5559],\n",
       "        [-1.2973, -1.3581, -1.3525, -1.5559],\n",
       "        [-1.2973, -1.3581, -1.3525, -1.5559],\n",
       "        [-1.2973, -1.3581, -1.3525, -1.5559]], grad_fn=<LogSoftmaxBackward0>)"
      ]
     },
     "execution_count": 39,
     "metadata": {},
     "output_type": "execute_result"
    }
   ],
   "source": [
    "#net = PointNetCls(k=4)\n",
    "#net.eval()\n",
    "\n",
    "semi_Y, trans, trans_feat = net.forward(semi_X)\n",
    "\n",
    "print(semi_X.shape, semi_Y.shape)\n",
    "semi_Y"
   ]
  },
  {
   "cell_type": "markdown",
   "metadata": {},
   "source": [
    "## accept point clouds with different sizes"
   ]
  },
  {
   "cell_type": "markdown",
   "metadata": {},
   "source": [
    "See https://github.com/charlesq34/pointnet/issues/161"
   ]
  },
  {
   "cell_type": "code",
   "execution_count": 70,
   "metadata": {},
   "outputs": [
    {
     "data": {
      "text/plain": [
       "(3, 1080)"
      ]
     },
     "execution_count": 70,
     "metadata": {},
     "output_type": "execute_result"
    }
   ],
   "source": [
    "def zero_padding(cloud, n_max, shuffle=False):\n",
    "    return np.pad(cloud, ((0,0),(0,n_max-cloud.shape[1])))\n",
    "\n",
    "zero_padding(clouds[0], 1080).shape"
   ]
  },
  {
   "cell_type": "code",
   "execution_count": 71,
   "metadata": {},
   "outputs": [
    {
     "name": "stdout",
     "output_type": "stream",
     "text": [
      "1080\n"
     ]
    },
    {
     "data": {
      "text/plain": [
       "(1114, 3, 1080)"
      ]
     },
     "execution_count": 71,
     "metadata": {},
     "output_type": "execute_result"
    }
   ],
   "source": [
    "n_max = np.max([clouds[i].shape[1] for i in range(len(clouds))])\n",
    "print(n_max)\n",
    "\n",
    "padded_clouds = np.array([zero_padding(cloud, n_max) for cloud in clouds])\n",
    "padded_clouds.shape"
   ]
  },
  {
   "cell_type": "code",
   "execution_count": 73,
   "metadata": {},
   "outputs": [
    {
     "data": {
      "text/plain": [
       "torch.Size([1114, 3, 1080])"
      ]
     },
     "execution_count": 73,
     "metadata": {},
     "output_type": "execute_result"
    }
   ],
   "source": [
    "padded_X = torch.from_numpy(padded_clouds).type(torch.FloatTensor)\n",
    "padded_X.shape"
   ]
  },
  {
   "cell_type": "code",
   "execution_count": 74,
   "metadata": {},
   "outputs": [
    {
     "data": {
      "text/plain": [
       "torch.Size([3342, 1080])"
      ]
     },
     "execution_count": 74,
     "metadata": {},
     "output_type": "execute_result"
    }
   ],
   "source": [
    "pack = pack_padded_sequence(padded_X, lengths, batch_first=True, enforce_sorted=False)\n",
    "pack.data.shape"
   ]
  },
  {
   "cell_type": "code",
   "execution_count": 75,
   "metadata": {},
   "outputs": [
    {
     "ename": "AttributeError",
     "evalue": "'tuple' object has no attribute 'size'",
     "output_type": "error",
     "traceback": [
      "\u001b[0;31m---------------------------------------------------------------------------\u001b[0m",
      "\u001b[0;31mAttributeError\u001b[0m                            Traceback (most recent call last)",
      "\u001b[0;32m<ipython-input-75-1c0498723b2a>\u001b[0m in \u001b[0;36m<module>\u001b[0;34m\u001b[0m\n\u001b[0;32m----> 1\u001b[0;31m \u001b[0mpadded_Y\u001b[0m\u001b[0;34m,\u001b[0m \u001b[0m_\u001b[0m\u001b[0;34m,\u001b[0m \u001b[0m_\u001b[0m \u001b[0;34m=\u001b[0m \u001b[0mnet\u001b[0m\u001b[0;34m.\u001b[0m\u001b[0mforward\u001b[0m\u001b[0;34m(\u001b[0m\u001b[0mpack\u001b[0m\u001b[0;34m[\u001b[0m\u001b[0;34m:\u001b[0m\u001b[0;36m10\u001b[0m\u001b[0;34m]\u001b[0m\u001b[0;34m)\u001b[0m\u001b[0;34m\u001b[0m\u001b[0;34m\u001b[0m\u001b[0m\n\u001b[0m\u001b[1;32m      2\u001b[0m \u001b[0mpadded_Y\u001b[0m\u001b[0;34m.\u001b[0m\u001b[0mshape\u001b[0m\u001b[0;34m\u001b[0m\u001b[0;34m\u001b[0m\u001b[0m\n",
      "\u001b[0;32m/neurospin/dico/agaudin/Runs/04_pointnet/2022_jchavas_cingulate_inhibitory_control/contrastive/backbones/pointnet.py\u001b[0m in \u001b[0;36mforward\u001b[0;34m(self, x)\u001b[0m\n\u001b[1;32m    143\u001b[0m \u001b[0;34m\u001b[0m\u001b[0m\n\u001b[1;32m    144\u001b[0m     \u001b[0;32mdef\u001b[0m \u001b[0mforward\u001b[0m\u001b[0;34m(\u001b[0m\u001b[0mself\u001b[0m\u001b[0;34m,\u001b[0m \u001b[0mx\u001b[0m\u001b[0;34m)\u001b[0m\u001b[0;34m:\u001b[0m\u001b[0;34m\u001b[0m\u001b[0;34m\u001b[0m\u001b[0m\n\u001b[0;32m--> 145\u001b[0;31m         \u001b[0mx\u001b[0m\u001b[0;34m,\u001b[0m \u001b[0mtrans\u001b[0m\u001b[0;34m,\u001b[0m \u001b[0mtrans_feat\u001b[0m \u001b[0;34m=\u001b[0m \u001b[0mself\u001b[0m\u001b[0;34m.\u001b[0m\u001b[0mfeat\u001b[0m\u001b[0;34m(\u001b[0m\u001b[0mx\u001b[0m\u001b[0;34m)\u001b[0m\u001b[0;34m\u001b[0m\u001b[0;34m\u001b[0m\u001b[0m\n\u001b[0m\u001b[1;32m    146\u001b[0m         \u001b[0mx\u001b[0m \u001b[0;34m=\u001b[0m \u001b[0mF\u001b[0m\u001b[0;34m.\u001b[0m\u001b[0mrelu\u001b[0m\u001b[0;34m(\u001b[0m\u001b[0mself\u001b[0m\u001b[0;34m.\u001b[0m\u001b[0mbn1\u001b[0m\u001b[0;34m(\u001b[0m\u001b[0mself\u001b[0m\u001b[0;34m.\u001b[0m\u001b[0mfc1\u001b[0m\u001b[0;34m(\u001b[0m\u001b[0mx\u001b[0m\u001b[0;34m)\u001b[0m\u001b[0;34m)\u001b[0m\u001b[0;34m)\u001b[0m\u001b[0;34m\u001b[0m\u001b[0;34m\u001b[0m\u001b[0m\n\u001b[1;32m    147\u001b[0m         \u001b[0mx\u001b[0m \u001b[0;34m=\u001b[0m \u001b[0mF\u001b[0m\u001b[0;34m.\u001b[0m\u001b[0mrelu\u001b[0m\u001b[0;34m(\u001b[0m\u001b[0mself\u001b[0m\u001b[0;34m.\u001b[0m\u001b[0mbn2\u001b[0m\u001b[0;34m(\u001b[0m\u001b[0mself\u001b[0m\u001b[0;34m.\u001b[0m\u001b[0mdropout\u001b[0m\u001b[0;34m(\u001b[0m\u001b[0mself\u001b[0m\u001b[0;34m.\u001b[0m\u001b[0mfc2\u001b[0m\u001b[0;34m(\u001b[0m\u001b[0mx\u001b[0m\u001b[0;34m)\u001b[0m\u001b[0;34m)\u001b[0m\u001b[0;34m)\u001b[0m\u001b[0;34m)\u001b[0m\u001b[0;34m\u001b[0m\u001b[0;34m\u001b[0m\u001b[0m\n",
      "\u001b[0;32m/neurospin/dico/agaudin/Runs/04_pointnet/2022_jchavas_cingulate_inhibitory_control/venv_local/lib/python3.6/site-packages/torch/nn/modules/module.py\u001b[0m in \u001b[0;36m_call_impl\u001b[0;34m(self, *input, **kwargs)\u001b[0m\n\u001b[1;32m   1100\u001b[0m         if not (self._backward_hooks or self._forward_hooks or self._forward_pre_hooks or _global_backward_hooks\n\u001b[1;32m   1101\u001b[0m                 or _global_forward_hooks or _global_forward_pre_hooks):\n\u001b[0;32m-> 1102\u001b[0;31m             \u001b[0;32mreturn\u001b[0m \u001b[0mforward_call\u001b[0m\u001b[0;34m(\u001b[0m\u001b[0;34m*\u001b[0m\u001b[0minput\u001b[0m\u001b[0;34m,\u001b[0m \u001b[0;34m**\u001b[0m\u001b[0mkwargs\u001b[0m\u001b[0;34m)\u001b[0m\u001b[0;34m\u001b[0m\u001b[0;34m\u001b[0m\u001b[0m\n\u001b[0m\u001b[1;32m   1103\u001b[0m         \u001b[0;31m# Do not call functions when jit is used\u001b[0m\u001b[0;34m\u001b[0m\u001b[0;34m\u001b[0m\u001b[0;34m\u001b[0m\u001b[0m\n\u001b[1;32m   1104\u001b[0m         \u001b[0mfull_backward_hooks\u001b[0m\u001b[0;34m,\u001b[0m \u001b[0mnon_full_backward_hooks\u001b[0m \u001b[0;34m=\u001b[0m \u001b[0;34m[\u001b[0m\u001b[0;34m]\u001b[0m\u001b[0;34m,\u001b[0m \u001b[0;34m[\u001b[0m\u001b[0;34m]\u001b[0m\u001b[0;34m\u001b[0m\u001b[0;34m\u001b[0m\u001b[0m\n",
      "\u001b[0;32m/neurospin/dico/agaudin/Runs/04_pointnet/2022_jchavas_cingulate_inhibitory_control/contrastive/backbones/pointnet.py\u001b[0m in \u001b[0;36mforward\u001b[0;34m(self, x)\u001b[0m\n\u001b[1;32m    103\u001b[0m \u001b[0;34m\u001b[0m\u001b[0m\n\u001b[1;32m    104\u001b[0m     \u001b[0;32mdef\u001b[0m \u001b[0mforward\u001b[0m\u001b[0;34m(\u001b[0m\u001b[0mself\u001b[0m\u001b[0;34m,\u001b[0m \u001b[0mx\u001b[0m\u001b[0;34m)\u001b[0m\u001b[0;34m:\u001b[0m\u001b[0;34m\u001b[0m\u001b[0;34m\u001b[0m\u001b[0m\n\u001b[0;32m--> 105\u001b[0;31m         \u001b[0mn_pts\u001b[0m \u001b[0;34m=\u001b[0m \u001b[0mx\u001b[0m\u001b[0;34m.\u001b[0m\u001b[0msize\u001b[0m\u001b[0;34m(\u001b[0m\u001b[0;34m)\u001b[0m\u001b[0;34m[\u001b[0m\u001b[0;36m2\u001b[0m\u001b[0;34m]\u001b[0m\u001b[0;34m\u001b[0m\u001b[0;34m\u001b[0m\u001b[0m\n\u001b[0m\u001b[1;32m    106\u001b[0m         \u001b[0mtrans\u001b[0m \u001b[0;34m=\u001b[0m \u001b[0mself\u001b[0m\u001b[0;34m.\u001b[0m\u001b[0mstn\u001b[0m\u001b[0;34m(\u001b[0m\u001b[0mx\u001b[0m\u001b[0;34m)\u001b[0m\u001b[0;34m\u001b[0m\u001b[0;34m\u001b[0m\u001b[0m\n\u001b[1;32m    107\u001b[0m         \u001b[0mx\u001b[0m \u001b[0;34m=\u001b[0m \u001b[0mx\u001b[0m\u001b[0;34m.\u001b[0m\u001b[0mtranspose\u001b[0m\u001b[0;34m(\u001b[0m\u001b[0;36m2\u001b[0m\u001b[0;34m,\u001b[0m \u001b[0;36m1\u001b[0m\u001b[0;34m)\u001b[0m\u001b[0;34m\u001b[0m\u001b[0;34m\u001b[0m\u001b[0m\n",
      "\u001b[0;31mAttributeError\u001b[0m: 'tuple' object has no attribute 'size'"
     ]
    }
   ],
   "source": [
    "padded_Y, _, _ = net.forward(pack[:10])\n",
    "padded_Y.shape"
   ]
  },
  {
   "cell_type": "markdown",
   "metadata": {},
   "source": [
    "# import bug for pointnet"
   ]
  },
  {
   "cell_type": "code",
   "execution_count": 2,
   "metadata": {},
   "outputs": [
    {
     "name": "stdout",
     "output_type": "stream",
     "text": [
      "INFO: you are probably not in a brainvisa environment. Probably OK.\n"
     ]
    }
   ],
   "source": [
    "from contrastive.backbones.pointnet import PointNetCls\n",
    "from contrastive.models.contrastive_learner import ContrastiveLearner"
   ]
  },
  {
   "cell_type": "code",
   "execution_count": null,
   "metadata": {},
   "outputs": [],
   "source": []
  }
 ],
 "metadata": {
  "kernelspec": {
   "display_name": "Python 3.7.5 ('venv_kraken': venv)",
   "language": "python",
   "name": "python3"
  },
  "language_info": {
   "codemirror_mode": {
    "name": "ipython",
    "version": 3
   },
   "file_extension": ".py",
   "mimetype": "text/x-python",
   "name": "python",
   "nbconvert_exporter": "python",
   "pygments_lexer": "ipython3",
   "version": "3.6.9"
  },
  "orig_nbformat": 4,
  "vscode": {
   "interpreter": {
    "hash": "201dab9319ce8ba60d171e892114127881e651f1ca61b0f33d59df54e7864e9f"
   }
  }
 },
 "nbformat": 4,
 "nbformat_minor": 2
}
