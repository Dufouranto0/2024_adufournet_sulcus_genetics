{
 "cells": [
  {
   "cell_type": "code",
   "execution_count": 1,
   "metadata": {},
   "outputs": [
    {
     "name": "stderr",
     "output_type": "stream",
     "text": [
      "/usr/lib/python3/dist-packages/scipy/__init__.py:146: UserWarning: A NumPy version >=1.17.3 and <1.25.0 is required for this version of SciPy (detected version 1.26.4\n",
      "  warnings.warn(f\"A NumPy version >={np_minversion} and <{np_maxversion}\"\n"
     ]
    }
   ],
   "source": [
    "import os\n",
    "import numpy as np\n",
    "import matplotlib.pyplot as plt\n",
    "import seaborn as sns\n",
    "import pandas as pd\n",
    "from scipy.spatial import distance"
   ]
  },
  {
   "cell_type": "markdown",
   "metadata": {},
   "source": [
    "So as to know the information about the HCP database, see below."
   ]
  },
  {
   "cell_type": "code",
   "execution_count": 2,
   "metadata": {},
   "outputs": [
    {
     "data": {
      "text/html": [
       "<div>\n",
       "<style scoped>\n",
       "    .dataframe tbody tr th:only-of-type {\n",
       "        vertical-align: middle;\n",
       "    }\n",
       "\n",
       "    .dataframe tbody tr th {\n",
       "        vertical-align: top;\n",
       "    }\n",
       "\n",
       "    .dataframe thead th {\n",
       "        text-align: right;\n",
       "    }\n",
       "</style>\n",
       "<table border=\"1\" class=\"dataframe\">\n",
       "  <thead>\n",
       "    <tr style=\"text-align: right;\">\n",
       "      <th></th>\n",
       "      <th>fullDisplayName</th>\n",
       "      <th>category</th>\n",
       "      <th>assessment</th>\n",
       "      <th>columnHeader</th>\n",
       "      <th>description</th>\n",
       "    </tr>\n",
       "  </thead>\n",
       "  <tbody>\n",
       "    <tr>\n",
       "      <th>0</th>\n",
       "      <td>Subject</td>\n",
       "      <td>Subject Information</td>\n",
       "      <td>Demographics</td>\n",
       "      <td>Subject</td>\n",
       "      <td>HCP Subject ID</td>\n",
       "    </tr>\n",
       "    <tr>\n",
       "      <th>1</th>\n",
       "      <td>Quarter Released</td>\n",
       "      <td>Subject Information</td>\n",
       "      <td>Demographics</td>\n",
       "      <td>Release</td>\n",
       "      <td>HCP data release in which this subject's data ...</td>\n",
       "    </tr>\n",
       "    <tr>\n",
       "      <th>2</th>\n",
       "      <td>Acquisition Quarter</td>\n",
       "      <td>Subject Information</td>\n",
       "      <td>Demographics</td>\n",
       "      <td>Acquisition</td>\n",
       "      <td>Quarter in which this subject's 3T and behavio...</td>\n",
       "    </tr>\n",
       "    <tr>\n",
       "      <th>3</th>\n",
       "      <td>Gender</td>\n",
       "      <td>Subject Information</td>\n",
       "      <td>Demographics</td>\n",
       "      <td>Gender</td>\n",
       "      <td>Gender of Subject</td>\n",
       "    </tr>\n",
       "    <tr>\n",
       "      <th>4</th>\n",
       "      <td>Age Range</td>\n",
       "      <td>Subject Information</td>\n",
       "      <td>Demographics</td>\n",
       "      <td>Age</td>\n",
       "      <td>Age group of Participant, banded in five-year ...</td>\n",
       "    </tr>\n",
       "    <tr>\n",
       "      <th>...</th>\n",
       "      <td>...</td>\n",
       "      <td>...</td>\n",
       "      <td>...</td>\n",
       "      <td>...</td>\n",
       "      <td>...</td>\n",
       "    </tr>\n",
       "    <tr>\n",
       "      <th>808</th>\n",
       "      <td>MOV4 TRfrac</td>\n",
       "      <td>7T Eye Tracker Metadata</td>\n",
       "      <td>MOV</td>\n",
       "      <td>MOV4_TRFRAC</td>\n",
       "      <td>The value of TRfrac (percentage of total scan ...</td>\n",
       "    </tr>\n",
       "    <tr>\n",
       "      <th>809</th>\n",
       "      <td>MOV eyetrack compl</td>\n",
       "      <td>7T Eye Tracker Metadata</td>\n",
       "      <td>MOV</td>\n",
       "      <td>MOV_EYETRACK_COMPL</td>\n",
       "      <td>TRfrac (percentage of total scan time that had...</td>\n",
       "    </tr>\n",
       "    <tr>\n",
       "      <th>810</th>\n",
       "      <td>REST trackfrac min</td>\n",
       "      <td>7T Eye Tracker Metadata</td>\n",
       "      <td>REST</td>\n",
       "      <td>REST_TRACKFRAC_MIN</td>\n",
       "      <td>The minimum value for Trackfrac (percentage of...</td>\n",
       "    </tr>\n",
       "    <tr>\n",
       "      <th>811</th>\n",
       "      <td>REST TRfrac min</td>\n",
       "      <td>7T Eye Tracker Metadata</td>\n",
       "      <td>REST</td>\n",
       "      <td>REST_TRFRAC_MIN</td>\n",
       "      <td>The minimum value for TRfrac (percentage of to...</td>\n",
       "    </tr>\n",
       "    <tr>\n",
       "      <th>812</th>\n",
       "      <td>REST eyetrack compl</td>\n",
       "      <td>7T Eye Tracker Metadata</td>\n",
       "      <td>REST</td>\n",
       "      <td>REST_EYETRACK_COMPL</td>\n",
       "      <td>TRfrac (percentage of total scan time that had...</td>\n",
       "    </tr>\n",
       "  </tbody>\n",
       "</table>\n",
       "<p>813 rows × 5 columns</p>\n",
       "</div>"
      ],
      "text/plain": [
       "         fullDisplayName                 category    assessment  \\\n",
       "0                Subject      Subject Information  Demographics   \n",
       "1       Quarter Released      Subject Information  Demographics   \n",
       "2    Acquisition Quarter      Subject Information  Demographics   \n",
       "3                 Gender      Subject Information  Demographics   \n",
       "4              Age Range      Subject Information  Demographics   \n",
       "..                   ...                      ...           ...   \n",
       "808          MOV4 TRfrac  7T Eye Tracker Metadata           MOV   \n",
       "809   MOV eyetrack compl  7T Eye Tracker Metadata           MOV   \n",
       "810   REST trackfrac min  7T Eye Tracker Metadata          REST   \n",
       "811      REST TRfrac min  7T Eye Tracker Metadata          REST   \n",
       "812  REST eyetrack compl  7T Eye Tracker Metadata          REST   \n",
       "\n",
       "            columnHeader                                        description  \n",
       "0                Subject                                     HCP Subject ID  \n",
       "1                Release  HCP data release in which this subject's data ...  \n",
       "2            Acquisition  Quarter in which this subject's 3T and behavio...  \n",
       "3                 Gender                                  Gender of Subject  \n",
       "4                    Age  Age group of Participant, banded in five-year ...  \n",
       "..                   ...                                                ...  \n",
       "808          MOV4_TRFRAC  The value of TRfrac (percentage of total scan ...  \n",
       "809   MOV_EYETRACK_COMPL  TRfrac (percentage of total scan time that had...  \n",
       "810   REST_TRACKFRAC_MIN  The minimum value for Trackfrac (percentage of...  \n",
       "811      REST_TRFRAC_MIN  The minimum value for TRfrac (percentage of to...  \n",
       "812  REST_EYETRACK_COMPL  TRfrac (percentage of total scan time that had...  \n",
       "\n",
       "[813 rows x 5 columns]"
      ]
     },
     "execution_count": 2,
     "metadata": {},
     "output_type": "execute_result"
    }
   ],
   "source": [
    "HCP_description = pd.read_csv('/neurospin/dico/adufournet/HCP_S1200_DataDictionary_Oct_30_2023.csv')\n",
    "HCP_description"
   ]
  },
  {
   "cell_type": "code",
   "execution_count": 3,
   "metadata": {},
   "outputs": [],
   "source": [
    "HCP_info = pd.read_csv('/neurospin/dico/jchavas/RESTRICTED_jchavas_1_18_2022_3_17_51.csv')\n",
    "participants_file = \"/neurospin/dico/data/bv_databases/human/not_labeled/hcp/participants.csv\"\n",
    "participants = pd.read_csv(participants_file) #to get the gender that is not in the info\n",
    "participants = participants[['Subject', \"Gender\"]]"
   ]
  },
  {
   "cell_type": "code",
   "execution_count": 4,
   "metadata": {},
   "outputs": [
    {
     "data": {
      "text/plain": [
       "array([100206, 100307, 100408, ..., 994273, 995174, 996782])"
      ]
     },
     "execution_count": 4,
     "metadata": {},
     "output_type": "execute_result"
    }
   ],
   "source": [
    "HCP_IID = pd.read_csv('/neurospin/dico/adufournet/Runs/01_Heritability_Right_PCS_HCP/Heritability/data/HCP_prob_pred_PCS.csv')\n",
    "HCP_IID = HCP_IID['IID'].astype(int) # we only keep the id for which we can do the prediction\n",
    "HCP_IID.values"
   ]
  },
  {
   "cell_type": "code",
   "execution_count": 5,
   "metadata": {},
   "outputs": [
    {
     "data": {
      "text/html": [
       "<div>\n",
       "<style scoped>\n",
       "    .dataframe tbody tr th:only-of-type {\n",
       "        vertical-align: middle;\n",
       "    }\n",
       "\n",
       "    .dataframe tbody tr th {\n",
       "        vertical-align: top;\n",
       "    }\n",
       "\n",
       "    .dataframe thead th {\n",
       "        text-align: right;\n",
       "    }\n",
       "</style>\n",
       "<table border=\"1\" class=\"dataframe\">\n",
       "  <thead>\n",
       "    <tr style=\"text-align: right;\">\n",
       "      <th></th>\n",
       "      <th>Subject</th>\n",
       "      <th>Age_in_Yrs</th>\n",
       "      <th>HasGT</th>\n",
       "      <th>ZygosityGT</th>\n",
       "      <th>Family_ID</th>\n",
       "      <th>Gender</th>\n",
       "    </tr>\n",
       "  </thead>\n",
       "  <tbody>\n",
       "    <tr>\n",
       "      <th>0</th>\n",
       "      <td>100206</td>\n",
       "      <td>27</td>\n",
       "      <td>True</td>\n",
       "      <td></td>\n",
       "      <td>56037_85858</td>\n",
       "      <td>M</td>\n",
       "    </tr>\n",
       "    <tr>\n",
       "      <th>1</th>\n",
       "      <td>100307</td>\n",
       "      <td>27</td>\n",
       "      <td>True</td>\n",
       "      <td>MZ</td>\n",
       "      <td>51488_81352</td>\n",
       "      <td>F</td>\n",
       "    </tr>\n",
       "    <tr>\n",
       "      <th>2</th>\n",
       "      <td>100408</td>\n",
       "      <td>33</td>\n",
       "      <td>True</td>\n",
       "      <td>MZ</td>\n",
       "      <td>51730_81594</td>\n",
       "      <td>M</td>\n",
       "    </tr>\n",
       "    <tr>\n",
       "      <th>3</th>\n",
       "      <td>100610</td>\n",
       "      <td>27</td>\n",
       "      <td>True</td>\n",
       "      <td>DZ</td>\n",
       "      <td>52813_82634</td>\n",
       "      <td>M</td>\n",
       "    </tr>\n",
       "    <tr>\n",
       "      <th>4</th>\n",
       "      <td>101006</td>\n",
       "      <td>35</td>\n",
       "      <td>True</td>\n",
       "      <td></td>\n",
       "      <td>51283_52850_81149</td>\n",
       "      <td>F</td>\n",
       "    </tr>\n",
       "    <tr>\n",
       "      <th>...</th>\n",
       "      <td>...</td>\n",
       "      <td>...</td>\n",
       "      <td>...</td>\n",
       "      <td>...</td>\n",
       "      <td>...</td>\n",
       "      <td>...</td>\n",
       "    </tr>\n",
       "    <tr>\n",
       "      <th>1108</th>\n",
       "      <td>992774</td>\n",
       "      <td>35</td>\n",
       "      <td>True</td>\n",
       "      <td></td>\n",
       "      <td>51345_81210</td>\n",
       "      <td>M</td>\n",
       "    </tr>\n",
       "    <tr>\n",
       "      <th>1109</th>\n",
       "      <td>993675</td>\n",
       "      <td>29</td>\n",
       "      <td>True</td>\n",
       "      <td></td>\n",
       "      <td>55800_85621</td>\n",
       "      <td>F</td>\n",
       "    </tr>\n",
       "    <tr>\n",
       "      <th>1110</th>\n",
       "      <td>994273</td>\n",
       "      <td>30</td>\n",
       "      <td>True</td>\n",
       "      <td></td>\n",
       "      <td>52364_82227</td>\n",
       "      <td>M</td>\n",
       "    </tr>\n",
       "    <tr>\n",
       "      <th>1111</th>\n",
       "      <td>995174</td>\n",
       "      <td>25</td>\n",
       "      <td>True</td>\n",
       "      <td>MZ</td>\n",
       "      <td>55923_85743</td>\n",
       "      <td>M</td>\n",
       "    </tr>\n",
       "    <tr>\n",
       "      <th>1112</th>\n",
       "      <td>996782</td>\n",
       "      <td>28</td>\n",
       "      <td>True</td>\n",
       "      <td>DZ</td>\n",
       "      <td>51541_81405</td>\n",
       "      <td>F</td>\n",
       "    </tr>\n",
       "  </tbody>\n",
       "</table>\n",
       "<p>1113 rows × 6 columns</p>\n",
       "</div>"
      ],
      "text/plain": [
       "      Subject  Age_in_Yrs  HasGT ZygosityGT          Family_ID Gender\n",
       "0      100206          27   True                   56037_85858      M\n",
       "1      100307          27   True         MZ        51488_81352      F\n",
       "2      100408          33   True         MZ        51730_81594      M\n",
       "3      100610          27   True         DZ        52813_82634      M\n",
       "4      101006          35   True             51283_52850_81149      F\n",
       "...       ...         ...    ...        ...                ...    ...\n",
       "1108   992774          35   True                   51345_81210      M\n",
       "1109   993675          29   True                   55800_85621      F\n",
       "1110   994273          30   True                   52364_82227      M\n",
       "1111   995174          25   True         MZ        55923_85743      M\n",
       "1112   996782          28   True         DZ        51541_81405      F\n",
       "\n",
       "[1113 rows x 6 columns]"
      ]
     },
     "execution_count": 5,
     "metadata": {},
     "output_type": "execute_result"
    }
   ],
   "source": [
    "HCP_info = HCP_info[HCP_info['Subject'].isin(HCP_IID.values)]\n",
    "HCP_info = HCP_info.merge(participants, on='Subject', how='inner')\n",
    "HCP_info = HCP_info[['Subject', 'Age_in_Yrs', 'HasGT', 'ZygosityGT', 'Family_ID', 'Gender']]\n",
    "HCP_info"
   ]
  },
  {
   "cell_type": "markdown",
   "metadata": {},
   "source": [
    "#### Test if I can access to the monozygous or dizygous twins only"
   ]
  },
  {
   "cell_type": "code",
   "execution_count": 6,
   "metadata": {},
   "outputs": [
    {
     "name": "stdout",
     "output_type": "stream",
     "text": [
      "(286,)\n",
      "\n",
      "148\n"
     ]
    }
   ],
   "source": [
    "# to get only the monozygous twins\n",
    "MZ_ID = HCP_info[HCP_info['ZygosityGT'] == 'MZ']['Subject'].values\n",
    "print(MZ_ID.shape)\n",
    "print()\n",
    "# to get the number of unique family ID\n",
    "HCP_info_MZ = HCP_info[HCP_info['ZygosityGT'] == 'MZ']\n",
    "print(len(HCP_info_MZ['Family_ID'].unique()))"
   ]
  },
  {
   "cell_type": "markdown",
   "metadata": {},
   "source": [
    "As we can see, 148*2=296, therefore it means that some twins don't have the same family ID, therefore they are considered as alone. In the best case, we are dealing with 286//2=143 pairs."
   ]
  },
  {
   "cell_type": "code",
   "execution_count": 7,
   "metadata": {},
   "outputs": [
    {
     "name": "stdout",
     "output_type": "stream",
     "text": [
      "(170,)\n",
      "\n",
      "91\n"
     ]
    }
   ],
   "source": [
    "# to get only the dizygous twins\n",
    "DZ_ID = HCP_info[HCP_info['ZygosityGT'] == 'DZ']['Subject'].values\n",
    "print(DZ_ID.shape)\n",
    "print()\n",
    "HCP_info_DZ = HCP_info[HCP_info['ZygosityGT'] == 'DZ']\n",
    "print(len(HCP_info_DZ['Family_ID'].unique()))"
   ]
  },
  {
   "cell_type": "markdown",
   "metadata": {},
   "source": [
    "Same here, 91*2=182, which means that some of the dizygous twins don't have the same family ID, or they are on their own."
   ]
  },
  {
   "cell_type": "markdown",
   "metadata": {},
   "source": [
    "#### Get the twin pairs depending on the Family_ID"
   ]
  },
  {
   "cell_type": "code",
   "execution_count": 8,
   "metadata": {},
   "outputs": [
    {
     "name": "stdout",
     "output_type": "stream",
     "text": [
      "138\n"
     ]
    }
   ],
   "source": [
    "list_MZ_twin_id = []\n",
    "\n",
    "for familiy_id in HCP_info_MZ['Family_ID'].unique():\n",
    "    # we start by checking if there are two twins in the same family\n",
    "    if HCP_info_MZ['Family_ID'].isin([familiy_id]).sum(axis=0) == 2:\n",
    "        # get the ID of the Monozygous twins that have the same family ID\n",
    "        list_MZ_twin_id.append(HCP_info_MZ[HCP_info_MZ['Family_ID'].isin([familiy_id])]['Subject'].values)\n",
    "\n",
    "print(len(list_MZ_twin_id))"
   ]
  },
  {
   "cell_type": "code",
   "execution_count": 9,
   "metadata": {},
   "outputs": [
    {
     "name": "stdout",
     "output_type": "stream",
     "text": [
      "79\n"
     ]
    }
   ],
   "source": [
    "list_DZ_twin_id = []\n",
    "\n",
    "for familiy_id in HCP_info_DZ['Family_ID'].unique():\n",
    "    # we start by checking if there are two twins in the same family\n",
    "    if HCP_info_DZ['Family_ID'].isin([familiy_id]).sum(axis=0) == 2:\n",
    "        # get the ID of the Monozygous twins that have the same family ID\n",
    "        list_DZ_twin_id.append(HCP_info_DZ[HCP_info_DZ['Family_ID'].isin([familiy_id])]['Subject'].values)\n",
    "\n",
    "print(len(list_DZ_twin_id))"
   ]
  },
  {
   "cell_type": "markdown",
   "metadata": {},
   "source": [
    "#### Get the siblings that are not twins"
   ]
  },
  {
   "cell_type": "code",
   "execution_count": 10,
   "metadata": {},
   "outputs": [
    {
     "data": {
      "text/plain": [
       "188"
      ]
     },
     "execution_count": 10,
     "metadata": {},
     "output_type": "execute_result"
    }
   ],
   "source": [
    "list_siblings_id = []\n",
    "\n",
    "for familiy_id in HCP_info['Family_ID'].unique():\n",
    "    # we start by checking if there are two siblings (or more) in the same family\n",
    "    if HCP_info['Family_ID'].isin([familiy_id]).sum(axis=0) >= 2:\n",
    "        # get the ID of the siblings that have the same family ID\n",
    "        siblings = (HCP_info[HCP_info['Family_ID'].isin([familiy_id])])\n",
    "        siblings = siblings[siblings['ZygosityGT'] == ' ']\n",
    "        if len(siblings) >=2:\n",
    "            list_siblings_id.append(siblings['Subject'].to_numpy())\n",
    "\n",
    "\n",
    "len(list_siblings_id)"
   ]
  },
  {
   "cell_type": "markdown",
   "metadata": {},
   "source": [
    "#### Compute the correlation betwenn the predictions of having a PCS (probabilities) for the different twins"
   ]
  },
  {
   "cell_type": "code",
   "execution_count": 11,
   "metadata": {},
   "outputs": [],
   "source": [
    "pred = pd.read_csv('/neurospin/dico/adufournet/Runs/02_Heritability_Left_PCS_HCP/Heritability/data/HCP_prob_pred_left_PCS.csv')"
   ]
  },
  {
   "cell_type": "code",
   "execution_count": 12,
   "metadata": {},
   "outputs": [],
   "source": [
    "pred0 = pred[pred['IID'].isin([id[0] for id in list_MZ_twin_id])]['Pred'].to_numpy()\n",
    "pred1 = pred[pred['IID'].isin([id[1] for id in list_MZ_twin_id])]['Pred'].to_numpy()"
   ]
  },
  {
   "cell_type": "code",
   "execution_count": 13,
   "metadata": {},
   "outputs": [],
   "source": [
    "#print(pearsonr(pred0,pred1))"
   ]
  },
  {
   "cell_type": "code",
   "execution_count": 14,
   "metadata": {},
   "outputs": [],
   "source": [
    "pred0 = pred[pred['IID'].isin([id[0] for id in list_DZ_twin_id])]['Pred'].to_numpy()\n",
    "pred1 = pred[pred['IID'].isin([id[1] for id in list_DZ_twin_id])]['Pred'].to_numpy()"
   ]
  },
  {
   "cell_type": "code",
   "execution_count": 15,
   "metadata": {},
   "outputs": [],
   "source": [
    "#print(pearsonr(pred0,pred1))"
   ]
  },
  {
   "cell_type": "markdown",
   "metadata": {},
   "source": [
    "#### Load an embedded space of dimension 256 for the left CINGULATE region from HCP"
   ]
  },
  {
   "cell_type": "code",
   "execution_count": 21,
   "metadata": {},
   "outputs": [],
   "source": [
    "#embeddings_HCP = pd.read_csv(\"/neurospin/dico/adufournet/Runs/02_Heritability_Left_PCS_HCP/Program/Output/2024-05-13/09-33-29_206/hcp_epoch60_embeddings/full_embeddings.csv\", index_col=0)\n",
    "#embeddings_HCP = pd.read_csv(\"/neurospin/dico/adufournet/Runs/01_Heritability_Right_PCS_HCP/Input/hcp_cingulate_full_embeddings.csv\", index_col=0)\n",
    "#embedding = pd.read_csv('/neurospin/dico/adufournet/Runs/04_Heritability_Right_PCS_HCP_dim10/Output/2024-05-16/14-59-55_124/HCP_epoch100_embeddings/full_embeddings.csv', index_col=0)\n",
    "#embeddings_HCP = pd.read_csv('/neurospin/dico/adufournet/Runs/05_Heritability_Left_PCS_HCP_dim10/Output/2024-05-16/18-00-43_101/HCP_epoch100_embeddings/full_embeddings.csv', index_col=0)\n",
    "\n",
    "embedding = pd.read_csv('/neurospin/dico/data/deep_folding/current/models/Champollion_V0/CINGULATE_left/2024-07-16/16-58-04_1/hcp_random_epoch80_embeddings/full_embeddings.csv', index_col=0)"
   ]
  },
  {
   "cell_type": "code",
   "execution_count": 22,
   "metadata": {},
   "outputs": [
    {
     "data": {
      "text/html": [
       "<div>\n",
       "<style scoped>\n",
       "    .dataframe tbody tr th:only-of-type {\n",
       "        vertical-align: middle;\n",
       "    }\n",
       "\n",
       "    .dataframe tbody tr th {\n",
       "        vertical-align: top;\n",
       "    }\n",
       "\n",
       "    .dataframe thead th {\n",
       "        text-align: right;\n",
       "    }\n",
       "</style>\n",
       "<table border=\"1\" class=\"dataframe\">\n",
       "  <thead>\n",
       "    <tr style=\"text-align: right;\">\n",
       "      <th></th>\n",
       "      <th>dim1</th>\n",
       "      <th>dim2</th>\n",
       "      <th>dim3</th>\n",
       "      <th>dim4</th>\n",
       "      <th>dim5</th>\n",
       "      <th>dim6</th>\n",
       "      <th>dim7</th>\n",
       "      <th>dim8</th>\n",
       "      <th>dim9</th>\n",
       "      <th>dim10</th>\n",
       "      <th>...</th>\n",
       "      <th>dim247</th>\n",
       "      <th>dim248</th>\n",
       "      <th>dim249</th>\n",
       "      <th>dim250</th>\n",
       "      <th>dim251</th>\n",
       "      <th>dim252</th>\n",
       "      <th>dim253</th>\n",
       "      <th>dim254</th>\n",
       "      <th>dim255</th>\n",
       "      <th>dim256</th>\n",
       "    </tr>\n",
       "    <tr>\n",
       "      <th>ID</th>\n",
       "      <th></th>\n",
       "      <th></th>\n",
       "      <th></th>\n",
       "      <th></th>\n",
       "      <th></th>\n",
       "      <th></th>\n",
       "      <th></th>\n",
       "      <th></th>\n",
       "      <th></th>\n",
       "      <th></th>\n",
       "      <th></th>\n",
       "      <th></th>\n",
       "      <th></th>\n",
       "      <th></th>\n",
       "      <th></th>\n",
       "      <th></th>\n",
       "      <th></th>\n",
       "      <th></th>\n",
       "      <th></th>\n",
       "      <th></th>\n",
       "      <th></th>\n",
       "    </tr>\n",
       "  </thead>\n",
       "  <tbody>\n",
       "    <tr>\n",
       "      <th>100307</th>\n",
       "      <td>-16.748257</td>\n",
       "      <td>20.017857</td>\n",
       "      <td>22.943806</td>\n",
       "      <td>6.170119</td>\n",
       "      <td>-24.617538</td>\n",
       "      <td>11.035006</td>\n",
       "      <td>17.639120</td>\n",
       "      <td>22.092905</td>\n",
       "      <td>-19.293022</td>\n",
       "      <td>21.130766</td>\n",
       "      <td>...</td>\n",
       "      <td>-4.904584</td>\n",
       "      <td>-24.107147</td>\n",
       "      <td>59.987106</td>\n",
       "      <td>28.528332</td>\n",
       "      <td>4.711964</td>\n",
       "      <td>-19.726970</td>\n",
       "      <td>-18.661960</td>\n",
       "      <td>14.100641</td>\n",
       "      <td>-8.534913</td>\n",
       "      <td>-17.353514</td>\n",
       "    </tr>\n",
       "    <tr>\n",
       "      <th>100408</th>\n",
       "      <td>7.979775</td>\n",
       "      <td>2.566665</td>\n",
       "      <td>-4.479918</td>\n",
       "      <td>5.584825</td>\n",
       "      <td>2.888993</td>\n",
       "      <td>10.172155</td>\n",
       "      <td>-6.524756</td>\n",
       "      <td>16.606089</td>\n",
       "      <td>-20.890207</td>\n",
       "      <td>-6.708186</td>\n",
       "      <td>...</td>\n",
       "      <td>13.603450</td>\n",
       "      <td>8.077349</td>\n",
       "      <td>8.551291</td>\n",
       "      <td>11.359354</td>\n",
       "      <td>7.341140</td>\n",
       "      <td>-12.470983</td>\n",
       "      <td>3.920549</td>\n",
       "      <td>7.628952</td>\n",
       "      <td>-4.457305</td>\n",
       "      <td>-3.252011</td>\n",
       "    </tr>\n",
       "    <tr>\n",
       "      <th>102311</th>\n",
       "      <td>12.542753</td>\n",
       "      <td>-13.895190</td>\n",
       "      <td>-12.554214</td>\n",
       "      <td>9.006349</td>\n",
       "      <td>12.728869</td>\n",
       "      <td>6.208658</td>\n",
       "      <td>11.171762</td>\n",
       "      <td>-14.965119</td>\n",
       "      <td>3.508170</td>\n",
       "      <td>-16.655313</td>\n",
       "      <td>...</td>\n",
       "      <td>14.057508</td>\n",
       "      <td>18.090694</td>\n",
       "      <td>42.222553</td>\n",
       "      <td>26.097443</td>\n",
       "      <td>6.976953</td>\n",
       "      <td>16.303880</td>\n",
       "      <td>10.356030</td>\n",
       "      <td>11.254222</td>\n",
       "      <td>-24.750944</td>\n",
       "      <td>-20.916480</td>\n",
       "    </tr>\n",
       "    <tr>\n",
       "      <th>102816</th>\n",
       "      <td>-3.936086</td>\n",
       "      <td>-13.713781</td>\n",
       "      <td>0.440757</td>\n",
       "      <td>7.224706</td>\n",
       "      <td>-7.231863</td>\n",
       "      <td>14.321857</td>\n",
       "      <td>14.409123</td>\n",
       "      <td>25.891070</td>\n",
       "      <td>-28.176365</td>\n",
       "      <td>-7.206838</td>\n",
       "      <td>...</td>\n",
       "      <td>13.862314</td>\n",
       "      <td>-24.663070</td>\n",
       "      <td>31.071793</td>\n",
       "      <td>50.037080</td>\n",
       "      <td>-7.860803</td>\n",
       "      <td>-11.585748</td>\n",
       "      <td>10.446808</td>\n",
       "      <td>34.359505</td>\n",
       "      <td>-0.923067</td>\n",
       "      <td>-11.937833</td>\n",
       "    </tr>\n",
       "    <tr>\n",
       "      <th>103010</th>\n",
       "      <td>12.613755</td>\n",
       "      <td>-34.420734</td>\n",
       "      <td>-22.663277</td>\n",
       "      <td>-6.268870</td>\n",
       "      <td>4.716085</td>\n",
       "      <td>4.328938</td>\n",
       "      <td>1.569416</td>\n",
       "      <td>-11.908451</td>\n",
       "      <td>-20.075730</td>\n",
       "      <td>2.425420</td>\n",
       "      <td>...</td>\n",
       "      <td>11.366015</td>\n",
       "      <td>1.884521</td>\n",
       "      <td>-14.526294</td>\n",
       "      <td>30.037224</td>\n",
       "      <td>3.845921</td>\n",
       "      <td>-20.383553</td>\n",
       "      <td>35.460747</td>\n",
       "      <td>24.489498</td>\n",
       "      <td>3.680392</td>\n",
       "      <td>5.853808</td>\n",
       "    </tr>\n",
       "    <tr>\n",
       "      <th>...</th>\n",
       "      <td>...</td>\n",
       "      <td>...</td>\n",
       "      <td>...</td>\n",
       "      <td>...</td>\n",
       "      <td>...</td>\n",
       "      <td>...</td>\n",
       "      <td>...</td>\n",
       "      <td>...</td>\n",
       "      <td>...</td>\n",
       "      <td>...</td>\n",
       "      <td>...</td>\n",
       "      <td>...</td>\n",
       "      <td>...</td>\n",
       "      <td>...</td>\n",
       "      <td>...</td>\n",
       "      <td>...</td>\n",
       "      <td>...</td>\n",
       "      <td>...</td>\n",
       "      <td>...</td>\n",
       "      <td>...</td>\n",
       "      <td>...</td>\n",
       "    </tr>\n",
       "    <tr>\n",
       "      <th>951457</th>\n",
       "      <td>-9.213236</td>\n",
       "      <td>14.012086</td>\n",
       "      <td>-20.620052</td>\n",
       "      <td>5.089175</td>\n",
       "      <td>18.450748</td>\n",
       "      <td>33.769283</td>\n",
       "      <td>-1.473480</td>\n",
       "      <td>18.994100</td>\n",
       "      <td>-4.168246</td>\n",
       "      <td>13.441928</td>\n",
       "      <td>...</td>\n",
       "      <td>-31.685205</td>\n",
       "      <td>-3.730467</td>\n",
       "      <td>20.245354</td>\n",
       "      <td>-22.583456</td>\n",
       "      <td>1.183132</td>\n",
       "      <td>-12.150540</td>\n",
       "      <td>12.894477</td>\n",
       "      <td>8.930244</td>\n",
       "      <td>0.759207</td>\n",
       "      <td>22.323244</td>\n",
       "    </tr>\n",
       "    <tr>\n",
       "      <th>969476</th>\n",
       "      <td>-6.729501</td>\n",
       "      <td>33.766293</td>\n",
       "      <td>18.227950</td>\n",
       "      <td>1.432883</td>\n",
       "      <td>1.874106</td>\n",
       "      <td>-4.915560</td>\n",
       "      <td>8.635887</td>\n",
       "      <td>-2.436374</td>\n",
       "      <td>-23.471851</td>\n",
       "      <td>-24.710108</td>\n",
       "      <td>...</td>\n",
       "      <td>-6.066942</td>\n",
       "      <td>4.580464</td>\n",
       "      <td>37.802998</td>\n",
       "      <td>-11.099542</td>\n",
       "      <td>5.636337</td>\n",
       "      <td>9.200133</td>\n",
       "      <td>-8.459438</td>\n",
       "      <td>-2.797182</td>\n",
       "      <td>3.187408</td>\n",
       "      <td>11.769623</td>\n",
       "    </tr>\n",
       "    <tr>\n",
       "      <th>971160</th>\n",
       "      <td>-14.480160</td>\n",
       "      <td>19.488924</td>\n",
       "      <td>26.778847</td>\n",
       "      <td>-4.133664</td>\n",
       "      <td>1.183985</td>\n",
       "      <td>-13.628285</td>\n",
       "      <td>29.092028</td>\n",
       "      <td>-8.641311</td>\n",
       "      <td>-22.127596</td>\n",
       "      <td>-30.259220</td>\n",
       "      <td>...</td>\n",
       "      <td>10.295083</td>\n",
       "      <td>16.825726</td>\n",
       "      <td>25.331064</td>\n",
       "      <td>21.541079</td>\n",
       "      <td>24.415850</td>\n",
       "      <td>35.470130</td>\n",
       "      <td>0.084346</td>\n",
       "      <td>-10.283680</td>\n",
       "      <td>-35.766727</td>\n",
       "      <td>11.035335</td>\n",
       "    </tr>\n",
       "    <tr>\n",
       "      <th>973770</th>\n",
       "      <td>-27.317194</td>\n",
       "      <td>2.712895</td>\n",
       "      <td>4.721283</td>\n",
       "      <td>-5.671558</td>\n",
       "      <td>-7.190698</td>\n",
       "      <td>-24.014183</td>\n",
       "      <td>19.671875</td>\n",
       "      <td>18.559599</td>\n",
       "      <td>-38.365990</td>\n",
       "      <td>-8.371919</td>\n",
       "      <td>...</td>\n",
       "      <td>-5.396742</td>\n",
       "      <td>-2.548109</td>\n",
       "      <td>18.998468</td>\n",
       "      <td>6.146805</td>\n",
       "      <td>-28.111609</td>\n",
       "      <td>-10.767819</td>\n",
       "      <td>3.124244</td>\n",
       "      <td>10.710945</td>\n",
       "      <td>-20.463324</td>\n",
       "      <td>-33.347180</td>\n",
       "    </tr>\n",
       "    <tr>\n",
       "      <th>995174</th>\n",
       "      <td>-12.497343</td>\n",
       "      <td>3.477737</td>\n",
       "      <td>2.099564</td>\n",
       "      <td>-3.910890</td>\n",
       "      <td>-13.776748</td>\n",
       "      <td>17.323105</td>\n",
       "      <td>21.536303</td>\n",
       "      <td>46.127710</td>\n",
       "      <td>-33.543354</td>\n",
       "      <td>14.534967</td>\n",
       "      <td>...</td>\n",
       "      <td>-11.808352</td>\n",
       "      <td>-32.237680</td>\n",
       "      <td>42.277233</td>\n",
       "      <td>18.294918</td>\n",
       "      <td>-11.948303</td>\n",
       "      <td>-30.219198</td>\n",
       "      <td>-5.735134</td>\n",
       "      <td>19.225481</td>\n",
       "      <td>0.617587</td>\n",
       "      <td>-8.114089</td>\n",
       "    </tr>\n",
       "  </tbody>\n",
       "</table>\n",
       "<p>286 rows × 256 columns</p>\n",
       "</div>"
      ],
      "text/plain": [
       "             dim1       dim2       dim3      dim4       dim5       dim6  \\\n",
       "ID                                                                        \n",
       "100307 -16.748257  20.017857  22.943806  6.170119 -24.617538  11.035006   \n",
       "100408   7.979775   2.566665  -4.479918  5.584825   2.888993  10.172155   \n",
       "102311  12.542753 -13.895190 -12.554214  9.006349  12.728869   6.208658   \n",
       "102816  -3.936086 -13.713781   0.440757  7.224706  -7.231863  14.321857   \n",
       "103010  12.613755 -34.420734 -22.663277 -6.268870   4.716085   4.328938   \n",
       "...           ...        ...        ...       ...        ...        ...   \n",
       "951457  -9.213236  14.012086 -20.620052  5.089175  18.450748  33.769283   \n",
       "969476  -6.729501  33.766293  18.227950  1.432883   1.874106  -4.915560   \n",
       "971160 -14.480160  19.488924  26.778847 -4.133664   1.183985 -13.628285   \n",
       "973770 -27.317194   2.712895   4.721283 -5.671558  -7.190698 -24.014183   \n",
       "995174 -12.497343   3.477737   2.099564 -3.910890 -13.776748  17.323105   \n",
       "\n",
       "             dim7       dim8       dim9      dim10  ...     dim247     dim248  \\\n",
       "ID                                                  ...                         \n",
       "100307  17.639120  22.092905 -19.293022  21.130766  ...  -4.904584 -24.107147   \n",
       "100408  -6.524756  16.606089 -20.890207  -6.708186  ...  13.603450   8.077349   \n",
       "102311  11.171762 -14.965119   3.508170 -16.655313  ...  14.057508  18.090694   \n",
       "102816  14.409123  25.891070 -28.176365  -7.206838  ...  13.862314 -24.663070   \n",
       "103010   1.569416 -11.908451 -20.075730   2.425420  ...  11.366015   1.884521   \n",
       "...           ...        ...        ...        ...  ...        ...        ...   \n",
       "951457  -1.473480  18.994100  -4.168246  13.441928  ... -31.685205  -3.730467   \n",
       "969476   8.635887  -2.436374 -23.471851 -24.710108  ...  -6.066942   4.580464   \n",
       "971160  29.092028  -8.641311 -22.127596 -30.259220  ...  10.295083  16.825726   \n",
       "973770  19.671875  18.559599 -38.365990  -8.371919  ...  -5.396742  -2.548109   \n",
       "995174  21.536303  46.127710 -33.543354  14.534967  ... -11.808352 -32.237680   \n",
       "\n",
       "           dim249     dim250     dim251     dim252     dim253     dim254  \\\n",
       "ID                                                                         \n",
       "100307  59.987106  28.528332   4.711964 -19.726970 -18.661960  14.100641   \n",
       "100408   8.551291  11.359354   7.341140 -12.470983   3.920549   7.628952   \n",
       "102311  42.222553  26.097443   6.976953  16.303880  10.356030  11.254222   \n",
       "102816  31.071793  50.037080  -7.860803 -11.585748  10.446808  34.359505   \n",
       "103010 -14.526294  30.037224   3.845921 -20.383553  35.460747  24.489498   \n",
       "...           ...        ...        ...        ...        ...        ...   \n",
       "951457  20.245354 -22.583456   1.183132 -12.150540  12.894477   8.930244   \n",
       "969476  37.802998 -11.099542   5.636337   9.200133  -8.459438  -2.797182   \n",
       "971160  25.331064  21.541079  24.415850  35.470130   0.084346 -10.283680   \n",
       "973770  18.998468   6.146805 -28.111609 -10.767819   3.124244  10.710945   \n",
       "995174  42.277233  18.294918 -11.948303 -30.219198  -5.735134  19.225481   \n",
       "\n",
       "           dim255     dim256  \n",
       "ID                            \n",
       "100307  -8.534913 -17.353514  \n",
       "100408  -4.457305  -3.252011  \n",
       "102311 -24.750944 -20.916480  \n",
       "102816  -0.923067 -11.937833  \n",
       "103010   3.680392   5.853808  \n",
       "...           ...        ...  \n",
       "951457   0.759207  22.323244  \n",
       "969476   3.187408  11.769623  \n",
       "971160 -35.766727  11.035335  \n",
       "973770 -20.463324 -33.347180  \n",
       "995174   0.617587  -8.114089  \n",
       "\n",
       "[286 rows x 256 columns]"
      ]
     },
     "execution_count": 22,
     "metadata": {},
     "output_type": "execute_result"
    }
   ],
   "source": [
    "embedding.loc[MZ_ID]"
   ]
  },
  {
   "cell_type": "markdown",
   "metadata": {},
   "source": [
    "### Calculation of the distances between the different twins"
   ]
  },
  {
   "cell_type": "markdown",
   "metadata": {},
   "source": [
    "First, the monozygous twins."
   ]
  },
  {
   "cell_type": "code",
   "execution_count": 23,
   "metadata": {},
   "outputs": [
    {
     "name": "stdout",
     "output_type": "stream",
     "text": [
      "The average cosine distance for the monozygous twin in the 256 dim latent space is 0.5641880794661562\n",
      "The average euclidean distance for the monozygous twin in the 256 dim latent space is 123404.04045477332\n"
     ]
    }
   ],
   "source": [
    "zygot_dist = []\n",
    "MZ_eucli_dist = []\n",
    "\n",
    "for twin_pair in list_MZ_twin_id:\n",
    "    twin0 = twin_pair[0]\n",
    "    twin1 = twin_pair[1]\n",
    "    zygot_dist.append((distance.pdist([embedding.loc[twin0].values, embedding.loc[twin1].values], 'cosine'))[0])\n",
    "    MZ_eucli_dist.append(distance.pdist([embedding.loc[twin0].values, embedding.loc[twin1].values], 'sqeuclidean')[0])\n",
    "\n",
    "zygot_mean_dist = np.sum(zygot_dist)/len(zygot_dist)\n",
    "MZ_mean_eucli_dist = np.sum(MZ_eucli_dist)/len(MZ_eucli_dist)\n",
    "\n",
    "print(f'The average cosine distance for the monozygous twin in the 256 dim latent space is {zygot_mean_dist}')\n",
    "print(f'The average euclidean distance for the monozygous twin in the 256 dim latent space is {MZ_mean_eucli_dist}')"
   ]
  },
  {
   "cell_type": "markdown",
   "metadata": {},
   "source": [
    "Then, the dizygous twins."
   ]
  },
  {
   "cell_type": "code",
   "execution_count": 24,
   "metadata": {},
   "outputs": [
    {
     "name": "stdout",
     "output_type": "stream",
     "text": [
      "The average cosine distance for the dizygous twin in the 256 dim latent space is 0.5538355271262687\n",
      "The average euclidean distance for the dizygous twin in the 256 dim latent space is 121325.45930288218\n"
     ]
    }
   ],
   "source": [
    "DZ_dist = []\n",
    "DZ_eucli_dist = []\n",
    "\n",
    "for twin_pair in list_DZ_twin_id:\n",
    "    twin0 = twin_pair[0]\n",
    "    twin1 = twin_pair[1]\n",
    "    DZ_dist.append(distance.pdist([embedding.loc[twin0].values, embedding.loc[twin1].values], 'cosine')[0])\n",
    "    DZ_eucli_dist.append(distance.pdist([embedding.loc[twin0].values, embedding.loc[twin1].values], 'sqeuclidean')[0])\n",
    "\n",
    "DZ_mean_cos_dist = np.sum(DZ_dist)/len(DZ_dist)\n",
    "DZ_mean_eucli_dist = np.sum(DZ_eucli_dist)/len(DZ_eucli_dist)\n",
    "\n",
    "print(f'The average cosine distance for the dizygous twin in the 256 dim latent space is {DZ_mean_cos_dist}')\n",
    "print(f'The average euclidean distance for the dizygous twin in the 256 dim latent space is {DZ_mean_eucli_dist}')"
   ]
  },
  {
   "cell_type": "markdown",
   "metadata": {},
   "source": [
    "Then, we can get the average distance between all the representations."
   ]
  },
  {
   "cell_type": "code",
   "execution_count": 25,
   "metadata": {},
   "outputs": [],
   "source": [
    "dist_overall = distance.pdist(embedding.values, 'cosine')\n",
    "eucli_dist_overall = distance.pdist(embedding.values, 'sqeuclidean')"
   ]
  },
  {
   "cell_type": "code",
   "execution_count": 29,
   "metadata": {},
   "outputs": [
    {
     "data": {
      "image/png": "[encoded data removed]",
      "text/plain": [
       "<Figure size 1296x576 with 1 Axes>"
      ]
     },
     "metadata": {
      "needs_background": "light"
     },
     "output_type": "display_data"
    }
   ],
   "source": [
    "plt.figure(figsize=(18,8))\n",
    "plt.hist(dist_overall, bins=100, density=True, label='All', color='cornflowerblue')\n",
    "plt.hist(zygot_dist, bins=100, density=True, alpha=0.5, label='MZ', color='orange')\n",
    "plt.hist(DZ_dist, bins=100, density=True, alpha=0.4, label='DZ', color='green')\n",
    "plt.xlabel('cosine distance')\n",
    "plt.legend()\n",
    "plt.show()"
   ]
  },
  {
   "cell_type": "code",
   "execution_count": 30,
   "metadata": {},
   "outputs": [
    {
     "data": {
      "image/png": "[encoded data removed]",
      "text/plain": [
       "<Figure size 432x288 with 1 Axes>"
      ]
     },
     "metadata": {
      "needs_background": "light"
     },
     "output_type": "display_data"
    }
   ],
   "source": [
    "values_all_cos, base_all_cos = np.histogram(dist_overall, bins=80)\n",
    "cumulative_all = np.cumsum(values_all_cos)\n",
    "values_MZ, base_MZ_cos = np.histogram(zygot_dist, bins=80)\n",
    "cumulative_MZ = np.cumsum(values_MZ)\n",
    "values_DZ, base_DZ = np.histogram(DZ_dist, bins=80)\n",
    "cumulative_DZ = np.cumsum(values_DZ)\n",
    "plt.plot(base_all_cos[:-1], cumulative_all/len(dist_overall), c='cornflowerblue', label='All')\n",
    "plt.plot(base_MZ_cos[:-1], cumulative_MZ/len(zygot_dist), c='orange', label='MZ')\n",
    "plt.plot(base_DZ[:-1], cumulative_DZ/len(DZ_dist), c='green', label='DZ')\n",
    "plt.title(f'Cumulative function for the average distance between the subjects in HCP embeddings')\n",
    "plt.xlabel('Cosine Distance')\n",
    "plt.legend()\n",
    "plt.show()"
   ]
  },
  {
   "cell_type": "code",
   "execution_count": 31,
   "metadata": {},
   "outputs": [
    {
     "data": {
      "text/plain": [
       "0.6121407449259598"
      ]
     },
     "execution_count": 31,
     "metadata": {},
     "output_type": "execute_result"
    }
   ],
   "source": [
    "all_cos_dist_mean = dist_overall.sum()/len(dist_overall)\n",
    "all_cos_dist_mean"
   ]
  },
  {
   "cell_type": "code",
   "execution_count": 32,
   "metadata": {},
   "outputs": [
    {
     "data": {
      "text/plain": [
       "134027.5545263499"
      ]
     },
     "execution_count": 32,
     "metadata": {},
     "output_type": "execute_result"
    }
   ],
   "source": [
    "all_eucli_dist_mean = eucli_dist_overall.sum()/len(eucli_dist_overall)\n",
    "all_eucli_dist_mean"
   ]
  },
  {
   "cell_type": "markdown",
   "metadata": {},
   "source": [
    "And compute the relative difference between the average distance and the specific twins' distances. "
   ]
  },
  {
   "cell_type": "code",
   "execution_count": 33,
   "metadata": {},
   "outputs": [
    {
     "data": {
      "text/plain": [
       "0.07833601317553793"
      ]
     },
     "execution_count": 33,
     "metadata": {},
     "output_type": "execute_result"
    }
   ],
   "source": [
    "(all_cos_dist_mean - zygot_mean_dist)/all_cos_dist_mean"
   ]
  },
  {
   "cell_type": "code",
   "execution_count": 34,
   "metadata": {},
   "outputs": [
    {
     "data": {
      "text/plain": [
       "0.07926365670939702"
      ]
     },
     "execution_count": 34,
     "metadata": {},
     "output_type": "execute_result"
    }
   ],
   "source": [
    "(all_eucli_dist_mean - MZ_mean_eucli_dist)/all_eucli_dist_mean"
   ]
  },
  {
   "cell_type": "code",
   "execution_count": 35,
   "metadata": {},
   "outputs": [
    {
     "data": {
      "text/plain": [
       "0.09524805901744589"
      ]
     },
     "execution_count": 35,
     "metadata": {},
     "output_type": "execute_result"
    }
   ],
   "source": [
    "(all_cos_dist_mean - DZ_mean_cos_dist)/all_cos_dist_mean"
   ]
  },
  {
   "cell_type": "code",
   "execution_count": 36,
   "metadata": {},
   "outputs": [
    {
     "data": {
      "text/plain": [
       "0.09477226730247088"
      ]
     },
     "execution_count": 36,
     "metadata": {},
     "output_type": "execute_result"
    }
   ],
   "source": [
    "(all_eucli_dist_mean - DZ_mean_eucli_dist)/all_eucli_dist_mean"
   ]
  },
  {
   "cell_type": "markdown",
   "metadata": {},
   "source": [
    "## Definition of a function to compare different embedded spaces for HCP"
   ]
  },
  {
   "cell_type": "code",
   "execution_count": 91,
   "metadata": {},
   "outputs": [],
   "source": [
    "def visual_dist_ebd(embedding, metric):\n",
    "    '''\n",
    "    Parameters\n",
    "    ----------\n",
    "    embedding : df\n",
    "        The dataframe which contains the embedded space\n",
    "    metric : str\n",
    "        The distance metric to use\n",
    "\n",
    "    return\n",
    "    ------\n",
    "    Plot the distribution and the cumulative function for all the subjects, \n",
    "    the pairs of monozygotic twins and the pairs of dizygotic twins, given\n",
    "    the sex.\n",
    "    '''\n",
    "    sex = [['F'], ['M'], ['F', 'M']]\n",
    "    name_sex = ['F', 'M', ''] #['F', 'M', 'F & M']\n",
    "\n",
    "    dic_id = {}\n",
    "\n",
    "    for i, sexi in enumerate(sex):\n",
    "\n",
    "        HCP_info_sexi = HCP_info[HCP_info['Gender'].isin(sexi)] # get the df only for 'M' or 'F'\n",
    "        sexi_id = HCP_info_sexi['Subject'].to_numpy() # get only the id of the subject (for the given sex)\n",
    "        dist_overall = distance.pdist(embedding.loc[sexi_id].to_numpy(), metric)\n",
    "        print(f'Average {metric} distance for the all subjects {name_sex[i]} in the {embedding.shape[1]} dim latent space is: {dist_overall.mean()}')\n",
    "\n",
    "        dic_id[f'{name_sex[i]}_overall_dist'] = dist_overall\n",
    "\n",
    "        list_siblings_id = []\n",
    "\n",
    "        for familiy_id in HCP_info_sexi['Family_ID'].unique():\n",
    "            # we start by checking if there are two siblings (or more) in the same family\n",
    "            if HCP_info_sexi['Family_ID'].isin([familiy_id]).sum(axis=0) >= 2:\n",
    "                # get the ID of the siblings that have the same family ID\n",
    "                siblings = (HCP_info_sexi[HCP_info_sexi['Family_ID'].isin([familiy_id])])\n",
    "                siblings = siblings[siblings['ZygosityGT'] == ' ']\n",
    "                if len(siblings) >=2:\n",
    "                    list_siblings_id.append(siblings['Subject'].to_numpy())\n",
    "\n",
    "        siblings_dist = []\n",
    "        for siblings in list_siblings_id:\n",
    "            siblings_dist.append((distance.pdist(embedding.loc[siblings].to_numpy(), metric))[0])\n",
    "        \n",
    "        siblings_mean_dist = np.mean(siblings_dist)\n",
    "\n",
    "        print(f'Average {metric} distance for the {name_sex[i]} siblings (not twins) in the {embedding.shape[1]} dim latent space is : {siblings_mean_dist}')\n",
    "        dic_id[f'{name_sex[i]}_siblings_dist'] = siblings_dist\n",
    "\n",
    "        for zygot in ['MZ', 'DZ']:\n",
    "            # to get the number of unique family ID\n",
    "            HCP_info_zygot = HCP_info_sexi[HCP_info_sexi['ZygosityGT'] == zygot]\n",
    "            # get the twin pairs depending on the family_ID \n",
    "            list_zygot_twin_id = []\n",
    "\n",
    "            for familiy_id in HCP_info_zygot['Family_ID'].unique():\n",
    "                # we start by checking if there are two twins in the same family\n",
    "                if HCP_info_zygot['Family_ID'].isin([familiy_id]).sum(axis=0) == 2:\n",
    "                    # get the ID of the --zygous twins that have the same family ID\n",
    "                    HCP_target_ID = HCP_info_zygot[HCP_info_zygot['Family_ID'].isin([familiy_id])]\n",
    "                    list_zygot_twin_id.append(HCP_target_ID['Subject'].to_numpy())\n",
    "\n",
    "            zygot_dist = []\n",
    "\n",
    "\n",
    "            for twin_pair in list_zygot_twin_id:\n",
    "                zygot_dist.append((distance.pdist(embedding.loc[twin_pair].to_numpy(), metric))[0])\n",
    "\n",
    "            zygot_mean_dist = np.mean(zygot_dist)\n",
    "\n",
    "            print(f'Average {metric} distance for the {name_sex[i]} {zygot} twin in the {embedding.shape[1]} dim latent space is : {zygot_mean_dist}')\n",
    "            dic_id[f'{name_sex[i]}_{zygot}_mean_dist'] = zygot_mean_dist\n",
    "            dic_id[f'{name_sex[i]}_{zygot}_dist'] = zygot_dist\n",
    "\n",
    "    #plt.figure(figsize=(24,8))\n",
    "    for i in range(0,3):\n",
    "        #plt.subplot(2,3,i+1)\n",
    "        plt.figure(figsize=(12,4))\n",
    "        plt.hist(dic_id[f'{name_sex[i]}_overall_dist'], bins=100, density=True, label=f'All {name_sex[i]}', color='cornflowerblue')\n",
    "        plt.hist(dic_id[f'{name_sex[i]}_MZ_dist'], bins=100, density=True, alpha=0.5, label=f'MZ {name_sex[i]}', color='orange')\n",
    "        plt.hist(dic_id[f'{name_sex[i]}_DZ_dist'], bins=100, density=True, alpha=0.4, label=f'DZ {name_sex[i]}', color='green')\n",
    "        plt.hist(dic_id[f'{name_sex[i]}_siblings_dist'], bins=100, density=True, alpha=0.4, label=f'Siblings {name_sex[i]}', color='darkorchid')\n",
    "        plt.xlabel(f'{metric} distance')\n",
    "        plt.legend()\n",
    "        plt.show()\n",
    "\n",
    "        plt.figure(figsize=(12,4))\n",
    "        values_all, base_all = np.histogram(dic_id[f'{name_sex[i]}_overall_dist'], bins=80)\n",
    "        cumulative_all = np.cumsum(values_all)\n",
    "        values_MZ, base_MZ = np.histogram(dic_id[f'{name_sex[i]}_MZ_dist'], bins=60)\n",
    "        cumulative_MZ = np.cumsum(values_MZ)\n",
    "        values_DZ, base_DZ = np.histogram(dic_id[f'{name_sex[i]}_DZ_dist'], bins=60)\n",
    "        cumulative_DZ = np.cumsum(values_DZ)\n",
    "        values_siblings, base_siblings = np.histogram(dic_id[f'{name_sex[i]}_siblings_dist'], bins=60)\n",
    "        cumulative_siblings = np.cumsum(values_siblings)\n",
    "        #plt.subplot(2,3,i+4)\n",
    "        plt.plot(base_all[:-1], cumulative_all/len(dic_id[f'{name_sex[i]}_overall_dist']), c='cornflowerblue', label=f'All {name_sex[i]}')\n",
    "        plt.plot(base_MZ[:-1], cumulative_MZ/len(dic_id[f'{name_sex[i]}_MZ_dist']), c='orange', label=f'MZ {name_sex[i]}')\n",
    "        plt.plot(base_DZ[:-1], cumulative_DZ/len(dic_id[f'{name_sex[i]}_DZ_dist']), c='green', label=f'DZ {name_sex[i]}')\n",
    "        plt.plot(base_siblings[:-1], cumulative_siblings/len(dic_id[f'{name_sex[i]}_siblings_dist']), c='darkorchid', label=f'Siblings {name_sex[i]}')\n",
    "        plt.xlabel(f'Cumulative function for the average distance between the subjects in HCP embeddings')\n",
    "        plt.legend()\n",
    "        plt.show()\n",
    "        \n",
    "    #plt.show()\n",
    "\n",
    "    return dic_id\n",
    "    "
   ]
  },
  {
   "cell_type": "code",
   "execution_count": 108,
   "metadata": {},
   "outputs": [],
   "source": [
    "# Embeddings for the CINGULATE region\n",
    "\n",
    "#embedding = pd.read_csv(\"/neurospin/dico/adufournet/Runs/02_Heritability_Left_PCS_HCP/Output/2024-05-13/09-33-29_206/hcp_epoch60_embeddings/full_embeddings.csv\", index_col=0)\n",
    "#embedding = pd.read_csv(\"/neurospin/dico/adufournet/Runs/01_Heritability_Right_PCS_HCP/Input/hcp_cingulate_full_embeddings.csv\", index_col=0)\n",
    "#embedding = pd.read_csv('/neurospin/dico/adufournet/Runs/04_Heritability_Right_PCS_HCP_dim10/Output/2024-05-16/14-59-55_124/HCP_epoch100_embeddings/full_embeddings.csv', index_col=0)\n",
    "#embedding = pd.read_csv('/neurospin/dico/adufournet/Runs/05_Heritability_Left_PCS_HCP_dim10/Output/2024-05-16/18-00-43_101/HCP_epoch100_embeddings/full_embeddings.csv', index_col=0)\n",
    "\n",
    "#embedding = pd.read_csv('/neurospin/dico/data/deep_folding/current/models/Champollion_V0/CINGULATE_left/2024-07-16/16-58-04_1/hcp_random_epoch80_embeddings/full_embeddings.csv', index_col=0)\n",
    "#embedding = pd.read_csv('/neurospin/dico/data/deep_folding/current/models/Champollion_V0/CINGULATE_right/09-52-22_75/hcp_random_embeddings/full_embeddings.csv', index_col=0)"
   ]
  },
  {
   "cell_type": "code",
   "execution_count": 156,
   "metadata": {},
   "outputs": [],
   "source": [
    "# Embeddings for the ORBITAL region\n",
    "\n",
    "#embedding = pd.read_csv(\"/neurospin/dico/adufournet/Runs/08_Heritability_Left_Orbital_HCP_dim256/Output/16-19-26_238/HCP_random_epoch50_embeddings/full_embeddings.csv\", index_col=0)\n",
    "#embedding = pd.read_csv(\"/neurospin/dico/adufournet/Runs/08_Heritability_Left_Orbital_HCP_dim256/Output/20-56-02_0/HCP_random_epoch70_embeddings/full_embeddings.csv\", index_col=0)\n",
    "#embedding = pd.read_csv(\"/neurospin/dico/adufournet/Runs/08_Heritability_Left_Orbital_HCP_dim256/Output/20-56-02_1/HCP_random_epoch70_embeddings/full_embeddings.csv\", index_col=0)\n",
    "#embedding = pd.read_csv(\"/neurospin/dico/adufournet/Runs/08_Heritability_Left_Orbital_HCP_dim256/Output/20-56-02_2/HCP_random_epoch70_embeddings/full_embeddings.csv\", index_col=0)\n",
    "#embedding = pd.read_csv(\"/neurospin/dico/adufournet/Runs/08_Heritability_Left_Orbital_HCP_dim256/Output/20-56-02_3/HCP_random_epoch70_embeddings/full_embeddings.csv\", index_col=0)\n",
    "#embedding = pd.read_csv(\"/neurospin/dico/adufournet/Runs/08_Heritability_Left_Orbital_HCP_dim256/Output/20-03-01_10/HCP_random_epoch50_embeddings/full_embeddings.csv\", index_col=0)\n",
    "\n",
    "#embedding = pd.read_csv(\"/neurospin/dico/data/deep_folding/current/models/Champollion_V0/ORBITAL_right/15-53-41_191/hcp_random_embeddings/full_embeddings.csv\", index_col=0)\n",
    "\n",
    "embedding = pd.read_csv('/neurospin/dico/data/deep_folding/current/models/Champollion_V0/ORBITAL_left/20-56-02_1/hcp_random_embeddings/full_embeddings.csv',  index_col=0)\n"
   ]
  },
  {
   "cell_type": "code",
   "execution_count": 157,
   "metadata": {},
   "outputs": [
    {
     "data": {
      "text/plain": [
       "(1152, 256)"
      ]
     },
     "execution_count": 157,
     "metadata": {},
     "output_type": "execute_result"
    }
   ],
   "source": [
    "embedding.shape"
   ]
  },
  {
   "cell_type": "code",
   "execution_count": 158,
   "metadata": {},
   "outputs": [],
   "source": [
    "embedding = embedding[~embedding.index.duplicated(keep='first')]"
   ]
  },
  {
   "cell_type": "code",
   "execution_count": 159,
   "metadata": {},
   "outputs": [
    {
     "data": {
      "text/plain": [
       "(1113, 256)"
      ]
     },
     "execution_count": 159,
     "metadata": {},
     "output_type": "execute_result"
    }
   ],
   "source": [
    "embedding.shape"
   ]
  },
  {
   "cell_type": "code",
   "execution_count": 160,
   "metadata": {},
   "outputs": [
    {
     "name": "stdout",
     "output_type": "stream",
     "text": [
      "Average cosine distance for the all subjects F in the 256 dim latent space is: 0.6161066370766455\n",
      "Average cosine distance for the F siblings (not twins) in the 256 dim latent space is : 0.5455125222591325\n",
      "Average cosine distance for the F MZ twin in the 256 dim latent space is : 0.49381022175951983\n",
      "Average cosine distance for the F DZ twin in the 256 dim latent space is : 0.5567745567044342\n",
      "Average cosine distance for the all subjects M in the 256 dim latent space is: 0.5980291922046281\n",
      "Average cosine distance for the M siblings (not twins) in the 256 dim latent space is : 0.5516072319487108\n",
      "Average cosine distance for the M MZ twin in the 256 dim latent space is : 0.47616248836356445\n",
      "Average cosine distance for the M DZ twin in the 256 dim latent space is : 0.5808540390953366\n",
      "Average cosine distance for the all subjects  in the 256 dim latent space is: 0.612675974343048\n",
      "Average cosine distance for the  siblings (not twins) in the 256 dim latent space is : 0.5404010441284065\n",
      "Average cosine distance for the  MZ twin in the 256 dim latent space is : 0.4865209405742338\n",
      "Average cosine distance for the  DZ twin in the 256 dim latent space is : 0.5659186639414856\n"
     ]
    },
    {
     "data": {
      "image/png": "[encoded data removed]",
      "text/plain": [
       "<Figure size 864x288 with 1 Axes>"
      ]
     },
     "metadata": {
      "needs_background": "light"
     },
     "output_type": "display_data"
    },
    {
     "data": {
      "image/png": "[encoded data removed]",
      "text/plain": [
       "<Figure size 864x288 with 1 Axes>"
      ]
     },
     "metadata": {
      "needs_background": "light"
     },
     "output_type": "display_data"
    },
    {
     "data": {
      "image/png": "[encoded data removed]",
      "text/plain": [
       "<Figure size 864x288 with 1 Axes>"
      ]
     },
     "metadata": {
      "needs_background": "light"
     },
     "output_type": "display_data"
    },
    {
     "data": {
      "image/png": "[encoded data removed]",
      "text/plain": [
       "<Figure size 864x288 with 1 Axes>"
      ]
     },
     "metadata": {
      "needs_background": "light"
     },
     "output_type": "display_data"
    },
    {
     "data": {
      "image/png": "[encoded data removed]",
      "text/plain": [
       "<Figure size 864x288 with 1 Axes>"
      ]
     },
     "metadata": {
      "needs_background": "light"
     },
     "output_type": "display_data"
    },
    {
     "data": {
      "image/png": "[encoded data removed]",
      "text/plain": [
       "<Figure size 864x288 with 1 Axes>"
      ]
     },
     "metadata": {
      "needs_background": "light"
     },
     "output_type": "display_data"
    }
   ],
   "source": [
    "dic_rslt = visual_dist_ebd(embedding, 'cosine')# 'chebyshev', 'euclidean', 'cosine'"
   ]
  },
  {
   "cell_type": "markdown",
   "metadata": {},
   "source": [
    "### Test et p-value"
   ]
  },
  {
   "cell_type": "code",
   "execution_count": 151,
   "metadata": {},
   "outputs": [
    {
     "data": {
      "text/plain": [
       "dict_keys(['F_overall_dist', 'F_siblings_dist', 'F_MZ_mean_dist', 'F_MZ_dist', 'F_DZ_mean_dist', 'F_DZ_dist', 'M_overall_dist', 'M_siblings_dist', 'M_MZ_mean_dist', 'M_MZ_dist', 'M_DZ_mean_dist', 'M_DZ_dist', '_overall_dist', '_siblings_dist', '_MZ_mean_dist', '_MZ_dist', '_DZ_mean_dist', '_DZ_dist'])"
      ]
     },
     "execution_count": 151,
     "metadata": {},
     "output_type": "execute_result"
    }
   ],
   "source": [
    "dic_rslt.keys()"
   ]
  },
  {
   "cell_type": "code",
   "execution_count": 161,
   "metadata": {},
   "outputs": [
    {
     "data": {
      "text/plain": [
       "79"
      ]
     },
     "execution_count": 161,
     "metadata": {},
     "output_type": "execute_result"
    }
   ],
   "source": [
    "len(dic_rslt['_overall_dist'])\n",
    "len(dic_rslt['_siblings_dist'])\n",
    "len(dic_rslt['_MZ_dist'])\n",
    "len(dic_rslt['_DZ_dist'])"
   ]
  },
  {
   "cell_type": "code",
   "execution_count": 162,
   "metadata": {},
   "outputs": [],
   "source": [
    "from scipy.stats import kruskal"
   ]
  },
  {
   "cell_type": "code",
   "execution_count": 163,
   "metadata": {},
   "outputs": [
    {
     "name": "stderr",
     "output_type": "stream",
     "text": [
      "/tmp/ipykernel_290988/1440810673.py:19: FutureWarning: \n",
      "\n",
      "Passing `palette` without assigning `hue` is deprecated and will be removed in v0.14.0. Assign the `x` variable to `hue` and set `legend=False` for the same effect.\n",
      "\n",
      "  ax = sns.boxplot(x='Category', y='Distance', data=df, order=labels, palette=[colors[label] for label in labels])\n"
     ]
    },
    {
     "name": "stdout",
     "output_type": "stream",
     "text": [
      "p-value between ('overall', 'siblings'): 2.418918496059239e-08\n",
      "p-value between ('overall', 'MZ'): 8.538410396395282e-16\n",
      "p-value between ('overall', 'DZ'): 0.023393787059651797\n"
     ]
    },
    {
     "data": {
      "image/png": "[encoded data removed]",
      "text/plain": [
       "<Figure size 864x576 with 1 Axes>"
      ]
     },
     "metadata": {
      "needs_background": "light"
     },
     "output_type": "display_data"
    }
   ],
   "source": [
    "\n",
    "# Convert data to a DataFrame for use with Seaborn\n",
    "data = []\n",
    "labels = ['overall', 'siblings', 'MZ', 'DZ']\n",
    "\n",
    "for label in labels:\n",
    "    data.extend([(label, value) for value in dic_rslt[f'_{label}_dist']])\n",
    "\n",
    "df = pd.DataFrame(data, columns=['Category', 'Distance'])\n",
    "\n",
    "colors = {\n",
    "    'overall': 'cornflowerblue',\n",
    "    'siblings': 'darkorchid',\n",
    "    'MZ': 'orange',\n",
    "    'DZ': 'green'\n",
    "}\n",
    "\n",
    "# Create the boxplot\n",
    "plt.figure(figsize=(12, 8))\n",
    "ax = sns.boxplot(x='Category', y='Distance', data=df, order=labels, palette=[colors[label] for label in labels])\n",
    "\n",
    "# Define the box pairs for comparison\n",
    "box_pairs = [\n",
    "    (\"overall\", \"siblings\"),\n",
    "    (\"overall\", \"MZ\"),\n",
    "    (\"overall\", \"DZ\")\n",
    "]\n",
    "\n",
    "# Perform the Kruskal-Wallis H-test for each pair and add annotations\n",
    "max_value = df['Distance'].max()\n",
    "h = 0.05\n",
    "y_offset = max_value + h\n",
    "\n",
    "for (cat1, cat2) in box_pairs:\n",
    "    data1 = df[df['Category'] == cat1]['Distance']\n",
    "    data2 = df[df['Category'] == cat2]['Distance']\n",
    "    \n",
    "    stat, p = kruskal(data1, data2)\n",
    "    print(f\"p-value between {(cat1, cat2)}: {p}\")\n",
    "    \n",
    "    # Define the position for the annotations\n",
    "    x1, x2 = labels.index(cat1), labels.index(cat2)\n",
    "    y, col = y_offset, 'k'\n",
    "    \n",
    "    plt.plot([x1, x1, x2, x2], [y, y+h, y+h, y], lw=1.5, c=col)\n",
    "    if p > 0.05:\n",
    "        significance = \"ns\"\n",
    "    elif p > 0.01:\n",
    "        significance = \"*\"\n",
    "    elif p > 0.001:\n",
    "        significance = \"**\"\n",
    "    elif p > 0.0001:\n",
    "        significance = \"***\"\n",
    "    else:\n",
    "        significance = \"****\"\n",
    "    \n",
    "    plt.text((x1 + x2) * .5, y + h, significance, ha='center', va='bottom', color=col)\n",
    "    \n",
    "    y_offset += h  # Increment y position for the next bracket\n",
    "\n",
    "# Add legend for p-value annotations\n",
    "legend_text = (\n",
    "    \"p-value annotation legend:\\n\"\n",
    "    \"ns: 5e-2 < p <= 1\\n\"\n",
    "    \"*: 1e-2 < p <= 5e-2\\n\"\n",
    "    \"**: 1e-3 < p <= 1e-2\\n\"\n",
    "    \"***: 1e-4 < p <= 1e-3\\n\"\n",
    "    \"****: p <= 1e-04\"\n",
    ")\n",
    "plt.gcf().text(0.75, 0.9, legend_text, fontsize=10, bbox=dict(facecolor='white', edgecolor='black', boxstyle='round,pad=0.5'))\n",
    "\n",
    "plt.title('Distribution Comparison')\n",
    "plt.ylabel('Distance')\n",
    "plt.show()"
   ]
  },
  {
   "cell_type": "code",
   "execution_count": 331,
   "metadata": {},
   "outputs": [
    {
     "data": {
      "text/plain": [
       "(138, 79)"
      ]
     },
     "execution_count": 331,
     "metadata": {},
     "output_type": "execute_result"
    }
   ],
   "source": [
    "len(dic_rslt['F & M_MZ_dist']), len(dic_rslt['F & M_DZ_dist'])    "
   ]
  },
  {
   "cell_type": "code",
   "execution_count": 333,
   "metadata": {},
   "outputs": [],
   "source": [
    "from tqdm import tqdm\n",
    "from random import sample\n",
    "\n",
    "def Monte_Carlo_p_value(embedding, list_dist, metric, rep=1e5):\n",
    "    '''\n",
    "    Parameters\n",
    "    ----------\n",
    "    embedding : df\n",
    "        The dataframe which contains the embedded space\n",
    "    list_dist : list\n",
    "        The list which contains the distances for differents pairs of subjects\n",
    "    metric : str\n",
    "        The distance metric to use\n",
    "\n",
    "    return\n",
    "    ------\n",
    "    p : float\n",
    "        The probability of having a sample of points of the same size as the given \n",
    "        list_dist whose average distance is below the average distance of\n",
    "        list_dist\n",
    "    '''\n",
    "    k=0\n",
    "    for i in tqdm(range(int(rep))):\n",
    "\n",
    "        embedding_sample = embedding.sample(n=2*len(list_dist))\n",
    "        dist = []\n",
    "\n",
    "        for j in range(len(list_dist)):\n",
    "            id = sample([o for o in range(len(embedding_sample))], 2)\n",
    "            dist.append(distance.pdist(embedding_sample.iloc[id,:].to_numpy(), metric))\n",
    "            embedding_sample = embedding_sample.drop(embedding_sample.iloc[id,:].index, axis=0)\n",
    "\n",
    "        if np.mean(dist) <= np.mean(list_dist):\n",
    "            k+=1\n",
    "    \n",
    "    return k/rep"
   ]
  },
  {
   "cell_type": "code",
   "execution_count": 334,
   "metadata": {},
   "outputs": [],
   "source": [
    "from p_tqdm import p_map\n",
    "\n",
    "'''\n",
    "Batch Processing: The simulations are processed in batches to reduce the overhead associated with parallel task management.\n",
    "Efficient Data Handling: The large embedding DataFrame is not duplicated unnecessarily.\n",
    "'''\n",
    "\n",
    "class MonteCarloSimulation:\n",
    "    def __init__(self, embedding, list_dist, metric='cosine', rep=int(1e6), batch_size=100):\n",
    "        self.embedding = embedding\n",
    "        self.list_dist = list_dist\n",
    "        self.metric = metric\n",
    "        self.rep = rep\n",
    "        self.batch_size = batch_size\n",
    "\n",
    "    def is_mean_pair_dist_below(self, batch_rep):\n",
    "        results = []\n",
    "        for _ in range(batch_rep):\n",
    "            embedding_sample = self.embedding.sample(n=2 * len(self.list_dist))\n",
    "            dist = []\n",
    "\n",
    "            for j in range(len(self.list_dist)):\n",
    "                ids = sample([o for o in range(len(embedding_sample))], 2)\n",
    "                dist.append(distance.pdist(embedding_sample.iloc[ids, :].to_numpy(), self.metric))\n",
    "                embedding_sample = embedding_sample.drop(embedding_sample.index[ids])\n",
    "\n",
    "            results.append(np.mean(dist) <= np.mean(self.list_dist))\n",
    "        return results\n",
    "\n",
    "    def compute_p_value(self):\n",
    "        batch_reps = [self.batch_size] * (self.rep // self.batch_size) + [self.rep % self.batch_size]\n",
    "        results = p_map(self.is_mean_pair_dist_below, batch_reps, num_cpus=40)\n",
    "        flattened_results = [item for sublist in results for item in sublist]\n",
    "        return np.mean(flattened_results)"
   ]
  },
  {
   "cell_type": "markdown",
   "metadata": {},
   "source": [
    "Test the function with a list of two floats, which are just below the average distance for this specific embedding with the distance cosine.\n",
    "The expected output is 0.5, because half of the random samples must have an average distance below it."
   ]
  },
  {
   "cell_type": "code",
   "execution_count": 335,
   "metadata": {},
   "outputs": [],
   "source": [
    "simulation = MonteCarloSimulation(embedding,[dic_rslt['F & M_overall_dist'].mean(),dic_rslt['F & M_overall_dist'].mean()], 'cosine', int(1e5), 100)"
   ]
  },
  {
   "cell_type": "code",
   "execution_count": 336,
   "metadata": {},
   "outputs": [
    {
     "data": {
      "application/vnd.jupyter.widget-view+json": {
       "model_id": "938c03b10cab42f98b58627136984e47",
       "version_major": 2,
       "version_minor": 0
      },
      "text/plain": [
       "  0%|          | 0/1001 [00:00<?, ?it/s]"
      ]
     },
     "metadata": {},
     "output_type": "display_data"
    },
    {
     "data": {
      "text/plain": [
       "0.49198"
      ]
     },
     "execution_count": 336,
     "metadata": {},
     "output_type": "execute_result"
    }
   ],
   "source": [
    "simulation.compute_p_value()"
   ]
  },
  {
   "cell_type": "markdown",
   "metadata": {},
   "source": [
    "Let's see the probability to get a sample with an average distance below the average distance for both F and M monozygous twin."
   ]
  },
  {
   "cell_type": "code",
   "execution_count": null,
   "metadata": {},
   "outputs": [
    {
     "name": "stderr",
     "output_type": "stream",
     "text": [
      "100%|██████████| 100000/100000 [1:54:33<00:00, 14.55it/s]\n"
     ]
    },
    {
     "data": {
      "text/plain": [
       "1e-05"
      ]
     },
     "execution_count": 539,
     "metadata": {},
     "output_type": "execute_result"
    }
   ],
   "source": [
    "Monte_Carlo_p_value(embedding, dic_rslt['F & M_MZ_dist'], 'cosine')"
   ]
  },
  {
   "cell_type": "code",
   "execution_count": 341,
   "metadata": {},
   "outputs": [],
   "source": [
    "simulation = MonteCarloSimulation(embedding,dic_rslt['F & M_MZ_dist'], 'cosine', rep=int(1e5), batch_size=60)"
   ]
  },
  {
   "cell_type": "code",
   "execution_count": 342,
   "metadata": {},
   "outputs": [
    {
     "data": {
      "application/vnd.jupyter.widget-view+json": {
       "model_id": "16ce8f62234f4aacb09d0368ff0b274a",
       "version_major": 2,
       "version_minor": 0
      },
      "text/plain": [
       "  0%|          | 0/1667 [00:00<?, ?it/s]"
      ]
     },
     "metadata": {},
     "output_type": "display_data"
    },
    {
     "data": {
      "text/plain": [
       "0.00151"
      ]
     },
     "execution_count": 342,
     "metadata": {},
     "output_type": "execute_result"
    }
   ],
   "source": [
    "simulation.compute_p_value()"
   ]
  },
  {
   "cell_type": "code",
   "execution_count": 339,
   "metadata": {},
   "outputs": [],
   "source": [
    "simulation = MonteCarloSimulation(embedding, dic_rslt['F & M_DZ_dist'], 'cosine', rep=int(1e5), batch_size=60)"
   ]
  },
  {
   "cell_type": "code",
   "execution_count": 340,
   "metadata": {},
   "outputs": [
    {
     "data": {
      "application/vnd.jupyter.widget-view+json": {
       "model_id": "9f6421cbe1f04dfdaf708e6a44220d29",
       "version_major": 2,
       "version_minor": 0
      },
      "text/plain": [
       "  0%|          | 0/1667 [00:00<?, ?it/s]"
      ]
     },
     "metadata": {},
     "output_type": "display_data"
    },
    {
     "data": {
      "text/plain": [
       "0.00062"
      ]
     },
     "execution_count": 340,
     "metadata": {},
     "output_type": "execute_result"
    }
   ],
   "source": [
    "simulation.compute_p_value()"
   ]
  }
 ],
 "metadata": {
  "kernelspec": {
   "display_name": "venv",
   "language": "python",
   "name": "python3"
  },
  "language_info": {
   "codemirror_mode": {
    "name": "ipython",
    "version": 3
   },
   "file_extension": ".py",
   "mimetype": "text/x-python",
   "name": "python",
   "nbconvert_exporter": "python",
   "pygments_lexer": "ipython3",
   "version": "3.10.12"
  }
 },
 "nbformat": 4,
 "nbformat_minor": 2
}
