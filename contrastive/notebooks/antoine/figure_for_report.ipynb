{
 "cells": [
  {
   "cell_type": "code",
   "execution_count": 1,
   "metadata": {},
   "outputs": [
    {
     "name": "stderr",
     "output_type": "stream",
     "text": [
      "/usr/lib/python3/dist-packages/scipy/__init__.py:146: UserWarning: A NumPy version >=1.17.3 and <1.25.0 is required for this version of SciPy (detected version 1.26.4\n",
      "  warnings.warn(f\"A NumPy version >={np_minversion} and <{np_maxversion}\"\n"
     ]
    },
    {
     "name": "stdout",
     "output_type": "stream",
     "text": [
      "create qapp\n",
      "done\n",
      "Starting Anatomist.....\n",
      "config file : /casa/home/.anatomist/config/settings.cfg\n",
      "PyAnatomist Module present\n",
      "PythonLauncher::runModules()\n",
      "global modules: /casa/host/build/share/anatomist-5.2/python_plugins\n",
      "home   modules: /casa/home/.anatomist/python_plugins\n",
      "loading module simple_controls\n",
      "loading module save_resampled\n"
     ]
    },
    {
     "name": "stderr",
     "output_type": "stream",
     "text": [
      "existing QApplication: 0\n",
      "QStandardPaths: XDG_RUNTIME_DIR not set, defaulting to '/tmp/runtime-ad279118'\n"
     ]
    },
    {
     "name": "stdout",
     "output_type": "stream",
     "text": [
      "loading module selection\n",
      "loading module bsa_proba\n",
      "loading module modelGraphs\n",
      "loading module profilewindow\n",
      "loading module ana_image_math\n",
      "loading module paletteViewer\n",
      "loading module foldsplit\n",
      "loading module anacontrolmenu\n",
      "loading module gradientpalette\n",
      "loading module palettecontrols\n",
      "loading module meshsplit\n",
      "loading module volumepalettes\n",
      "loading module gltf_io\n",
      "loading module infowindow\n",
      "loading module histogram\n",
      "loading module statsplotwindow\n",
      "loading module valuesplotwindow\n",
      "all python modules loaded\n",
      "Anatomist started.\n"
     ]
    }
   ],
   "source": [
    "import anatomist.api as ana\n",
    "from soma.qt_gui.qtThread import QtThreadCall\n",
    "from soma.qt_gui.qt_backend import Qt\n",
    "\n",
    "a = ana.Anatomist()\n",
    "\n",
    "from soma import aims\n",
    "import numpy as np\n",
    "import pandas as pd\n",
    "import os"
   ]
  },
  {
   "cell_type": "code",
   "execution_count": 2,
   "metadata": {},
   "outputs": [
    {
     "name": "stdout",
     "output_type": "stream",
     "text": [
      "Multitexturing present\n",
      "function glActiveTexture found.\n",
      "function glClientActiveTexture found.\n",
      "function glBlendEquation found.\n",
      "function glTexImage3D found.\n",
      "function glMultiTexCoord3f found.\n",
      "function glBindFramebuffer found.\n",
      "function glBindRenderbuffer found.\n",
      "function glFramebufferTexture2D found.\n",
      "function glGenFramebuffers found.\n",
      "function glGenRenderbuffers found.\n",
      "function glFramebufferRenderbuffer found.\n",
      "function glRenderbufferStorage found.\n",
      "function glCheckFramebufferStatus found.\n",
      "function glDeleteRenderbuffers found.\n",
      "function glDeleteFramebuffers found.\n",
      "Number of texture units: 8\n",
      "function glUniform1f found.\n",
      "function glUniform1i found.\n",
      "function glUniform4fv found.\n",
      "function glGetUniformLocation found.\n",
      "function glMultTransposeMatrixf found.\n",
      "function glAttachShader found.\n",
      "function glDetachShader found.\n",
      "function glCompileShader found.\n",
      "function glCreateProgram found.\n",
      "function glCreateShader found.\n",
      "function glDeleteProgram found.\n",
      "function glDeleteShader found.\n",
      "function glGetProgramiv found.\n",
      "function glGetShaderiv found.\n",
      "function glLinkProgram found.\n",
      "function glShaderSource found.\n",
      "function glUseProgram found.\n",
      "GL_ARB_shadow present\n",
      "GL_SGIX_shadow extension not available\n",
      "GL_SGIX_depth_texture extension not available\n",
      "GL_ARB_depth_texture extension present\n",
      "GL_ARB_texture_cube_map extension present\n",
      "GL_EXT_texture_cube_map extension present\n",
      "Number of texture units: 8\n"
     ]
    }
   ],
   "source": [
    "subject = \"197550\"\n",
    "\n",
    "path_to_t1mri = f'/neurospin/dico/data/bv_databases/human/not_labeled/hcp/hcp/{subject}/t1mri/BL'\n",
    "\n",
    "t1mri = a.loadObject(f'{path_to_t1mri}/{subject}.nii.gz')\n",
    "t1mri.loadReferentialFromHeader()\n",
    "# view an object in a 4 views block\n",
    "block = a.createWindowsBlock(2) # 2 columns\n",
    "w1 = a.createWindow(\"Axial\", block=block)\n",
    "w2 = a.createWindow(\"Sagittal\", block=block)\n",
    "w3 = a.createWindow(\"Coronal\", block=block)\n",
    "w4 = a.createWindow(\"3D\", block=block)\n",
    "t1mri.addInWindows([w1, w2, w3, w4])\n"
   ]
  },
  {
   "cell_type": "code",
   "execution_count": 3,
   "metadata": {},
   "outputs": [],
   "source": [
    "# Load an object\n",
    "Rwhite = a.loadObject(f'{path_to_t1mri}/default_analysis/segmentation/mesh/{subject}_Rwhite.gii')\n",
    "Lwhite = a.loadObject(f'{path_to_t1mri}/default_analysis/segmentation/mesh/{subject}_Lwhite.gii')\n",
    "Rwhite.loadReferentialFromHeader()\n",
    "Lwhite.loadReferentialFromHeader()\n",
    "\n",
    "\n",
    "w4.addObjects(Rwhite)\n",
    "w4.addObjects(Lwhite)"
   ]
  },
  {
   "cell_type": "code",
   "execution_count": 4,
   "metadata": {},
   "outputs": [
    {
     "name": "stdout",
     "output_type": "stream",
     "text": [
      "memory limit: 46827952537\n",
      "Reading FGraph version 3.1\n",
      "bounding box found : 34, 30, 59\n",
      "                     135, 266, 225\n",
      "memory limit: 46833329766\n",
      "Reading FGraph version 3.1\n",
      "bounding box found : 116, 31, 61\n",
      "                     220, 269, 223\n"
     ]
    }
   ],
   "source": [
    "Rsulci = a.loadObject(f'{path_to_t1mri}/default_analysis/folds/3.1/R{subject}.arg')\n",
    "Lsulci = a.loadObject(f'{path_to_t1mri}/default_analysis/folds/3.1/L{subject}.arg')\n",
    "Rsulci.loadReferentialFromHeader()\n",
    "Lsulci.loadReferentialFromHeader()\n",
    "\n",
    "\n",
    "#w3d.addObjects(Rsulci)\n",
    "#w3d.addObjects(Lsulci)\n",
    "\n",
    "w4.addObjects(Rsulci)\n",
    "w4.addObjects(Lsulci)"
   ]
  },
  {
   "cell_type": "code",
   "execution_count": 13,
   "metadata": {},
   "outputs": [
    {
     "name": "stderr",
     "output_type": "stream",
     "text": [
      "somanifti warning: cannot determine the orientation of the Nifti file reliably, assuming that the target coordinates of qform have RAS+ orientation (qform_code = 2 a.k.a. Coordinates aligned to another file or to anatomical truth).\n",
      "somanifti warning: cannot determine the orientation of the Nifti file reliably, assuming that the target coordinates of qform have RAS+ orientation (qform_code = 2 a.k.a. Coordinates aligned to another file or to anatomical truth).\n",
      "ATransformSet::unregisterObserver: ref 0x57c55b0d4f30 not found\n"
     ]
    },
    {
     "name": "stdout",
     "output_type": "stream",
     "text": [
      "Position : 39.2906, 76.4348, 91.0779, 0\n",
      "Position : 20.5185, 59.8925, 9.20761, 0\n"
     ]
    }
   ],
   "source": [
    "w5 = a.createWindow(\"3D\")\n",
    "side = \"R\"\n",
    "region = \"CINGULATE\"\n",
    "path_to_bck = f\"/neurospin/dico/data/deep_folding/current/datasets/hcp/crops/2mm/{region}/mask/{side}buckets/{subject}_cropped_skeleton.bck\"\n",
    "\n",
    "Rwhite_norm = a.loadObject(f'{path_to_t1mri}/normalized_SPM_{subject}.nii')\n",
    "Rwhite_norm.loadReferentialFromHeader()\n",
    "\n",
    "Rhemi = a.loadObject(f'{path_to_t1mri}/default_analysis/segmentation/mesh/197550_Rhemi.gii')\n",
    "Rhemi.loadReferentialFromHeader()\n",
    "\n",
    "Rbcks = a.loadObject(path_to_bck)\n",
    "Rbcks.loadReferentialFromHeader()\n",
    "\n",
    "w5.addObjects(Rwhite_norm)\n",
    "w5.addObjects(Rbcks)"
   ]
  }
 ],
 "metadata": {
  "kernelspec": {
   "display_name": "venv",
   "language": "python",
   "name": "python3"
  },
  "language_info": {
   "codemirror_mode": {
    "name": "ipython",
    "version": 3
   },
   "file_extension": ".py",
   "mimetype": "text/x-python",
   "name": "python",
   "nbconvert_exporter": "python",
   "pygments_lexer": "ipython3",
   "version": "3.10.12"
  }
 },
 "nbformat": 4,
 "nbformat_minor": 2
}
