{
 "cells": [
  {
   "cell_type": "code",
   "execution_count": 19,
   "metadata": {},
   "outputs": [],
   "source": [
    "import numpy as np\n",
    "import seaborn as sns\n",
    "import matplotlib.pyplot as plt\n",
    "import pandas as pd\n",
    "import statsmodels.api as sm\n",
    "from scipy.stats import norm"
   ]
  },
  {
   "cell_type": "code",
   "execution_count": 20,
   "metadata": {},
   "outputs": [
    {
     "name": "stdout",
     "output_type": "stream",
     "text": [
      "(21045, 257)\n"
     ]
    }
   ],
   "source": [
    "ebd_left_CINGULATE = pd.read_csv('/neurospin/dico/adufournet/mycode/Output/2024-07-22/11-25-46_0/ukb_random_epoch80_embeddings/full_embeddings.csv')\n",
    "#print(ebd_left_CINGULATE.head())\n",
    "print(ebd_left_CINGULATE.shape)"
   ]
  },
  {
   "cell_type": "code",
   "execution_count": 21,
   "metadata": {},
   "outputs": [
    {
     "name": "stdout",
     "output_type": "stream",
     "text": [
      "  participant_id  Sex   Age  BrainVolumeFreeSurfer_mm3  Ageattendedimaging  \\\n",
      "0    sub-3411469    1  65.0                  1136465.0                65.0   \n",
      "1    sub-2290292    0  69.0                  1079118.0                69.0   \n",
      "2    sub-3842391    0  70.0                  1124077.0                70.0   \n",
      "3    sub-2758537    1  49.0                  1246758.0                49.0   \n",
      "4    sub-4334619    1  70.0                  1410387.0                70.0   \n",
      "\n",
      "  ImagingName  isBigBrain  isOld  \n",
      "0     Cheadle         NaN    NaN  \n",
      "1   Newcastle         NaN    NaN  \n",
      "2     Cheadle         NaN    NaN  \n",
      "3   Newcastle         NaN    0.0  \n",
      "4     Cheadle         1.0    NaN  \n",
      "(38019, 8)\n"
     ]
    }
   ],
   "source": [
    "covar_file = pd.read_csv('/neurospin/dico/data/deep_folding/current/datasets/UkBioBank/participants.csv')\n",
    "print(covar_file.head())\n",
    "print(covar_file.shape)"
   ]
  },
  {
   "cell_type": "code",
   "execution_count": 22,
   "metadata": {},
   "outputs": [
    {
     "name": "stdout",
     "output_type": "stream",
     "text": [
      "(19605, 265)\n",
      "\n"
     ]
    },
    {
     "data": {
      "text/html": [
       "<div>\n",
       "<style scoped>\n",
       "    .dataframe tbody tr th:only-of-type {\n",
       "        vertical-align: middle;\n",
       "    }\n",
       "\n",
       "    .dataframe tbody tr th {\n",
       "        vertical-align: top;\n",
       "    }\n",
       "\n",
       "    .dataframe thead th {\n",
       "        text-align: right;\n",
       "    }\n",
       "</style>\n",
       "<table border=\"1\" class=\"dataframe\">\n",
       "  <thead>\n",
       "    <tr style=\"text-align: right;\">\n",
       "      <th></th>\n",
       "      <th>dim1</th>\n",
       "      <th>dim2</th>\n",
       "      <th>dim3</th>\n",
       "      <th>dim4</th>\n",
       "      <th>dim5</th>\n",
       "      <th>dim6</th>\n",
       "      <th>dim7</th>\n",
       "      <th>dim8</th>\n",
       "      <th>dim9</th>\n",
       "      <th>dim10</th>\n",
       "      <th>...</th>\n",
       "      <th>dim252</th>\n",
       "      <th>dim253</th>\n",
       "      <th>dim254</th>\n",
       "      <th>dim255</th>\n",
       "      <th>dim256</th>\n",
       "      <th>Sex</th>\n",
       "      <th>Age</th>\n",
       "      <th>BrainVolumeFreeSurfer_mm3</th>\n",
       "      <th>Cheadle</th>\n",
       "      <th>Newcastle</th>\n",
       "    </tr>\n",
       "    <tr>\n",
       "      <th>ID</th>\n",
       "      <th></th>\n",
       "      <th></th>\n",
       "      <th></th>\n",
       "      <th></th>\n",
       "      <th></th>\n",
       "      <th></th>\n",
       "      <th></th>\n",
       "      <th></th>\n",
       "      <th></th>\n",
       "      <th></th>\n",
       "      <th></th>\n",
       "      <th></th>\n",
       "      <th></th>\n",
       "      <th></th>\n",
       "      <th></th>\n",
       "      <th></th>\n",
       "      <th></th>\n",
       "      <th></th>\n",
       "      <th></th>\n",
       "      <th></th>\n",
       "      <th></th>\n",
       "    </tr>\n",
       "  </thead>\n",
       "  <tbody>\n",
       "    <tr>\n",
       "      <th>sub-1000021</th>\n",
       "      <td>-0.997843</td>\n",
       "      <td>12.385955</td>\n",
       "      <td>11.672585</td>\n",
       "      <td>11.285414</td>\n",
       "      <td>-22.554174</td>\n",
       "      <td>26.402634</td>\n",
       "      <td>35.521570</td>\n",
       "      <td>-9.722866</td>\n",
       "      <td>-26.329584</td>\n",
       "      <td>-1.250892</td>\n",
       "      <td>...</td>\n",
       "      <td>-12.367670</td>\n",
       "      <td>11.514998</td>\n",
       "      <td>-13.276600</td>\n",
       "      <td>9.630310</td>\n",
       "      <td>-29.099506</td>\n",
       "      <td>1</td>\n",
       "      <td>51.0</td>\n",
       "      <td>1310943.0</td>\n",
       "      <td>1</td>\n",
       "      <td>0</td>\n",
       "    </tr>\n",
       "    <tr>\n",
       "      <th>sub-1000458</th>\n",
       "      <td>2.552167</td>\n",
       "      <td>-24.596918</td>\n",
       "      <td>10.273945</td>\n",
       "      <td>9.501509</td>\n",
       "      <td>0.468070</td>\n",
       "      <td>15.432289</td>\n",
       "      <td>-22.359192</td>\n",
       "      <td>24.739254</td>\n",
       "      <td>-42.160220</td>\n",
       "      <td>-12.991070</td>\n",
       "      <td>...</td>\n",
       "      <td>-41.638794</td>\n",
       "      <td>1.096956</td>\n",
       "      <td>-2.909949</td>\n",
       "      <td>-14.035751</td>\n",
       "      <td>-32.715027</td>\n",
       "      <td>1</td>\n",
       "      <td>68.0</td>\n",
       "      <td>1377807.0</td>\n",
       "      <td>1</td>\n",
       "      <td>0</td>\n",
       "    </tr>\n",
       "    <tr>\n",
       "      <th>sub-1000575</th>\n",
       "      <td>4.118325</td>\n",
       "      <td>-9.040686</td>\n",
       "      <td>-3.261683</td>\n",
       "      <td>-11.296812</td>\n",
       "      <td>11.515161</td>\n",
       "      <td>1.691286</td>\n",
       "      <td>8.149786</td>\n",
       "      <td>-21.016586</td>\n",
       "      <td>-5.079957</td>\n",
       "      <td>6.967179</td>\n",
       "      <td>...</td>\n",
       "      <td>-43.771320</td>\n",
       "      <td>-30.863653</td>\n",
       "      <td>10.123966</td>\n",
       "      <td>-20.184015</td>\n",
       "      <td>-14.977243</td>\n",
       "      <td>1</td>\n",
       "      <td>64.0</td>\n",
       "      <td>1111215.0</td>\n",
       "      <td>1</td>\n",
       "      <td>0</td>\n",
       "    </tr>\n",
       "    <tr>\n",
       "      <th>sub-1000606</th>\n",
       "      <td>-3.144427</td>\n",
       "      <td>-0.618477</td>\n",
       "      <td>-12.066993</td>\n",
       "      <td>13.810851</td>\n",
       "      <td>24.415495</td>\n",
       "      <td>-14.760897</td>\n",
       "      <td>57.064540</td>\n",
       "      <td>-11.176839</td>\n",
       "      <td>-25.946890</td>\n",
       "      <td>1.500478</td>\n",
       "      <td>...</td>\n",
       "      <td>-33.549150</td>\n",
       "      <td>-9.188519</td>\n",
       "      <td>26.375956</td>\n",
       "      <td>-14.662233</td>\n",
       "      <td>24.597810</td>\n",
       "      <td>0</td>\n",
       "      <td>58.0</td>\n",
       "      <td>1229380.0</td>\n",
       "      <td>0</td>\n",
       "      <td>1</td>\n",
       "    </tr>\n",
       "    <tr>\n",
       "      <th>sub-1000963</th>\n",
       "      <td>-16.296228</td>\n",
       "      <td>-34.981110</td>\n",
       "      <td>19.252974</td>\n",
       "      <td>14.704968</td>\n",
       "      <td>-11.626375</td>\n",
       "      <td>29.889190</td>\n",
       "      <td>-16.691536</td>\n",
       "      <td>26.836660</td>\n",
       "      <td>-26.805521</td>\n",
       "      <td>-5.673232</td>\n",
       "      <td>...</td>\n",
       "      <td>-31.641033</td>\n",
       "      <td>12.554526</td>\n",
       "      <td>-21.678629</td>\n",
       "      <td>-4.811384</td>\n",
       "      <td>-90.145790</td>\n",
       "      <td>1</td>\n",
       "      <td>70.0</td>\n",
       "      <td>1195739.0</td>\n",
       "      <td>1</td>\n",
       "      <td>0</td>\n",
       "    </tr>\n",
       "  </tbody>\n",
       "</table>\n",
       "<p>5 rows × 261 columns</p>\n",
       "</div>"
      ],
      "text/plain": [
       "                  dim1       dim2       dim3       dim4       dim5       dim6  \\\n",
       "ID                                                                              \n",
       "sub-1000021  -0.997843  12.385955  11.672585  11.285414 -22.554174  26.402634   \n",
       "sub-1000458   2.552167 -24.596918  10.273945   9.501509   0.468070  15.432289   \n",
       "sub-1000575   4.118325  -9.040686  -3.261683 -11.296812  11.515161   1.691286   \n",
       "sub-1000606  -3.144427  -0.618477 -12.066993  13.810851  24.415495 -14.760897   \n",
       "sub-1000963 -16.296228 -34.981110  19.252974  14.704968 -11.626375  29.889190   \n",
       "\n",
       "                  dim7       dim8       dim9      dim10  ...     dim252  \\\n",
       "ID                                                       ...              \n",
       "sub-1000021  35.521570  -9.722866 -26.329584  -1.250892  ... -12.367670   \n",
       "sub-1000458 -22.359192  24.739254 -42.160220 -12.991070  ... -41.638794   \n",
       "sub-1000575   8.149786 -21.016586  -5.079957   6.967179  ... -43.771320   \n",
       "sub-1000606  57.064540 -11.176839 -25.946890   1.500478  ... -33.549150   \n",
       "sub-1000963 -16.691536  26.836660 -26.805521  -5.673232  ... -31.641033   \n",
       "\n",
       "                dim253     dim254     dim255     dim256  Sex   Age  \\\n",
       "ID                                                                   \n",
       "sub-1000021  11.514998 -13.276600   9.630310 -29.099506    1  51.0   \n",
       "sub-1000458   1.096956  -2.909949 -14.035751 -32.715027    1  68.0   \n",
       "sub-1000575 -30.863653  10.123966 -20.184015 -14.977243    1  64.0   \n",
       "sub-1000606  -9.188519  26.375956 -14.662233  24.597810    0  58.0   \n",
       "sub-1000963  12.554526 -21.678629  -4.811384 -90.145790    1  70.0   \n",
       "\n",
       "             BrainVolumeFreeSurfer_mm3  Cheadle  Newcastle  \n",
       "ID                                                          \n",
       "sub-1000021                  1310943.0        1          0  \n",
       "sub-1000458                  1377807.0        1          0  \n",
       "sub-1000575                  1111215.0        1          0  \n",
       "sub-1000606                  1229380.0        0          1  \n",
       "sub-1000963                  1195739.0        1          0  \n",
       "\n",
       "[5 rows x 261 columns]"
      ]
     },
     "execution_count": 22,
     "metadata": {},
     "output_type": "execute_result"
    }
   ],
   "source": [
    "merged_data = pd.merge(left=ebd_left_CINGULATE, right=covar_file, how='inner', left_on='ID', right_on='participant_id')\n",
    "\n",
    "print(merged_data.shape)\n",
    "print()\n",
    "merged_data = merged_data.set_index('ID')\n",
    "# One-hot encode the \"ImagingName\" column\n",
    "imaging_loc = pd.get_dummies(merged_data['ImagingName'])\n",
    "merged_data = pd.concat([merged_data, imaging_loc], axis=1)\n",
    "merged_data = merged_data.drop(['participant_id', 'isBigBrain', 'isOld', 'ImagingName', 'Ageattendedimaging'], axis=1)\n",
    "\n",
    "merged_data.head()"
   ]
  },
  {
   "cell_type": "code",
   "execution_count": 23,
   "metadata": {},
   "outputs": [
    {
     "data": {
      "text/plain": [
       "<AxesSubplot:>"
      ]
     },
     "execution_count": 23,
     "metadata": {},
     "output_type": "execute_result"
    },
    {
     "data": {
      "image/png": "[encoded data removed]",
      "text/plain": [
       "<Figure size 792x648 with 2 Axes>"
      ]
     },
     "metadata": {},
     "output_type": "display_data"
    }
   ],
   "source": [
    "# Define the covariates\n",
    "list_cov = ['Sex', 'Age', 'BrainVolumeFreeSurfer_mm3', 'Cheadle', 'Newcastle']#, 'isBigBrain', 'isOld']\n",
    "\n",
    "sns.set_theme(style=\"white\")\n",
    "\n",
    "# Compute the correlation matrix\n",
    "corr = merged_data[['dim6']+list_cov].corr()\n",
    "\n",
    "# Generate a mask for the upper triangle\n",
    "mask = np.triu(np.ones_like(corr, dtype=bool))\n",
    "\n",
    "\n",
    "f, ax = plt.subplots(figsize=(11, 9))\n",
    "cmap = sns.diverging_palette(230, 20, as_cmap=True)\n",
    "sns.heatmap(corr, mask=mask, cmap=cmap, \n",
    "            #vmin=-0.5, vmax=0.5, \n",
    "            center=0,\n",
    "            square=True, linewidths=.5, cbar_kws={\"shrink\": .5})"
   ]
  },
  {
   "cell_type": "code",
   "execution_count": 7,
   "metadata": {},
   "outputs": [
    {
     "data": {
      "text/plain": [
       "Sex                          0.170334\n",
       "Age                          0.088576\n",
       "BrainVolumeFreeSurfer_mm3    0.189233\n",
       "Cheadle                      0.028991\n",
       "Newcastle                    0.028991\n",
       "dtype: float64"
      ]
     },
     "execution_count": 7,
     "metadata": {},
     "output_type": "execute_result"
    }
   ],
   "source": [
    "# Define the phenotype column\n",
    "phenotype_col = [f'dim{i}' for i in range(1,ebd_left_CINGULATE.shape[1])]\n",
    "corr = merged_data.corr()\n",
    "abs(corr.loc[list_cov][phenotype_col]).max(axis=1)"
   ]
  },
  {
   "cell_type": "code",
   "execution_count": 24,
   "metadata": {},
   "outputs": [],
   "source": [
    "for col in phenotype_col:\n",
    "    # Fit the linear model\n",
    "    X = merged_data[list_cov]\n",
    "    X = sm.add_constant(X)  # Adds a constant term to the predictor\n",
    "    y = merged_data[col]\n",
    "    model = sm.OLS(y, X, missing='drop').fit()\n",
    "\n",
    "    # Get the intercept and residuals\n",
    "    intercept = model.params.loc['const']\n",
    "    residuals = model.resid\n",
    "\n",
    "    # Update the phenotype column with the pre-residualized values\n",
    "    # In fact, the intercept is not usefull because of the normalization which will follow\n",
    "    merged_data[col] = intercept + residuals"
   ]
  },
  {
   "cell_type": "code",
   "execution_count": 9,
   "metadata": {},
   "outputs": [
    {
     "data": {
      "text/plain": [
       "<AxesSubplot:>"
      ]
     },
     "execution_count": 9,
     "metadata": {},
     "output_type": "execute_result"
    },
    {
     "data": {
      "image/png": "[encoded data removed]",
      "text/plain": [
       "<Figure size 792x648 with 2 Axes>"
      ]
     },
     "metadata": {},
     "output_type": "display_data"
    }
   ],
   "source": [
    "corr = merged_data[['dim2']+list_cov].corr()\n",
    "\n",
    "mask = np.triu(np.ones_like(corr, dtype=bool))\n",
    "\n",
    "# Set up the matplotlib figure\n",
    "f, ax = plt.subplots(figsize=(11, 9))\n",
    "cmap = sns.diverging_palette(230, 20, as_cmap=True)\n",
    "sns.heatmap(corr, mask=mask, cmap=cmap, vmax=.3, center=0,\n",
    "            square=True, linewidths=.5, cbar_kws={\"shrink\": .5})"
   ]
  },
  {
   "cell_type": "code",
   "execution_count": 10,
   "metadata": {},
   "outputs": [],
   "source": [
    "corr = merged_data.corr()"
   ]
  },
  {
   "cell_type": "code",
   "execution_count": 11,
   "metadata": {},
   "outputs": [
    {
     "data": {
      "text/plain": [
       "Sex                          4.580384e-12\n",
       "Age                          2.393808e-13\n",
       "BrainVolumeFreeSurfer_mm3    3.485287e-12\n",
       "Cheadle                      1.289133e-13\n",
       "Newcastle                    1.288066e-13\n",
       "dtype: float64"
      ]
     },
     "execution_count": 11,
     "metadata": {},
     "output_type": "execute_result"
    }
   ],
   "source": [
    "abs(corr.loc[list_cov][phenotype_col]).max(axis=1)"
   ]
  },
  {
   "cell_type": "code",
   "execution_count": 15,
   "metadata": {},
   "outputs": [
    {
     "data": {
      "text/plain": [
       "<AxesSubplot:>"
      ]
     },
     "execution_count": 15,
     "metadata": {},
     "output_type": "execute_result"
    },
    {
     "data": {
      "image/png": "[encoded data removed]",
      "text/plain": [
       "<Figure size 432x288 with 1 Axes>"
      ]
     },
     "metadata": {},
     "output_type": "display_data"
    }
   ],
   "source": [
    "dim_example='dim7'\n",
    "merged_data[dim_example].hist(density=True)"
   ]
  },
  {
   "cell_type": "code",
   "execution_count": 16,
   "metadata": {},
   "outputs": [
    {
     "data": {
      "image/png": "[encoded data removed]",
      "text/plain": [
       "<Figure size 432x288 with 1 Axes>"
      ]
     },
     "metadata": {},
     "output_type": "display_data"
    }
   ],
   "source": [
    "for dim_i in phenotype_col:\n",
    "    # Calculate the ECDF values for 'dim_i'\n",
    "    ecdf_values = merged_data[dim_i].rank(method='average') / len(merged_data[dim_i])\n",
    "\n",
    "    # Apply the quantile function of the normal distribution\n",
    "    qnorm_values = norm.ppf(ecdf_values - 0.5 / len(merged_data[dim_i]))\n",
    "\n",
    "    # Assign the transformed values back to 'dim_i'\n",
    "    merged_data[dim_i] = qnorm_values\n",
    "\n",
    "# Plot the histogram of the transformed 'dim_i'\n",
    "merged_data[dim_example].hist(density=True)\n",
    "plt.xlabel(dim_example)\n",
    "plt.ylabel('Density')\n",
    "plt.title('Histogram of Transformed dim4')\n",
    "plt.show()"
   ]
  }
 ],
 "metadata": {
  "kernelspec": {
   "display_name": "venv",
   "language": "python",
   "name": "python3"
  },
  "language_info": {
   "codemirror_mode": {
    "name": "ipython",
    "version": 3
   },
   "file_extension": ".py",
   "mimetype": "text/x-python",
   "name": "python",
   "nbconvert_exporter": "python",
   "pygments_lexer": "ipython3",
   "version": "3.10.12"
  }
 },
 "nbformat": 4,
 "nbformat_minor": 2
}
