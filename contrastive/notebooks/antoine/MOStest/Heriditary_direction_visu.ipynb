{
 "cells": [
  {
   "cell_type": "code",
   "execution_count": 1,
   "metadata": {},
   "outputs": [
    {
     "name": "stderr",
     "output_type": "stream",
     "text": [
      "/usr/lib/python3/dist-packages/scipy/__init__.py:146: UserWarning: A NumPy version >=1.17.3 and <1.25.0 is required for this version of SciPy (detected version 1.26.4\n",
      "  warnings.warn(f\"A NumPy version >={np_minversion} and <{np_maxversion}\"\n"
     ]
    },
    {
     "name": "stdout",
     "output_type": "stream",
     "text": [
      "create qapp\n",
      "done\n",
      "Starting Anatomist.....\n",
      "config file : /casa/home/.anatomist/config/settings.cfg\n",
      "PyAnatomist Module present\n",
      "PythonLauncher::runModules()\n",
      "global modules: /casa/host/build/share/anatomist-5.2/python_plugins\n",
      "home   modules: /casa/home/.anatomist/python_plugins\n",
      "loading module simple_controls\n"
     ]
    },
    {
     "name": "stderr",
     "output_type": "stream",
     "text": [
      "existing QApplication: 0\n",
      "QStandardPaths: XDG_RUNTIME_DIR not set, defaulting to '/tmp/runtime-ad279118'\n"
     ]
    },
    {
     "name": "stdout",
     "output_type": "stream",
     "text": [
      "loading module save_resampled\n",
      "loading module selection\n",
      "loading module bsa_proba\n",
      "loading module modelGraphs\n",
      "loading module profilewindow\n",
      "loading module ana_image_math\n",
      "loading module paletteViewer\n",
      "loading module foldsplit\n",
      "loading module anacontrolmenu\n",
      "loading module gradientpalette\n",
      "loading module palettecontrols\n",
      "loading module meshsplit\n",
      "loading module volumepalettes\n",
      "loading module gltf_io\n",
      "loading module infowindow\n",
      "loading module histogram\n",
      "loading module statsplotwindow\n",
      "loading module valuesplotwindow\n",
      "all python modules loaded\n",
      "Anatomist started.\n"
     ]
    }
   ],
   "source": [
    "import anatomist.api as ana\n",
    "from soma.qt_gui.qtThread import QtThreadCall\n",
    "from soma.qt_gui.qt_backend import Qt\n",
    "\n",
    "a = ana.Anatomist()"
   ]
  },
  {
   "cell_type": "code",
   "execution_count": 2,
   "metadata": {},
   "outputs": [],
   "source": [
    "import numpy as np\n",
    "import pandas as pd\n",
    "import plotly.express as px\n",
    "import plotly.graph_objects as go\n",
    "from sklearn.preprocessing import StandardScaler\n",
    "import umap\n",
    "import os"
   ]
  },
  {
   "cell_type": "markdown",
   "metadata": {},
   "source": [
    "## Embeddings and their associated z-score (after MOSTEST) for different regions of interest"
   ]
  },
  {
   "cell_type": "markdown",
   "metadata": {},
   "source": [
    "### SC-sylv_left"
   ]
  },
  {
   "cell_type": "code",
   "execution_count": 96,
   "metadata": {},
   "outputs": [],
   "source": [
    "ukb_SC_sylv_left_embeddings = pd.read_csv('/neurospin/dico/data/deep_folding/current/models/Champollion_V0/SC-sylv_left/14-00-57_116/ukb_random_epoch80_embeddings/full_embeddings.csv', index_col=0)\n",
    "SC_sylv_left_z_score = pd.read_csv('/volatile/ad279118/Irene/MOSTEST/Results/SC-sylv_left_mostest_all_chr.most_orig.zmat.csv', sep='\\t')"
   ]
  },
  {
   "cell_type": "markdown",
   "metadata": {},
   "source": [
    "### SC-sylv_right"
   ]
  },
  {
   "cell_type": "code",
   "execution_count": 97,
   "metadata": {},
   "outputs": [],
   "source": [
    "ukb_SC_sylv_right_embeddings = pd.read_csv('/neurospin/dico/data/deep_folding/current/models/Champollion_V0/SC-sylv_right/13-19-08_28/ukb_random_epoch80_embeddings/full_embeddings.csv', index_col=0)\n",
    "SC_sylv_right_z_score = pd.read_csv('/volatile/ad279118/Irene/MOSTEST/Results/SC-sylv_right_mostest_all_chr.most_orig.zmat.csv', sep='\\t')"
   ]
  },
  {
   "cell_type": "markdown",
   "metadata": {},
   "source": [
    "### CINGULATE_left"
   ]
  },
  {
   "cell_type": "code",
   "execution_count": 98,
   "metadata": {},
   "outputs": [],
   "source": [
    "ukb_cingulate_left_embeddings = pd.read_csv('/neurospin/dico/data/deep_folding/current/models/Champollion_V0/CINGULATE_left/2024-07-16/16-58-04_1/ukb_random_epoch80_embeddings/full_embeddings.csv', index_col=0)\n",
    "cingulate_left_z_score = pd.read_csv('/volatile/ad279118/Irene/MOSTEST/Results/CINGULATE_left_mostest_all_chr.most_orig.zmat.csv', sep='\\t')"
   ]
  },
  {
   "cell_type": "markdown",
   "metadata": {},
   "source": [
    "### CINGULATE_right"
   ]
  },
  {
   "cell_type": "code",
   "execution_count": 99,
   "metadata": {},
   "outputs": [],
   "source": [
    "ukb_cingulate_right_embeddings = pd.read_csv('/neurospin/dico/data/deep_folding/current/models/Champollion_V0/CINGULATE_right/09-52-22_75/ukb_random_epoch80_embeddings/full_embeddings.csv', index_col=0)\n",
    "cingulate_right_z_score = pd.read_csv('/volatile/ad279118/Irene/MOSTEST/Results/CINGULATE_right_mostest_all_chr.most_orig.zmat.csv', sep='\\t')"
   ]
  },
  {
   "cell_type": "markdown",
   "metadata": {},
   "source": [
    "### FIP_left"
   ]
  },
  {
   "cell_type": "code",
   "execution_count": 100,
   "metadata": {},
   "outputs": [],
   "source": [
    "ukb_FIP_left_embeddings = pd.read_csv('/neurospin/dico/data/deep_folding/current/models/Champollion_V0/FIP_left/14-56-46_3/ukb_random_epoch110_embeddings/full_embeddings.csv', index_col=0)\n",
    "FIP_left_z_score = pd.read_csv('/volatile/ad279118/Irene/MOSTEST/Results/FIP_left_mostest_all_chr.most_orig.zmat.csv', sep='\\t')"
   ]
  },
  {
   "cell_type": "markdown",
   "metadata": {},
   "source": [
    "### FIP_right"
   ]
  },
  {
   "cell_type": "code",
   "execution_count": 101,
   "metadata": {},
   "outputs": [],
   "source": [
    "ukb_FIP_right_embeddings = pd.read_csv('/neurospin/dico/data/deep_folding/current/models/Champollion_V0/FIP_right/20-16-33_2/ukb_random_epoch120_embeddings/full_embeddings.csv', index_col=0)\n",
    "FIP_right_z_score = pd.read_csv('/volatile/ad279118/Irene/MOSTEST/Results/FIP_right_mostest_all_chr.most_orig.zmat.csv', sep='\\t')"
   ]
  },
  {
   "cell_type": "markdown",
   "metadata": {},
   "source": [
    "### Orbital_left"
   ]
  },
  {
   "cell_type": "code",
   "execution_count": 102,
   "metadata": {},
   "outputs": [],
   "source": [
    "# pas de traçabilité, à refaire\n",
    "#ukb_orbital_left_embeddings = pd.read_csv('/neurospin/dico/data/deep_folding/current/models/Champollion_V0/ORBITAL_left/20-56-02_1/ukb_random_embeddings/full_embeddings.csv', index_col=0)\n",
    "#orbital_left_z_score = pd.read_csv('/volatile/ad279118/Irene/MOSTEST/Results/ORBITAL_left_mostest_all_chr.most_orig.zmat.csv', sep='\\t')\n"
   ]
  },
  {
   "cell_type": "markdown",
   "metadata": {},
   "source": [
    "### Orbital_right"
   ]
  },
  {
   "cell_type": "code",
   "execution_count": 103,
   "metadata": {},
   "outputs": [],
   "source": [
    "ukb_orbital_right_embeddings = pd.read_csv('/neurospin/dico/data/deep_folding/current/models/Champollion_V0/ORBITAL_right/15-53-41_191//ukb_random_epoch80_embeddings/full_embeddings.csv', index_col=0)\n",
    "orbital_right_z_score = pd.read_csv('/volatile/ad279118/Irene/MOSTEST/Results/ORBITAL_right_mostest_all_chr.most_orig.zmat.csv', sep='\\t')"
   ]
  },
  {
   "cell_type": "markdown",
   "metadata": {},
   "source": [
    "### STi-STs-STpol_left"
   ]
  },
  {
   "cell_type": "code",
   "execution_count": 104,
   "metadata": {},
   "outputs": [],
   "source": [
    "ukb_STi_STs_STpol_left = pd.read_csv('/neurospin/dico/data/deep_folding/current/models/Champollion_V0/STi-STs-STpol_left/14-30-34_34/ukb_random_epoch190_embeddings/full_embeddings.csv', index_col=0)\n",
    "STi_STs_STpol_left_z_score = pd.read_csv('/volatile/ad279118/Irene/MOSTEST/Results/STi-STs-STpol_left_mostest_all_chr.most_orig.zmat.csv', sep='\\t')"
   ]
  },
  {
   "cell_type": "markdown",
   "metadata": {},
   "source": [
    "### Region name"
   ]
  },
  {
   "cell_type": "code",
   "execution_count": 109,
   "metadata": {},
   "outputs": [],
   "source": [
    "region_name = 'ORBITAL_right'\n",
    "path_to_most_results = '/volatile/ad279118/Irene/MOSTEST/Results/'\n",
    "z_score = pd.read_csv(f'{path_to_most_results}/{region_name}_mostest_all_chr.most_orig.zmat.csv', sep='\\t')"
   ]
  },
  {
   "cell_type": "markdown",
   "metadata": {},
   "source": [
    "### Get the direction given by the SNPs z-scores"
   ]
  },
  {
   "cell_type": "code",
   "execution_count": 111,
   "metadata": {},
   "outputs": [
    {
     "name": "stdout",
     "output_type": "stream",
     "text": [
      "(21045, 256)\n"
     ]
    },
    {
     "data": {
      "text/html": [
       "<div>\n",
       "<style scoped>\n",
       "    .dataframe tbody tr th:only-of-type {\n",
       "        vertical-align: middle;\n",
       "    }\n",
       "\n",
       "    .dataframe tbody tr th {\n",
       "        vertical-align: top;\n",
       "    }\n",
       "\n",
       "    .dataframe thead th {\n",
       "        text-align: right;\n",
       "    }\n",
       "</style>\n",
       "<table border=\"1\" class=\"dataframe\">\n",
       "  <thead>\n",
       "    <tr style=\"text-align: right;\">\n",
       "      <th></th>\n",
       "      <th>dim1</th>\n",
       "      <th>dim2</th>\n",
       "      <th>dim3</th>\n",
       "      <th>dim4</th>\n",
       "      <th>dim5</th>\n",
       "      <th>dim6</th>\n",
       "      <th>dim7</th>\n",
       "      <th>dim8</th>\n",
       "      <th>dim9</th>\n",
       "      <th>dim10</th>\n",
       "      <th>...</th>\n",
       "      <th>dim247</th>\n",
       "      <th>dim248</th>\n",
       "      <th>dim249</th>\n",
       "      <th>dim250</th>\n",
       "      <th>dim251</th>\n",
       "      <th>dim252</th>\n",
       "      <th>dim253</th>\n",
       "      <th>dim254</th>\n",
       "      <th>dim255</th>\n",
       "      <th>dim256</th>\n",
       "    </tr>\n",
       "    <tr>\n",
       "      <th>ID</th>\n",
       "      <th></th>\n",
       "      <th></th>\n",
       "      <th></th>\n",
       "      <th></th>\n",
       "      <th></th>\n",
       "      <th></th>\n",
       "      <th></th>\n",
       "      <th></th>\n",
       "      <th></th>\n",
       "      <th></th>\n",
       "      <th></th>\n",
       "      <th></th>\n",
       "      <th></th>\n",
       "      <th></th>\n",
       "      <th></th>\n",
       "      <th></th>\n",
       "      <th></th>\n",
       "      <th></th>\n",
       "      <th></th>\n",
       "      <th></th>\n",
       "      <th></th>\n",
       "    </tr>\n",
       "  </thead>\n",
       "  <tbody>\n",
       "    <tr>\n",
       "      <th>sub-1000021</th>\n",
       "      <td>8.359276</td>\n",
       "      <td>1.393321</td>\n",
       "      <td>-3.196660</td>\n",
       "      <td>-11.687957</td>\n",
       "      <td>-7.284793</td>\n",
       "      <td>-5.947208</td>\n",
       "      <td>-6.337971</td>\n",
       "      <td>-24.955900</td>\n",
       "      <td>-4.806345</td>\n",
       "      <td>23.253164</td>\n",
       "      <td>...</td>\n",
       "      <td>-12.953685</td>\n",
       "      <td>-10.156114</td>\n",
       "      <td>-27.988750</td>\n",
       "      <td>-8.481975</td>\n",
       "      <td>5.088031</td>\n",
       "      <td>9.323348</td>\n",
       "      <td>5.608405</td>\n",
       "      <td>13.522653</td>\n",
       "      <td>-16.861488</td>\n",
       "      <td>-6.155326</td>\n",
       "    </tr>\n",
       "    <tr>\n",
       "      <th>sub-1000458</th>\n",
       "      <td>-10.749617</td>\n",
       "      <td>17.492110</td>\n",
       "      <td>-7.229668</td>\n",
       "      <td>1.425336</td>\n",
       "      <td>5.559165</td>\n",
       "      <td>-8.395197</td>\n",
       "      <td>-16.463188</td>\n",
       "      <td>8.947845</td>\n",
       "      <td>-13.438421</td>\n",
       "      <td>-21.016268</td>\n",
       "      <td>...</td>\n",
       "      <td>-3.147220</td>\n",
       "      <td>0.267443</td>\n",
       "      <td>-17.167963</td>\n",
       "      <td>25.359734</td>\n",
       "      <td>10.749844</td>\n",
       "      <td>-9.823949</td>\n",
       "      <td>-47.673664</td>\n",
       "      <td>-7.540023</td>\n",
       "      <td>-11.120076</td>\n",
       "      <td>10.969814</td>\n",
       "    </tr>\n",
       "    <tr>\n",
       "      <th>sub-1000575</th>\n",
       "      <td>-13.732792</td>\n",
       "      <td>10.635822</td>\n",
       "      <td>-16.314667</td>\n",
       "      <td>-14.749505</td>\n",
       "      <td>-4.846186</td>\n",
       "      <td>-21.462553</td>\n",
       "      <td>3.404566</td>\n",
       "      <td>-8.007508</td>\n",
       "      <td>-17.625782</td>\n",
       "      <td>13.084105</td>\n",
       "      <td>...</td>\n",
       "      <td>-48.863144</td>\n",
       "      <td>-17.198288</td>\n",
       "      <td>-13.846172</td>\n",
       "      <td>-17.697680</td>\n",
       "      <td>16.121006</td>\n",
       "      <td>-10.284886</td>\n",
       "      <td>14.381026</td>\n",
       "      <td>-7.883124</td>\n",
       "      <td>5.451983</td>\n",
       "      <td>0.468994</td>\n",
       "    </tr>\n",
       "    <tr>\n",
       "      <th>sub-1000606</th>\n",
       "      <td>-13.519534</td>\n",
       "      <td>1.969375</td>\n",
       "      <td>-0.363315</td>\n",
       "      <td>-1.145881</td>\n",
       "      <td>-5.049136</td>\n",
       "      <td>-19.041105</td>\n",
       "      <td>3.229115</td>\n",
       "      <td>-0.416106</td>\n",
       "      <td>-20.166530</td>\n",
       "      <td>-29.480904</td>\n",
       "      <td>...</td>\n",
       "      <td>-19.120272</td>\n",
       "      <td>16.428568</td>\n",
       "      <td>22.130460</td>\n",
       "      <td>-22.099056</td>\n",
       "      <td>-17.620304</td>\n",
       "      <td>-3.753097</td>\n",
       "      <td>-16.484900</td>\n",
       "      <td>-15.712536</td>\n",
       "      <td>18.070097</td>\n",
       "      <td>15.770590</td>\n",
       "    </tr>\n",
       "    <tr>\n",
       "      <th>sub-1000963</th>\n",
       "      <td>-13.752464</td>\n",
       "      <td>-1.547562</td>\n",
       "      <td>-0.544788</td>\n",
       "      <td>-8.198496</td>\n",
       "      <td>-5.528333</td>\n",
       "      <td>-29.882793</td>\n",
       "      <td>10.143282</td>\n",
       "      <td>-8.406162</td>\n",
       "      <td>-14.920433</td>\n",
       "      <td>6.493918</td>\n",
       "      <td>...</td>\n",
       "      <td>-44.661774</td>\n",
       "      <td>-15.098756</td>\n",
       "      <td>-10.772803</td>\n",
       "      <td>-10.961065</td>\n",
       "      <td>5.243499</td>\n",
       "      <td>6.560422</td>\n",
       "      <td>4.186872</td>\n",
       "      <td>-2.910577</td>\n",
       "      <td>3.421086</td>\n",
       "      <td>2.256803</td>\n",
       "    </tr>\n",
       "  </tbody>\n",
       "</table>\n",
       "<p>5 rows × 256 columns</p>\n",
       "</div>"
      ],
      "text/plain": [
       "                  dim1       dim2       dim3       dim4      dim5       dim6  \\\n",
       "ID                                                                             \n",
       "sub-1000021   8.359276   1.393321  -3.196660 -11.687957 -7.284793  -5.947208   \n",
       "sub-1000458 -10.749617  17.492110  -7.229668   1.425336  5.559165  -8.395197   \n",
       "sub-1000575 -13.732792  10.635822 -16.314667 -14.749505 -4.846186 -21.462553   \n",
       "sub-1000606 -13.519534   1.969375  -0.363315  -1.145881 -5.049136 -19.041105   \n",
       "sub-1000963 -13.752464  -1.547562  -0.544788  -8.198496 -5.528333 -29.882793   \n",
       "\n",
       "                  dim7       dim8       dim9      dim10  ...     dim247  \\\n",
       "ID                                                       ...              \n",
       "sub-1000021  -6.337971 -24.955900  -4.806345  23.253164  ... -12.953685   \n",
       "sub-1000458 -16.463188   8.947845 -13.438421 -21.016268  ...  -3.147220   \n",
       "sub-1000575   3.404566  -8.007508 -17.625782  13.084105  ... -48.863144   \n",
       "sub-1000606   3.229115  -0.416106 -20.166530 -29.480904  ... -19.120272   \n",
       "sub-1000963  10.143282  -8.406162 -14.920433   6.493918  ... -44.661774   \n",
       "\n",
       "                dim248     dim249     dim250     dim251     dim252     dim253  \\\n",
       "ID                                                                              \n",
       "sub-1000021 -10.156114 -27.988750  -8.481975   5.088031   9.323348   5.608405   \n",
       "sub-1000458   0.267443 -17.167963  25.359734  10.749844  -9.823949 -47.673664   \n",
       "sub-1000575 -17.198288 -13.846172 -17.697680  16.121006 -10.284886  14.381026   \n",
       "sub-1000606  16.428568  22.130460 -22.099056 -17.620304  -3.753097 -16.484900   \n",
       "sub-1000963 -15.098756 -10.772803 -10.961065   5.243499   6.560422   4.186872   \n",
       "\n",
       "                dim254     dim255     dim256  \n",
       "ID                                            \n",
       "sub-1000021  13.522653 -16.861488  -6.155326  \n",
       "sub-1000458  -7.540023 -11.120076  10.969814  \n",
       "sub-1000575  -7.883124   5.451983   0.468994  \n",
       "sub-1000606 -15.712536  18.070097  15.770590  \n",
       "sub-1000963  -2.910577   3.421086   2.256803  \n",
       "\n",
       "[5 rows x 256 columns]"
      ]
     },
     "execution_count": 111,
     "metadata": {},
     "output_type": "execute_result"
    }
   ],
   "source": [
    "print(ukb_orbital_right_embeddings.shape)\n",
    "ukb_orbital_right_embeddings.head()"
   ]
  },
  {
   "cell_type": "code",
   "execution_count": 117,
   "metadata": {},
   "outputs": [
    {
     "data": {
      "text/html": [
       "<div>\n",
       "<style scoped>\n",
       "    .dataframe tbody tr th:only-of-type {\n",
       "        vertical-align: middle;\n",
       "    }\n",
       "\n",
       "    .dataframe tbody tr th {\n",
       "        vertical-align: top;\n",
       "    }\n",
       "\n",
       "    .dataframe thead th {\n",
       "        text-align: right;\n",
       "    }\n",
       "</style>\n",
       "<table border=\"1\" class=\"dataframe\">\n",
       "  <thead>\n",
       "    <tr style=\"text-align: right;\">\n",
       "      <th></th>\n",
       "      <th>CHR</th>\n",
       "      <th>SNP</th>\n",
       "      <th>PVAL</th>\n",
       "      <th>dim1</th>\n",
       "      <th>dim2</th>\n",
       "      <th>dim3</th>\n",
       "      <th>dim4</th>\n",
       "      <th>dim5</th>\n",
       "    </tr>\n",
       "  </thead>\n",
       "  <tbody>\n",
       "    <tr>\n",
       "      <th>0</th>\n",
       "      <td>15</td>\n",
       "      <td>rs202109518</td>\n",
       "      <td>1.406139e-13</td>\n",
       "      <td>-1.422264</td>\n",
       "      <td>0.664990</td>\n",
       "      <td>-1.038796</td>\n",
       "      <td>0.677525</td>\n",
       "      <td>0.311259</td>\n",
       "    </tr>\n",
       "    <tr>\n",
       "      <th>1</th>\n",
       "      <td>15</td>\n",
       "      <td>rs200294259</td>\n",
       "      <td>4.076472e-36</td>\n",
       "      <td>-0.639176</td>\n",
       "      <td>-0.735111</td>\n",
       "      <td>0.528111</td>\n",
       "      <td>0.985628</td>\n",
       "      <td>0.616616</td>\n",
       "    </tr>\n",
       "    <tr>\n",
       "      <th>2</th>\n",
       "      <td>15</td>\n",
       "      <td>rs578030041</td>\n",
       "      <td>3.150767e-09</td>\n",
       "      <td>-0.146279</td>\n",
       "      <td>2.079909</td>\n",
       "      <td>0.451031</td>\n",
       "      <td>-1.870035</td>\n",
       "      <td>0.341744</td>\n",
       "    </tr>\n",
       "    <tr>\n",
       "      <th>3</th>\n",
       "      <td>15</td>\n",
       "      <td>rs376848849</td>\n",
       "      <td>3.150767e-09</td>\n",
       "      <td>-0.146279</td>\n",
       "      <td>2.079909</td>\n",
       "      <td>0.451031</td>\n",
       "      <td>-1.870035</td>\n",
       "      <td>0.341744</td>\n",
       "    </tr>\n",
       "    <tr>\n",
       "      <th>4</th>\n",
       "      <td>15</td>\n",
       "      <td>rs3933731</td>\n",
       "      <td>4.076859e-13</td>\n",
       "      <td>0.139025</td>\n",
       "      <td>-0.035373</td>\n",
       "      <td>-0.891899</td>\n",
       "      <td>-0.585226</td>\n",
       "      <td>-0.409859</td>\n",
       "    </tr>\n",
       "  </tbody>\n",
       "</table>\n",
       "</div>"
      ],
      "text/plain": [
       "   CHR          SNP          PVAL      dim1      dim2      dim3      dim4  \\\n",
       "0   15  rs202109518  1.406139e-13 -1.422264  0.664990 -1.038796  0.677525   \n",
       "1   15  rs200294259  4.076472e-36 -0.639176 -0.735111  0.528111  0.985628   \n",
       "2   15  rs578030041  3.150767e-09 -0.146279  2.079909  0.451031 -1.870035   \n",
       "3   15  rs376848849  3.150767e-09 -0.146279  2.079909  0.451031 -1.870035   \n",
       "4   15    rs3933731  4.076859e-13  0.139025 -0.035373 -0.891899 -0.585226   \n",
       "\n",
       "       dim5  \n",
       "0  0.311259  \n",
       "1  0.616616  \n",
       "2  0.341744  \n",
       "3  0.341744  \n",
       "4 -0.409859  "
      ]
     },
     "execution_count": 117,
     "metadata": {},
     "output_type": "execute_result"
    }
   ],
   "source": [
    "orbital_right_z_score = orbital_right_z_score[['CHR','SNP','PVAL']+[f'dim{i}' for i in range(1,ukb_orbital_right_embeddings.shape[1]+1)]]\n",
    "orbital_right_z_score.iloc[:,:8].head()"
   ]
  },
  {
   "cell_type": "code",
   "execution_count": 115,
   "metadata": {},
   "outputs": [
    {
     "data": {
      "text/html": [
       "<div>\n",
       "<style scoped>\n",
       "    .dataframe tbody tr th:only-of-type {\n",
       "        vertical-align: middle;\n",
       "    }\n",
       "\n",
       "    .dataframe tbody tr th {\n",
       "        vertical-align: top;\n",
       "    }\n",
       "\n",
       "    .dataframe thead th {\n",
       "        text-align: right;\n",
       "    }\n",
       "</style>\n",
       "<table border=\"1\" class=\"dataframe\">\n",
       "  <thead>\n",
       "    <tr style=\"text-align: right;\">\n",
       "      <th></th>\n",
       "      <th>CHR</th>\n",
       "      <th>SNP</th>\n",
       "      <th>PVAL</th>\n",
       "      <th>dim1</th>\n",
       "      <th>dim2</th>\n",
       "      <th>dim3</th>\n",
       "      <th>dim4</th>\n",
       "      <th>dim5</th>\n",
       "      <th>dim6</th>\n",
       "      <th>dim7</th>\n",
       "      <th>...</th>\n",
       "      <th>dim247</th>\n",
       "      <th>dim248</th>\n",
       "      <th>dim249</th>\n",
       "      <th>dim250</th>\n",
       "      <th>dim251</th>\n",
       "      <th>dim252</th>\n",
       "      <th>dim253</th>\n",
       "      <th>dim254</th>\n",
       "      <th>dim255</th>\n",
       "      <th>dim256</th>\n",
       "    </tr>\n",
       "  </thead>\n",
       "  <tbody>\n",
       "    <tr>\n",
       "      <th>1</th>\n",
       "      <td>15</td>\n",
       "      <td>rs200294259</td>\n",
       "      <td>4.076472e-36</td>\n",
       "      <td>-0.639176</td>\n",
       "      <td>-0.735111</td>\n",
       "      <td>0.528111</td>\n",
       "      <td>0.985628</td>\n",
       "      <td>0.616616</td>\n",
       "      <td>-2.342429</td>\n",
       "      <td>-0.694866</td>\n",
       "      <td>...</td>\n",
       "      <td>-0.725193</td>\n",
       "      <td>0.731048</td>\n",
       "      <td>2.184578</td>\n",
       "      <td>-2.537933</td>\n",
       "      <td>0.364947</td>\n",
       "      <td>-1.652185</td>\n",
       "      <td>-0.490197</td>\n",
       "      <td>-1.050762</td>\n",
       "      <td>3.219553</td>\n",
       "      <td>2.221781</td>\n",
       "    </tr>\n",
       "  </tbody>\n",
       "</table>\n",
       "<p>1 rows × 259 columns</p>\n",
       "</div>"
      ],
      "text/plain": [
       "   CHR          SNP          PVAL      dim1      dim2      dim3      dim4  \\\n",
       "1   15  rs200294259  4.076472e-36 -0.639176 -0.735111  0.528111  0.985628   \n",
       "\n",
       "       dim5      dim6      dim7  ...    dim247    dim248    dim249    dim250  \\\n",
       "1  0.616616 -2.342429 -0.694866  ... -0.725193  0.731048  2.184578 -2.537933   \n",
       "\n",
       "     dim251    dim252    dim253    dim254    dim255    dim256  \n",
       "1  0.364947 -1.652185 -0.490197 -1.050762  3.219553  2.221781  \n",
       "\n",
       "[1 rows x 259 columns]"
      ]
     },
     "execution_count": 115,
     "metadata": {},
     "output_type": "execute_result"
    }
   ],
   "source": [
    "orbital_right_z_score[orbital_right_z_score.SNP=='rs200294259']"
   ]
  },
  {
   "cell_type": "code",
   "execution_count": 114,
   "metadata": {},
   "outputs": [
    {
     "data": {
      "text/plain": [
       "<AxesSubplot:>"
      ]
     },
     "execution_count": 114,
     "metadata": {},
     "output_type": "execute_result"
    }
   ],
   "source": [
    "orbital_right_z_score.dim150.hist()"
   ]
  },
  {
   "cell_type": "markdown",
   "metadata": {},
   "source": [
    "## Visualization (example of CINGULATE_right for now)"
   ]
  },
  {
   "cell_type": "code",
   "execution_count": 26,
   "metadata": {},
   "outputs": [
    {
     "name": "stderr",
     "output_type": "stream",
     "text": [
      "/casa/home/.local/lib/python3.10/site-packages/numba/np/ufunc/parallel.py:371: NumbaWarning: \u001b[1mThe TBB threading layer requires TBB version 2021 update 6 or later i.e., TBB_INTERFACE_VERSION >= 12060. Found TBB_INTERFACE_VERSION = 12050. The TBB threading layer is disabled.\u001b[0m\n",
      "  warnings.warn(problem)\n"
     ]
    }
   ],
   "source": [
    "scaler = StandardScaler()\n",
    "scaler.fit(ukb_cingulate_right_embeddings)\n",
    "\n",
    "scl_bdd_ukb = scaler.transform(ukb_cingulate_right_embeddings)\n",
    "\n",
    "reducer2D = umap.UMAP(n_components=2)\n",
    "reducer2D.fit(scl_bdd_ukb)\n",
    "bdd_2D_UKB = reducer2D.transform(scl_bdd_ukb)"
   ]
  },
  {
   "cell_type": "code",
   "execution_count": 27,
   "metadata": {},
   "outputs": [
    {
     "data": {
      "text/html": [
       "<div>\n",
       "<style scoped>\n",
       "    .dataframe tbody tr th:only-of-type {\n",
       "        vertical-align: middle;\n",
       "    }\n",
       "\n",
       "    .dataframe tbody tr th {\n",
       "        vertical-align: top;\n",
       "    }\n",
       "\n",
       "    .dataframe thead th {\n",
       "        text-align: right;\n",
       "    }\n",
       "</style>\n",
       "<table border=\"1\" class=\"dataframe\">\n",
       "  <thead>\n",
       "    <tr style=\"text-align: right;\">\n",
       "      <th></th>\n",
       "      <th>Dim 1</th>\n",
       "      <th>Dim 2</th>\n",
       "      <th>Dataset</th>\n",
       "      <th>ID</th>\n",
       "    </tr>\n",
       "  </thead>\n",
       "  <tbody>\n",
       "    <tr>\n",
       "      <th>0</th>\n",
       "      <td>6.828441</td>\n",
       "      <td>2.267577</td>\n",
       "      <td>UkBioBank</td>\n",
       "      <td>sub-1000021</td>\n",
       "    </tr>\n",
       "    <tr>\n",
       "      <th>1</th>\n",
       "      <td>1.688752</td>\n",
       "      <td>4.747731</td>\n",
       "      <td>UkBioBank</td>\n",
       "      <td>sub-1000458</td>\n",
       "    </tr>\n",
       "    <tr>\n",
       "      <th>2</th>\n",
       "      <td>3.698661</td>\n",
       "      <td>6.495202</td>\n",
       "      <td>UkBioBank</td>\n",
       "      <td>sub-1000575</td>\n",
       "    </tr>\n",
       "    <tr>\n",
       "      <th>3</th>\n",
       "      <td>5.779747</td>\n",
       "      <td>4.328494</td>\n",
       "      <td>UkBioBank</td>\n",
       "      <td>sub-1000606</td>\n",
       "    </tr>\n",
       "    <tr>\n",
       "      <th>4</th>\n",
       "      <td>0.072204</td>\n",
       "      <td>3.114254</td>\n",
       "      <td>UkBioBank</td>\n",
       "      <td>sub-1000963</td>\n",
       "    </tr>\n",
       "  </tbody>\n",
       "</table>\n",
       "</div>"
      ],
      "text/plain": [
       "      Dim 1     Dim 2    Dataset           ID\n",
       "0  6.828441  2.267577  UkBioBank  sub-1000021\n",
       "1  1.688752  4.747731  UkBioBank  sub-1000458\n",
       "2  3.698661  6.495202  UkBioBank  sub-1000575\n",
       "3  5.779747  4.328494  UkBioBank  sub-1000606\n",
       "4  0.072204  3.114254  UkBioBank  sub-1000963"
      ]
     },
     "execution_count": 27,
     "metadata": {},
     "output_type": "execute_result"
    }
   ],
   "source": [
    "bdd_2D_UKB = pd.DataFrame(bdd_2D_UKB, columns=['Dim 1', 'Dim 2'])\n",
    "bdd_2D_UKB['Dataset'] = 'UkBioBank'\n",
    "bdd_2D_UKB['ID'] = ukb_cingulate_right_embeddings.index\n",
    "bdd_2D_UKB.head()"
   ]
  },
  {
   "cell_type": "code",
   "execution_count": 28,
   "metadata": {},
   "outputs": [],
   "source": [
    "subject_id_list = []\n",
    "dataset_name_list = []"
   ]
  },
  {
   "cell_type": "code",
   "execution_count": 30,
   "metadata": {},
   "outputs": [
    {
     "data": {
      "application/vnd.jupyter.widget-view+json": {
       "model_id": "617ee8a4b3d14295a62522e700b3fd9f",
       "version_major": 2,
       "version_minor": 0
      },
      "text/plain": [
       "FigureWidget({\n",
       "    'data': [{'customdata': array([['UkBioBank', 'sub-1000021'],\n",
       "                                   ['UkBioBank', 'sub-1000458'],\n",
       "                                   ['UkBioBank', 'sub-1000575'],\n",
       "                                   ...,\n",
       "                                   ['UkBioBank', 'sub-6023847'],\n",
       "                                   ['UkBioBank', 'sub-6024038'],\n",
       "                                   ['UkBioBank', 'sub-6024754']], dtype=object),\n",
       "              'hovertemplate': ('Dataset=%{customdata[0]}<br>Di' ... '{customdata[1]}<extra></extra>'),\n",
       "              'legendgroup': 'UkBioBank',\n",
       "              'marker': {'color': '#636efa', 'opacity': 0.5, 'symbol': 'circle'},\n",
       "              'mode': 'markers',\n",
       "              'name': 'UkBioBank',\n",
       "              'showlegend': True,\n",
       "              'type': 'scattergl',\n",
       "              'uid': 'd4922623-e0b5-4f91-a5f4-e89777b5a383',\n",
       "              'x': array([6.8284407, 1.6887518, 3.6986613, ..., 4.7936697, 1.4355619, 1.1729393],\n",
       "                         dtype=float32),\n",
       "              'xaxis': 'x',\n",
       "              'y': array([2.2675774, 4.747731 , 6.4952016, ..., 3.456862 , 1.4697468, 3.6495585],\n",
       "                         dtype=float32),\n",
       "              'yaxis': 'y'}],\n",
       "    'layout': {'height': 600,\n",
       "               'legend': {'title': {'text': 'Dataset'}, 'tracegroupgap': 0},\n",
       "               'template': '...',\n",
       "               'title': {'text': '2D UMAP HCP and UKB'},\n",
       "               'width': 800,\n",
       "               'xaxis': {'anchor': 'y', 'domain': [0.0, 1.0], 'title': {'text': 'Dim 1'}},\n",
       "               'yaxis': {'anchor': 'x', 'domain': [0.0, 1.0], 'title': {'text': 'Dim 2'}}}\n",
       "})"
      ]
     },
     "execution_count": 30,
     "metadata": {},
     "output_type": "execute_result"
    },
    {
     "name": "stdout",
     "output_type": "stream",
     "text": [
      "Clicked point ID: sub-5194119, Dataset: UkBioBank\n",
      "Clicked point ID: sub-1458453, Dataset: UkBioBank\n",
      "Clicked point ID: sub-4565650, Dataset: UkBioBank\n",
      "Clicked point ID: sub-2881581, Dataset: UkBioBank\n",
      "Clicked point ID: sub-4030931, Dataset: UkBioBank\n",
      "Clicked point ID: sub-1705902, Dataset: UkBioBank\n",
      "Clicked point ID: sub-2054042, Dataset: UkBioBank\n",
      "Clicked point ID: sub-1128000, Dataset: UkBioBank\n",
      "Clicked point ID: sub-2761606, Dataset: UkBioBank\n",
      "Clicked point ID: sub-5442840, Dataset: UkBioBank\n",
      "Clicked point ID: sub-1871487, Dataset: UkBioBank\n"
     ]
    }
   ],
   "source": [
    "# Create the scatter plot using plotly express\n",
    "fig = px.scatter(\n",
    "    bdd_2D_UKB, x='Dim 1', y='Dim 2', \n",
    "    color='Dataset',\n",
    "    title='2D UMAP HCP and UKB',\n",
    "    labels={'0': 'dim 1', '1': 'dim 2'},\n",
    "    hover_data= ['Dataset', 'ID'],\n",
    "    opacity=0.5,\n",
    "    width=800, height=600\n",
    ")\n",
    "\n",
    "#fig.show()\n",
    "\n",
    "# Convert the figure to a FigureWidget\n",
    "f = go.FigureWidget(fig)\n",
    "\n",
    "# Define the callback function\n",
    "def click_callback(trace, points, selector):\n",
    "    for trace_index in range(len(f.data)):\n",
    "        if trace_index == points.trace_index:\n",
    "            customdata = f.data[trace_index].customdata\n",
    "            for i in points.point_inds:\n",
    "                point_dataset, point_id = customdata[i]\n",
    "                print(f\"Clicked point ID: {point_id}, Dataset: {point_dataset}\")\n",
    "                subject_id_list.append(point_id)\n",
    "                dataset_name_list.append(point_dataset)\n",
    "\n",
    "# Attach the callback to the on_click event for all traces\n",
    "for trace in f.data:\n",
    "    trace.on_click(click_callback)\n",
    "\n",
    "# Display the figure widget\n",
    "f"
   ]
  },
  {
   "cell_type": "code",
   "execution_count": 31,
   "metadata": {},
   "outputs": [
    {
     "name": "stdout",
     "output_type": "stream",
     "text": [
      "Multitexturing present\n",
      "function glActiveTexture found.\n",
      "function glClientActiveTexture found.\n",
      "function glBlendEquation found.\n",
      "function glTexImage3D found.\n",
      "function glMultiTexCoord3f found.\n",
      "function glBindFramebuffer found.\n",
      "function glBindRenderbuffer found.\n",
      "function glFramebufferTexture2D found.\n",
      "function glGenFramebuffers found.\n",
      "function glGenRenderbuffers found.\n",
      "function glFramebufferRenderbuffer found.\n",
      "function glRenderbufferStorage found.\n",
      "function glCheckFramebufferStatus found.\n",
      "function glDeleteRenderbuffers found.\n",
      "function glDeleteFramebuffers found.\n",
      "Number of texture units: 8\n",
      "function glUniform1f found.\n",
      "function glUniform1i found.\n",
      "function glUniform4fv found.\n",
      "function glGetUniformLocation found.\n",
      "function glMultTransposeMatrixf found.\n",
      "function glAttachShader found.\n",
      "function glDetachShader found.\n",
      "function glCompileShader found.\n",
      "function glCreateProgram found.\n",
      "function glCreateShader found.\n",
      "function glDeleteProgram found.\n",
      "function glDeleteShader found.\n",
      "function glGetProgramiv found.\n",
      "function glGetShaderiv found.\n",
      "function glLinkProgram found.\n",
      "function glShaderSource found.\n",
      "function glUseProgram found.\n",
      "GL_ARB_shadow present\n",
      "GL_SGIX_shadow extension not available\n",
      "GL_SGIX_depth_texture extension not available\n",
      "GL_ARB_depth_texture extension present\n",
      "GL_ARB_texture_cube_map extension present\n",
      "GL_EXT_texture_cube_map extension present\n",
      "Number of texture units: 8\n",
      "<soma.aims.Volume_DOUBLE object at 0x702e9c03d1b0> (16, 37, 37, 1)\n"
     ]
    },
    {
     "name": "stdout",
     "output_type": "stream",
     "text": [
      "no position could be read at 477, 21\n",
      "Position : 15.9985, 39.8893, 30.1193, 0\n",
      "Position : 15.9985, 39.8893, 30.1193, 0\n",
      "Position : 15.9912, 69.7893, 1.3619, 0\n",
      "Position : 15.9973, 61.1209, 30.7875, 0\n",
      "no position could be read at 520, 136\n",
      "Position : 15.997, 64.5184, 73.2273, 0\n",
      "Position : 15.997, 71.1751, 69.8779, 0\n",
      "Position : 15.997, 71.0977, 72.2557, 0\n",
      "Position : 15.997, 71.673, 72.8699, 0\n",
      "Position : 16.1375, 26.0942, 49.8344, 0\n",
      "Position : 16.0368, 46.3805, 36.4938, 0\n",
      "Position : 16.0114, 42.4504, 38.9599, 0\n",
      "Position : 15.9994, 42.5725, 36.7169, 0\n"
     ]
    }
   ],
   "source": [
    "side = \"R\"\n",
    "region = \"CINGULATE\" #\"ORBITAL\" #\"CINGULATE\"\n",
    "\n",
    "bucket_files = []\n",
    "\n",
    "for subject_id, dataset in zip(subject_id_list,dataset_name_list):\n",
    "    if dataset.lower() in ['ukb', 'ukbiobank']:\n",
    "        dataset = 'UkBioBank'\n",
    "        path = f'/neurospin/dico/data/deep_folding/current/datasets/{dataset}/crops/2mm/{region}/mask/{side}crops'\n",
    "\n",
    "    if dataset.lower() in ['hcp']:\n",
    "        path = f'/neurospin/dico/data/deep_folding/current/datasets/{dataset.lower()}/crops/2mm/{region}/mask/{side}crops'\n",
    "\n",
    "    filename = f'{path}/{subject_id}_cropped_skeleton.nii.gz'#.minf'\n",
    "\n",
    "    if os.path. isfile(filename):\n",
    "        bucket_files.append(filename)\n",
    "    else:\n",
    "        print(f\"{filename} is not a correct path, or the .bck doesn't exist\")\n",
    "bucket_files\n",
    "\n",
    "from soma import aims\n",
    "\n",
    "def to_bucket(obj):\n",
    "    if obj.type() == obj.BUCKET:\n",
    "        return obj\n",
    "    avol = a.toAimsObject(obj)\n",
    "    c = aims.Converter(intype=avol, outtype=aims.BucketMap_VOID)\n",
    "    abck = c(avol)\n",
    "    bck = a.toAObject(abck)\n",
    "    bck.releaseAppRef()\n",
    "    return bck\n",
    "\n",
    "def build_gradient(pal):\n",
    "    gw = ana.cpp.GradientWidget(None, 'gradientwidget', pal.header()['palette_gradients'])\n",
    "    gw.setHasAlpha(True)\n",
    "    nc = pal.shape[0]\n",
    "    rgbp = gw.fillGradient(nc, True)\n",
    "    rgb = rgbp.data()\n",
    "    npal = pal.np['v']\n",
    "    pb = np.frombuffer(rgb, dtype=np.uint8).reshape((nc, 4))\n",
    "    npal[:, 0, 0, 0, :] = pb\n",
    "    npal[:, 0, 0, 0, :3] = npal[:, 0, 0, 0, :3][:, ::-1]  # BGRA -> RGBA\n",
    "    pal.update()\n",
    "\n",
    "block = a.createWindowsBlock(3) # nb of columns\n",
    "d = {}\n",
    "\n",
    "for i, file in enumerate(bucket_files):\n",
    "    d[f'bck_{i}'] = to_bucket(a.loadObject(file))\n",
    "    d[f'w_{i}'] = a.createWindow('3D', block=block)#geometry=[100+400*(i%3), 100+440*(i//3), 400, 400])\n",
    "    d[f'w_{i}'].addObjects(d[f'bck_{i}'])\n",
    "\n",
    "dic_vol = {}\n",
    "dim = 0\n",
    "rep = 0\n",
    "while dim == 0 and rep < len(subject_id_list):\n",
    "    mm_skeleton_path = f\"/neurospin/dico/data/deep_folding/current/datasets/{dataset_name_list[rep]}/crops/2mm/{region}/mask/{side}crops\"\n",
    "    if os.path. isfile(f'{mm_skeleton_path}/{subject_id_list[rep]}_cropped_skeleton.nii.gz'):\n",
    "        sum_vol = aims.read(f'{mm_skeleton_path}/{subject_id_list[rep]}_cropped_skeleton.nii.gz').astype(float)\n",
    "        dim = sum_vol.shape\n",
    "        sum_vol.fill(0)\n",
    "    else: \n",
    "        print(f'FileNotFound {mm_skeleton_path}/{subject_id_list[rep]}_cropped_skeleton.nii.gz')\n",
    "        #raise FileNotFoundError(f'{mm_skeleton_path}/{subject_id_list[0]}_cropped_skeleton.nii.gz')\n",
    "    rep += 1\n",
    "\n",
    "for subject_id, dataset in zip(subject_id_list,dataset_name_list):\n",
    "    if dataset.lower() in ['ukb', 'ukbiobank']:\n",
    "        dataset = 'UkBioBank'\n",
    "    elif dataset.lower() == 'hcp':\n",
    "        dataset = 'hcp'\n",
    "        \n",
    "    mm_skeleton_path = f\"/neurospin/dico/data/deep_folding/current/datasets/{dataset}/crops/2mm/{region}/mask/{side}crops\"\n",
    "\n",
    "    if os.path. isfile(f'{mm_skeleton_path}/{subject_id}_cropped_skeleton.nii.gz'):\n",
    "        vol = aims.read(f'{mm_skeleton_path}/{subject_id}_cropped_skeleton.nii.gz')\n",
    "        # compare the dim with the first file dim\n",
    "\n",
    "        if vol.np.shape != dim:\n",
    "            raise ValueError(f\"{subject_id_list[0]} and {subject_id} must have the same dim\")\n",
    "\n",
    "            \n",
    "        # to have a binary 3D structure\n",
    "        dic_vol[subject_id] = (vol.np > 0).astype(int)\n",
    "        sum_vol.np[:] += (vol.np > 0).astype(int) \n",
    "    else: \n",
    "        print(f'FileNotFound {mm_skeleton_path}/{subject_id}_cropped_skeleton.nii.gz')\n",
    "        #raise FileNotFoundError(f'{mm_skeleton_path}/{subject_id}_cropped_skeleton.nii.gz')\n",
    "\n",
    "sum_vol = sum_vol / len(subject_id_list)\n",
    "print(sum_vol, sum_vol.shape)\n",
    "\n",
    "\n",
    "a_sum_vol = a.toAObject(sum_vol)\n",
    "a_sum_vol.setPalette(minVal=0, absoluteMode=True)\n",
    "wsum = a.createWindow('Sagittal', block=block)\n",
    "wsum.addObjects(a_sum_vol)\n",
    "rvol = a.fusionObjects(objects=[a_sum_vol], method='VolumeRenderingFusionMethod')\n",
    "rvol.releaseAppRef()\n",
    "# custom palette\n",
    "n = len(subject_id_list)\n",
    "pal = a.createPalette('VR-palette')\n",
    "pal.header()['palette_gradients'] = f'0;0.244444;0.5;1;1;1#0;0;0.535897;0.222222;1;1#0;0.7;1;0#0;0;{0.5/n};0;1;1'\n",
    "build_gradient(pal)\n",
    "rvol.setPalette('VR-palette', minVal=0, absoluteMode=True)\n",
    "pal2 = a.createPalette('slice-palette')\n",
    "pal2.header()['palette_gradients'] = f'0;0.244444;0.5;1;1;1#0;0;0.535897;0.222222;1;1#0;0.7;1;0#0;0;{0.3/n};0;{0.7/n};1;1;1'\n",
    "build_gradient(pal2)\n",
    "a_sum_vol.setPalette('slice-palette')\n",
    "# rvol.palette().fill()\n",
    "wvr = a.createWindow('3D', block=block)\n",
    "wvr.addObjects(rvol)\n",
    "#print(dic_vol[subject_id_list[0]].shape)\n",
    "#print(np.count_nonzero(dic_vol[subject_id_list[0]]))"
   ]
  }
 ],
 "metadata": {
  "kernelspec": {
   "display_name": "venv",
   "language": "python",
   "name": "python3"
  },
  "language_info": {
   "codemirror_mode": {
    "name": "ipython",
    "version": 3
   },
   "file_extension": ".py",
   "mimetype": "text/x-python",
   "name": "python",
   "nbconvert_exporter": "python",
   "pygments_lexer": "ipython3",
   "version": "3.10.12"
  }
 },
 "nbformat": 4,
 "nbformat_minor": 2
}
