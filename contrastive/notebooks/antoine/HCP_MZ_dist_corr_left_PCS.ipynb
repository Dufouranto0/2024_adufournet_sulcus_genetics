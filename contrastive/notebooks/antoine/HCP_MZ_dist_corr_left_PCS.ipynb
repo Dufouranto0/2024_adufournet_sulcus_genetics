{
 "cells": [
  {
   "cell_type": "code",
   "execution_count": 376,
   "metadata": {},
   "outputs": [
    {
     "name": "stderr",
     "output_type": "stream",
     "text": [
      "/tmp/ipykernel_1324405/218840759.py:7: DeprecationWarning: Please import `pearsonr` from the `scipy.stats` namespace; the `scipy.stats.stats` namespace is deprecated and will be removed in SciPy 2.0.0.\n",
      "  from scipy.stats.stats import pearsonr\n"
     ]
    }
   ],
   "source": [
    "import os\n",
    "import numpy as np\n",
    "import matplotlib.pyplot as plt\n",
    "import seaborn as sns\n",
    "import pandas as pd\n",
    "from scipy.spatial import distance\n",
    "from scipy.stats.stats import pearsonr "
   ]
  },
  {
   "cell_type": "markdown",
   "metadata": {},
   "source": [
    "So as to know the information about the HCP database, see below."
   ]
  },
  {
   "cell_type": "code",
   "execution_count": 377,
   "metadata": {},
   "outputs": [
    {
     "data": {
      "text/html": [
       "<div>\n",
       "<style scoped>\n",
       "    .dataframe tbody tr th:only-of-type {\n",
       "        vertical-align: middle;\n",
       "    }\n",
       "\n",
       "    .dataframe tbody tr th {\n",
       "        vertical-align: top;\n",
       "    }\n",
       "\n",
       "    .dataframe thead th {\n",
       "        text-align: right;\n",
       "    }\n",
       "</style>\n",
       "<table border=\"1\" class=\"dataframe\">\n",
       "  <thead>\n",
       "    <tr style=\"text-align: right;\">\n",
       "      <th></th>\n",
       "      <th>fullDisplayName</th>\n",
       "      <th>category</th>\n",
       "      <th>assessment</th>\n",
       "      <th>columnHeader</th>\n",
       "      <th>description</th>\n",
       "    </tr>\n",
       "  </thead>\n",
       "  <tbody>\n",
       "    <tr>\n",
       "      <th>0</th>\n",
       "      <td>Subject</td>\n",
       "      <td>Subject Information</td>\n",
       "      <td>Demographics</td>\n",
       "      <td>Subject</td>\n",
       "      <td>HCP Subject ID</td>\n",
       "    </tr>\n",
       "    <tr>\n",
       "      <th>1</th>\n",
       "      <td>Quarter Released</td>\n",
       "      <td>Subject Information</td>\n",
       "      <td>Demographics</td>\n",
       "      <td>Release</td>\n",
       "      <td>HCP data release in which this subject's data ...</td>\n",
       "    </tr>\n",
       "    <tr>\n",
       "      <th>2</th>\n",
       "      <td>Acquisition Quarter</td>\n",
       "      <td>Subject Information</td>\n",
       "      <td>Demographics</td>\n",
       "      <td>Acquisition</td>\n",
       "      <td>Quarter in which this subject's 3T and behavio...</td>\n",
       "    </tr>\n",
       "    <tr>\n",
       "      <th>3</th>\n",
       "      <td>Gender</td>\n",
       "      <td>Subject Information</td>\n",
       "      <td>Demographics</td>\n",
       "      <td>Gender</td>\n",
       "      <td>Gender of Subject</td>\n",
       "    </tr>\n",
       "    <tr>\n",
       "      <th>4</th>\n",
       "      <td>Age Range</td>\n",
       "      <td>Subject Information</td>\n",
       "      <td>Demographics</td>\n",
       "      <td>Age</td>\n",
       "      <td>Age group of Participant, banded in five-year ...</td>\n",
       "    </tr>\n",
       "    <tr>\n",
       "      <th>...</th>\n",
       "      <td>...</td>\n",
       "      <td>...</td>\n",
       "      <td>...</td>\n",
       "      <td>...</td>\n",
       "      <td>...</td>\n",
       "    </tr>\n",
       "    <tr>\n",
       "      <th>808</th>\n",
       "      <td>MOV4 TRfrac</td>\n",
       "      <td>7T Eye Tracker Metadata</td>\n",
       "      <td>MOV</td>\n",
       "      <td>MOV4_TRFRAC</td>\n",
       "      <td>The value of TRfrac (percentage of total scan ...</td>\n",
       "    </tr>\n",
       "    <tr>\n",
       "      <th>809</th>\n",
       "      <td>MOV eyetrack compl</td>\n",
       "      <td>7T Eye Tracker Metadata</td>\n",
       "      <td>MOV</td>\n",
       "      <td>MOV_EYETRACK_COMPL</td>\n",
       "      <td>TRfrac (percentage of total scan time that had...</td>\n",
       "    </tr>\n",
       "    <tr>\n",
       "      <th>810</th>\n",
       "      <td>REST trackfrac min</td>\n",
       "      <td>7T Eye Tracker Metadata</td>\n",
       "      <td>REST</td>\n",
       "      <td>REST_TRACKFRAC_MIN</td>\n",
       "      <td>The minimum value for Trackfrac (percentage of...</td>\n",
       "    </tr>\n",
       "    <tr>\n",
       "      <th>811</th>\n",
       "      <td>REST TRfrac min</td>\n",
       "      <td>7T Eye Tracker Metadata</td>\n",
       "      <td>REST</td>\n",
       "      <td>REST_TRFRAC_MIN</td>\n",
       "      <td>The minimum value for TRfrac (percentage of to...</td>\n",
       "    </tr>\n",
       "    <tr>\n",
       "      <th>812</th>\n",
       "      <td>REST eyetrack compl</td>\n",
       "      <td>7T Eye Tracker Metadata</td>\n",
       "      <td>REST</td>\n",
       "      <td>REST_EYETRACK_COMPL</td>\n",
       "      <td>TRfrac (percentage of total scan time that had...</td>\n",
       "    </tr>\n",
       "  </tbody>\n",
       "</table>\n",
       "<p>813 rows × 5 columns</p>\n",
       "</div>"
      ],
      "text/plain": [
       "         fullDisplayName                 category    assessment  \\\n",
       "0                Subject      Subject Information  Demographics   \n",
       "1       Quarter Released      Subject Information  Demographics   \n",
       "2    Acquisition Quarter      Subject Information  Demographics   \n",
       "3                 Gender      Subject Information  Demographics   \n",
       "4              Age Range      Subject Information  Demographics   \n",
       "..                   ...                      ...           ...   \n",
       "808          MOV4 TRfrac  7T Eye Tracker Metadata           MOV   \n",
       "809   MOV eyetrack compl  7T Eye Tracker Metadata           MOV   \n",
       "810   REST trackfrac min  7T Eye Tracker Metadata          REST   \n",
       "811      REST TRfrac min  7T Eye Tracker Metadata          REST   \n",
       "812  REST eyetrack compl  7T Eye Tracker Metadata          REST   \n",
       "\n",
       "            columnHeader                                        description  \n",
       "0                Subject                                     HCP Subject ID  \n",
       "1                Release  HCP data release in which this subject's data ...  \n",
       "2            Acquisition  Quarter in which this subject's 3T and behavio...  \n",
       "3                 Gender                                  Gender of Subject  \n",
       "4                    Age  Age group of Participant, banded in five-year ...  \n",
       "..                   ...                                                ...  \n",
       "808          MOV4_TRFRAC  The value of TRfrac (percentage of total scan ...  \n",
       "809   MOV_EYETRACK_COMPL  TRfrac (percentage of total scan time that had...  \n",
       "810   REST_TRACKFRAC_MIN  The minimum value for Trackfrac (percentage of...  \n",
       "811      REST_TRFRAC_MIN  The minimum value for TRfrac (percentage of to...  \n",
       "812  REST_EYETRACK_COMPL  TRfrac (percentage of total scan time that had...  \n",
       "\n",
       "[813 rows x 5 columns]"
      ]
     },
     "execution_count": 377,
     "metadata": {},
     "output_type": "execute_result"
    }
   ],
   "source": [
    "HCP_description = pd.read_csv('/neurospin/dico/adufournet/HCP_S1200_DataDictionary_Oct_30_2023.csv')\n",
    "HCP_description"
   ]
  },
  {
   "cell_type": "code",
   "execution_count": 378,
   "metadata": {},
   "outputs": [],
   "source": [
    "HCP_info = pd.read_csv('/neurospin/dico/jchavas/RESTRICTED_jchavas_1_18_2022_3_17_51.csv')\n",
    "participants_file = \"/neurospin/dico/data/bv_databases/human/not_labeled/hcp/participants.csv\"\n",
    "participants = pd.read_csv(participants_file) #to get the gender that is not in the info\n",
    "participants = participants[['Subject', \"Gender\"]]"
   ]
  },
  {
   "cell_type": "code",
   "execution_count": 379,
   "metadata": {},
   "outputs": [
    {
     "data": {
      "text/plain": [
       "array([100206, 100307, 100408, ..., 994273, 995174, 996782])"
      ]
     },
     "execution_count": 379,
     "metadata": {},
     "output_type": "execute_result"
    }
   ],
   "source": [
    "HCP_IID = pd.read_csv('/neurospin/dico/adufournet/Runs/01_Heritability_Right_PCS_HCP/Heritability/data/HCP_prob_pred_PCS.csv')\n",
    "HCP_IID = HCP_IID['IID'].astype(int) # we only keep the id for which we can do the prediction\n",
    "HCP_IID.values"
   ]
  },
  {
   "cell_type": "code",
   "execution_count": 380,
   "metadata": {},
   "outputs": [
    {
     "data": {
      "text/html": [
       "<div>\n",
       "<style scoped>\n",
       "    .dataframe tbody tr th:only-of-type {\n",
       "        vertical-align: middle;\n",
       "    }\n",
       "\n",
       "    .dataframe tbody tr th {\n",
       "        vertical-align: top;\n",
       "    }\n",
       "\n",
       "    .dataframe thead th {\n",
       "        text-align: right;\n",
       "    }\n",
       "</style>\n",
       "<table border=\"1\" class=\"dataframe\">\n",
       "  <thead>\n",
       "    <tr style=\"text-align: right;\">\n",
       "      <th></th>\n",
       "      <th>Subject</th>\n",
       "      <th>Age_in_Yrs</th>\n",
       "      <th>HasGT</th>\n",
       "      <th>ZygosityGT</th>\n",
       "      <th>Family_ID</th>\n",
       "      <th>Gender</th>\n",
       "    </tr>\n",
       "  </thead>\n",
       "  <tbody>\n",
       "    <tr>\n",
       "      <th>0</th>\n",
       "      <td>100206</td>\n",
       "      <td>27</td>\n",
       "      <td>True</td>\n",
       "      <td></td>\n",
       "      <td>56037_85858</td>\n",
       "      <td>M</td>\n",
       "    </tr>\n",
       "    <tr>\n",
       "      <th>1</th>\n",
       "      <td>100307</td>\n",
       "      <td>27</td>\n",
       "      <td>True</td>\n",
       "      <td>MZ</td>\n",
       "      <td>51488_81352</td>\n",
       "      <td>F</td>\n",
       "    </tr>\n",
       "    <tr>\n",
       "      <th>2</th>\n",
       "      <td>100408</td>\n",
       "      <td>33</td>\n",
       "      <td>True</td>\n",
       "      <td>MZ</td>\n",
       "      <td>51730_81594</td>\n",
       "      <td>M</td>\n",
       "    </tr>\n",
       "    <tr>\n",
       "      <th>3</th>\n",
       "      <td>100610</td>\n",
       "      <td>27</td>\n",
       "      <td>True</td>\n",
       "      <td>DZ</td>\n",
       "      <td>52813_82634</td>\n",
       "      <td>M</td>\n",
       "    </tr>\n",
       "    <tr>\n",
       "      <th>4</th>\n",
       "      <td>101006</td>\n",
       "      <td>35</td>\n",
       "      <td>True</td>\n",
       "      <td></td>\n",
       "      <td>51283_52850_81149</td>\n",
       "      <td>F</td>\n",
       "    </tr>\n",
       "    <tr>\n",
       "      <th>...</th>\n",
       "      <td>...</td>\n",
       "      <td>...</td>\n",
       "      <td>...</td>\n",
       "      <td>...</td>\n",
       "      <td>...</td>\n",
       "      <td>...</td>\n",
       "    </tr>\n",
       "    <tr>\n",
       "      <th>1108</th>\n",
       "      <td>992774</td>\n",
       "      <td>35</td>\n",
       "      <td>True</td>\n",
       "      <td></td>\n",
       "      <td>51345_81210</td>\n",
       "      <td>M</td>\n",
       "    </tr>\n",
       "    <tr>\n",
       "      <th>1109</th>\n",
       "      <td>993675</td>\n",
       "      <td>29</td>\n",
       "      <td>True</td>\n",
       "      <td></td>\n",
       "      <td>55800_85621</td>\n",
       "      <td>F</td>\n",
       "    </tr>\n",
       "    <tr>\n",
       "      <th>1110</th>\n",
       "      <td>994273</td>\n",
       "      <td>30</td>\n",
       "      <td>True</td>\n",
       "      <td></td>\n",
       "      <td>52364_82227</td>\n",
       "      <td>M</td>\n",
       "    </tr>\n",
       "    <tr>\n",
       "      <th>1111</th>\n",
       "      <td>995174</td>\n",
       "      <td>25</td>\n",
       "      <td>True</td>\n",
       "      <td>MZ</td>\n",
       "      <td>55923_85743</td>\n",
       "      <td>M</td>\n",
       "    </tr>\n",
       "    <tr>\n",
       "      <th>1112</th>\n",
       "      <td>996782</td>\n",
       "      <td>28</td>\n",
       "      <td>True</td>\n",
       "      <td>DZ</td>\n",
       "      <td>51541_81405</td>\n",
       "      <td>F</td>\n",
       "    </tr>\n",
       "  </tbody>\n",
       "</table>\n",
       "<p>1113 rows × 6 columns</p>\n",
       "</div>"
      ],
      "text/plain": [
       "      Subject  Age_in_Yrs  HasGT ZygosityGT          Family_ID Gender\n",
       "0      100206          27   True                   56037_85858      M\n",
       "1      100307          27   True         MZ        51488_81352      F\n",
       "2      100408          33   True         MZ        51730_81594      M\n",
       "3      100610          27   True         DZ        52813_82634      M\n",
       "4      101006          35   True             51283_52850_81149      F\n",
       "...       ...         ...    ...        ...                ...    ...\n",
       "1108   992774          35   True                   51345_81210      M\n",
       "1109   993675          29   True                   55800_85621      F\n",
       "1110   994273          30   True                   52364_82227      M\n",
       "1111   995174          25   True         MZ        55923_85743      M\n",
       "1112   996782          28   True         DZ        51541_81405      F\n",
       "\n",
       "[1113 rows x 6 columns]"
      ]
     },
     "execution_count": 380,
     "metadata": {},
     "output_type": "execute_result"
    }
   ],
   "source": [
    "HCP_info = HCP_info[HCP_info['Subject'].isin(HCP_IID.values)]\n",
    "HCP_info = HCP_info.merge(participants, on='Subject', how='inner')\n",
    "HCP_info = HCP_info[['Subject', 'Age_in_Yrs', 'HasGT', 'ZygosityGT', 'Family_ID', 'Gender']]\n",
    "HCP_info"
   ]
  },
  {
   "cell_type": "markdown",
   "metadata": {},
   "source": [
    "#### Test if I can access to the monozygous or dizygous twins only"
   ]
  },
  {
   "cell_type": "code",
   "execution_count": 381,
   "metadata": {},
   "outputs": [
    {
     "name": "stdout",
     "output_type": "stream",
     "text": [
      "(286,)\n",
      "\n",
      "148\n"
     ]
    }
   ],
   "source": [
    "# to get only the monozygous twins\n",
    "MZ_ID = HCP_info[HCP_info['ZygosityGT'] == 'MZ']['Subject'].values\n",
    "print(MZ_ID.shape)\n",
    "print()\n",
    "# to get the number of unique family ID\n",
    "HCP_info_MZ = HCP_info[HCP_info['ZygosityGT'] == 'MZ']\n",
    "print(len(HCP_info_MZ['Family_ID'].unique()))"
   ]
  },
  {
   "cell_type": "markdown",
   "metadata": {},
   "source": [
    "As we can see, 148*2=296, therefore it means that some twins don't have the same family ID, therefore they are considered as alone. In the best case, we are dealing with 286//2=143 pairs."
   ]
  },
  {
   "cell_type": "code",
   "execution_count": 382,
   "metadata": {},
   "outputs": [
    {
     "name": "stdout",
     "output_type": "stream",
     "text": [
      "(170,)\n",
      "\n",
      "91\n"
     ]
    }
   ],
   "source": [
    "# to get only the dizygous twins\n",
    "DZ_ID = HCP_info[HCP_info['ZygosityGT'] == 'DZ']['Subject'].values\n",
    "print(DZ_ID.shape)\n",
    "print()\n",
    "HCP_info_DZ = HCP_info[HCP_info['ZygosityGT'] == 'DZ']\n",
    "print(len(HCP_info_DZ['Family_ID'].unique()))"
   ]
  },
  {
   "cell_type": "markdown",
   "metadata": {},
   "source": [
    "Same here, 91*2=182, which means that some of the dizygous twins don't have the same family ID, or they are on their own."
   ]
  },
  {
   "cell_type": "markdown",
   "metadata": {},
   "source": [
    "#### Get the twin pairs depending on the Family_ID"
   ]
  },
  {
   "cell_type": "code",
   "execution_count": 383,
   "metadata": {},
   "outputs": [
    {
     "name": "stdout",
     "output_type": "stream",
     "text": [
      "138\n"
     ]
    }
   ],
   "source": [
    "list_MZ_twin_id = []\n",
    "\n",
    "for familiy_id in HCP_info_MZ['Family_ID'].unique():\n",
    "    # we start by checking if there are two twins in the same family\n",
    "    if HCP_info_MZ['Family_ID'].isin([familiy_id]).sum(axis=0) == 2:\n",
    "        # get the ID of the Monozygous twins that have the same family ID\n",
    "        list_MZ_twin_id.append(HCP_info_MZ[HCP_info_MZ['Family_ID'].isin([familiy_id])]['Subject'].values)\n",
    "\n",
    "print(len(list_MZ_twin_id))"
   ]
  },
  {
   "cell_type": "code",
   "execution_count": 384,
   "metadata": {},
   "outputs": [
    {
     "name": "stdout",
     "output_type": "stream",
     "text": [
      "79\n"
     ]
    }
   ],
   "source": [
    "list_DZ_twin_id = []\n",
    "\n",
    "for familiy_id in HCP_info_DZ['Family_ID'].unique():\n",
    "    # we start by checking if there are two twins in the same family\n",
    "    if HCP_info_DZ['Family_ID'].isin([familiy_id]).sum(axis=0) == 2:\n",
    "        # get the ID of the Monozygous twins that have the same family ID\n",
    "        list_DZ_twin_id.append(HCP_info_DZ[HCP_info_DZ['Family_ID'].isin([familiy_id])]['Subject'].values)\n",
    "\n",
    "print(len(list_DZ_twin_id))"
   ]
  },
  {
   "cell_type": "markdown",
   "metadata": {},
   "source": [
    "#### Get the siblings that are not twins"
   ]
  },
  {
   "cell_type": "code",
   "execution_count": 385,
   "metadata": {},
   "outputs": [
    {
     "data": {
      "text/plain": [
       "188"
      ]
     },
     "execution_count": 385,
     "metadata": {},
     "output_type": "execute_result"
    }
   ],
   "source": [
    "list_siblings_id = []\n",
    "\n",
    "for familiy_id in HCP_info['Family_ID'].unique():\n",
    "    # we start by checking if there are two siblings (or more) in the same family\n",
    "    if HCP_info['Family_ID'].isin([familiy_id]).sum(axis=0) >= 2:\n",
    "        # get the ID of the siblings that have the same family ID\n",
    "        siblings = (HCP_info[HCP_info['Family_ID'].isin([familiy_id])])\n",
    "        siblings = siblings[siblings['ZygosityGT'] == ' ']\n",
    "        if len(siblings) >=2:\n",
    "            list_siblings_id.append(siblings['Subject'].to_numpy())\n",
    "\n",
    "\n",
    "len(list_siblings_id)"
   ]
  },
  {
   "cell_type": "markdown",
   "metadata": {},
   "source": [
    "#### Compute the correlation betwenn the predictions of having a PCS (probabilities) for the different twins"
   ]
  },
  {
   "cell_type": "code",
   "execution_count": 237,
   "metadata": {},
   "outputs": [],
   "source": [
    "pred = pd.read_csv('/neurospin/dico/adufournet/Runs/02_Heritability_Left_PCS_HCP/Heritability/data/HCP_prob_pred_left_PCS.csv')"
   ]
  },
  {
   "cell_type": "code",
   "execution_count": 238,
   "metadata": {},
   "outputs": [],
   "source": [
    "pred0 = pred[pred['IID'].isin([id[0] for id in list_MZ_twin_id])]['Pred'].to_numpy()\n",
    "pred1 = pred[pred['IID'].isin([id[1] for id in list_MZ_twin_id])]['Pred'].to_numpy()"
   ]
  },
  {
   "cell_type": "code",
   "execution_count": 239,
   "metadata": {},
   "outputs": [
    {
     "name": "stdout",
     "output_type": "stream",
     "text": [
      "PearsonRResult(statistic=0.0048706860151304324, pvalue=0.9547861730499835)\n"
     ]
    }
   ],
   "source": [
    "print(pearsonr(pred0,pred1))"
   ]
  },
  {
   "cell_type": "code",
   "execution_count": 240,
   "metadata": {},
   "outputs": [],
   "source": [
    "pred0 = pred[pred['IID'].isin([id[0] for id in list_DZ_twin_id])]['Pred'].to_numpy()\n",
    "pred1 = pred[pred['IID'].isin([id[1] for id in list_DZ_twin_id])]['Pred'].to_numpy()"
   ]
  },
  {
   "cell_type": "code",
   "execution_count": 241,
   "metadata": {},
   "outputs": [
    {
     "name": "stdout",
     "output_type": "stream",
     "text": [
      "PearsonRResult(statistic=-0.03858541274221328, pvalue=0.735654100758735)\n"
     ]
    }
   ],
   "source": [
    "print(pearsonr(pred0,pred1))"
   ]
  },
  {
   "cell_type": "markdown",
   "metadata": {},
   "source": [
    "#### Load an embedded space of dimension 256 for the left CINGULATE region from HCP"
   ]
  },
  {
   "cell_type": "code",
   "execution_count": 242,
   "metadata": {},
   "outputs": [],
   "source": [
    "#embeddings_HCP = pd.read_csv(\"/neurospin/dico/adufournet/Runs/02_Heritability_Left_PCS_HCP/Program/Output/2024-05-13/09-33-29_206/hcp_epoch60_embeddings/full_embeddings.csv\", index_col=0)\n",
    "#embeddings_HCP = pd.read_csv(\"/neurospin/dico/adufournet/Runs/01_Heritability_Right_PCS_HCP/Input/hcp_cingulate_full_embeddings.csv\", index_col=0)\n",
    "embedding = pd.read_csv('/neurospin/dico/adufournet/Runs/04_Heritability_Right_PCS_HCP_dim10/Output/2024-05-16/14-59-55_124/HCP_epoch100_embeddings/full_embeddings.csv', index_col=0)\n",
    "#embeddings_HCP = pd.read_csv('/neurospin/dico/adufournet/Runs/05_Heritability_Left_PCS_HCP_dim10/Output/2024-05-16/18-00-43_101/HCP_epoch100_embeddings/full_embeddings.csv', index_col=0)"
   ]
  },
  {
   "cell_type": "code",
   "execution_count": 243,
   "metadata": {},
   "outputs": [
    {
     "data": {
      "text/html": [
       "<div>\n",
       "<style scoped>\n",
       "    .dataframe tbody tr th:only-of-type {\n",
       "        vertical-align: middle;\n",
       "    }\n",
       "\n",
       "    .dataframe tbody tr th {\n",
       "        vertical-align: top;\n",
       "    }\n",
       "\n",
       "    .dataframe thead th {\n",
       "        text-align: right;\n",
       "    }\n",
       "</style>\n",
       "<table border=\"1\" class=\"dataframe\">\n",
       "  <thead>\n",
       "    <tr style=\"text-align: right;\">\n",
       "      <th></th>\n",
       "      <th>dim1</th>\n",
       "      <th>dim2</th>\n",
       "      <th>dim3</th>\n",
       "      <th>dim4</th>\n",
       "      <th>dim5</th>\n",
       "      <th>dim6</th>\n",
       "      <th>dim7</th>\n",
       "      <th>dim8</th>\n",
       "      <th>dim9</th>\n",
       "      <th>dim10</th>\n",
       "    </tr>\n",
       "    <tr>\n",
       "      <th>ID</th>\n",
       "      <th></th>\n",
       "      <th></th>\n",
       "      <th></th>\n",
       "      <th></th>\n",
       "      <th></th>\n",
       "      <th></th>\n",
       "      <th></th>\n",
       "      <th></th>\n",
       "      <th></th>\n",
       "      <th></th>\n",
       "    </tr>\n",
       "  </thead>\n",
       "  <tbody>\n",
       "    <tr>\n",
       "      <th>100307</th>\n",
       "      <td>-20.683155</td>\n",
       "      <td>8.301724</td>\n",
       "      <td>-4.261684</td>\n",
       "      <td>4.472646</td>\n",
       "      <td>13.218893</td>\n",
       "      <td>-16.967413</td>\n",
       "      <td>-1.476576</td>\n",
       "      <td>-20.642107</td>\n",
       "      <td>-10.574016</td>\n",
       "      <td>1.324456</td>\n",
       "    </tr>\n",
       "    <tr>\n",
       "      <th>100408</th>\n",
       "      <td>-14.781964</td>\n",
       "      <td>-2.385364</td>\n",
       "      <td>-3.744496</td>\n",
       "      <td>6.931076</td>\n",
       "      <td>3.715885</td>\n",
       "      <td>-23.628326</td>\n",
       "      <td>9.208353</td>\n",
       "      <td>-6.904660</td>\n",
       "      <td>6.460826</td>\n",
       "      <td>-3.000276</td>\n",
       "    </tr>\n",
       "    <tr>\n",
       "      <th>102311</th>\n",
       "      <td>-7.501474</td>\n",
       "      <td>-1.834044</td>\n",
       "      <td>-6.887348</td>\n",
       "      <td>14.231297</td>\n",
       "      <td>6.072979</td>\n",
       "      <td>-13.844952</td>\n",
       "      <td>5.187996</td>\n",
       "      <td>1.929284</td>\n",
       "      <td>3.758855</td>\n",
       "      <td>-0.984649</td>\n",
       "    </tr>\n",
       "    <tr>\n",
       "      <th>102816</th>\n",
       "      <td>-7.751057</td>\n",
       "      <td>3.297094</td>\n",
       "      <td>-3.259766</td>\n",
       "      <td>8.255127</td>\n",
       "      <td>9.769771</td>\n",
       "      <td>-29.922522</td>\n",
       "      <td>1.471945</td>\n",
       "      <td>-6.218337</td>\n",
       "      <td>-7.429228</td>\n",
       "      <td>-4.739106</td>\n",
       "    </tr>\n",
       "    <tr>\n",
       "      <th>103010</th>\n",
       "      <td>-12.632260</td>\n",
       "      <td>-3.268443</td>\n",
       "      <td>-13.273181</td>\n",
       "      <td>8.662956</td>\n",
       "      <td>7.946272</td>\n",
       "      <td>-24.647457</td>\n",
       "      <td>0.365621</td>\n",
       "      <td>-5.272497</td>\n",
       "      <td>6.341898</td>\n",
       "      <td>-0.015191</td>\n",
       "    </tr>\n",
       "    <tr>\n",
       "      <th>...</th>\n",
       "      <td>...</td>\n",
       "      <td>...</td>\n",
       "      <td>...</td>\n",
       "      <td>...</td>\n",
       "      <td>...</td>\n",
       "      <td>...</td>\n",
       "      <td>...</td>\n",
       "      <td>...</td>\n",
       "      <td>...</td>\n",
       "      <td>...</td>\n",
       "    </tr>\n",
       "    <tr>\n",
       "      <th>951457</th>\n",
       "      <td>-21.235777</td>\n",
       "      <td>10.554460</td>\n",
       "      <td>-1.451063</td>\n",
       "      <td>10.566967</td>\n",
       "      <td>10.397832</td>\n",
       "      <td>-18.540014</td>\n",
       "      <td>7.073459</td>\n",
       "      <td>-17.754663</td>\n",
       "      <td>-12.403839</td>\n",
       "      <td>1.650842</td>\n",
       "    </tr>\n",
       "    <tr>\n",
       "      <th>969476</th>\n",
       "      <td>-2.655029</td>\n",
       "      <td>-0.095762</td>\n",
       "      <td>-8.247488</td>\n",
       "      <td>7.310378</td>\n",
       "      <td>3.576700</td>\n",
       "      <td>-22.402502</td>\n",
       "      <td>-0.853260</td>\n",
       "      <td>-2.448911</td>\n",
       "      <td>-1.189878</td>\n",
       "      <td>-1.934327</td>\n",
       "    </tr>\n",
       "    <tr>\n",
       "      <th>971160</th>\n",
       "      <td>-21.245160</td>\n",
       "      <td>5.885299</td>\n",
       "      <td>-8.408477</td>\n",
       "      <td>19.585766</td>\n",
       "      <td>0.602085</td>\n",
       "      <td>-26.113306</td>\n",
       "      <td>18.828318</td>\n",
       "      <td>-5.438931</td>\n",
       "      <td>3.237270</td>\n",
       "      <td>6.109030</td>\n",
       "    </tr>\n",
       "    <tr>\n",
       "      <th>973770</th>\n",
       "      <td>-13.869494</td>\n",
       "      <td>-2.105288</td>\n",
       "      <td>-12.162862</td>\n",
       "      <td>9.784627</td>\n",
       "      <td>17.039011</td>\n",
       "      <td>-10.426422</td>\n",
       "      <td>-5.072438</td>\n",
       "      <td>-5.547107</td>\n",
       "      <td>0.894211</td>\n",
       "      <td>2.257913</td>\n",
       "    </tr>\n",
       "    <tr>\n",
       "      <th>995174</th>\n",
       "      <td>-17.794937</td>\n",
       "      <td>4.443390</td>\n",
       "      <td>4.521644</td>\n",
       "      <td>4.117420</td>\n",
       "      <td>10.811830</td>\n",
       "      <td>-12.569727</td>\n",
       "      <td>5.937139</td>\n",
       "      <td>-14.032168</td>\n",
       "      <td>-5.118197</td>\n",
       "      <td>-1.569467</td>\n",
       "    </tr>\n",
       "  </tbody>\n",
       "</table>\n",
       "<p>286 rows × 10 columns</p>\n",
       "</div>"
      ],
      "text/plain": [
       "             dim1       dim2       dim3       dim4       dim5       dim6  \\\n",
       "ID                                                                         \n",
       "100307 -20.683155   8.301724  -4.261684   4.472646  13.218893 -16.967413   \n",
       "100408 -14.781964  -2.385364  -3.744496   6.931076   3.715885 -23.628326   \n",
       "102311  -7.501474  -1.834044  -6.887348  14.231297   6.072979 -13.844952   \n",
       "102816  -7.751057   3.297094  -3.259766   8.255127   9.769771 -29.922522   \n",
       "103010 -12.632260  -3.268443 -13.273181   8.662956   7.946272 -24.647457   \n",
       "...           ...        ...        ...        ...        ...        ...   \n",
       "951457 -21.235777  10.554460  -1.451063  10.566967  10.397832 -18.540014   \n",
       "969476  -2.655029  -0.095762  -8.247488   7.310378   3.576700 -22.402502   \n",
       "971160 -21.245160   5.885299  -8.408477  19.585766   0.602085 -26.113306   \n",
       "973770 -13.869494  -2.105288 -12.162862   9.784627  17.039011 -10.426422   \n",
       "995174 -17.794937   4.443390   4.521644   4.117420  10.811830 -12.569727   \n",
       "\n",
       "             dim7       dim8       dim9     dim10  \n",
       "ID                                                 \n",
       "100307  -1.476576 -20.642107 -10.574016  1.324456  \n",
       "100408   9.208353  -6.904660   6.460826 -3.000276  \n",
       "102311   5.187996   1.929284   3.758855 -0.984649  \n",
       "102816   1.471945  -6.218337  -7.429228 -4.739106  \n",
       "103010   0.365621  -5.272497   6.341898 -0.015191  \n",
       "...           ...        ...        ...       ...  \n",
       "951457   7.073459 -17.754663 -12.403839  1.650842  \n",
       "969476  -0.853260  -2.448911  -1.189878 -1.934327  \n",
       "971160  18.828318  -5.438931   3.237270  6.109030  \n",
       "973770  -5.072438  -5.547107   0.894211  2.257913  \n",
       "995174   5.937139 -14.032168  -5.118197 -1.569467  \n",
       "\n",
       "[286 rows x 10 columns]"
      ]
     },
     "execution_count": 243,
     "metadata": {},
     "output_type": "execute_result"
    }
   ],
   "source": [
    "embedding.loc[MZ_ID]"
   ]
  },
  {
   "cell_type": "markdown",
   "metadata": {},
   "source": [
    "### Calculation of the distances between the different twins"
   ]
  },
  {
   "cell_type": "markdown",
   "metadata": {},
   "source": [
    "First, the monozygous twins."
   ]
  },
  {
   "cell_type": "code",
   "execution_count": 244,
   "metadata": {},
   "outputs": [
    {
     "name": "stdout",
     "output_type": "stream",
     "text": [
      "The average cosine distance for the monozygous twin in the 256 dim latent space is 0.25995397955738325\n",
      "The average euclidean distance for the monozygous twin in the 256 dim latent space is 696.2066574741825\n"
     ]
    }
   ],
   "source": [
    "zygot_dist = []\n",
    "MZ_eucli_dist = []\n",
    "\n",
    "for twin_pair in list_zygot_twin_id:\n",
    "    twin0 = twin_pair[0]\n",
    "    twin1 = twin_pair[1]\n",
    "    zygot_dist.append((distance.pdist([embedding.loc[twin0].values, embedding.loc[twin1].values], 'cosine'))[0])\n",
    "    MZ_eucli_dist.append(distance.pdist([embedding.loc[twin0].values, embedding.loc[twin1].values], 'sqeuclidean')[0])\n",
    "\n",
    "zygot_mean_dist = np.sum(zygot_dist)/len(zygot_dist)\n",
    "MZ_mean_eucli_dist = np.sum(MZ_eucli_dist)/len(MZ_eucli_dist)\n",
    "\n",
    "print(f'The average cosine distance for the monozygous twin in the 256 dim latent space is {zygot_mean_dist}')\n",
    "print(f'The average euclidean distance for the monozygous twin in the 256 dim latent space is {MZ_mean_eucli_dist}')"
   ]
  },
  {
   "cell_type": "markdown",
   "metadata": {},
   "source": [
    "Then, the dizygous twins."
   ]
  },
  {
   "cell_type": "code",
   "execution_count": 245,
   "metadata": {},
   "outputs": [
    {
     "name": "stdout",
     "output_type": "stream",
     "text": [
      "The average cosine distance for the dizygous twin in the 256 dim latent space is 0.2706001017314871\n",
      "The average euclidean distance for the dizygous twin in the 256 dim latent space is 847.7255362107318\n"
     ]
    }
   ],
   "source": [
    "DZ_dist = []\n",
    "DZ_eucli_dist = []\n",
    "\n",
    "for twin_pair in list_DZ_twin_id:\n",
    "    twin0 = twin_pair[0]\n",
    "    twin1 = twin_pair[1]\n",
    "    DZ_dist.append(distance.pdist([embedding.loc[twin0].values, embedding.loc[twin1].values], 'cosine')[0])\n",
    "    DZ_eucli_dist.append(distance.pdist([embedding.loc[twin0].values, embedding.loc[twin1].values], 'sqeuclidean')[0])\n",
    "\n",
    "DZ_mean_cos_dist = np.sum(DZ_dist)/len(DZ_dist)\n",
    "DZ_mean_eucli_dist = np.sum(DZ_eucli_dist)/len(DZ_eucli_dist)\n",
    "\n",
    "print(f'The average cosine distance for the dizygous twin in the 256 dim latent space is {DZ_mean_cos_dist}')\n",
    "print(f'The average euclidean distance for the dizygous twin in the 256 dim latent space is {DZ_mean_eucli_dist}')"
   ]
  },
  {
   "cell_type": "markdown",
   "metadata": {},
   "source": [
    "Then, we can get the average distance between all the representations."
   ]
  },
  {
   "cell_type": "code",
   "execution_count": 246,
   "metadata": {},
   "outputs": [],
   "source": [
    "dist_overall = distance.pdist(embedding.values, 'cosine')\n",
    "eucli_dist_overall = distance.pdist(embedding.values, 'sqeuclidean')"
   ]
  },
  {
   "cell_type": "code",
   "execution_count": 247,
   "metadata": {},
   "outputs": [
    {
     "data": {
      "image/png": "[encoded data removed]",
      "text/plain": [
       "<Figure size 1800x800 with 1 Axes>"
      ]
     },
     "metadata": {},
     "output_type": "display_data"
    }
   ],
   "source": [
    "plt.figure(figsize=(18,8))\n",
    "plt.hist(dist_overall, bins=100, density=True, label='All', color='cornflowerblue')\n",
    "plt.hist(zygot_dist, bins=40, density=True, alpha=0.5, label='MZ', color='orange')\n",
    "plt.hist(DZ_dist, bins=40, density=True, alpha=0.4, label='DZ', color='green')\n",
    "plt.xlabel('cosine distance')\n",
    "plt.legend()\n",
    "plt.show()"
   ]
  },
  {
   "cell_type": "code",
   "execution_count": 248,
   "metadata": {},
   "outputs": [
    {
     "data": {
      "image/png": "[encoded data removed]",
      "text/plain": [
       "<Figure size 640x480 with 1 Axes>"
      ]
     },
     "metadata": {},
     "output_type": "display_data"
    }
   ],
   "source": [
    "values_all_cos, base_all_cos = np.histogram(dist_overall, bins=80)\n",
    "cumulative_all = np.cumsum(values_all_cos)\n",
    "values_MZ, base_MZ_cos = np.histogram(zygot_dist, bins=80)\n",
    "cumulative_MZ = np.cumsum(values_MZ)\n",
    "values_DZ, base_DZ = np.histogram(DZ_dist, bins=80)\n",
    "cumulative_DZ = np.cumsum(values_DZ)\n",
    "plt.plot(base_all_cos[:-1], cumulative_all/len(dist_overall), c='cornflowerblue', label='All')\n",
    "plt.plot(base_MZ_cos[:-1], cumulative_MZ/len(zygot_dist), c='orange', label='MZ')\n",
    "plt.plot(base_DZ[:-1], cumulative_DZ/len(DZ_dist), c='green', label='DZ')\n",
    "plt.title(f'Cumulative function for the average distance between the subjects in HCP embeddings')\n",
    "plt.xlabel('Cosine Distance')\n",
    "plt.legend()\n",
    "plt.show()"
   ]
  },
  {
   "cell_type": "code",
   "execution_count": 249,
   "metadata": {},
   "outputs": [
    {
     "data": {
      "text/plain": [
       "0.2977764541366585"
      ]
     },
     "execution_count": 249,
     "metadata": {},
     "output_type": "execute_result"
    }
   ],
   "source": [
    "all_cos_dist_mean = dist_overall.sum()/len(dist_overall)\n",
    "all_cos_dist_mean"
   ]
  },
  {
   "cell_type": "code",
   "execution_count": 250,
   "metadata": {},
   "outputs": [
    {
     "data": {
      "text/plain": [
       "828.9678659643608"
      ]
     },
     "execution_count": 250,
     "metadata": {},
     "output_type": "execute_result"
    }
   ],
   "source": [
    "all_eucli_dist_mean = eucli_dist_overall.sum()/len(eucli_dist_overall)\n",
    "all_eucli_dist_mean"
   ]
  },
  {
   "cell_type": "markdown",
   "metadata": {},
   "source": [
    "And compute the relative difference between the average distance and the specific twins' distances. "
   ]
  },
  {
   "cell_type": "code",
   "execution_count": 251,
   "metadata": {},
   "outputs": [
    {
     "data": {
      "text/plain": [
       "0.12701633743653007"
      ]
     },
     "execution_count": 251,
     "metadata": {},
     "output_type": "execute_result"
    }
   ],
   "source": [
    "(all_cos_dist_mean - zygot_mean_dist)/all_cos_dist_mean"
   ]
  },
  {
   "cell_type": "code",
   "execution_count": 252,
   "metadata": {},
   "outputs": [
    {
     "data": {
      "text/plain": [
       "0.1601524183759929"
      ]
     },
     "execution_count": 252,
     "metadata": {},
     "output_type": "execute_result"
    }
   ],
   "source": [
    "(all_eucli_dist_mean - MZ_mean_eucli_dist)/all_eucli_dist_mean"
   ]
  },
  {
   "cell_type": "code",
   "execution_count": 253,
   "metadata": {},
   "outputs": [
    {
     "data": {
      "text/plain": [
       "0.0912642756928638"
      ]
     },
     "execution_count": 253,
     "metadata": {},
     "output_type": "execute_result"
    }
   ],
   "source": [
    "(all_cos_dist_mean - DZ_mean_cos_dist)/all_cos_dist_mean"
   ]
  },
  {
   "cell_type": "code",
   "execution_count": 254,
   "metadata": {},
   "outputs": [
    {
     "data": {
      "text/plain": [
       "-0.02262774109410095"
      ]
     },
     "execution_count": 254,
     "metadata": {},
     "output_type": "execute_result"
    }
   ],
   "source": [
    "(all_eucli_dist_mean - DZ_mean_eucli_dist)/all_eucli_dist_mean"
   ]
  },
  {
   "cell_type": "markdown",
   "metadata": {},
   "source": [
    "## Definition of a function to compare different embedded spaces"
   ]
  },
  {
   "cell_type": "code",
   "execution_count": 390,
   "metadata": {},
   "outputs": [],
   "source": [
    "def visual_dist_ebd(embedding, metric):\n",
    "    '''\n",
    "    Parameters\n",
    "    ----------\n",
    "    embedding : df\n",
    "        The dataframe which contains the embedded space\n",
    "    metric : str\n",
    "        The distance metric to use\n",
    "\n",
    "    return\n",
    "    ------\n",
    "    Plot the distribution and the cumulative function for all the subjects, \n",
    "    the pairs of monozygotic twins and the pairs of dizygotic twins, given\n",
    "    the sex.\n",
    "    '''\n",
    "    sex = [['F'], ['M'], ['F', 'M']]\n",
    "\n",
    "    dic_id = {}\n",
    "\n",
    "    for sexi in sex:\n",
    "\n",
    "        HCP_info_sexi = HCP_info[HCP_info['Gender'].isin(sexi)] # get the df only for 'M' or 'F'\n",
    "        sexi_id = HCP_info_sexi['Subject'].to_numpy() # get only the id of the subject (for the given sex)\n",
    "        dist_overall = distance.pdist(embedding.loc[sexi_id].to_numpy(), metric)\n",
    "        print(f'Average {metric} distance for the all subjects {sexi} in the {embedding.shape[1]} dim latent space is:')\n",
    "        print(f'{dist_overall.mean()}')\n",
    "        dic_id[f'{sexi}_overall_dist'] = dist_overall\n",
    "\n",
    "        list_siblings_id = []\n",
    "\n",
    "        for familiy_id in HCP_info_sexi['Family_ID'].unique():\n",
    "            # we start by checking if there are two siblings (or more) in the same family\n",
    "            if HCP_info_sexi['Family_ID'].isin([familiy_id]).sum(axis=0) >= 2:\n",
    "                # get the ID of the siblings that have the same family ID\n",
    "                siblings = (HCP_info_sexi[HCP_info_sexi['Family_ID'].isin([familiy_id])])\n",
    "                siblings = siblings[siblings['ZygosityGT'] == ' ']\n",
    "                if len(siblings) >=2:\n",
    "                    list_siblings_id.append(siblings['Subject'].to_numpy())\n",
    "\n",
    "        siblings_dist = []\n",
    "        for siblings in list_siblings_id:\n",
    "            siblings_dist.append((distance.pdist(embedding.loc[siblings].to_numpy(), metric))[0])\n",
    "        \n",
    "        siblings_mean_dist = np.mean(siblings_dist)\n",
    "\n",
    "        print(f'Average {metric} distance for the {sexi} siblings (not twins) in the {embedding.shape[1]} dim latent space is : {siblings_mean_dist}')\n",
    "        dic_id[f'{sexi}_siblings_dist'] = siblings_dist\n",
    "\n",
    "        for zygot in ['MZ', 'DZ']:\n",
    "            # to get the number of unique family ID\n",
    "            HCP_info_zygot = HCP_info_sexi[HCP_info_sexi['ZygosityGT'] == zygot]\n",
    "            # get the twin pairs depending on the family_ID \n",
    "            list_zygot_twin_id = []\n",
    "\n",
    "            for familiy_id in HCP_info_zygot['Family_ID'].unique():\n",
    "                # we start by checking if there are two twins in the same family\n",
    "                if HCP_info_zygot['Family_ID'].isin([familiy_id]).sum(axis=0) == 2:\n",
    "                    # get the ID of the --zygous twins that have the same family ID\n",
    "                    HCP_target_ID = HCP_info_zygot[HCP_info_zygot['Family_ID'].isin([familiy_id])]\n",
    "                    list_zygot_twin_id.append(HCP_target_ID['Subject'].to_numpy())\n",
    "\n",
    "            zygot_dist = []\n",
    "\n",
    "\n",
    "            for twin_pair in list_zygot_twin_id:\n",
    "                twin0 = twin_pair[0]\n",
    "                twin1 = twin_pair[1]\n",
    "                zygot_dist.append((distance.pdist([embedding.loc[twin0].to_numpy(), embedding.loc[twin1].to_numpy()], metric))[0])\n",
    "\n",
    "            zygot_mean_dist = np.mean(zygot_dist)\n",
    "\n",
    "            print(f'Average {metric} distance for the {sexi} {zygot} twin in the {embedding.shape[1]} dim latent space is : {zygot_mean_dist}')\n",
    "            dic_id[f'{sexi}_{zygot}_mean_dist'] = zygot_mean_dist\n",
    "            dic_id[f'{sexi}_{zygot}_dist'] = zygot_dist\n",
    "\n",
    "    plt.figure(figsize=(24,8))\n",
    "    for i in range(0,3):\n",
    "        plt.subplot(2,3,i+1)\n",
    "        plt.hist(dic_id[f'{sex[i]}_overall_dist'], bins=100, density=True, label=f'All {sex[i]}', color='cornflowerblue')\n",
    "        plt.hist(dic_id[f'{sex[i]}_MZ_dist'], bins=40, density=True, alpha=0.5, label=f'MZ {sex[i]}', color='orange')\n",
    "        plt.hist(dic_id[f'{sex[i]}_DZ_dist'], bins=40, density=True, alpha=0.4, label=f'DZ {sex[i]}', color='green')\n",
    "        plt.hist(dic_id[f'{sex[i]}_siblings_dist'], bins=40, density=True, alpha=0.4, label=f'Siblings {sex[i]}', color='darkorchid')\n",
    "        plt.xlabel(f'{metric} distance')\n",
    "        plt.legend()\n",
    "\n",
    "\n",
    "        values_all, base_all = np.histogram(dic_id[f'{sex[i]}_overall_dist'], bins=80)\n",
    "        cumulative_all = np.cumsum(values_all)\n",
    "        values_MZ, base_MZ = np.histogram(dic_id[f'{sex[i]}_MZ_dist'], bins=80)\n",
    "        cumulative_MZ = np.cumsum(values_MZ)\n",
    "        values_DZ, base_DZ = np.histogram(dic_id[f'{sex[i]}_DZ_dist'], bins=80)\n",
    "        cumulative_DZ = np.cumsum(values_DZ)\n",
    "        values_siblings, base_siblings = np.histogram(dic_id[f'{sex[i]}_siblings_dist'], bins=80)\n",
    "        cumulative_siblings = np.cumsum(values_siblings)\n",
    "        plt.subplot(2,3,i+4)\n",
    "        plt.plot(base_all[:-1], cumulative_all/len(dic_id[f'{sex[i]}_overall_dist']), c='cornflowerblue', label=f'All {sex[i]}')\n",
    "        plt.plot(base_MZ[:-1], cumulative_MZ/len(dic_id[f'{sex[i]}_MZ_dist']), c='orange', label=f'MZ {sex[i]}')\n",
    "        plt.plot(base_DZ[:-1], cumulative_DZ/len(dic_id[f'{sex[i]}_DZ_dist']), c='green', label=f'DZ {sex[i]}')\n",
    "        plt.plot(base_siblings[:-1], cumulative_siblings/len(dic_id[f'{sex[i]}_siblings_dist']), c='darkorchid', label=f'Siblings {sex[i]}')\n",
    "        plt.xlabel(f'Cumulative function for the average distance between the subjects in HCP embeddings')\n",
    "        plt.legend()\n",
    "        \n",
    "    plt.show()\n",
    "    "
   ]
  },
  {
   "cell_type": "code",
   "execution_count": 397,
   "metadata": {},
   "outputs": [],
   "source": [
    "embedding = pd.read_csv(\"/neurospin/dico/adufournet/Runs/02_Heritability_Left_PCS_HCP/Program/Output/2024-05-13/09-33-29_206/hcp_epoch60_embeddings/full_embeddings.csv\", index_col=0)\n",
    "#embedding = pd.read_csv(\"/neurospin/dico/adufournet/Runs/01_Heritability_Right_PCS_HCP/Input/hcp_cingulate_full_embeddings.csv\", index_col=0)\n",
    "#embedding = pd.read_csv('/neurospin/dico/adufournet/Runs/04_Heritability_Right_PCS_HCP_dim10/Output/2024-05-16/14-59-55_124/HCP_epoch100_embeddings/full_embeddings.csv', index_col=0)\n",
    "#embedding = pd.read_csv('/neurospin/dico/adufournet/Runs/05_Heritability_Left_PCS_HCP_dim10/Output/2024-05-16/18-00-43_101/HCP_epoch100_embeddings/full_embeddings.csv', index_col=0)"
   ]
  },
  {
   "cell_type": "code",
   "execution_count": 400,
   "metadata": {},
   "outputs": [
    {
     "name": "stdout",
     "output_type": "stream",
     "text": [
      "Average chebyshev distance for the all subjects ['F'] in the 256 dim latent space is:\n",
      "63.25046829040015\n",
      "Average chebyshev distance for the ['F'] siblings (not twins) in the 256 dim latent space is : 62.698753569142845\n",
      "Average chebyshev distance for the ['F'] MZ twin in the 256 dim latent space is : 60.6303073654321\n",
      "Average chebyshev distance for the ['F'] DZ twin in the 256 dim latent space is : 61.42842778367346\n",
      "Average chebyshev distance for the all subjects ['M'] in the 256 dim latent space is:\n",
      "63.03911129498832\n",
      "Average chebyshev distance for the ['M'] siblings (not twins) in the 256 dim latent space is : 61.51674717096775\n",
      "Average chebyshev distance for the ['M'] MZ twin in the 256 dim latent space is : 59.688702208771936\n",
      "Average chebyshev distance for the ['M'] DZ twin in the 256 dim latent space is : 56.60422603333333\n",
      "Average chebyshev distance for the all subjects ['F', 'M'] in the 256 dim latent space is:\n",
      "63.23391645886574\n",
      "Average chebyshev distance for the ['F', 'M'] siblings (not twins) in the 256 dim latent space is : 61.548184070053196\n",
      "Average chebyshev distance for the ['F', 'M'] MZ twin in the 256 dim latent space is : 60.24138349637682\n",
      "Average chebyshev distance for the ['F', 'M'] DZ twin in the 256 dim latent space is : 59.59645243544303\n"
     ]
    },
    {
     "data": {
      "image/png": "[encoded data removed]",
      "text/plain": [
       "<Figure size 2400x800 with 6 Axes>"
      ]
     },
     "metadata": {},
     "output_type": "display_data"
    }
   ],
   "source": [
    "visual_dist_ebd(embedding, 'chebyshev') # 'euclidean', 'cosine'"
   ]
  },
  {
   "cell_type": "markdown",
   "metadata": {},
   "source": [
    "### Test et p-value"
   ]
  }
 ],
 "metadata": {
  "kernelspec": {
   "display_name": "venv",
   "language": "python",
   "name": "python3"
  },
  "language_info": {
   "codemirror_mode": {
    "name": "ipython",
    "version": 3
   },
   "file_extension": ".py",
   "mimetype": "text/x-python",
   "name": "python",
   "nbconvert_exporter": "python",
   "pygments_lexer": "ipython3",
   "version": "3.10.12"
  }
 },
 "nbformat": 4,
 "nbformat_minor": 2
}
