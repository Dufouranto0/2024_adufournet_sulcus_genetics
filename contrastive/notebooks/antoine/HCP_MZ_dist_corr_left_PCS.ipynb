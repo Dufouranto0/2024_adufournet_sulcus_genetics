{
 "cells": [
  {
   "cell_type": "code",
   "execution_count": 59,
   "metadata": {},
   "outputs": [
    {
     "name": "stderr",
     "output_type": "stream",
     "text": [
      "/tmp/ipykernel_1324405/218840759.py:7: DeprecationWarning: Please import `pearsonr` from the `scipy.stats` namespace; the `scipy.stats.stats` namespace is deprecated and will be removed in SciPy 2.0.0.\n",
      "  from scipy.stats.stats import pearsonr\n"
     ]
    }
   ],
   "source": [
    "import os\n",
    "import numpy as np\n",
    "import matplotlib.pyplot as plt\n",
    "import seaborn as sns\n",
    "import pandas as pd\n",
    "from scipy.spatial import distance\n",
    "from scipy.stats.stats import pearsonr "
   ]
  },
  {
   "cell_type": "markdown",
   "metadata": {},
   "source": [
    "So as to know the information about the HCP database, see below."
   ]
  },
  {
   "cell_type": "code",
   "execution_count": 3,
   "metadata": {},
   "outputs": [
    {
     "data": {
      "text/html": [
       "<div>\n",
       "<style scoped>\n",
       "    .dataframe tbody tr th:only-of-type {\n",
       "        vertical-align: middle;\n",
       "    }\n",
       "\n",
       "    .dataframe tbody tr th {\n",
       "        vertical-align: top;\n",
       "    }\n",
       "\n",
       "    .dataframe thead th {\n",
       "        text-align: right;\n",
       "    }\n",
       "</style>\n",
       "<table border=\"1\" class=\"dataframe\">\n",
       "  <thead>\n",
       "    <tr style=\"text-align: right;\">\n",
       "      <th></th>\n",
       "      <th>fullDisplayName</th>\n",
       "      <th>category</th>\n",
       "      <th>assessment</th>\n",
       "      <th>columnHeader</th>\n",
       "      <th>description</th>\n",
       "    </tr>\n",
       "  </thead>\n",
       "  <tbody>\n",
       "    <tr>\n",
       "      <th>0</th>\n",
       "      <td>Subject</td>\n",
       "      <td>Subject Information</td>\n",
       "      <td>Demographics</td>\n",
       "      <td>Subject</td>\n",
       "      <td>HCP Subject ID</td>\n",
       "    </tr>\n",
       "    <tr>\n",
       "      <th>1</th>\n",
       "      <td>Quarter Released</td>\n",
       "      <td>Subject Information</td>\n",
       "      <td>Demographics</td>\n",
       "      <td>Release</td>\n",
       "      <td>HCP data release in which this subject's data ...</td>\n",
       "    </tr>\n",
       "    <tr>\n",
       "      <th>2</th>\n",
       "      <td>Acquisition Quarter</td>\n",
       "      <td>Subject Information</td>\n",
       "      <td>Demographics</td>\n",
       "      <td>Acquisition</td>\n",
       "      <td>Quarter in which this subject's 3T and behavio...</td>\n",
       "    </tr>\n",
       "    <tr>\n",
       "      <th>3</th>\n",
       "      <td>Gender</td>\n",
       "      <td>Subject Information</td>\n",
       "      <td>Demographics</td>\n",
       "      <td>Gender</td>\n",
       "      <td>Gender of Subject</td>\n",
       "    </tr>\n",
       "    <tr>\n",
       "      <th>4</th>\n",
       "      <td>Age Range</td>\n",
       "      <td>Subject Information</td>\n",
       "      <td>Demographics</td>\n",
       "      <td>Age</td>\n",
       "      <td>Age group of Participant, banded in five-year ...</td>\n",
       "    </tr>\n",
       "    <tr>\n",
       "      <th>...</th>\n",
       "      <td>...</td>\n",
       "      <td>...</td>\n",
       "      <td>...</td>\n",
       "      <td>...</td>\n",
       "      <td>...</td>\n",
       "    </tr>\n",
       "    <tr>\n",
       "      <th>808</th>\n",
       "      <td>MOV4 TRfrac</td>\n",
       "      <td>7T Eye Tracker Metadata</td>\n",
       "      <td>MOV</td>\n",
       "      <td>MOV4_TRFRAC</td>\n",
       "      <td>The value of TRfrac (percentage of total scan ...</td>\n",
       "    </tr>\n",
       "    <tr>\n",
       "      <th>809</th>\n",
       "      <td>MOV eyetrack compl</td>\n",
       "      <td>7T Eye Tracker Metadata</td>\n",
       "      <td>MOV</td>\n",
       "      <td>MOV_EYETRACK_COMPL</td>\n",
       "      <td>TRfrac (percentage of total scan time that had...</td>\n",
       "    </tr>\n",
       "    <tr>\n",
       "      <th>810</th>\n",
       "      <td>REST trackfrac min</td>\n",
       "      <td>7T Eye Tracker Metadata</td>\n",
       "      <td>REST</td>\n",
       "      <td>REST_TRACKFRAC_MIN</td>\n",
       "      <td>The minimum value for Trackfrac (percentage of...</td>\n",
       "    </tr>\n",
       "    <tr>\n",
       "      <th>811</th>\n",
       "      <td>REST TRfrac min</td>\n",
       "      <td>7T Eye Tracker Metadata</td>\n",
       "      <td>REST</td>\n",
       "      <td>REST_TRFRAC_MIN</td>\n",
       "      <td>The minimum value for TRfrac (percentage of to...</td>\n",
       "    </tr>\n",
       "    <tr>\n",
       "      <th>812</th>\n",
       "      <td>REST eyetrack compl</td>\n",
       "      <td>7T Eye Tracker Metadata</td>\n",
       "      <td>REST</td>\n",
       "      <td>REST_EYETRACK_COMPL</td>\n",
       "      <td>TRfrac (percentage of total scan time that had...</td>\n",
       "    </tr>\n",
       "  </tbody>\n",
       "</table>\n",
       "<p>813 rows × 5 columns</p>\n",
       "</div>"
      ],
      "text/plain": [
       "         fullDisplayName                 category    assessment  \\\n",
       "0                Subject      Subject Information  Demographics   \n",
       "1       Quarter Released      Subject Information  Demographics   \n",
       "2    Acquisition Quarter      Subject Information  Demographics   \n",
       "3                 Gender      Subject Information  Demographics   \n",
       "4              Age Range      Subject Information  Demographics   \n",
       "..                   ...                      ...           ...   \n",
       "808          MOV4 TRfrac  7T Eye Tracker Metadata           MOV   \n",
       "809   MOV eyetrack compl  7T Eye Tracker Metadata           MOV   \n",
       "810   REST trackfrac min  7T Eye Tracker Metadata          REST   \n",
       "811      REST TRfrac min  7T Eye Tracker Metadata          REST   \n",
       "812  REST eyetrack compl  7T Eye Tracker Metadata          REST   \n",
       "\n",
       "            columnHeader                                        description  \n",
       "0                Subject                                     HCP Subject ID  \n",
       "1                Release  HCP data release in which this subject's data ...  \n",
       "2            Acquisition  Quarter in which this subject's 3T and behavio...  \n",
       "3                 Gender                                  Gender of Subject  \n",
       "4                    Age  Age group of Participant, banded in five-year ...  \n",
       "..                   ...                                                ...  \n",
       "808          MOV4_TRFRAC  The value of TRfrac (percentage of total scan ...  \n",
       "809   MOV_EYETRACK_COMPL  TRfrac (percentage of total scan time that had...  \n",
       "810   REST_TRACKFRAC_MIN  The minimum value for Trackfrac (percentage of...  \n",
       "811      REST_TRFRAC_MIN  The minimum value for TRfrac (percentage of to...  \n",
       "812  REST_EYETRACK_COMPL  TRfrac (percentage of total scan time that had...  \n",
       "\n",
       "[813 rows x 5 columns]"
      ]
     },
     "execution_count": 3,
     "metadata": {},
     "output_type": "execute_result"
    }
   ],
   "source": [
    "HCP_description = pd.read_csv('/neurospin/dico/adufournet/HCP_S1200_DataDictionary_Oct_30_2023.csv')\n",
    "HCP_description"
   ]
  },
  {
   "cell_type": "code",
   "execution_count": 4,
   "metadata": {},
   "outputs": [],
   "source": [
    "HCP_info = pd.read_csv('/neurospin/dico/jchavas/RESTRICTED_jchavas_1_18_2022_3_17_51.csv')"
   ]
  },
  {
   "cell_type": "code",
   "execution_count": 5,
   "metadata": {},
   "outputs": [
    {
     "data": {
      "text/plain": [
       "array([100206, 100307, 100408, ..., 994273, 995174, 996782])"
      ]
     },
     "execution_count": 5,
     "metadata": {},
     "output_type": "execute_result"
    }
   ],
   "source": [
    "HCP_IID = pd.read_csv('/neurospin/dico/adufournet/Runs/01_Heritability_Right_PCS_HCP/Heritability/data/HCP_prob_pred_PCS.csv')\n",
    "HCP_IID = HCP_IID['IID'].astype(int)\n",
    "HCP_IID.values"
   ]
  },
  {
   "cell_type": "code",
   "execution_count": 6,
   "metadata": {},
   "outputs": [
    {
     "data": {
      "text/html": [
       "<div>\n",
       "<style scoped>\n",
       "    .dataframe tbody tr th:only-of-type {\n",
       "        vertical-align: middle;\n",
       "    }\n",
       "\n",
       "    .dataframe tbody tr th {\n",
       "        vertical-align: top;\n",
       "    }\n",
       "\n",
       "    .dataframe thead th {\n",
       "        text-align: right;\n",
       "    }\n",
       "</style>\n",
       "<table border=\"1\" class=\"dataframe\">\n",
       "  <thead>\n",
       "    <tr style=\"text-align: right;\">\n",
       "      <th></th>\n",
       "      <th>Subject</th>\n",
       "      <th>Age_in_Yrs</th>\n",
       "      <th>HasGT</th>\n",
       "      <th>ZygositySR</th>\n",
       "      <th>ZygosityGT</th>\n",
       "      <th>Family_ID</th>\n",
       "      <th>Mother_ID</th>\n",
       "      <th>Father_ID</th>\n",
       "      <th>TestRetestInterval</th>\n",
       "      <th>Race</th>\n",
       "      <th>...</th>\n",
       "      <th>SSAGA_Times_Used_Illicits</th>\n",
       "      <th>SSAGA_Times_Used_Cocaine</th>\n",
       "      <th>SSAGA_Times_Used_Hallucinogens</th>\n",
       "      <th>SSAGA_Times_Used_Opiates</th>\n",
       "      <th>SSAGA_Times_Used_Sedatives</th>\n",
       "      <th>SSAGA_Times_Used_Stimulants</th>\n",
       "      <th>SSAGA_Mj_Use</th>\n",
       "      <th>SSAGA_Mj_Ab_Dep</th>\n",
       "      <th>SSAGA_Mj_Age_1st_Use</th>\n",
       "      <th>SSAGA_Mj_Times_Used</th>\n",
       "    </tr>\n",
       "  </thead>\n",
       "  <tbody>\n",
       "    <tr>\n",
       "      <th>1</th>\n",
       "      <td>100206</td>\n",
       "      <td>27</td>\n",
       "      <td>True</td>\n",
       "      <td>NotTwin</td>\n",
       "      <td></td>\n",
       "      <td>56037_85858</td>\n",
       "      <td>56037</td>\n",
       "      <td>85858</td>\n",
       "      <td>NaN</td>\n",
       "      <td>White</td>\n",
       "      <td>...</td>\n",
       "      <td>0.0</td>\n",
       "      <td>0.0</td>\n",
       "      <td>0.0</td>\n",
       "      <td>0.0</td>\n",
       "      <td>0.0</td>\n",
       "      <td>0.0</td>\n",
       "      <td>0.0</td>\n",
       "      <td>0.0</td>\n",
       "      <td>NaN</td>\n",
       "      <td>0.0</td>\n",
       "    </tr>\n",
       "    <tr>\n",
       "      <th>2</th>\n",
       "      <td>100307</td>\n",
       "      <td>27</td>\n",
       "      <td>True</td>\n",
       "      <td>NotMZ</td>\n",
       "      <td>MZ</td>\n",
       "      <td>51488_81352</td>\n",
       "      <td>51488</td>\n",
       "      <td>81352</td>\n",
       "      <td>NaN</td>\n",
       "      <td>White</td>\n",
       "      <td>...</td>\n",
       "      <td>0.0</td>\n",
       "      <td>0.0</td>\n",
       "      <td>0.0</td>\n",
       "      <td>0.0</td>\n",
       "      <td>0.0</td>\n",
       "      <td>0.0</td>\n",
       "      <td>1.0</td>\n",
       "      <td>0.0</td>\n",
       "      <td>2.0</td>\n",
       "      <td>1.0</td>\n",
       "    </tr>\n",
       "    <tr>\n",
       "      <th>3</th>\n",
       "      <td>100408</td>\n",
       "      <td>33</td>\n",
       "      <td>True</td>\n",
       "      <td>MZ</td>\n",
       "      <td>MZ</td>\n",
       "      <td>51730_81594</td>\n",
       "      <td>51730</td>\n",
       "      <td>81594</td>\n",
       "      <td>NaN</td>\n",
       "      <td>White</td>\n",
       "      <td>...</td>\n",
       "      <td>4.0</td>\n",
       "      <td>5.0</td>\n",
       "      <td>5.0</td>\n",
       "      <td>5.0</td>\n",
       "      <td>0.0</td>\n",
       "      <td>0.0</td>\n",
       "      <td>1.0</td>\n",
       "      <td>1.0</td>\n",
       "      <td>2.0</td>\n",
       "      <td>4.0</td>\n",
       "    </tr>\n",
       "    <tr>\n",
       "      <th>4</th>\n",
       "      <td>100610</td>\n",
       "      <td>27</td>\n",
       "      <td>True</td>\n",
       "      <td>NotMZ</td>\n",
       "      <td>DZ</td>\n",
       "      <td>52813_82634</td>\n",
       "      <td>52813</td>\n",
       "      <td>82634</td>\n",
       "      <td>NaN</td>\n",
       "      <td>White</td>\n",
       "      <td>...</td>\n",
       "      <td>0.0</td>\n",
       "      <td>0.0</td>\n",
       "      <td>0.0</td>\n",
       "      <td>0.0</td>\n",
       "      <td>0.0</td>\n",
       "      <td>0.0</td>\n",
       "      <td>0.0</td>\n",
       "      <td>0.0</td>\n",
       "      <td>NaN</td>\n",
       "      <td>0.0</td>\n",
       "    </tr>\n",
       "    <tr>\n",
       "      <th>5</th>\n",
       "      <td>101006</td>\n",
       "      <td>35</td>\n",
       "      <td>True</td>\n",
       "      <td>MZ</td>\n",
       "      <td></td>\n",
       "      <td>51283_52850_81149</td>\n",
       "      <td>51283</td>\n",
       "      <td>81149</td>\n",
       "      <td>NaN</td>\n",
       "      <td>Black or African Am.</td>\n",
       "      <td>...</td>\n",
       "      <td>0.0</td>\n",
       "      <td>0.0</td>\n",
       "      <td>0.0</td>\n",
       "      <td>0.0</td>\n",
       "      <td>0.0</td>\n",
       "      <td>0.0</td>\n",
       "      <td>1.0</td>\n",
       "      <td>0.0</td>\n",
       "      <td>2.0</td>\n",
       "      <td>5.0</td>\n",
       "    </tr>\n",
       "    <tr>\n",
       "      <th>...</th>\n",
       "      <td>...</td>\n",
       "      <td>...</td>\n",
       "      <td>...</td>\n",
       "      <td>...</td>\n",
       "      <td>...</td>\n",
       "      <td>...</td>\n",
       "      <td>...</td>\n",
       "      <td>...</td>\n",
       "      <td>...</td>\n",
       "      <td>...</td>\n",
       "      <td>...</td>\n",
       "      <td>...</td>\n",
       "      <td>...</td>\n",
       "      <td>...</td>\n",
       "      <td>...</td>\n",
       "      <td>...</td>\n",
       "      <td>...</td>\n",
       "      <td>...</td>\n",
       "      <td>...</td>\n",
       "      <td>...</td>\n",
       "      <td>...</td>\n",
       "    </tr>\n",
       "    <tr>\n",
       "      <th>1201</th>\n",
       "      <td>992774</td>\n",
       "      <td>35</td>\n",
       "      <td>True</td>\n",
       "      <td>NotTwin</td>\n",
       "      <td></td>\n",
       "      <td>51345_81210</td>\n",
       "      <td>51345</td>\n",
       "      <td>81210</td>\n",
       "      <td>NaN</td>\n",
       "      <td>White</td>\n",
       "      <td>...</td>\n",
       "      <td>2.0</td>\n",
       "      <td>0.0</td>\n",
       "      <td>1.0</td>\n",
       "      <td>1.0</td>\n",
       "      <td>1.0</td>\n",
       "      <td>0.0</td>\n",
       "      <td>1.0</td>\n",
       "      <td>0.0</td>\n",
       "      <td>3.0</td>\n",
       "      <td>2.0</td>\n",
       "    </tr>\n",
       "    <tr>\n",
       "      <th>1202</th>\n",
       "      <td>993675</td>\n",
       "      <td>29</td>\n",
       "      <td>True</td>\n",
       "      <td>NotTwin</td>\n",
       "      <td></td>\n",
       "      <td>55800_85621</td>\n",
       "      <td>55800</td>\n",
       "      <td>85621</td>\n",
       "      <td>NaN</td>\n",
       "      <td>White</td>\n",
       "      <td>...</td>\n",
       "      <td>0.0</td>\n",
       "      <td>0.0</td>\n",
       "      <td>0.0</td>\n",
       "      <td>0.0</td>\n",
       "      <td>0.0</td>\n",
       "      <td>0.0</td>\n",
       "      <td>0.0</td>\n",
       "      <td>0.0</td>\n",
       "      <td>NaN</td>\n",
       "      <td>0.0</td>\n",
       "    </tr>\n",
       "    <tr>\n",
       "      <th>1203</th>\n",
       "      <td>994273</td>\n",
       "      <td>30</td>\n",
       "      <td>True</td>\n",
       "      <td>NotTwin</td>\n",
       "      <td></td>\n",
       "      <td>52364_82227</td>\n",
       "      <td>52364</td>\n",
       "      <td>82227</td>\n",
       "      <td>NaN</td>\n",
       "      <td>White</td>\n",
       "      <td>...</td>\n",
       "      <td>4.0</td>\n",
       "      <td>0.0</td>\n",
       "      <td>5.0</td>\n",
       "      <td>5.0</td>\n",
       "      <td>5.0</td>\n",
       "      <td>0.0</td>\n",
       "      <td>1.0</td>\n",
       "      <td>1.0</td>\n",
       "      <td>2.0</td>\n",
       "      <td>5.0</td>\n",
       "    </tr>\n",
       "    <tr>\n",
       "      <th>1204</th>\n",
       "      <td>995174</td>\n",
       "      <td>25</td>\n",
       "      <td>True</td>\n",
       "      <td>MZ</td>\n",
       "      <td>MZ</td>\n",
       "      <td>55923_85743</td>\n",
       "      <td>55923</td>\n",
       "      <td>85743</td>\n",
       "      <td>NaN</td>\n",
       "      <td>White</td>\n",
       "      <td>...</td>\n",
       "      <td>5.0</td>\n",
       "      <td>0.0</td>\n",
       "      <td>5.0</td>\n",
       "      <td>1.0</td>\n",
       "      <td>1.0</td>\n",
       "      <td>1.0</td>\n",
       "      <td>1.0</td>\n",
       "      <td>0.0</td>\n",
       "      <td>1.0</td>\n",
       "      <td>5.0</td>\n",
       "    </tr>\n",
       "    <tr>\n",
       "      <th>1205</th>\n",
       "      <td>996782</td>\n",
       "      <td>28</td>\n",
       "      <td>True</td>\n",
       "      <td>NotMZ</td>\n",
       "      <td>DZ</td>\n",
       "      <td>51541_81405</td>\n",
       "      <td>51541</td>\n",
       "      <td>81405</td>\n",
       "      <td>NaN</td>\n",
       "      <td>White</td>\n",
       "      <td>...</td>\n",
       "      <td>1.0</td>\n",
       "      <td>0.0</td>\n",
       "      <td>1.0</td>\n",
       "      <td>0.0</td>\n",
       "      <td>0.0</td>\n",
       "      <td>0.0</td>\n",
       "      <td>1.0</td>\n",
       "      <td>0.0</td>\n",
       "      <td>3.0</td>\n",
       "      <td>3.0</td>\n",
       "    </tr>\n",
       "  </tbody>\n",
       "</table>\n",
       "<p>1113 rows × 201 columns</p>\n",
       "</div>"
      ],
      "text/plain": [
       "      Subject  Age_in_Yrs  HasGT ZygositySR ZygosityGT          Family_ID  \\\n",
       "1      100206          27   True    NotTwin                   56037_85858   \n",
       "2      100307          27   True      NotMZ         MZ        51488_81352   \n",
       "3      100408          33   True         MZ         MZ        51730_81594   \n",
       "4      100610          27   True      NotMZ         DZ        52813_82634   \n",
       "5      101006          35   True         MZ             51283_52850_81149   \n",
       "...       ...         ...    ...        ...        ...                ...   \n",
       "1201   992774          35   True    NotTwin                   51345_81210   \n",
       "1202   993675          29   True    NotTwin                   55800_85621   \n",
       "1203   994273          30   True    NotTwin                   52364_82227   \n",
       "1204   995174          25   True         MZ         MZ        55923_85743   \n",
       "1205   996782          28   True      NotMZ         DZ        51541_81405   \n",
       "\n",
       "      Mother_ID  Father_ID  TestRetestInterval                  Race  ...  \\\n",
       "1         56037      85858                 NaN                 White  ...   \n",
       "2         51488      81352                 NaN                 White  ...   \n",
       "3         51730      81594                 NaN                 White  ...   \n",
       "4         52813      82634                 NaN                 White  ...   \n",
       "5         51283      81149                 NaN  Black or African Am.  ...   \n",
       "...         ...        ...                 ...                   ...  ...   \n",
       "1201      51345      81210                 NaN                 White  ...   \n",
       "1202      55800      85621                 NaN                 White  ...   \n",
       "1203      52364      82227                 NaN                 White  ...   \n",
       "1204      55923      85743                 NaN                 White  ...   \n",
       "1205      51541      81405                 NaN                 White  ...   \n",
       "\n",
       "     SSAGA_Times_Used_Illicits  SSAGA_Times_Used_Cocaine  \\\n",
       "1                          0.0                       0.0   \n",
       "2                          0.0                       0.0   \n",
       "3                          4.0                       5.0   \n",
       "4                          0.0                       0.0   \n",
       "5                          0.0                       0.0   \n",
       "...                        ...                       ...   \n",
       "1201                       2.0                       0.0   \n",
       "1202                       0.0                       0.0   \n",
       "1203                       4.0                       0.0   \n",
       "1204                       5.0                       0.0   \n",
       "1205                       1.0                       0.0   \n",
       "\n",
       "      SSAGA_Times_Used_Hallucinogens  SSAGA_Times_Used_Opiates  \\\n",
       "1                                0.0                       0.0   \n",
       "2                                0.0                       0.0   \n",
       "3                                5.0                       5.0   \n",
       "4                                0.0                       0.0   \n",
       "5                                0.0                       0.0   \n",
       "...                              ...                       ...   \n",
       "1201                             1.0                       1.0   \n",
       "1202                             0.0                       0.0   \n",
       "1203                             5.0                       5.0   \n",
       "1204                             5.0                       1.0   \n",
       "1205                             1.0                       0.0   \n",
       "\n",
       "      SSAGA_Times_Used_Sedatives  SSAGA_Times_Used_Stimulants  SSAGA_Mj_Use  \\\n",
       "1                            0.0                          0.0           0.0   \n",
       "2                            0.0                          0.0           1.0   \n",
       "3                            0.0                          0.0           1.0   \n",
       "4                            0.0                          0.0           0.0   \n",
       "5                            0.0                          0.0           1.0   \n",
       "...                          ...                          ...           ...   \n",
       "1201                         1.0                          0.0           1.0   \n",
       "1202                         0.0                          0.0           0.0   \n",
       "1203                         5.0                          0.0           1.0   \n",
       "1204                         1.0                          1.0           1.0   \n",
       "1205                         0.0                          0.0           1.0   \n",
       "\n",
       "      SSAGA_Mj_Ab_Dep  SSAGA_Mj_Age_1st_Use  SSAGA_Mj_Times_Used  \n",
       "1                 0.0                   NaN                  0.0  \n",
       "2                 0.0                   2.0                  1.0  \n",
       "3                 1.0                   2.0                  4.0  \n",
       "4                 0.0                   NaN                  0.0  \n",
       "5                 0.0                   2.0                  5.0  \n",
       "...               ...                   ...                  ...  \n",
       "1201              0.0                   3.0                  2.0  \n",
       "1202              0.0                   NaN                  0.0  \n",
       "1203              1.0                   2.0                  5.0  \n",
       "1204              0.0                   1.0                  5.0  \n",
       "1205              0.0                   3.0                  3.0  \n",
       "\n",
       "[1113 rows x 201 columns]"
      ]
     },
     "execution_count": 6,
     "metadata": {},
     "output_type": "execute_result"
    }
   ],
   "source": [
    "HCP_info = HCP_info[HCP_info['Subject'].isin(HCP_IID.values)]\n",
    "HCP_info"
   ]
  },
  {
   "cell_type": "markdown",
   "metadata": {},
   "source": [
    "#### Test if I can access to the monozygous or dizygous twins only"
   ]
  },
  {
   "cell_type": "code",
   "execution_count": 7,
   "metadata": {},
   "outputs": [
    {
     "name": "stdout",
     "output_type": "stream",
     "text": [
      "(286,)\n",
      "\n",
      "148\n"
     ]
    }
   ],
   "source": [
    "# to get only the monozygous twins\n",
    "MZ_ID = HCP_info[HCP_info['ZygosityGT'] == 'MZ']['Subject'].values\n",
    "print(MZ_ID.shape)\n",
    "print()\n",
    "# to get the number of unique family ID\n",
    "HCP_info_MZ = HCP_info[HCP_info['ZygosityGT'] == 'MZ']\n",
    "print(len(HCP_info_MZ['Family_ID'].unique()))"
   ]
  },
  {
   "cell_type": "markdown",
   "metadata": {},
   "source": [
    "As we can see, 148*2=296, therefore it means that some twins don't have the same family ID, therefore they are considered as alone. In the best case, we are dealing with 286//2=143 pairs."
   ]
  },
  {
   "cell_type": "code",
   "execution_count": 8,
   "metadata": {},
   "outputs": [
    {
     "name": "stdout",
     "output_type": "stream",
     "text": [
      "(170,)\n",
      "\n",
      "91\n"
     ]
    }
   ],
   "source": [
    "# to get only the dizygous twins\n",
    "DZ_ID = HCP_info[HCP_info['ZygosityGT'] == 'DZ']['Subject'].values\n",
    "print(DZ_ID.shape)\n",
    "print()\n",
    "HCP_info_DZ = HCP_info[HCP_info['ZygosityGT'] == 'DZ']\n",
    "print(len(HCP_info_DZ['Family_ID'].unique()))"
   ]
  },
  {
   "cell_type": "markdown",
   "metadata": {},
   "source": [
    "Same here, 91*2=182, which means that some of the dizygous twins don't have the same family ID, or they are on their own."
   ]
  },
  {
   "cell_type": "markdown",
   "metadata": {},
   "source": [
    "#### Get the twin pairs depending on the Family_ID"
   ]
  },
  {
   "cell_type": "code",
   "execution_count": 9,
   "metadata": {},
   "outputs": [
    {
     "data": {
      "text/plain": [
       "138"
      ]
     },
     "execution_count": 9,
     "metadata": {},
     "output_type": "execute_result"
    }
   ],
   "source": [
    "list_MZ_twin_id = []\n",
    "\n",
    "for familiy_id in HCP_info_MZ['Family_ID'].unique():\n",
    "    # we start by checking if there are two twins in the same family\n",
    "    if HCP_info_MZ['Family_ID'].isin([familiy_id]).sum(axis=0) == 2:\n",
    "        # get the ID of the Monozygous twins that have the same family ID\n",
    "        list_MZ_twin_id.append(HCP_info_MZ[HCP_info_MZ['Family_ID'].isin([familiy_id])]['Subject'].values)\n",
    "\n",
    "len(list_MZ_twin_id)"
   ]
  },
  {
   "cell_type": "code",
   "execution_count": 10,
   "metadata": {},
   "outputs": [
    {
     "data": {
      "text/plain": [
       "79"
      ]
     },
     "execution_count": 10,
     "metadata": {},
     "output_type": "execute_result"
    }
   ],
   "source": [
    "list_DZ_twin_id = []\n",
    "\n",
    "for familiy_id in HCP_info_DZ['Family_ID'].unique():\n",
    "    # we start by checking if there are two twins in the same family\n",
    "    if HCP_info_DZ['Family_ID'].isin([familiy_id]).sum(axis=0) == 2:\n",
    "        # get the ID of the Monozygous twins that have the same family ID\n",
    "        list_DZ_twin_id.append(HCP_info_DZ[HCP_info_DZ['Family_ID'].isin([familiy_id])]['Subject'].values)\n",
    "\n",
    "len(list_DZ_twin_id)"
   ]
  },
  {
   "cell_type": "markdown",
   "metadata": {},
   "source": [
    "#### Compute the correlation betwenn the predictions of having a PCS (probabilities) for the different twins"
   ]
  },
  {
   "cell_type": "code",
   "execution_count": 97,
   "metadata": {},
   "outputs": [],
   "source": [
    "pred = pd.read_csv('/neurospin/dico/adufournet/Runs/02_Heritability_Left_PCS_HCP/Heritability/data/HCP_prob_pred_left_PCS.csv')"
   ]
  },
  {
   "cell_type": "code",
   "execution_count": 138,
   "metadata": {},
   "outputs": [],
   "source": [
    "pred0 = pred[pred['IID'].isin([id[0] for id in list_MZ_twin_id])]['Pred'].to_numpy()\n",
    "pred1 = pred[pred['IID'].isin([id[1] for id in list_MZ_twin_id])]['Pred'].to_numpy()"
   ]
  },
  {
   "cell_type": "code",
   "execution_count": 137,
   "metadata": {},
   "outputs": [
    {
     "name": "stdout",
     "output_type": "stream",
     "text": [
      "PearsonRResult(statistic=0.9999999999999998, pvalue=0.0)\n"
     ]
    }
   ],
   "source": [
    "print(pearsonr(pred0,pred1))"
   ]
  },
  {
   "cell_type": "code",
   "execution_count": 113,
   "metadata": {},
   "outputs": [],
   "source": [
    "pred0 = pred[pred['IID'].isin([id[0] for id in list_DZ_twin_id])]['Pred'].to_numpy()\n",
    "pred1 = pred[pred['IID'].isin([id[1] for id in list_DZ_twin_id])]['Pred'].to_numpy()"
   ]
  },
  {
   "cell_type": "code",
   "execution_count": 114,
   "metadata": {},
   "outputs": [
    {
     "name": "stdout",
     "output_type": "stream",
     "text": [
      "PearsonRResult(statistic=-0.03858541274221328, pvalue=0.735654100758735)\n"
     ]
    }
   ],
   "source": [
    "print(pearsonr(pred0,pred1))"
   ]
  },
  {
   "cell_type": "markdown",
   "metadata": {},
   "source": [
    "#### Load an embedded space of dimension 256 for the left CINGULATE region from HCP"
   ]
  },
  {
   "cell_type": "code",
   "execution_count": 141,
   "metadata": {},
   "outputs": [],
   "source": [
    "#embeddings_HCP = pd.read_csv(\"/neurospin/dico/adufournet/Runs/02_Heritability_Left_PCS_HCP/Program/Output/2024-05-13/09-33-29_206/hcp_epoch60_embeddings/full_embeddings.csv\", index_col=0)\n",
    "#embeddings_HCP = pd.read_csv(\"/neurospin/dico/adufournet/Runs/01_Heritability_Right_PCS_HCP/Input/hcp_cingulate_full_embeddings.csv\", index_col=0)\n",
    "embeddings_HCP = pd.read_csv('/neurospin/dico/adufournet/Runs/04_Heritability_Right_PCS_HCP_dim10/Output/2024-05-16/14-59-55_124/HCP_epoch100_embeddings/full_embeddings.csv', index_col=0)"
   ]
  },
  {
   "cell_type": "code",
   "execution_count": 142,
   "metadata": {},
   "outputs": [
    {
     "data": {
      "text/html": [
       "<div>\n",
       "<style scoped>\n",
       "    .dataframe tbody tr th:only-of-type {\n",
       "        vertical-align: middle;\n",
       "    }\n",
       "\n",
       "    .dataframe tbody tr th {\n",
       "        vertical-align: top;\n",
       "    }\n",
       "\n",
       "    .dataframe thead th {\n",
       "        text-align: right;\n",
       "    }\n",
       "</style>\n",
       "<table border=\"1\" class=\"dataframe\">\n",
       "  <thead>\n",
       "    <tr style=\"text-align: right;\">\n",
       "      <th></th>\n",
       "      <th>dim1</th>\n",
       "      <th>dim2</th>\n",
       "      <th>dim3</th>\n",
       "      <th>dim4</th>\n",
       "      <th>dim5</th>\n",
       "      <th>dim6</th>\n",
       "      <th>dim7</th>\n",
       "      <th>dim8</th>\n",
       "      <th>dim9</th>\n",
       "      <th>dim10</th>\n",
       "      <th>...</th>\n",
       "      <th>dim247</th>\n",
       "      <th>dim248</th>\n",
       "      <th>dim249</th>\n",
       "      <th>dim250</th>\n",
       "      <th>dim251</th>\n",
       "      <th>dim252</th>\n",
       "      <th>dim253</th>\n",
       "      <th>dim254</th>\n",
       "      <th>dim255</th>\n",
       "      <th>dim256</th>\n",
       "    </tr>\n",
       "    <tr>\n",
       "      <th>ID</th>\n",
       "      <th></th>\n",
       "      <th></th>\n",
       "      <th></th>\n",
       "      <th></th>\n",
       "      <th></th>\n",
       "      <th></th>\n",
       "      <th></th>\n",
       "      <th></th>\n",
       "      <th></th>\n",
       "      <th></th>\n",
       "      <th></th>\n",
       "      <th></th>\n",
       "      <th></th>\n",
       "      <th></th>\n",
       "      <th></th>\n",
       "      <th></th>\n",
       "      <th></th>\n",
       "      <th></th>\n",
       "      <th></th>\n",
       "      <th></th>\n",
       "      <th></th>\n",
       "    </tr>\n",
       "  </thead>\n",
       "  <tbody>\n",
       "    <tr>\n",
       "      <th>100307</th>\n",
       "      <td>0.811358</td>\n",
       "      <td>-18.127650</td>\n",
       "      <td>-4.755681</td>\n",
       "      <td>22.113867</td>\n",
       "      <td>-5.715726</td>\n",
       "      <td>15.947124</td>\n",
       "      <td>9.402464</td>\n",
       "      <td>-19.022861</td>\n",
       "      <td>-13.003400</td>\n",
       "      <td>13.321704</td>\n",
       "      <td>...</td>\n",
       "      <td>6.490175</td>\n",
       "      <td>-8.862627</td>\n",
       "      <td>13.441197</td>\n",
       "      <td>2.842024</td>\n",
       "      <td>6.585532</td>\n",
       "      <td>25.127434</td>\n",
       "      <td>-6.861317</td>\n",
       "      <td>15.825949</td>\n",
       "      <td>-23.992393</td>\n",
       "      <td>-9.157214</td>\n",
       "    </tr>\n",
       "    <tr>\n",
       "      <th>100408</th>\n",
       "      <td>20.104237</td>\n",
       "      <td>19.609802</td>\n",
       "      <td>-11.392226</td>\n",
       "      <td>-22.513320</td>\n",
       "      <td>1.335086</td>\n",
       "      <td>-0.447604</td>\n",
       "      <td>-11.521453</td>\n",
       "      <td>-30.562178</td>\n",
       "      <td>-12.678901</td>\n",
       "      <td>13.097897</td>\n",
       "      <td>...</td>\n",
       "      <td>28.514357</td>\n",
       "      <td>-9.187751</td>\n",
       "      <td>-13.514122</td>\n",
       "      <td>-2.253131</td>\n",
       "      <td>2.700759</td>\n",
       "      <td>7.052255</td>\n",
       "      <td>-21.251228</td>\n",
       "      <td>-8.701427</td>\n",
       "      <td>-5.803285</td>\n",
       "      <td>-24.713255</td>\n",
       "    </tr>\n",
       "    <tr>\n",
       "      <th>102311</th>\n",
       "      <td>-32.505360</td>\n",
       "      <td>-5.200749</td>\n",
       "      <td>-12.162289</td>\n",
       "      <td>-28.955717</td>\n",
       "      <td>-4.892257</td>\n",
       "      <td>8.198012</td>\n",
       "      <td>-4.540857</td>\n",
       "      <td>-33.291904</td>\n",
       "      <td>9.211817</td>\n",
       "      <td>16.072174</td>\n",
       "      <td>...</td>\n",
       "      <td>-19.056496</td>\n",
       "      <td>6.433754</td>\n",
       "      <td>0.546124</td>\n",
       "      <td>-16.246403</td>\n",
       "      <td>-3.416265</td>\n",
       "      <td>-20.572400</td>\n",
       "      <td>6.595950</td>\n",
       "      <td>7.942719</td>\n",
       "      <td>-0.291495</td>\n",
       "      <td>13.398067</td>\n",
       "    </tr>\n",
       "    <tr>\n",
       "      <th>102816</th>\n",
       "      <td>-5.146794</td>\n",
       "      <td>-2.558759</td>\n",
       "      <td>16.640585</td>\n",
       "      <td>1.437285</td>\n",
       "      <td>0.510092</td>\n",
       "      <td>13.059071</td>\n",
       "      <td>-11.738085</td>\n",
       "      <td>-2.056876</td>\n",
       "      <td>-3.312110</td>\n",
       "      <td>17.245064</td>\n",
       "      <td>...</td>\n",
       "      <td>-13.187455</td>\n",
       "      <td>-11.118043</td>\n",
       "      <td>-11.984270</td>\n",
       "      <td>8.827721</td>\n",
       "      <td>13.687307</td>\n",
       "      <td>7.969702</td>\n",
       "      <td>-40.458310</td>\n",
       "      <td>9.811605</td>\n",
       "      <td>-25.338040</td>\n",
       "      <td>7.539057</td>\n",
       "    </tr>\n",
       "    <tr>\n",
       "      <th>103010</th>\n",
       "      <td>15.232652</td>\n",
       "      <td>2.912224</td>\n",
       "      <td>-15.154087</td>\n",
       "      <td>1.247068</td>\n",
       "      <td>15.335350</td>\n",
       "      <td>36.344677</td>\n",
       "      <td>-23.462456</td>\n",
       "      <td>-23.445454</td>\n",
       "      <td>-1.729635</td>\n",
       "      <td>16.249340</td>\n",
       "      <td>...</td>\n",
       "      <td>-17.031004</td>\n",
       "      <td>0.847113</td>\n",
       "      <td>2.316298</td>\n",
       "      <td>6.536867</td>\n",
       "      <td>-14.008108</td>\n",
       "      <td>30.577726</td>\n",
       "      <td>4.458787</td>\n",
       "      <td>8.757708</td>\n",
       "      <td>-8.228526</td>\n",
       "      <td>0.561357</td>\n",
       "    </tr>\n",
       "    <tr>\n",
       "      <th>...</th>\n",
       "      <td>...</td>\n",
       "      <td>...</td>\n",
       "      <td>...</td>\n",
       "      <td>...</td>\n",
       "      <td>...</td>\n",
       "      <td>...</td>\n",
       "      <td>...</td>\n",
       "      <td>...</td>\n",
       "      <td>...</td>\n",
       "      <td>...</td>\n",
       "      <td>...</td>\n",
       "      <td>...</td>\n",
       "      <td>...</td>\n",
       "      <td>...</td>\n",
       "      <td>...</td>\n",
       "      <td>...</td>\n",
       "      <td>...</td>\n",
       "      <td>...</td>\n",
       "      <td>...</td>\n",
       "      <td>...</td>\n",
       "      <td>...</td>\n",
       "    </tr>\n",
       "    <tr>\n",
       "      <th>951457</th>\n",
       "      <td>-1.842494</td>\n",
       "      <td>-9.691184</td>\n",
       "      <td>-11.991823</td>\n",
       "      <td>16.386200</td>\n",
       "      <td>-1.872568</td>\n",
       "      <td>-5.732822</td>\n",
       "      <td>-1.986975</td>\n",
       "      <td>-23.508482</td>\n",
       "      <td>2.238032</td>\n",
       "      <td>34.636510</td>\n",
       "      <td>...</td>\n",
       "      <td>-3.883567</td>\n",
       "      <td>-25.732310</td>\n",
       "      <td>-16.599918</td>\n",
       "      <td>15.065546</td>\n",
       "      <td>23.026081</td>\n",
       "      <td>16.945166</td>\n",
       "      <td>4.926830</td>\n",
       "      <td>-3.557057</td>\n",
       "      <td>-20.464735</td>\n",
       "      <td>-4.272741</td>\n",
       "    </tr>\n",
       "    <tr>\n",
       "      <th>969476</th>\n",
       "      <td>-3.018558</td>\n",
       "      <td>-10.580470</td>\n",
       "      <td>12.855820</td>\n",
       "      <td>-6.223276</td>\n",
       "      <td>-1.339707</td>\n",
       "      <td>-9.528456</td>\n",
       "      <td>6.827419</td>\n",
       "      <td>-9.118894</td>\n",
       "      <td>3.409506</td>\n",
       "      <td>11.057279</td>\n",
       "      <td>...</td>\n",
       "      <td>10.357988</td>\n",
       "      <td>-18.342953</td>\n",
       "      <td>-24.890802</td>\n",
       "      <td>-1.148929</td>\n",
       "      <td>11.417215</td>\n",
       "      <td>-9.909482</td>\n",
       "      <td>-11.515385</td>\n",
       "      <td>-3.473738</td>\n",
       "      <td>18.314955</td>\n",
       "      <td>12.930169</td>\n",
       "    </tr>\n",
       "    <tr>\n",
       "      <th>971160</th>\n",
       "      <td>-2.576418</td>\n",
       "      <td>-4.061260</td>\n",
       "      <td>-0.500466</td>\n",
       "      <td>-4.804957</td>\n",
       "      <td>5.877888</td>\n",
       "      <td>18.392080</td>\n",
       "      <td>7.786570</td>\n",
       "      <td>-22.648561</td>\n",
       "      <td>4.331325</td>\n",
       "      <td>-9.334187</td>\n",
       "      <td>...</td>\n",
       "      <td>31.055305</td>\n",
       "      <td>16.036123</td>\n",
       "      <td>2.450460</td>\n",
       "      <td>13.987581</td>\n",
       "      <td>-1.608823</td>\n",
       "      <td>9.074173</td>\n",
       "      <td>-37.522480</td>\n",
       "      <td>13.635156</td>\n",
       "      <td>-7.527434</td>\n",
       "      <td>-9.731142</td>\n",
       "    </tr>\n",
       "    <tr>\n",
       "      <th>973770</th>\n",
       "      <td>-6.794393</td>\n",
       "      <td>-11.955095</td>\n",
       "      <td>-4.533148</td>\n",
       "      <td>-20.526470</td>\n",
       "      <td>-23.257278</td>\n",
       "      <td>10.870867</td>\n",
       "      <td>-8.250430</td>\n",
       "      <td>-23.786636</td>\n",
       "      <td>-5.048490</td>\n",
       "      <td>11.436724</td>\n",
       "      <td>...</td>\n",
       "      <td>-7.776517</td>\n",
       "      <td>7.278460</td>\n",
       "      <td>5.275089</td>\n",
       "      <td>-11.757128</td>\n",
       "      <td>-11.976531</td>\n",
       "      <td>-14.819571</td>\n",
       "      <td>5.480496</td>\n",
       "      <td>3.991279</td>\n",
       "      <td>-2.348877</td>\n",
       "      <td>1.096280</td>\n",
       "    </tr>\n",
       "    <tr>\n",
       "      <th>995174</th>\n",
       "      <td>-7.795684</td>\n",
       "      <td>-1.900510</td>\n",
       "      <td>0.363110</td>\n",
       "      <td>12.568767</td>\n",
       "      <td>-3.250756</td>\n",
       "      <td>-25.064573</td>\n",
       "      <td>18.585049</td>\n",
       "      <td>-6.938932</td>\n",
       "      <td>-13.954750</td>\n",
       "      <td>7.396193</td>\n",
       "      <td>...</td>\n",
       "      <td>20.043476</td>\n",
       "      <td>-22.300835</td>\n",
       "      <td>-1.253033</td>\n",
       "      <td>9.877908</td>\n",
       "      <td>6.284199</td>\n",
       "      <td>11.870264</td>\n",
       "      <td>-8.116273</td>\n",
       "      <td>-1.532445</td>\n",
       "      <td>-7.125312</td>\n",
       "      <td>-13.043556</td>\n",
       "    </tr>\n",
       "  </tbody>\n",
       "</table>\n",
       "<p>286 rows × 256 columns</p>\n",
       "</div>"
      ],
      "text/plain": [
       "             dim1       dim2       dim3       dim4       dim5       dim6  \\\n",
       "ID                                                                         \n",
       "100307   0.811358 -18.127650  -4.755681  22.113867  -5.715726  15.947124   \n",
       "100408  20.104237  19.609802 -11.392226 -22.513320   1.335086  -0.447604   \n",
       "102311 -32.505360  -5.200749 -12.162289 -28.955717  -4.892257   8.198012   \n",
       "102816  -5.146794  -2.558759  16.640585   1.437285   0.510092  13.059071   \n",
       "103010  15.232652   2.912224 -15.154087   1.247068  15.335350  36.344677   \n",
       "...           ...        ...        ...        ...        ...        ...   \n",
       "951457  -1.842494  -9.691184 -11.991823  16.386200  -1.872568  -5.732822   \n",
       "969476  -3.018558 -10.580470  12.855820  -6.223276  -1.339707  -9.528456   \n",
       "971160  -2.576418  -4.061260  -0.500466  -4.804957   5.877888  18.392080   \n",
       "973770  -6.794393 -11.955095  -4.533148 -20.526470 -23.257278  10.870867   \n",
       "995174  -7.795684  -1.900510   0.363110  12.568767  -3.250756 -25.064573   \n",
       "\n",
       "             dim7       dim8       dim9      dim10  ...     dim247     dim248  \\\n",
       "ID                                                  ...                         \n",
       "100307   9.402464 -19.022861 -13.003400  13.321704  ...   6.490175  -8.862627   \n",
       "100408 -11.521453 -30.562178 -12.678901  13.097897  ...  28.514357  -9.187751   \n",
       "102311  -4.540857 -33.291904   9.211817  16.072174  ... -19.056496   6.433754   \n",
       "102816 -11.738085  -2.056876  -3.312110  17.245064  ... -13.187455 -11.118043   \n",
       "103010 -23.462456 -23.445454  -1.729635  16.249340  ... -17.031004   0.847113   \n",
       "...           ...        ...        ...        ...  ...        ...        ...   \n",
       "951457  -1.986975 -23.508482   2.238032  34.636510  ...  -3.883567 -25.732310   \n",
       "969476   6.827419  -9.118894   3.409506  11.057279  ...  10.357988 -18.342953   \n",
       "971160   7.786570 -22.648561   4.331325  -9.334187  ...  31.055305  16.036123   \n",
       "973770  -8.250430 -23.786636  -5.048490  11.436724  ...  -7.776517   7.278460   \n",
       "995174  18.585049  -6.938932 -13.954750   7.396193  ...  20.043476 -22.300835   \n",
       "\n",
       "           dim249     dim250     dim251     dim252     dim253     dim254  \\\n",
       "ID                                                                         \n",
       "100307  13.441197   2.842024   6.585532  25.127434  -6.861317  15.825949   \n",
       "100408 -13.514122  -2.253131   2.700759   7.052255 -21.251228  -8.701427   \n",
       "102311   0.546124 -16.246403  -3.416265 -20.572400   6.595950   7.942719   \n",
       "102816 -11.984270   8.827721  13.687307   7.969702 -40.458310   9.811605   \n",
       "103010   2.316298   6.536867 -14.008108  30.577726   4.458787   8.757708   \n",
       "...           ...        ...        ...        ...        ...        ...   \n",
       "951457 -16.599918  15.065546  23.026081  16.945166   4.926830  -3.557057   \n",
       "969476 -24.890802  -1.148929  11.417215  -9.909482 -11.515385  -3.473738   \n",
       "971160   2.450460  13.987581  -1.608823   9.074173 -37.522480  13.635156   \n",
       "973770   5.275089 -11.757128 -11.976531 -14.819571   5.480496   3.991279   \n",
       "995174  -1.253033   9.877908   6.284199  11.870264  -8.116273  -1.532445   \n",
       "\n",
       "           dim255     dim256  \n",
       "ID                            \n",
       "100307 -23.992393  -9.157214  \n",
       "100408  -5.803285 -24.713255  \n",
       "102311  -0.291495  13.398067  \n",
       "102816 -25.338040   7.539057  \n",
       "103010  -8.228526   0.561357  \n",
       "...           ...        ...  \n",
       "951457 -20.464735  -4.272741  \n",
       "969476  18.314955  12.930169  \n",
       "971160  -7.527434  -9.731142  \n",
       "973770  -2.348877   1.096280  \n",
       "995174  -7.125312 -13.043556  \n",
       "\n",
       "[286 rows x 256 columns]"
      ]
     },
     "execution_count": 142,
     "metadata": {},
     "output_type": "execute_result"
    }
   ],
   "source": [
    "embeddings_HCP.loc[MZ_ID]"
   ]
  },
  {
   "cell_type": "markdown",
   "metadata": {},
   "source": [
    "### Calculation of the distances between the different twins"
   ]
  },
  {
   "cell_type": "markdown",
   "metadata": {},
   "source": [
    "First, the monozygous twins."
   ]
  },
  {
   "cell_type": "code",
   "execution_count": 143,
   "metadata": {},
   "outputs": [
    {
     "name": "stdout",
     "output_type": "stream",
     "text": [
      "The average cosine distance for the monozygous twin in the 256 dim latent space is 0.5845362792749179\n",
      "The average euclidean distance for the monozygous twin in the 256 dim latent space is 86404.85148904157\n"
     ]
    }
   ],
   "source": [
    "MZ_cos_dist = []\n",
    "MZ_eucli_dist = []\n",
    "\n",
    "for twin_pair in list_MZ_twin_id:\n",
    "    twin0 = twin_pair[0]\n",
    "    twin1 = twin_pair[1]\n",
    "    MZ_cos_dist.append((distance.pdist([embeddings_HCP.loc[twin0].values, embeddings_HCP.loc[twin1].values], 'cosine'))[0])\n",
    "    MZ_eucli_dist.append(distance.pdist([embeddings_HCP.loc[twin0].values, embeddings_HCP.loc[twin1].values], 'sqeuclidean')[0])\n",
    "\n",
    "MZ_mean_cos_dist = np.sum(MZ_cos_dist)/len(MZ_cos_dist)\n",
    "MZ_mean_eucli_dist = np.sum(MZ_eucli_dist)/len(MZ_eucli_dist)\n",
    "\n",
    "print(f'The average cosine distance for the monozygous twin in the 256 dim latent space is {MZ_mean_cos_dist}')\n",
    "print(f'The average euclidean distance for the monozygous twin in the 256 dim latent space is {MZ_mean_eucli_dist}')"
   ]
  },
  {
   "cell_type": "markdown",
   "metadata": {},
   "source": [
    "Then, the dizygous twins."
   ]
  },
  {
   "cell_type": "code",
   "execution_count": 144,
   "metadata": {},
   "outputs": [
    {
     "name": "stdout",
     "output_type": "stream",
     "text": [
      "The average cosine distance for the dizygous twin in the 256 dim latent space is 0.6581074767367807\n",
      "The average euclidean distance for the dizygous twin in the 256 dim latent space is 98684.37789697903\n"
     ]
    }
   ],
   "source": [
    "DZ_cos_dist = []\n",
    "DZ_eucli_dist = []\n",
    "\n",
    "for twin_pair in list_DZ_twin_id:\n",
    "    twin0 = twin_pair[0]\n",
    "    twin1 = twin_pair[1]\n",
    "    DZ_cos_dist.append(distance.pdist([embeddings_HCP.loc[twin0].values, embeddings_HCP.loc[twin1].values], 'cosine')[0])\n",
    "    DZ_eucli_dist.append(distance.pdist([embeddings_HCP.loc[twin0].values, embeddings_HCP.loc[twin1].values], 'sqeuclidean')[0])\n",
    "\n",
    "DZ_mean_cos_dist = np.sum(DZ_cos_dist)/len(DZ_cos_dist)\n",
    "DZ_mean_eucli_dist = np.sum(DZ_eucli_dist)/len(DZ_eucli_dist)\n",
    "\n",
    "print(f'The average cosine distance for the dizygous twin in the 256 dim latent space is {DZ_mean_cos_dist}')\n",
    "print(f'The average euclidean distance for the dizygous twin in the 256 dim latent space is {DZ_mean_eucli_dist}')"
   ]
  },
  {
   "cell_type": "markdown",
   "metadata": {},
   "source": [
    "Then, we can get the average distance between all the representations."
   ]
  },
  {
   "cell_type": "code",
   "execution_count": 145,
   "metadata": {},
   "outputs": [],
   "source": [
    "cosine_dist_overall = distance.pdist(embeddings_HCP.values, 'cosine')\n",
    "eucli_dist_overall = distance.pdist(embeddings_HCP.values, 'sqeuclidean')"
   ]
  },
  {
   "cell_type": "code",
   "execution_count": 146,
   "metadata": {},
   "outputs": [
    {
     "data": {
      "image/png": "[encoded data removed]",
      "text/plain": [
       "<Figure size 1800x800 with 1 Axes>"
      ]
     },
     "metadata": {},
     "output_type": "display_data"
    }
   ],
   "source": [
    "plt.figure(figsize=(18,8))\n",
    "plt.hist(cosine_dist_overall, bins=100, density=True, label='All', color='cornflowerblue')\n",
    "plt.hist(MZ_cos_dist, bins=40, density=True, alpha=0.5, label='MZ', color='orange')\n",
    "plt.hist(DZ_cos_dist, bins=40, density=True, alpha=0.4, label='DZ', color='green')\n",
    "plt.xlabel('cosine distance')\n",
    "plt.legend()\n",
    "plt.show()"
   ]
  },
  {
   "cell_type": "code",
   "execution_count": 147,
   "metadata": {},
   "outputs": [
    {
     "data": {
      "image/png": "[encoded data removed]",
      "text/plain": [
       "<Figure size 640x480 with 1 Axes>"
      ]
     },
     "metadata": {},
     "output_type": "display_data"
    }
   ],
   "source": [
    "values_all_cos, base_all_cos = np.histogram(cosine_dist_overall, bins=80)\n",
    "cumulative_all_cos = np.cumsum(values_all_cos)\n",
    "values_MZ_cos, base_MZ_cos = np.histogram(MZ_cos_dist, bins=80)\n",
    "cumulative_MZ_cos = np.cumsum(values_MZ_cos)\n",
    "values_DZ_cos, base_DZ_cos = np.histogram(DZ_cos_dist, bins=80)\n",
    "cumulative_DZ_cos = np.cumsum(values_DZ_cos)\n",
    "plt.plot(base_all_cos[:-1], cumulative_all_cos/len(cosine_dist_overall), c='cornflowerblue', label='All')\n",
    "plt.plot(base_MZ_cos[:-1], cumulative_MZ_cos/len(MZ_cos_dist), c='orange', label='MZ')\n",
    "plt.plot(base_DZ_cos[:-1], cumulative_DZ_cos/len(DZ_cos_dist), c='green', label='DZ')\n",
    "plt.title(f'Cumulative function for the average distance between the subjects in HCP embeddings')\n",
    "plt.xlabel('Cosine Distance')\n",
    "plt.legend()\n",
    "plt.show()"
   ]
  },
  {
   "cell_type": "code",
   "execution_count": 48,
   "metadata": {},
   "outputs": [
    {
     "data": {
      "text/plain": [
       "0.6553706780484043"
      ]
     },
     "execution_count": 48,
     "metadata": {},
     "output_type": "execute_result"
    }
   ],
   "source": [
    "all_cos_dist_mean = cosine_dist_overall.sum()/len(cosine_dist_overall)\n",
    "all_cos_dist_mean"
   ]
  },
  {
   "cell_type": "code",
   "execution_count": 17,
   "metadata": {},
   "outputs": [
    {
     "data": {
      "text/plain": [
       "119289.95689916781"
      ]
     },
     "execution_count": 17,
     "metadata": {},
     "output_type": "execute_result"
    }
   ],
   "source": [
    "all_eucli_dist_mean = eucli_dist_overall.sum()/len(eucli_dist_overall)\n",
    "all_eucli_dist_mean"
   ]
  },
  {
   "cell_type": "markdown",
   "metadata": {},
   "source": [
    "And compute the relative difference between the average distance and the specific twins' distances. "
   ]
  },
  {
   "cell_type": "code",
   "execution_count": 18,
   "metadata": {},
   "outputs": [
    {
     "data": {
      "text/plain": [
       "0.0650382047533552"
      ]
     },
     "execution_count": 18,
     "metadata": {},
     "output_type": "execute_result"
    }
   ],
   "source": [
    "(all_cos_dist_mean - MZ_mean_cos_dist)/all_cos_dist_mean"
   ]
  },
  {
   "cell_type": "code",
   "execution_count": 122,
   "metadata": {},
   "outputs": [
    {
     "data": {
      "text/plain": [
       "0.07637577346983694"
      ]
     },
     "execution_count": 122,
     "metadata": {},
     "output_type": "execute_result"
    }
   ],
   "source": [
    "(all_eucli_dist_mean - MZ_mean_eucli_dist)/all_eucli_dist_mean"
   ]
  },
  {
   "cell_type": "code",
   "execution_count": 19,
   "metadata": {},
   "outputs": [
    {
     "data": {
      "text/plain": [
       "0.09389005371367397"
      ]
     },
     "execution_count": 19,
     "metadata": {},
     "output_type": "execute_result"
    }
   ],
   "source": [
    "(all_cos_dist_mean - DZ_mean_cos_dist)/all_cos_dist_mean"
   ]
  },
  {
   "cell_type": "code",
   "execution_count": 124,
   "metadata": {},
   "outputs": [
    {
     "data": {
      "text/plain": [
       "0.09178193913673036"
      ]
     },
     "execution_count": 124,
     "metadata": {},
     "output_type": "execute_result"
    }
   ],
   "source": [
    "(all_eucli_dist_mean - DZ_mean_eucli_dist)/all_eucli_dist_mean"
   ]
  },
  {
   "cell_type": "markdown",
   "metadata": {},
   "source": [
    "## Definition of a function to compare different embedded spaces"
   ]
  },
  {
   "cell_type": "code",
   "execution_count": null,
   "metadata": {},
   "outputs": [],
   "source": []
  },
  {
   "cell_type": "code",
   "execution_count": null,
   "metadata": {},
   "outputs": [],
   "source": []
  },
  {
   "cell_type": "code",
   "execution_count": null,
   "metadata": {},
   "outputs": [],
   "source": []
  }
 ],
 "metadata": {
  "kernelspec": {
   "display_name": "venv",
   "language": "python",
   "name": "python3"
  },
  "language_info": {
   "codemirror_mode": {
    "name": "ipython",
    "version": 3
   },
   "file_extension": ".py",
   "mimetype": "text/x-python",
   "name": "python",
   "nbconvert_exporter": "python",
   "pygments_lexer": "ipython3",
   "version": "3.10.12"
  }
 },
 "nbformat": 4,
 "nbformat_minor": 2
}
