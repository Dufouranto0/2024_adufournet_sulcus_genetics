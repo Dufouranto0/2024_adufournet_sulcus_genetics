{
 "cells": [
  {
   "cell_type": "markdown",
   "metadata": {},
   "source": [
    "## Get the Heritability results from all the previous tests (Antoine)"
   ]
  },
  {
   "cell_type": "code",
   "execution_count": 22,
   "metadata": {},
   "outputs": [],
   "source": [
    "import os\n",
    "import subprocess\n",
    "import matplotlib.pyplot as plt\n",
    "import numpy as np"
   ]
  },
  {
   "cell_type": "code",
   "execution_count": 50,
   "metadata": {},
   "outputs": [
    {
     "name": "stdout",
     "output_type": "stream",
     "text": [
      "HCP_Flanker--results--Flanker_AgeAdj\n",
      "/neurospin/dico/adufournet/Runs/00_Heritability_HCP_Flanker/Heritability/results/Flanker_AgeAdj/house/polygenic.out:\t\t\t H2r is 0.3368790  p = 2.5807871e-08  (Significant)\n",
      "/neurospin/dico/adufournet/Runs/00_Heritability_HCP_Flanker/Heritability/results/Flanker_AgeAdj/no_house/polygenic.out:\t\t\t H2r is 0.3368790  p = 2.5807871e-08  (Significant)\n",
      "\n",
      "HCP_Flanker--results--Flanker_Unadj\n",
      "/neurospin/dico/adufournet/Runs/00_Heritability_HCP_Flanker/Heritability/results/Flanker_Unadj/house/polygenic.out:\t\t\t H2r is 0.3368790  p = 2.5807871e-08  (Significant)\n",
      "/neurospin/dico/adufournet/Runs/00_Heritability_HCP_Flanker/Heritability/results/Flanker_Unadj/no_house/polygenic.out:\t\t\t H2r is 0.3368790  p = 2.5807871e-08  (Significant)\n",
      "\n",
      "Right_PCS_HCP--results--binary_pred\n",
      "/neurospin/dico/adufournet/Runs/01_Heritability_Right_PCS_HCP/Heritability/results/binary_pred/house/polygenic.out:\t\t\t H2r is 0.0338875  p = 0.3000365  (Not Significant)\n",
      "/neurospin/dico/adufournet/Runs/01_Heritability_Right_PCS_HCP/Heritability/results/binary_pred/no_house/polygenic.out:\t\t\t H2r is 0.0338875  p = 0.3000365  (Not Significant)\n",
      "\n",
      "Right_PCS_HCP--results--prob_pred\n",
      "Asymmetry_PCS_HCP--results--binary_asymmetry_diff\n",
      "/neurospin/dico/adufournet/Runs/03_Heritability_Asymmetry_PCS_HCP/Heritability/results/binary_asymmetry_diff/house/polygenic.out:\t\t\t H2r is 0.1189072  p = 0.0296857  (Significant)\n",
      "/neurospin/dico/adufournet/Runs/03_Heritability_Asymmetry_PCS_HCP/Heritability/results/binary_asymmetry_diff/no_house/polygenic.out:\t\t\t H2r is 0.1189072  p = 0.0296857  (Significant)\n",
      "\n",
      "Asymmetry_PCS_HCP--results--asymmetry_combines_prob_PCS\n",
      "/neurospin/dico/adufournet/Runs/03_Heritability_Asymmetry_PCS_HCP/Heritability/results/asymmetry_combines_prob_PCS/house/polygenic.out:\t\t\t H2r is 0.0986592  p = 0.0715496  (Not Significant)\n",
      "/neurospin/dico/adufournet/Runs/03_Heritability_Asymmetry_PCS_HCP/Heritability/results/asymmetry_combines_prob_PCS/no_house/polygenic.out:\t\t\t H2r is 0.0986592  p = 0.0715496  (Not Significant)\n",
      "\n",
      "Asymmetry_PCS_HCP--results--Left_without_Right_PCS\n",
      "/neurospin/dico/adufournet/Runs/03_Heritability_Asymmetry_PCS_HCP/Heritability/results/Left_without_Right_PCS/house/polygenic.out:\t\t\t H2r is 0.0000000  p = 0.5000000  (Not Significant)\n",
      "/neurospin/dico/adufournet/Runs/03_Heritability_Asymmetry_PCS_HCP/Heritability/results/Left_without_Right_PCS/no_house/polygenic.out:\t\t\t H2r is 0.0553708  p = 0.1808694  (Not Significant)\n",
      "\n",
      "Asymmetry_PCS_HCP--results--binary_asymmetry_prob\n",
      "/neurospin/dico/adufournet/Runs/03_Heritability_Asymmetry_PCS_HCP/Heritability/results/binary_asymmetry_prob/house/polygenic.out:\t\t\t H2r is 0.0745824  p = 0.1207264  (Not Significant)\n",
      "/neurospin/dico/adufournet/Runs/03_Heritability_Asymmetry_PCS_HCP/Heritability/results/binary_asymmetry_prob/no_house/polygenic.out:\t\t\t H2r is 0.0745824  p = 0.1207264  (Not Significant)\n",
      "\n",
      "Asymmetry_PCS_HCP--results--Two_PCS\n",
      "/neurospin/dico/adufournet/Runs/03_Heritability_Asymmetry_PCS_HCP/Heritability/results/Two_PCS/house/polygenic.out:\t\t\t H2r is 0.0000000  p = 0.5000000  (Not Significant)\n",
      "/neurospin/dico/adufournet/Runs/03_Heritability_Asymmetry_PCS_HCP/Heritability/results/Two_PCS/no_house/polygenic.out:\t\t\t H2r is 0.1820157  p = 0.0014714  (Significant)\n",
      "\n",
      "Asymmetry_PCS_HCP--results--Zero_PCS\n",
      "/neurospin/dico/adufournet/Runs/03_Heritability_Asymmetry_PCS_HCP/Heritability/results/Zero_PCS/house/polygenic.out:\t\t\t H2r is 0.2844906  p = 0.0000227  (Significant)\n",
      "/neurospin/dico/adufournet/Runs/03_Heritability_Asymmetry_PCS_HCP/Heritability/results/Zero_PCS/no_house/polygenic.out:\t\t\t H2r is 0.2844906  p = 0.0000227  (Significant)\n",
      "\n",
      "Asymmetry_PCS_HCP--results--Right_without_Left_PCS\n",
      "/neurospin/dico/adufournet/Runs/03_Heritability_Asymmetry_PCS_HCP/Heritability/results/Right_without_Left_PCS/house/polygenic.out:\t\t\t H2r is 0.1015805  p = 0.0544820  (Not Significant)\n",
      "/neurospin/dico/adufournet/Runs/03_Heritability_Asymmetry_PCS_HCP/Heritability/results/Right_without_Left_PCS/no_house/polygenic.out:\t\t\t H2r is 0.1015805  p = 0.0544820  (Not Significant)\n",
      "\n",
      "Left_PCS_HCP--results--prob_pred_scaled_on_UKB\n",
      "/neurospin/dico/adufournet/Runs/02_Heritability_Left_PCS_HCP/Heritability/results/prob_pred_scaled_on_UKB/house/polygenic.out:\t\t\t H2r is 0.2507614  p = 0.0000574  (Significant)\n",
      "/neurospin/dico/adufournet/Runs/02_Heritability_Left_PCS_HCP/Heritability/results/prob_pred_scaled_on_UKB/no_house/polygenic.out:\t\t\t H2r is 0.2507614  p = 0.0000574  (Significant)\n",
      "\n",
      "Left_PCS_HCP--results--prob_pred_scaled_on_UKB_brain_vol\n",
      "/neurospin/dico/adufournet/Runs/02_Heritability_Left_PCS_HCP/Heritability/results/prob_pred_scaled_on_UKB_brain_vol/house/polygenic.out:\t\t\t H2r is 0.2507614  p = 0.0000574  (Significant)\n",
      "/neurospin/dico/adufournet/Runs/02_Heritability_Left_PCS_HCP/Heritability/results/prob_pred_scaled_on_UKB_brain_vol/no_house/polygenic.out:\t\t\t H2r is 0.2507614  p = 0.0000574  (Significant)\n",
      "\n",
      "Left_PCS_HCP--results--prob_pred_scaled_on_UKB_brain_vol_sum\n",
      "/neurospin/dico/adufournet/Runs/02_Heritability_Left_PCS_HCP/Heritability/results/prob_pred_scaled_on_UKB_brain_vol_sum/house/polygenic.out:\t\t\t H2r is 0.2507614  p = 0.0000574  (Significant)\n",
      "/neurospin/dico/adufournet/Runs/02_Heritability_Left_PCS_HCP/Heritability/results/prob_pred_scaled_on_UKB_brain_vol_sum/no_house/polygenic.out:\t\t\t H2r is 0.2507614  p = 0.0000574  (Significant)\n",
      "\n",
      "Left_PCS_HCP--results--prob_pred_scaled_on_UKB_2\n",
      "/neurospin/dico/adufournet/Runs/02_Heritability_Left_PCS_HCP/Heritability/results/prob_pred_scaled_on_UKB_2/house/polygenic.out:\t\t\t H2r is 0.2264871  p = 0.0001916  (Significant)\n",
      "/neurospin/dico/adufournet/Runs/02_Heritability_Left_PCS_HCP/Heritability/results/prob_pred_scaled_on_UKB_2/no_house/polygenic.out:\t\t\t H2r is 0.2264871  p = 0.0001916  (Significant)\n",
      "\n",
      "Left_PCS_HCP--results--binary_pred_scaled_on_UKB\n",
      "Left_PCS_HCP--results--prob_pred_scaled_on_ACCP\n",
      "/neurospin/dico/adufournet/Runs/02_Heritability_Left_PCS_HCP/Heritability/results/prob_pred_scaled_on_ACCP/house/polygenic.out:\t\t\t H2r is 0.2556002  p = 0.0000423  (Significant)\n",
      "/neurospin/dico/adufournet/Runs/02_Heritability_Left_PCS_HCP/Heritability/results/prob_pred_scaled_on_ACCP/no_house/polygenic.out:\t\t\t H2r is 0.2556002  p = 0.0000423  (Significant)\n",
      "\n",
      "Left_PCS_HCP--results--binary_pred_scaled_on_ACCP\n",
      "/neurospin/dico/adufournet/Runs/02_Heritability_Left_PCS_HCP/Heritability/results/binary_pred_scaled_on_ACCP/house/polygenic.out:\t\t\t H2r is 0.0933655  p = 0.3004894  (Not Significant)\n",
      "/neurospin/dico/adufournet/Runs/02_Heritability_Left_PCS_HCP/Heritability/results/binary_pred_scaled_on_ACCP/no_house/polygenic.out:\t\t\t H2r is 0.1675149  p = 0.0030863  (Significant)\n",
      "\n",
      "Right_PCS_HCP_dim10--results--prob\n",
      "/neurospin/dico/adufournet/Runs/04_Heritability_Right_PCS_HCP_dim10/Heritability/results/prob/house/polygenic.out:\t\t\t H2r is 0.1120741  p = 0.0493208  (Significant)\n",
      "/neurospin/dico/adufournet/Runs/04_Heritability_Right_PCS_HCP_dim10/Heritability/results/prob/no_house/polygenic.out:\t\t\t H2r is 0.1120741  p = 0.0493208  (Significant)\n",
      "\n",
      "Left_PCS_HCP_dim10--results--prob\n",
      "/neurospin/dico/adufournet/Runs/05_Heritability_Left_PCS_HCP_dim10/Heritability/results/prob/house/polygenic.out:\t\t\t H2r is 0.0291469  p = 0.4397285  (Not Significant)\n",
      "/neurospin/dico/adufournet/Runs/05_Heritability_Left_PCS_HCP_dim10/Heritability/results/prob/no_house/polygenic.out:\t\t\t H2r is 0.1709739  p = 0.0026567  (Significant)\n",
      "\n",
      "Left_PCS_HCP_dim10--results--prob2\n",
      "/neurospin/dico/adufournet/Runs/05_Heritability_Left_PCS_HCP_dim10/Heritability/results/prob2/house/polygenic.out:\t\t\t H2r is 0.0361451  p = 0.4273679  (Not Significant)\n",
      "/neurospin/dico/adufournet/Runs/05_Heritability_Left_PCS_HCP_dim10/Heritability/results/prob2/no_house/polygenic.out:\t\t\t H2r is 0.1794640  p = 0.0024579  (Significant)\n",
      "\n"
     ]
    }
   ],
   "source": [
    "src_path = '/neurospin/dico/adufournet/Runs/'\n",
    "\n",
    "for path in os.listdir(src_path):\n",
    "    if not path.endswith('.txt'):\n",
    "        for results in os.listdir(f\"{src_path}{path}/Heritability/results\"):\n",
    "            print(f'{path[16:]}--results--{results}')\n",
    "            if os.path.exists(f\"{src_path}{path}/Heritability/results/{results}/house/polygenic.out\"):\n",
    "                ROOTDIR=f\"{src_path}{path}/Heritability/results/{results}\"\n",
    "                heritability = subprocess.check_output(f\"grep 'H2r is ' {ROOTDIR}/*house/polygenic.out\", shell=True, text=True)\n",
    "                print(heritability)       \n",
    "                #with open(f\"{src_path}{path}/Heritability/results/{results}/house/polygenic.out\") as f:\n",
    "                    #print(f)\n",
    "\n"
   ]
  }
 ],
 "metadata": {
  "kernelspec": {
   "display_name": "venv",
   "language": "python",
   "name": "python3"
  },
  "language_info": {
   "codemirror_mode": {
    "name": "ipython",
    "version": 3
   },
   "file_extension": ".py",
   "mimetype": "text/x-python",
   "name": "python",
   "nbconvert_exporter": "python",
   "pygments_lexer": "ipython3",
   "version": "3.10.12"
  }
 },
 "nbformat": 4,
 "nbformat_minor": 2
}
