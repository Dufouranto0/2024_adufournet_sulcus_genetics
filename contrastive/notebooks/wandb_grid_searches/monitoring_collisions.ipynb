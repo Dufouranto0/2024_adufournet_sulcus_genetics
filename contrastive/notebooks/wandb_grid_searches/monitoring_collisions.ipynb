{
 "cells": [
  {
   "cell_type": "code",
   "execution_count": 30,
   "metadata": {},
   "outputs": [],
   "source": [
    "from contrastive.evaluation.utils_pipelines import detect_collisions"
   ]
  },
  {
   "cell_type": "code",
   "execution_count": 31,
   "metadata": {},
   "outputs": [
    {
     "name": "stdout",
     "output_type": "stream",
     "text": [
      "14-22-14\n",
      "18-06-40\n",
      "14-54-43\n"
     ]
    }
   ],
   "source": [
    "detect_collisions(\"/neurospin/dico/agaudin/Runs/09_new_repo/Output/2023-07-12\")"
   ]
  },
  {
   "cell_type": "code",
   "execution_count": 12,
   "metadata": {},
   "outputs": [],
   "source": [
    "import os"
   ]
  },
  {
   "cell_type": "code",
   "execution_count": 32,
   "metadata": {},
   "outputs": [],
   "source": [
    "outputs_path = '/neurospin/dico/agaudin/Runs/09_new_repo/Output'\n",
    "\n",
    "for day in os.listdir(outputs_path):\n",
    "    save_path = os.path.join(outputs_path, day)\n",
    "    #print(save_path)\n",
    "\n",
    "    for folder in os.listdir(save_path):\n",
    "        model_path = os.path.join(save_path, folder)\n",
    "        trained_model_path = os.path.join(model_path, 'logs/trained_model.pt')\n",
    "        if os.path.exists(trained_model_path):\n",
    "            #os.remove(trained_model_path)\n",
    "            print(trained_model_path)"
   ]
  }
 ],
 "metadata": {
  "kernelspec": {
   "display_name": "venv_local",
   "language": "python",
   "name": "python3"
  },
  "language_info": {
   "codemirror_mode": {
    "name": "ipython",
    "version": 3
   },
   "file_extension": ".py",
   "mimetype": "text/x-python",
   "name": "python",
   "nbconvert_exporter": "python",
   "pygments_lexer": "ipython3",
   "version": "3.10.6"
  },
  "orig_nbformat": 4
 },
 "nbformat": 4,
 "nbformat_minor": 2
}
