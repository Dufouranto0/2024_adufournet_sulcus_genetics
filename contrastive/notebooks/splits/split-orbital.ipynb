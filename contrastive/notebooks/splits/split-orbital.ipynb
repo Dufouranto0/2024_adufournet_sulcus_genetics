{
 "cells": [
  {
   "cell_type": "code",
   "execution_count": 1,
   "metadata": {},
   "outputs": [],
   "source": [
    "import pandas as pd\n",
    "import numpy as np\n",
    "from skmultilearn.model_selection import iterative_train_test_split\n",
    "from sklearn.datasets import make_multilabel_classification\n",
    "from skmultilearn.model_selection import IterativeStratification\n",
    "import random\n",
    "import csv\n",
    "import glob"
   ]
  },
  {
   "cell_type": "markdown",
   "metadata": {},
   "source": [
    "# Loads and manipulates"
   ]
  },
  {
   "cell_type": "code",
   "execution_count": 2,
   "metadata": {},
   "outputs": [],
   "source": [
    "orb = pd.read_csv(\"/neurospin/dico/data/bv_databases/human/partially_labeled/orbital_paterns/Troiani/HCP_OFC_for_JFM - Types_and_Subtypes.csv\", index_col=0)\n",
    "orb = orb.dropna()\n",
    "orb[\"Right\"] = orb[\"Right\"].astype(int)\n",
    "orb[\"Left\"] = orb[\"Left\"].astype(int)"
   ]
  },
  {
   "cell_type": "code",
   "execution_count": 3,
   "metadata": {},
   "outputs": [
    {
     "name": "stdout",
     "output_type": "stream",
     "text": [
      "1206\n"
     ]
    },
    {
     "data": {
      "text/html": [
       "<div>\n",
       "<style scoped>\n",
       "    .dataframe tbody tr th:only-of-type {\n",
       "        vertical-align: middle;\n",
       "    }\n",
       "\n",
       "    .dataframe tbody tr th {\n",
       "        vertical-align: top;\n",
       "    }\n",
       "\n",
       "    .dataframe thead th {\n",
       "        text-align: right;\n",
       "    }\n",
       "</style>\n",
       "<table border=\"1\" class=\"dataframe\">\n",
       "  <thead>\n",
       "    <tr style=\"text-align: right;\">\n",
       "      <th></th>\n",
       "      <th>Subject</th>\n",
       "      <th>Gender</th>\n",
       "    </tr>\n",
       "  </thead>\n",
       "  <tbody>\n",
       "    <tr>\n",
       "      <th>0</th>\n",
       "      <td>100004</td>\n",
       "      <td>M</td>\n",
       "    </tr>\n",
       "    <tr>\n",
       "      <th>1</th>\n",
       "      <td>100206</td>\n",
       "      <td>M</td>\n",
       "    </tr>\n",
       "    <tr>\n",
       "      <th>2</th>\n",
       "      <td>100307</td>\n",
       "      <td>F</td>\n",
       "    </tr>\n",
       "    <tr>\n",
       "      <th>3</th>\n",
       "      <td>100408</td>\n",
       "      <td>M</td>\n",
       "    </tr>\n",
       "    <tr>\n",
       "      <th>4</th>\n",
       "      <td>100610</td>\n",
       "      <td>M</td>\n",
       "    </tr>\n",
       "  </tbody>\n",
       "</table>\n",
       "</div>"
      ],
      "text/plain": [
       "   Subject Gender\n",
       "0   100004      M\n",
       "1   100206      M\n",
       "2   100307      F\n",
       "3   100408      M\n",
       "4   100610      M"
      ]
     },
     "execution_count": 3,
     "metadata": {},
     "output_type": "execute_result"
    }
   ],
   "source": [
    "participants_file = \"/neurospin/dico/data/bv_databases/human/not_labeled/hcp/participants.csv\"\n",
    "participants_unrestricted = pd.read_csv(participants_file)\n",
    "participants_unrestricted = participants_unrestricted[['Subject', \"Gender\"]]\n",
    "print(len(participants_unrestricted))\n",
    "participants_unrestricted.head()"
   ]
  },
  {
   "cell_type": "code",
   "execution_count": 4,
   "metadata": {},
   "outputs": [
    {
     "name": "stdout",
     "output_type": "stream",
     "text": [
      "1206\n"
     ]
    },
    {
     "data": {
      "text/html": [
       "<div>\n",
       "<style scoped>\n",
       "    .dataframe tbody tr th:only-of-type {\n",
       "        vertical-align: middle;\n",
       "    }\n",
       "\n",
       "    .dataframe tbody tr th {\n",
       "        vertical-align: top;\n",
       "    }\n",
       "\n",
       "    .dataframe thead th {\n",
       "        text-align: right;\n",
       "    }\n",
       "</style>\n",
       "<table border=\"1\" class=\"dataframe\">\n",
       "  <thead>\n",
       "    <tr style=\"text-align: right;\">\n",
       "      <th></th>\n",
       "      <th>Subject</th>\n",
       "      <th>ZygosityGT</th>\n",
       "      <th>Family_ID</th>\n",
       "    </tr>\n",
       "  </thead>\n",
       "  <tbody>\n",
       "    <tr>\n",
       "      <th>0</th>\n",
       "      <td>100004</td>\n",
       "      <td></td>\n",
       "      <td>52259_82122</td>\n",
       "    </tr>\n",
       "    <tr>\n",
       "      <th>1</th>\n",
       "      <td>100206</td>\n",
       "      <td></td>\n",
       "      <td>56037_85858</td>\n",
       "    </tr>\n",
       "    <tr>\n",
       "      <th>2</th>\n",
       "      <td>100307</td>\n",
       "      <td>MZ</td>\n",
       "      <td>51488_81352</td>\n",
       "    </tr>\n",
       "    <tr>\n",
       "      <th>3</th>\n",
       "      <td>100408</td>\n",
       "      <td>MZ</td>\n",
       "      <td>51730_81594</td>\n",
       "    </tr>\n",
       "    <tr>\n",
       "      <th>4</th>\n",
       "      <td>100610</td>\n",
       "      <td>DZ</td>\n",
       "      <td>52813_82634</td>\n",
       "    </tr>\n",
       "  </tbody>\n",
       "</table>\n",
       "</div>"
      ],
      "text/plain": [
       "   Subject ZygosityGT    Family_ID\n",
       "0   100004             52259_82122\n",
       "1   100206             56037_85858\n",
       "2   100307         MZ  51488_81352\n",
       "3   100408         MZ  51730_81594\n",
       "4   100610         DZ  52813_82634"
      ]
     },
     "execution_count": 4,
     "metadata": {},
     "output_type": "execute_result"
    }
   ],
   "source": [
    "participants_file = \"/neurospin/dico/jchavas/RESTRICTED_jchavas_1_18_2022_3_17_51.csv\"\n",
    "participants = pd.read_csv(participants_file)\n",
    "participants = participants[['Subject', 'ZygosityGT', 'Family_ID']]\n",
    "print(len(participants))\n",
    "participants.head()"
   ]
  },
  {
   "cell_type": "code",
   "execution_count": 5,
   "metadata": {},
   "outputs": [
    {
     "name": "stdout",
     "output_type": "stream",
     "text": [
      "1206\n"
     ]
    },
    {
     "data": {
      "text/html": [
       "<div>\n",
       "<style scoped>\n",
       "    .dataframe tbody tr th:only-of-type {\n",
       "        vertical-align: middle;\n",
       "    }\n",
       "\n",
       "    .dataframe tbody tr th {\n",
       "        vertical-align: top;\n",
       "    }\n",
       "\n",
       "    .dataframe thead th {\n",
       "        text-align: right;\n",
       "    }\n",
       "</style>\n",
       "<table border=\"1\" class=\"dataframe\">\n",
       "  <thead>\n",
       "    <tr style=\"text-align: right;\">\n",
       "      <th></th>\n",
       "      <th>Subject</th>\n",
       "      <th>Gender</th>\n",
       "      <th>ZygosityGT</th>\n",
       "      <th>Family_ID</th>\n",
       "    </tr>\n",
       "  </thead>\n",
       "  <tbody>\n",
       "    <tr>\n",
       "      <th>0</th>\n",
       "      <td>100004</td>\n",
       "      <td>M</td>\n",
       "      <td>NotTwin</td>\n",
       "      <td>52259_82122</td>\n",
       "    </tr>\n",
       "    <tr>\n",
       "      <th>1</th>\n",
       "      <td>100206</td>\n",
       "      <td>M</td>\n",
       "      <td>NotTwin</td>\n",
       "      <td>56037_85858</td>\n",
       "    </tr>\n",
       "    <tr>\n",
       "      <th>2</th>\n",
       "      <td>100307</td>\n",
       "      <td>F</td>\n",
       "      <td>MZ</td>\n",
       "      <td>51488_81352</td>\n",
       "    </tr>\n",
       "    <tr>\n",
       "      <th>3</th>\n",
       "      <td>100408</td>\n",
       "      <td>M</td>\n",
       "      <td>MZ</td>\n",
       "      <td>51730_81594</td>\n",
       "    </tr>\n",
       "    <tr>\n",
       "      <th>4</th>\n",
       "      <td>100610</td>\n",
       "      <td>M</td>\n",
       "      <td>DZ</td>\n",
       "      <td>52813_82634</td>\n",
       "    </tr>\n",
       "  </tbody>\n",
       "</table>\n",
       "</div>"
      ],
      "text/plain": [
       "  Subject Gender ZygosityGT    Family_ID\n",
       "0  100004      M    NotTwin  52259_82122\n",
       "1  100206      M    NotTwin  56037_85858\n",
       "2  100307      F         MZ  51488_81352\n",
       "3  100408      M         MZ  51730_81594\n",
       "4  100610      M         DZ  52813_82634"
      ]
     },
     "execution_count": 5,
     "metadata": {},
     "output_type": "execute_result"
    }
   ],
   "source": [
    "participants = pd.merge(participants_unrestricted, participants)\n",
    "participants.loc[(participants['ZygosityGT']== \" \"), 'ZygosityGT'] = 'NotTwin'  \n",
    "participants['Subject'] = participants['Subject'].astype('string')\n",
    "print(len(participants))\n",
    "participants.head()"
   ]
  },
  {
   "cell_type": "code",
   "execution_count": 6,
   "metadata": {},
   "outputs": [
    {
     "data": {
      "text/plain": [
       "Subject       string[python]\n",
       "Gender                object\n",
       "ZygosityGT            object\n",
       "Family_ID             object\n",
       "dtype: object"
      ]
     },
     "execution_count": 6,
     "metadata": {},
     "output_type": "execute_result"
    }
   ],
   "source": [
    "participants.dtypes"
   ]
  },
  {
   "cell_type": "code",
   "execution_count": 7,
   "metadata": {},
   "outputs": [
    {
     "name": "stdout",
     "output_type": "stream",
     "text": [
      "['210112', '579665', '922854', '517239', '329440']\n",
      "1113\n"
     ]
    },
    {
     "data": {
      "text/plain": [
       "{'142626'}"
      ]
     },
     "execution_count": 7,
     "metadata": {},
     "output_type": "execute_result"
    }
   ],
   "source": [
    "treated_subjects = glob.glob(\"/neurospin/dico/data/bv_databases/human/not_labeled/hcp/hcp/*[!.minf]\")\n",
    "treated_subjects = [x.split('/')[-1] for x in treated_subjects]\n",
    "treated_subjects = [x for x in treated_subjects if 'database' not in x]\n",
    "print(treated_subjects[:5])\n",
    "len(treated_subjects)\n",
    "participants = participants[participants['Subject'].isin(treated_subjects)]\n",
    "print(len(participants))\n",
    "set(treated_subjects) - set(participants['Subject'])"
   ]
  },
  {
   "cell_type": "code",
   "execution_count": 12,
   "metadata": {},
   "outputs": [
    {
     "name": "stdout",
     "output_type": "stream",
     "text": [
      "577\n",
      "Right             int64\n",
      "Right Subtype    object\n",
      "Left              int64\n",
      "Left Subtype     object\n",
      "dtype: object\n",
      "Right\n",
      "1        339\n",
      "2        120\n",
      "3         99\n",
      "4         19\n",
      "Name: count, dtype: int64\n",
      "Left\n",
      "1       281\n",
      "2       159\n",
      "3       101\n",
      "4        36\n",
      "Name: count, dtype: int64\n"
     ]
    }
   ],
   "source": [
    "print(len(orb))\n",
    "print(orb.dtypes)\n",
    "print(orb[[\"Right\"]].value_counts(dropna=False))\n",
    "print(orb[[\"Left\"]].value_counts(dropna=False))\n",
    "orb.index = orb.index.astype(str)"
   ]
  },
  {
   "cell_type": "code",
   "execution_count": 13,
   "metadata": {},
   "outputs": [
    {
     "data": {
      "text/html": [
       "<div>\n",
       "<style scoped>\n",
       "    .dataframe tbody tr th:only-of-type {\n",
       "        vertical-align: middle;\n",
       "    }\n",
       "\n",
       "    .dataframe tbody tr th {\n",
       "        vertical-align: top;\n",
       "    }\n",
       "\n",
       "    .dataframe thead th {\n",
       "        text-align: right;\n",
       "    }\n",
       "</style>\n",
       "<table border=\"1\" class=\"dataframe\">\n",
       "  <thead>\n",
       "    <tr style=\"text-align: right;\">\n",
       "      <th></th>\n",
       "      <th>Right</th>\n",
       "      <th>Right Subtype</th>\n",
       "      <th>Left</th>\n",
       "      <th>Left Subtype</th>\n",
       "    </tr>\n",
       "  </thead>\n",
       "  <tbody>\n",
       "    <tr>\n",
       "      <th>100307</th>\n",
       "      <td>1</td>\n",
       "      <td>B</td>\n",
       "      <td>2</td>\n",
       "      <td>F</td>\n",
       "    </tr>\n",
       "    <tr>\n",
       "      <th>100408</th>\n",
       "      <td>1</td>\n",
       "      <td>N</td>\n",
       "      <td>2</td>\n",
       "      <td>E</td>\n",
       "    </tr>\n",
       "    <tr>\n",
       "      <th>100610</th>\n",
       "      <td>1</td>\n",
       "      <td>A</td>\n",
       "      <td>1</td>\n",
       "      <td>A</td>\n",
       "    </tr>\n",
       "    <tr>\n",
       "      <th>101006</th>\n",
       "      <td>1</td>\n",
       "      <td>B</td>\n",
       "      <td>1</td>\n",
       "      <td>A</td>\n",
       "    </tr>\n",
       "    <tr>\n",
       "      <th>101410</th>\n",
       "      <td>2</td>\n",
       "      <td>A</td>\n",
       "      <td>2</td>\n",
       "      <td>I</td>\n",
       "    </tr>\n",
       "  </tbody>\n",
       "</table>\n",
       "</div>"
      ],
      "text/plain": [
       "        Right Right Subtype  Left Left Subtype\n",
       "100307      1             B     2            F\n",
       "100408      1             N     2            E\n",
       "100610      1             A     1            A\n",
       "101006      1             B     1            A\n",
       "101410      2             A     2            I"
      ]
     },
     "execution_count": 13,
     "metadata": {},
     "output_type": "execute_result"
    }
   ],
   "source": [
    "orb.head()"
   ]
  },
  {
   "cell_type": "code",
   "execution_count": 14,
   "metadata": {},
   "outputs": [
    {
     "data": {
      "text/plain": [
       "Index(['100307', '100408', '100610', '101006', '101410', '102311', '102816',\n",
       "       '103010', '103515', '103818',\n",
       "       ...\n",
       "       '966975', '969476', '971160', '972566', '973770', '984472', '987983',\n",
       "       '990366', '995174', '996782'],\n",
       "      dtype='object', length=577)"
      ]
     },
     "execution_count": 14,
     "metadata": {},
     "output_type": "execute_result"
    }
   ],
   "source": [
    "orb.index"
   ]
  },
  {
   "cell_type": "code",
   "execution_count": 16,
   "metadata": {},
   "outputs": [
    {
     "data": {
      "text/plain": [
       "set()"
      ]
     },
     "execution_count": 16,
     "metadata": {},
     "output_type": "execute_result"
    }
   ],
   "source": [
    "set(orb.index) - set(treated_subjects)"
   ]
  },
  {
   "cell_type": "code",
   "execution_count": 18,
   "metadata": {},
   "outputs": [
    {
     "data": {
      "text/plain": [
       "0"
      ]
     },
     "execution_count": 18,
     "metadata": {},
     "output_type": "execute_result"
    }
   ],
   "source": [
    "orb.index.isin(set(treated_subjects) - set(participants['Subject'])).sum()"
   ]
  },
  {
   "cell_type": "code",
   "execution_count": 20,
   "metadata": {},
   "outputs": [
    {
     "data": {
      "text/html": [
       "<div>\n",
       "<style scoped>\n",
       "    .dataframe tbody tr th:only-of-type {\n",
       "        vertical-align: middle;\n",
       "    }\n",
       "\n",
       "    .dataframe tbody tr th {\n",
       "        vertical-align: top;\n",
       "    }\n",
       "\n",
       "    .dataframe thead th {\n",
       "        text-align: right;\n",
       "    }\n",
       "</style>\n",
       "<table border=\"1\" class=\"dataframe\">\n",
       "  <thead>\n",
       "    <tr style=\"text-align: right;\">\n",
       "      <th></th>\n",
       "      <th>Right</th>\n",
       "      <th>Right Subtype</th>\n",
       "      <th>Left</th>\n",
       "      <th>Left Subtype</th>\n",
       "    </tr>\n",
       "  </thead>\n",
       "  <tbody>\n",
       "    <tr>\n",
       "      <th>100307</th>\n",
       "      <td>1</td>\n",
       "      <td>B</td>\n",
       "      <td>2</td>\n",
       "      <td>F</td>\n",
       "    </tr>\n",
       "    <tr>\n",
       "      <th>100408</th>\n",
       "      <td>1</td>\n",
       "      <td>N</td>\n",
       "      <td>2</td>\n",
       "      <td>E</td>\n",
       "    </tr>\n",
       "    <tr>\n",
       "      <th>100610</th>\n",
       "      <td>1</td>\n",
       "      <td>A</td>\n",
       "      <td>1</td>\n",
       "      <td>A</td>\n",
       "    </tr>\n",
       "    <tr>\n",
       "      <th>101006</th>\n",
       "      <td>1</td>\n",
       "      <td>B</td>\n",
       "      <td>1</td>\n",
       "      <td>A</td>\n",
       "    </tr>\n",
       "    <tr>\n",
       "      <th>101410</th>\n",
       "      <td>2</td>\n",
       "      <td>A</td>\n",
       "      <td>2</td>\n",
       "      <td>I</td>\n",
       "    </tr>\n",
       "  </tbody>\n",
       "</table>\n",
       "</div>"
      ],
      "text/plain": [
       "        Right Right Subtype  Left Left Subtype\n",
       "100307      1             B     2            F\n",
       "100408      1             N     2            E\n",
       "100610      1             A     1            A\n",
       "101006      1             B     1            A\n",
       "101410      2             A     2            I"
      ]
     },
     "execution_count": 20,
     "metadata": {},
     "output_type": "execute_result"
    }
   ],
   "source": [
    "orb.head()"
   ]
  },
  {
   "cell_type": "code",
   "execution_count": 21,
   "metadata": {},
   "outputs": [
    {
     "data": {
      "text/html": [
       "<div>\n",
       "<style scoped>\n",
       "    .dataframe tbody tr th:only-of-type {\n",
       "        vertical-align: middle;\n",
       "    }\n",
       "\n",
       "    .dataframe tbody tr th {\n",
       "        vertical-align: top;\n",
       "    }\n",
       "\n",
       "    .dataframe thead th {\n",
       "        text-align: right;\n",
       "    }\n",
       "</style>\n",
       "<table border=\"1\" class=\"dataframe\">\n",
       "  <thead>\n",
       "    <tr style=\"text-align: right;\">\n",
       "      <th></th>\n",
       "      <th>Subject</th>\n",
       "      <th>Gender</th>\n",
       "      <th>ZygosityGT</th>\n",
       "      <th>Family_ID</th>\n",
       "    </tr>\n",
       "  </thead>\n",
       "  <tbody>\n",
       "    <tr>\n",
       "      <th>1</th>\n",
       "      <td>100206</td>\n",
       "      <td>M</td>\n",
       "      <td>NotTwin</td>\n",
       "      <td>56037_85858</td>\n",
       "    </tr>\n",
       "    <tr>\n",
       "      <th>2</th>\n",
       "      <td>100307</td>\n",
       "      <td>F</td>\n",
       "      <td>MZ</td>\n",
       "      <td>51488_81352</td>\n",
       "    </tr>\n",
       "    <tr>\n",
       "      <th>3</th>\n",
       "      <td>100408</td>\n",
       "      <td>M</td>\n",
       "      <td>MZ</td>\n",
       "      <td>51730_81594</td>\n",
       "    </tr>\n",
       "    <tr>\n",
       "      <th>4</th>\n",
       "      <td>100610</td>\n",
       "      <td>M</td>\n",
       "      <td>DZ</td>\n",
       "      <td>52813_82634</td>\n",
       "    </tr>\n",
       "    <tr>\n",
       "      <th>5</th>\n",
       "      <td>101006</td>\n",
       "      <td>F</td>\n",
       "      <td>NotTwin</td>\n",
       "      <td>51283_52850_81149</td>\n",
       "    </tr>\n",
       "  </tbody>\n",
       "</table>\n",
       "</div>"
      ],
      "text/plain": [
       "  Subject Gender ZygosityGT          Family_ID\n",
       "1  100206      M    NotTwin        56037_85858\n",
       "2  100307      F         MZ        51488_81352\n",
       "3  100408      M         MZ        51730_81594\n",
       "4  100610      M         DZ        52813_82634\n",
       "5  101006      F    NotTwin  51283_52850_81149"
      ]
     },
     "execution_count": 21,
     "metadata": {},
     "output_type": "execute_result"
    }
   ],
   "source": [
    "participants.head()"
   ]
  },
  {
   "cell_type": "code",
   "execution_count": 28,
   "metadata": {},
   "outputs": [],
   "source": [
    "orb = pd.merge(participants, orb, left_on='Subject', right_index=True).set_index('Subject')"
   ]
  },
  {
   "cell_type": "markdown",
   "metadata": {},
   "source": [
    "# Makes split without considering twins"
   ]
  },
  {
   "cell_type": "code",
   "execution_count": 36,
   "metadata": {},
   "outputs": [
    {
     "data": {
      "text/plain": [
       "Gender\n",
       "F         349\n",
       "M         228\n",
       "Name: count, dtype: int64"
      ]
     },
     "execution_count": 36,
     "metadata": {},
     "output_type": "execute_result"
    }
   ],
   "source": [
    "orb[[\"Gender\"]].value_counts()"
   ]
  },
  {
   "cell_type": "code",
   "execution_count": 37,
   "metadata": {},
   "outputs": [
    {
     "data": {
      "text/html": [
       "<div>\n",
       "<style scoped>\n",
       "    .dataframe tbody tr th:only-of-type {\n",
       "        vertical-align: middle;\n",
       "    }\n",
       "\n",
       "    .dataframe tbody tr th {\n",
       "        vertical-align: top;\n",
       "    }\n",
       "\n",
       "    .dataframe thead th {\n",
       "        text-align: right;\n",
       "    }\n",
       "</style>\n",
       "<table border=\"1\" class=\"dataframe\">\n",
       "  <thead>\n",
       "    <tr style=\"text-align: right;\">\n",
       "      <th></th>\n",
       "      <th>Gender</th>\n",
       "      <th>ZygosityGT</th>\n",
       "      <th>Family_ID</th>\n",
       "      <th>Right</th>\n",
       "      <th>Right Subtype</th>\n",
       "      <th>Left</th>\n",
       "      <th>Left Subtype</th>\n",
       "    </tr>\n",
       "    <tr>\n",
       "      <th>Subject</th>\n",
       "      <th></th>\n",
       "      <th></th>\n",
       "      <th></th>\n",
       "      <th></th>\n",
       "      <th></th>\n",
       "      <th></th>\n",
       "      <th></th>\n",
       "    </tr>\n",
       "  </thead>\n",
       "  <tbody>\n",
       "    <tr>\n",
       "      <th>100610</th>\n",
       "      <td>M</td>\n",
       "      <td>DZ</td>\n",
       "      <td>52813_82634</td>\n",
       "      <td>1</td>\n",
       "      <td>A</td>\n",
       "      <td>1</td>\n",
       "      <td>A</td>\n",
       "    </tr>\n",
       "    <tr>\n",
       "      <th>103010</th>\n",
       "      <td>M</td>\n",
       "      <td>MZ</td>\n",
       "      <td>55895_85715</td>\n",
       "      <td>1</td>\n",
       "      <td>A</td>\n",
       "      <td>1</td>\n",
       "      <td>A</td>\n",
       "    </tr>\n",
       "    <tr>\n",
       "      <th>106824</th>\n",
       "      <td>M</td>\n",
       "      <td>DZ</td>\n",
       "      <td>56183_86002</td>\n",
       "      <td>1</td>\n",
       "      <td>I</td>\n",
       "      <td>1</td>\n",
       "      <td>A</td>\n",
       "    </tr>\n",
       "    <tr>\n",
       "      <th>107422</th>\n",
       "      <td>M</td>\n",
       "      <td>MZ</td>\n",
       "      <td>54628_84450</td>\n",
       "      <td>1</td>\n",
       "      <td>B</td>\n",
       "      <td>1</td>\n",
       "      <td>A</td>\n",
       "    </tr>\n",
       "    <tr>\n",
       "      <th>108020</th>\n",
       "      <td>M</td>\n",
       "      <td>DZ</td>\n",
       "      <td>56200_86019</td>\n",
       "      <td>1</td>\n",
       "      <td>C</td>\n",
       "      <td>1</td>\n",
       "      <td>A</td>\n",
       "    </tr>\n",
       "    <tr>\n",
       "      <th>...</th>\n",
       "      <td>...</td>\n",
       "      <td>...</td>\n",
       "      <td>...</td>\n",
       "      <td>...</td>\n",
       "      <td>...</td>\n",
       "      <td>...</td>\n",
       "      <td>...</td>\n",
       "    </tr>\n",
       "    <tr>\n",
       "      <th>832651</th>\n",
       "      <td>M</td>\n",
       "      <td>DZ</td>\n",
       "      <td>55904_85724</td>\n",
       "      <td>1</td>\n",
       "      <td>N</td>\n",
       "      <td>1</td>\n",
       "      <td>E</td>\n",
       "    </tr>\n",
       "    <tr>\n",
       "      <th>871964</th>\n",
       "      <td>M</td>\n",
       "      <td>NotTwin</td>\n",
       "      <td>51852_81716</td>\n",
       "      <td>1</td>\n",
       "      <td>N</td>\n",
       "      <td>1</td>\n",
       "      <td>C</td>\n",
       "    </tr>\n",
       "    <tr>\n",
       "      <th>898176</th>\n",
       "      <td>M</td>\n",
       "      <td>DZ</td>\n",
       "      <td>51749_81613</td>\n",
       "      <td>1</td>\n",
       "      <td>F</td>\n",
       "      <td>1</td>\n",
       "      <td>N</td>\n",
       "    </tr>\n",
       "    <tr>\n",
       "      <th>926862</th>\n",
       "      <td>M</td>\n",
       "      <td>MZ</td>\n",
       "      <td>55763_85584</td>\n",
       "      <td>1</td>\n",
       "      <td>C</td>\n",
       "      <td>1</td>\n",
       "      <td>I</td>\n",
       "    </tr>\n",
       "    <tr>\n",
       "      <th>943862</th>\n",
       "      <td>M</td>\n",
       "      <td>MZ</td>\n",
       "      <td>52844_82665</td>\n",
       "      <td>1</td>\n",
       "      <td>B</td>\n",
       "      <td>1</td>\n",
       "      <td>B</td>\n",
       "    </tr>\n",
       "  </tbody>\n",
       "</table>\n",
       "<p>67 rows × 7 columns</p>\n",
       "</div>"
      ],
      "text/plain": [
       "        Gender ZygosityGT    Family_ID  Right Right Subtype  Left Left Subtype\n",
       "Subject                                                                       \n",
       "100610       M         DZ  52813_82634      1             A     1            A\n",
       "103010       M         MZ  55895_85715      1             A     1            A\n",
       "106824       M         DZ  56183_86002      1             I     1            A\n",
       "107422       M         MZ  54628_84450      1             B     1            A\n",
       "108020       M         DZ  56200_86019      1             C     1            A\n",
       "...        ...        ...          ...    ...           ...   ...          ...\n",
       "832651       M         DZ  55904_85724      1             N     1            E\n",
       "871964       M    NotTwin  51852_81716      1             N     1            C\n",
       "898176       M         DZ  51749_81613      1             F     1            N\n",
       "926862       M         MZ  55763_85584      1             C     1            I\n",
       "943862       M         MZ  52844_82665      1             B     1            B\n",
       "\n",
       "[67 rows x 7 columns]"
      ]
     },
     "execution_count": 37,
     "metadata": {},
     "output_type": "execute_result"
    }
   ],
   "source": [
    "orb.query(\"Right==1 and Left==1 and Gender=='M'\")"
   ]
  },
  {
   "cell_type": "code",
   "execution_count": 38,
   "metadata": {},
   "outputs": [],
   "source": [
    "def print_frequencies(df):\n",
    "    for right in df['Right'].unique():\n",
    "        for left in df['Left'].unique():\n",
    "            for gender in df['Gender'].unique():\n",
    "                freq = df.query(\"Right==@right and Left==@left and Gender==@gender\")\n",
    "                print(f\"{right}, {left}, {gender}: {len(freq)}\")"
   ]
  },
  {
   "cell_type": "code",
   "execution_count": 39,
   "metadata": {},
   "outputs": [
    {
     "name": "stdout",
     "output_type": "stream",
     "text": [
      "1, 2, F: 50\n",
      "1, 2, M: 36\n",
      "1, 1, F: 111\n",
      "1, 1, M: 67\n",
      "1, 3, F: 49\n",
      "1, 3, M: 14\n",
      "1, 4, F: 7\n",
      "1, 4, M: 5\n",
      "2, 2, F: 16\n",
      "2, 2, M: 28\n",
      "2, 1, F: 27\n",
      "2, 1, M: 27\n",
      "2, 3, F: 7\n",
      "2, 3, M: 2\n",
      "2, 4, F: 5\n",
      "2, 4, M: 8\n",
      "3, 2, F: 13\n",
      "3, 2, M: 11\n",
      "3, 1, F: 27\n",
      "3, 1, M: 14\n",
      "3, 3, F: 17\n",
      "3, 3, M: 7\n",
      "3, 4, F: 8\n",
      "3, 4, M: 2\n",
      "4, 2, F: 3\n",
      "4, 2, M: 2\n",
      "4, 1, F: 5\n",
      "4, 1, M: 3\n",
      "4, 3, F: 3\n",
      "4, 3, M: 2\n",
      "4, 4, F: 1\n",
      "4, 4, M: 0\n"
     ]
    }
   ],
   "source": [
    "print_frequencies(orb)"
   ]
  },
  {
   "cell_type": "code",
   "execution_count": 44,
   "metadata": {},
   "outputs": [],
   "source": [
    "def iterative_split(df, folds, n_splits, stratify_columns):\n",
    "    \"\"\"Custom iterative train test split which\n",
    "    'maintains balanced representation with respect\n",
    "    to order-th label combinations.'\n",
    "\n",
    "    From https://madewithml.com/courses/mlops/splitting/#stratified-split\n",
    "    \"\"\"\n",
    "    # One-hot encode the stratify columns and concatenate them\n",
    "    one_hot_cols = [pd.get_dummies(df[col]) for col in stratify_columns]\n",
    "    one_hot_cols = pd.concat(one_hot_cols, axis=1).to_numpy()\n",
    "    stratifier = IterativeStratification(\n",
    "        n_splits=n_splits, order=len(stratify_columns), sample_distribution_per_fold=folds)\n",
    "    folds = []\n",
    "    for indices in stratifier.split(df.to_numpy(), one_hot_cols):\n",
    "        folds.append(df.iloc[indices[1]])\n",
    "    return folds"
   ]
  },
  {
   "cell_type": "code",
   "execution_count": 45,
   "metadata": {},
   "outputs": [],
   "source": [
    "folds = iterative_split(orb, [0.1,]*10, 10, ['Right', 'Left', 'Gender'])"
   ]
  },
  {
   "cell_type": "code",
   "execution_count": 46,
   "metadata": {},
   "outputs": [
    {
     "name": "stdout",
     "output_type": "stream",
     "text": [
      "10\n"
     ]
    }
   ],
   "source": [
    "print(len(folds))"
   ]
  },
  {
   "cell_type": "code",
   "execution_count": 47,
   "metadata": {},
   "outputs": [],
   "source": [
    "def print_results(parent, folds, col):\n",
    "\n",
    "    # For each conbination of labels, prints the number of rows for each fold\n",
    "    # having this combination\n",
    "    total_errors = 0\n",
    "    n_splits = len(folds)\n",
    "    print(\"query   : #rows      : #rows per fold\\n\")\n",
    "\n",
    "    for col0 in parent[col[0]].unique():\n",
    "        for col1 in parent[col[1]].unique():\n",
    "            for col2 in parent[col[2]].unique():\n",
    "                df = parent.query(f\"{col[0]}==@col0 and {col[1]}==@col1 and {col[2]}==@col2\")\n",
    "                len_query = len(df)\n",
    "                print(f\"{col0}, {col1}, {col2} : total = {len_query} : per fold =\", end = ' ')\n",
    "                for fold in folds:\n",
    "                    df0 = fold.query(f\"{col[0]}==@col0 and {col[1]}==@col1 and {col[2]}==@col2\")\n",
    "                    len_query_fold = len(df0)\n",
    "                    if abs(len_query_fold-len_query/n_splits) >= 1:\n",
    "                        total_errors += 1\n",
    "                    print(f\"{len_query_fold} -\", end= ' ')\n",
    "                print(\"\")\n",
    "\n",
    "    # Prints the statistics and the number of stratification errors\n",
    "    expected_total_length = len(parent)\n",
    "    total_length = 0\n",
    "    total_mismatches = 0\n",
    "    print(\"\\nlengths of folds : \", end = ' ')\n",
    "    for fold in folds:\n",
    "        len_fold = len(fold)\n",
    "        print(len_fold, end=' ')\n",
    "        total_length += len_fold\n",
    "        if abs(len_fold-expected_total_length/n_splits) >= 1:\n",
    "            total_mismatches += 1\n",
    "    print(f\"\\nExpected total_length = {expected_total_length}\")\n",
    "    print(f\"Effective total_length = {total_length}\")\n",
    "\n",
    "    print(f\"total number of stratification errors: {total_errors}\")\n",
    "    print(f\"total number of mismatched fold sizes : {total_mismatches}\")"
   ]
  },
  {
   "cell_type": "code",
   "execution_count": 48,
   "metadata": {},
   "outputs": [
    {
     "name": "stdout",
     "output_type": "stream",
     "text": [
      "query   : #rows      : #rows per fold\n",
      "\n",
      "1, 2, F : total = 50 : per fold = 5 - 5 - 5 - 5 - 5 - 5 - 5 - 5 - 5 - 5 - \n",
      "1, 2, M : total = 36 : per fold = 4 - 4 - 3 - 3 - 4 - 4 - 3 - 4 - 3 - 4 - \n",
      "1, 1, F : total = 111 : per fold = 10 - 11 - 12 - 13 - 10 - 10 - 12 - 11 - 11 - 11 - \n",
      "1, 1, M : total = 67 : per fold = 7 - 6 - 6 - 7 - 7 - 7 - 7 - 6 - 7 - 7 - \n",
      "1, 3, F : total = 49 : per fold = 5 - 5 - 5 - 5 - 5 - 5 - 5 - 5 - 5 - 4 - \n",
      "1, 3, M : total = 14 : per fold = 1 - 1 - 2 - 1 - 2 - 2 - 1 - 2 - 1 - 1 - \n",
      "1, 4, F : total = 7 : per fold = 1 - 1 - 0 - 0 - 1 - 1 - 1 - 0 - 1 - 1 - \n",
      "1, 4, M : total = 5 : per fold = 1 - 0 - 1 - 0 - 0 - 0 - 0 - 1 - 1 - 1 - \n",
      "2, 2, F : total = 16 : per fold = 2 - 2 - 2 - 1 - 1 - 2 - 2 - 1 - 1 - 2 - \n",
      "2, 2, M : total = 28 : per fold = 2 - 3 - 3 - 3 - 3 - 3 - 3 - 3 - 3 - 2 - \n",
      "2, 1, F : total = 27 : per fold = 3 - 3 - 3 - 3 - 2 - 3 - 3 - 3 - 2 - 2 - \n",
      "2, 1, M : total = 27 : per fold = 3 - 2 - 3 - 3 - 3 - 3 - 2 - 3 - 3 - 2 - \n",
      "2, 3, F : total = 7 : per fold = 1 - 1 - 1 - 1 - 0 - 1 - 1 - 0 - 0 - 1 - \n",
      "2, 3, M : total = 2 : per fold = 0 - 0 - 1 - 0 - 0 - 0 - 1 - 0 - 0 - 0 - \n",
      "2, 4, F : total = 5 : per fold = 0 - 1 - 1 - 1 - 0 - 0 - 0 - 1 - 0 - 1 - \n",
      "2, 4, M : total = 8 : per fold = 1 - 1 - 1 - 0 - 0 - 1 - 1 - 1 - 1 - 1 - \n",
      "3, 2, F : total = 13 : per fold = 1 - 1 - 1 - 1 - 1 - 1 - 2 - 2 - 1 - 2 - \n",
      "3, 2, M : total = 11 : per fold = 1 - 1 - 1 - 2 - 1 - 1 - 1 - 1 - 1 - 1 - \n",
      "3, 1, F : total = 27 : per fold = 2 - 3 - 3 - 2 - 3 - 3 - 3 - 3 - 2 - 3 - \n",
      "3, 1, M : total = 14 : per fold = 1 - 1 - 1 - 2 - 2 - 1 - 1 - 2 - 2 - 1 - \n",
      "3, 3, F : total = 17 : per fold = 2 - 2 - 2 - 2 - 2 - 1 - 2 - 1 - 1 - 2 - \n",
      "3, 3, M : total = 7 : per fold = 1 - 1 - 0 - 1 - 1 - 1 - 1 - 1 - 0 - 0 - \n",
      "3, 4, F : total = 8 : per fold = 1 - 1 - 1 - 0 - 1 - 1 - 1 - 1 - 0 - 1 - \n",
      "3, 4, M : total = 2 : per fold = 0 - 0 - 1 - 0 - 1 - 0 - 0 - 0 - 0 - 0 - \n",
      "4, 2, F : total = 3 : per fold = 0 - 0 - 0 - 0 - 0 - 0 - 1 - 1 - 1 - 0 - \n",
      "4, 2, M : total = 2 : per fold = 0 - 0 - 1 - 0 - 0 - 0 - 1 - 0 - 0 - 0 - \n",
      "4, 1, F : total = 5 : per fold = 1 - 1 - 0 - 1 - 1 - 0 - 0 - 0 - 0 - 1 - \n",
      "4, 1, M : total = 3 : per fold = 1 - 0 - 1 - 0 - 0 - 1 - 0 - 0 - 0 - 0 - \n",
      "4, 3, F : total = 3 : per fold = 0 - 0 - 0 - 0 - 1 - 0 - 0 - 0 - 1 - 1 - \n",
      "4, 3, M : total = 2 : per fold = 0 - 0 - 0 - 1 - 0 - 0 - 0 - 0 - 1 - 0 - \n",
      "4, 4, F : total = 1 : per fold = 1 - 0 - 0 - 0 - 0 - 0 - 0 - 0 - 0 - 0 - \n",
      "4, 4, M : total = 0 : per fold = 0 - 0 - 0 - 0 - 0 - 0 - 0 - 0 - 0 - 0 - \n",
      "\n",
      "lengths of folds :  58 57 61 58 57 57 60 58 54 57 \n",
      "Expected total_length = 577\n",
      "Effective total_length = 577\n",
      "total number of stratification errors: 4\n",
      "total number of mismatched fold sizes : 3\n"
     ]
    }
   ],
   "source": [
    "print_results(orb, folds, ['Right', 'Left', 'Gender'])"
   ]
  },
  {
   "cell_type": "code",
   "execution_count": 49,
   "metadata": {},
   "outputs": [],
   "source": [
    "def iterative_split_through_sorting_shuffle(df, n_splits, stratify_columns, random_state):\n",
    "    \"\"\"Custom iterative train test split which\n",
    "    maintains balanced representation.\n",
    "    \"\"\"\n",
    "    # Dataframe random row shuffle + sorting according to stratify_columns\n",
    "    sorted = df.sample(frac=1, random_state=random_state).sort_values(stratify_columns)\n",
    "    # for each fold, we take one row every n_splits rows\n",
    "    folds = [sorted.iloc[i::n_splits, :] for i in range(n_splits)]\n",
    "    # Further shuffling\n",
    "    folds = [fold.sample(frac=1, random_state=random_state) for fold in folds]\n",
    "    random.Random(random_state).shuffle(folds)\n",
    "    return folds"
   ]
  },
  {
   "cell_type": "code",
   "execution_count": 52,
   "metadata": {},
   "outputs": [],
   "source": [
    "folds = iterative_split_through_sorting_shuffle(orb, 10, ['Right', 'Left', 'Gender'], 1)"
   ]
  },
  {
   "cell_type": "code",
   "execution_count": 53,
   "metadata": {},
   "outputs": [
    {
     "name": "stdout",
     "output_type": "stream",
     "text": [
      "query   : #rows      : #rows per fold\n",
      "\n",
      "1, 2, F : total = 50 : per fold = 5 - 5 - 5 - 5 - 5 - 5 - 5 - 5 - 5 - 5 - \n",
      "1, 2, M : total = 36 : per fold = 3 - 4 - 4 - 3 - 3 - 4 - 4 - 3 - 4 - 4 - \n",
      "1, 1, F : total = 111 : per fold = 11 - 11 - 11 - 11 - 11 - 11 - 12 - 11 - 11 - 11 - \n",
      "1, 1, M : total = 67 : per fold = 7 - 6 - 6 - 7 - 7 - 7 - 6 - 7 - 7 - 7 - \n",
      "1, 3, F : total = 49 : per fold = 5 - 5 - 5 - 5 - 5 - 4 - 5 - 5 - 5 - 5 - \n",
      "1, 3, M : total = 14 : per fold = 2 - 1 - 1 - 1 - 2 - 2 - 1 - 2 - 1 - 1 - \n",
      "1, 4, F : total = 7 : per fold = 0 - 1 - 1 - 1 - 0 - 1 - 1 - 0 - 1 - 1 - \n",
      "1, 4, M : total = 5 : per fold = 1 - 1 - 0 - 1 - 1 - 0 - 0 - 1 - 0 - 0 - \n",
      "2, 2, F : total = 16 : per fold = 2 - 2 - 1 - 2 - 2 - 2 - 1 - 2 - 1 - 1 - \n",
      "2, 2, M : total = 28 : per fold = 3 - 2 - 3 - 2 - 3 - 3 - 3 - 3 - 3 - 3 - \n",
      "2, 1, F : total = 27 : per fold = 2 - 2 - 3 - 2 - 3 - 3 - 3 - 3 - 3 - 3 - \n",
      "2, 1, M : total = 27 : per fold = 3 - 3 - 3 - 3 - 2 - 2 - 3 - 2 - 3 - 3 - \n",
      "2, 3, F : total = 7 : per fold = 0 - 1 - 1 - 1 - 0 - 1 - 1 - 0 - 1 - 1 - \n",
      "2, 3, M : total = 2 : per fold = 0 - 0 - 0 - 0 - 1 - 0 - 0 - 1 - 0 - 0 - \n",
      "2, 4, F : total = 5 : per fold = 1 - 1 - 1 - 1 - 0 - 0 - 1 - 0 - 0 - 0 - \n",
      "2, 4, M : total = 8 : per fold = 1 - 1 - 0 - 1 - 1 - 1 - 0 - 1 - 1 - 1 - \n",
      "3, 2, F : total = 13 : per fold = 1 - 1 - 1 - 1 - 1 - 1 - 2 - 1 - 2 - 2 - \n",
      "3, 2, M : total = 11 : per fold = 1 - 1 - 1 - 1 - 1 - 2 - 1 - 1 - 1 - 1 - \n",
      "3, 1, F : total = 27 : per fold = 2 - 2 - 3 - 2 - 3 - 3 - 3 - 3 - 3 - 3 - \n",
      "3, 1, M : total = 14 : per fold = 2 - 2 - 2 - 2 - 1 - 1 - 1 - 1 - 1 - 1 - \n",
      "3, 3, F : total = 17 : per fold = 2 - 2 - 2 - 2 - 2 - 1 - 2 - 2 - 1 - 1 - \n",
      "3, 3, M : total = 7 : per fold = 1 - 0 - 0 - 1 - 1 - 1 - 0 - 1 - 1 - 1 - \n",
      "3, 4, F : total = 8 : per fold = 0 - 1 - 1 - 0 - 1 - 1 - 1 - 1 - 1 - 1 - \n",
      "3, 4, M : total = 2 : per fold = 1 - 0 - 0 - 1 - 0 - 0 - 0 - 0 - 0 - 0 - \n",
      "4, 2, F : total = 3 : per fold = 1 - 1 - 0 - 1 - 0 - 0 - 0 - 0 - 0 - 0 - \n",
      "4, 2, M : total = 2 : per fold = 0 - 0 - 1 - 0 - 0 - 0 - 1 - 0 - 0 - 0 - \n",
      "4, 1, F : total = 5 : per fold = 0 - 1 - 1 - 0 - 0 - 0 - 1 - 0 - 1 - 1 - \n",
      "4, 1, M : total = 3 : per fold = 0 - 0 - 0 - 0 - 1 - 1 - 0 - 1 - 0 - 0 - \n",
      "4, 3, F : total = 3 : per fold = 0 - 0 - 0 - 0 - 0 - 1 - 0 - 0 - 1 - 1 - \n",
      "4, 3, M : total = 2 : per fold = 0 - 0 - 0 - 0 - 1 - 0 - 0 - 1 - 0 - 0 - \n",
      "4, 4, F : total = 1 : per fold = 1 - 0 - 0 - 0 - 0 - 0 - 0 - 0 - 0 - 0 - \n",
      "4, 4, M : total = 0 : per fold = 0 - 0 - 0 - 0 - 0 - 0 - 0 - 0 - 0 - 0 - \n",
      "\n",
      "lengths of folds :  58 57 57 57 58 58 58 58 58 58 \n",
      "Expected total_length = 577\n",
      "Effective total_length = 577\n",
      "total number of stratification errors: 0\n",
      "total number of mismatched fold sizes : 0\n"
     ]
    }
   ],
   "source": [
    "print_results(orb, folds, ['Right', 'Left', 'Gender'])"
   ]
  },
  {
   "cell_type": "markdown",
   "metadata": {},
   "source": [
    "# Makes splits by considering zygosity and gender"
   ]
  },
  {
   "cell_type": "code",
   "execution_count": null,
   "metadata": {},
   "outputs": [],
   "source": [
    "acc.head()"
   ]
  },
  {
   "cell_type": "code",
   "execution_count": null,
   "metadata": {},
   "outputs": [],
   "source": [
    "acc.groupby([\"DATABASE\",\"SEX\", \"Right_PCS\"]).size()"
   ]
  },
  {
   "cell_type": "code",
   "execution_count": null,
   "metadata": {},
   "outputs": [],
   "source": [
    "def sampling_subdataset_based_on_full_dataset(full, sub, n_splits):\n",
    "    \"\"\"Sampling of one fold the subdataset sub such that\n",
    "    for each combination, the proportion equals the proportion of the full dataset divided by n_splits\n",
    "    \"\"\"\n",
    "    \n",
    "    total = 0\n",
    "    test = pd.DataFrame()\n",
    "    full_counts = full.value_counts([\"DATABASE\",\"SEX\", \"Right_PCS\"]).reset_index(name='counts')\n",
    "    for row in full_counts.iterrows():\n",
    "        row = row[1]\n",
    "        total_comb = row['counts']\n",
    "        df = sub.query(f\"DATABASE=='{row['DATABASE']}' and SEX=='{row['SEX']}' and Right_PCS=='{row['Right_PCS']}'\")\n",
    "\n",
    "        if len(test) < total/n_splits:\n",
    "            df = df.iloc[0:(int(total_comb/n_splits)+1),:]\n",
    "        else:\n",
    "            df = df.iloc[0:int(total_comb/n_splits),:]\n",
    "            \n",
    "        test = pd.concat([test, df])\n",
    "        total_sub = len(df)\n",
    "        total += total_comb\n",
    "        print(f\"{row['DATABASE']}, {row['SEX']}, {row['Right_PCS']}: {total_comb}, {total_sub}\")\n",
    "\n",
    "    return test"
   ]
  },
  {
   "cell_type": "code",
   "execution_count": null,
   "metadata": {},
   "outputs": [],
   "source": [
    "test = sampling_subdataset_based_on_full_dataset(acc, acc0, 5)"
   ]
  },
  {
   "cell_type": "code",
   "execution_count": null,
   "metadata": {},
   "outputs": [],
   "source": [
    "print(len(test))\n",
    "test.head()"
   ]
  },
  {
   "cell_type": "code",
   "execution_count": null,
   "metadata": {},
   "outputs": [],
   "source": [
    "# acc0_reduced = acc0.merge(test0, how='outer', indicator=True).query('_merge != \"both\"').drop('_merge', axis=1)"
   ]
  },
  {
   "cell_type": "code",
   "execution_count": null,
   "metadata": {},
   "outputs": [],
   "source": [
    "folds_test = iterative_split_through_sorting_shuffle(test, 2, ['DATABASE', 'SEX', 'Right_PCS'], 3)"
   ]
  },
  {
   "cell_type": "code",
   "execution_count": null,
   "metadata": {},
   "outputs": [],
   "source": [
    "print_results(test, folds_test,['DATABASE', 'SEX', 'Right_PCS'])"
   ]
  },
  {
   "cell_type": "code",
   "execution_count": null,
   "metadata": {},
   "outputs": [],
   "source": [
    "acc_train = acc.merge(test, how='outer', indicator=True).query('_merge != \"both\"').drop('_merge', axis=1)"
   ]
  },
  {
   "cell_type": "code",
   "execution_count": null,
   "metadata": {},
   "outputs": [],
   "source": [
    "folds_train = iterative_split_through_sorting_shuffle(acc_train, 8, ['DATABASE', 'SEX', 'Right_PCS'], 3)"
   ]
  },
  {
   "cell_type": "code",
   "execution_count": null,
   "metadata": {},
   "outputs": [],
   "source": [
    "print_results(acc_train, folds_train,['DATABASE', 'SEX', 'Right_PCS'])"
   ]
  },
  {
   "cell_type": "code",
   "execution_count": null,
   "metadata": {},
   "outputs": [],
   "source": [
    "folds = folds_train + folds_test\n",
    "len(folds)"
   ]
  },
  {
   "cell_type": "code",
   "execution_count": null,
   "metadata": {},
   "outputs": [],
   "source": [
    "print_results(acc, folds,['DATABASE', 'SEX', 'Right_PCS'])"
   ]
  },
  {
   "cell_type": "code",
   "execution_count": null,
   "metadata": {},
   "outputs": [],
   "source": [
    "(~folds_test[1]['long_name'].isin(acc0['long_name'])).sum()"
   ]
  },
  {
   "cell_type": "code",
   "execution_count": null,
   "metadata": {},
   "outputs": [],
   "source": [
    "folds_test[0].dtypes"
   ]
  },
  {
   "cell_type": "markdown",
   "metadata": {},
   "source": [
    "# Saving results"
   ]
  },
  {
   "cell_type": "code",
   "execution_count": null,
   "metadata": {},
   "outputs": [],
   "source": [
    "save_path = \"/neurospin/dico/data/deep_folding/current/datasets/ACCpatterns\"\n",
    "prefix_test = \"ACCpatterns_subjects_test\"\n",
    "prefix_train = \"ACCpatterns_subjects_train\""
   ]
  },
  {
   "cell_type": "code",
   "execution_count": null,
   "metadata": {},
   "outputs": [],
   "source": [
    "for i in range(len(folds_test)):\n",
    "    folds_test[i][\"long_name\"].to_csv(\n",
    "        f\"{save_path}/{prefix_test}_split_{i}.csv\",\n",
    "        index=False,\n",
    "        header=False,\n",
    "        quoting=csv.QUOTE_ALL)"
   ]
  },
  {
   "cell_type": "code",
   "execution_count": null,
   "metadata": {},
   "outputs": [],
   "source": [
    "for i in range(len(folds_train)):\n",
    "    folds_train[i][\"long_name\"].to_csv(\n",
    "        f\"{save_path}/{prefix_train}_split_{i}.csv\",\n",
    "        index=False,\n",
    "        header=False,\n",
    "        quoting=csv.QUOTE_ALL)"
   ]
  },
  {
   "cell_type": "code",
   "execution_count": null,
   "metadata": {},
   "outputs": [],
   "source": []
  }
 ],
 "metadata": {
  "kernelspec": {
   "display_name": "venv",
   "language": "python",
   "name": "python3"
  },
  "language_info": {
   "codemirror_mode": {
    "name": "ipython",
    "version": 3
   },
   "file_extension": ".py",
   "mimetype": "text/x-python",
   "name": "python",
   "nbconvert_exporter": "python",
   "pygments_lexer": "ipython3",
   "version": "3.10.12"
  },
  "orig_nbformat": 4
 },
 "nbformat": 4,
 "nbformat_minor": 2
}
