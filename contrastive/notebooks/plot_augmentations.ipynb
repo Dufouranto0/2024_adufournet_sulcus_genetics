{
 "cells": [
  {
   "attachments": {},
   "cell_type": "markdown",
   "metadata": {},
   "source": [
    "Plots augmentations for MLCN article"
   ]
  },
  {
   "cell_type": "code",
   "execution_count": 47,
   "metadata": {},
   "outputs": [],
   "source": [
    "from soma import aims\n",
    "import numpy as np\n",
    "import torch\n",
    "\n",
    "from contrastive.augmentations import RemoveRandomBranchTensor, PartialCutOutTensor_Roll"
   ]
  },
  {
   "attachments": {},
   "cell_type": "markdown",
   "metadata": {},
   "source": [
    "# Plots data without augmentation"
   ]
  },
  {
   "cell_type": "code",
   "execution_count": 29,
   "metadata": {},
   "outputs": [],
   "source": [
    "vol = aims.read(\"/neurospin/dico/data/deep_folding/current/datasets/hcp/crops/2mm/CINGULATE/mask/Rlabels/103010_cropped_foldlabel.nii.gz\")\n",
    "skel = aims.read(\"/neurospin/dico/data/deep_folding/current/datasets/hcp/crops/2mm/CINGULATE/mask/Rcrops/103010_cropped_skeleton.nii.gz\")"
   ]
  },
  {
   "cell_type": "code",
   "execution_count": 30,
   "metadata": {},
   "outputs": [
    {
     "data": {
      "text/plain": [
       "(array([   0,  212, 1001, 1005, 1061, 1079, 1089, 1104, 1132, 1154, 1166,\n",
       "        1207, 1214, 1226, 1249, 1257, 1298, 1310, 1323, 1327, 1345, 2001,\n",
       "        2005, 2061, 2062, 2079, 2089, 2104, 2154, 2166, 2181, 2207, 2214,\n",
       "        2226, 2249, 2257, 2298, 2310, 2323, 2342, 2345, 3259, 3357, 3365,\n",
       "        3372, 3739, 3754, 3864, 4108, 4117, 4370, 4375, 4376, 4382, 4383,\n",
       "        4390, 4407, 4600, 4686, 4916, 5349, 5361], dtype=int16),\n",
       " array([24890,     1,    21,   107,    15,    54,     4,    39,     2,\n",
       "           36,    45,     3,     8,    18,    12,    10,    17,     3,\n",
       "           23,     1,   116,     9,    30,     7,     1,    19,     4,\n",
       "           18,    17,    13,     1,     8,    12,    16,     9,     6,\n",
       "            6,     5,     7,     8,    24,     3,    17,     7,    17,\n",
       "           28,     6,    10,     9,     4,    15,    31,     3,    14,\n",
       "           20,     4,     1,     1,     1,     2,     1,     1]))"
      ]
     },
     "execution_count": 30,
     "metadata": {},
     "output_type": "execute_result"
    }
   ],
   "source": [
    "np.unique(vol.np, return_counts=True)"
   ]
  },
  {
   "cell_type": "code",
   "execution_count": 31,
   "metadata": {},
   "outputs": [
    {
     "data": {
      "text/plain": [
       "(array([  0,  30,  60, 110], dtype=int16), array([24986,   229,   618,     7]))"
      ]
     },
     "execution_count": 31,
     "metadata": {},
     "output_type": "execute_result"
    }
   ],
   "source": [
    "np.unique(skel.np, return_counts=True)"
   ]
  },
  {
   "cell_type": "code",
   "execution_count": 32,
   "metadata": {},
   "outputs": [],
   "source": [
    "%rm /tmp/bck_*.bck"
   ]
  },
  {
   "cell_type": "code",
   "execution_count": 33,
   "metadata": {},
   "outputs": [],
   "source": [
    "def colorize(k, max=400):\n",
    "    if k//1000 == 1: # surface simple\n",
    "        return [0, (k%1000 / max+0.5), 0, 1]\n",
    "    elif k//1000 == 2: # bottom\n",
    "        return [k%1000 / max+0.5, 0, 0, 1]\n",
    "    # elif k//1000 == 3:\n",
    "    #     return [k%1000 / max, 0, 0, 1]\n",
    "    # elif k//1000 == 4: # bottom\n",
    "    #     return [k%1000 / max, 0, 0, 1]\n",
    "    else:\n",
    "        return [0, k%1000 / max + 0.5, 0, 1]"
   ]
  },
  {
   "cell_type": "code",
   "execution_count": 34,
   "metadata": {},
   "outputs": [],
   "source": [
    "def colorize_skel(k):\n",
    "    if k == 30: # surface simple\n",
    "        return [1, 0, 0, 1]\n",
    "    elif k == 60:\n",
    "        return [0, 1, 0, 1]\n",
    "    else:\n",
    "        return [0, 0, 1, 1]"
   ]
  },
  {
   "cell_type": "code",
   "execution_count": 35,
   "metadata": {},
   "outputs": [],
   "source": [
    "def bucketize_foldlabel(vol, root='bck'):\n",
    "    c = aims.RawConverter_rc_ptr_Volume_S16_BucketMap_VOID(True)\n",
    "    bck = aims.BucketMap()\n",
    "    c.convert(vol, bck)\n",
    "    for k in bck.keys():\n",
    "        b2 = aims.BucketMap()\n",
    "        b2.header().update(bck.header())\n",
    "        b2[0] = bck[k]\n",
    "        b2.header()['material'] = {'diffuse': colorize(k)}\n",
    "        aims.write(b2, f\"/tmp/{root}_{k}.bck\")   "
   ]
  },
  {
   "cell_type": "code",
   "execution_count": 36,
   "metadata": {},
   "outputs": [],
   "source": [
    "\n",
    "def bucketize_skeleton(skel, root='bck_skel'):\n",
    "    c = aims.RawConverter_rc_ptr_Volume_S16_BucketMap_VOID(True)\n",
    "    bck_skel = aims.BucketMap()\n",
    "    c.convert(skel, bck_skel)\n",
    "    \n",
    "    for k in bck_skel.keys():\n",
    "        b2 = aims.BucketMap()\n",
    "        b2.header().update(bck_skel.header())\n",
    "        b2[0] = bck_skel[k]\n",
    "        b2.header()['material'] = {'diffuse': colorize_skel(k)}\n",
    "        aims.write(b2, f\"/tmp/{root}_{k}.bck\")\n",
    "    "
   ]
  },
  {
   "cell_type": "code",
   "execution_count": 37,
   "metadata": {},
   "outputs": [],
   "source": [
    "bucketize_foldlabel(vol)\n"
   ]
  },
  {
   "cell_type": "code",
   "execution_count": 38,
   "metadata": {},
   "outputs": [],
   "source": [
    "bucketize_skeleton(skel)"
   ]
  },
  {
   "attachments": {},
   "cell_type": "markdown",
   "metadata": {},
   "source": [
    "# Plots data with foldlabel augmentation"
   ]
  },
  {
   "cell_type": "code",
   "execution_count": 39,
   "metadata": {},
   "outputs": [
    {
     "data": {
      "text/plain": [
       "(17, 40, 38, 1)"
      ]
     },
     "execution_count": 39,
     "metadata": {},
     "output_type": "execute_result"
    }
   ],
   "source": [
    "vol.shape"
   ]
  },
  {
   "cell_type": "code",
   "execution_count": 40,
   "metadata": {},
   "outputs": [],
   "source": [
    "branch_clipping = RemoveRandomBranchTensor(torch.from_numpy(vol.np), 40, (17,40,38,1), True, False)"
   ]
  },
  {
   "cell_type": "code",
   "execution_count": 41,
   "metadata": {},
   "outputs": [],
   "source": [
    "branch_clipped = branch_clipping(torch.from_numpy(skel.np))"
   ]
  },
  {
   "cell_type": "code",
   "execution_count": 42,
   "metadata": {},
   "outputs": [
    {
     "data": {
      "text/plain": [
       "(array([  0.,  30.,  60., 110.], dtype=float32),\n",
       " array([25333,   225,   275,     7]))"
      ]
     },
     "execution_count": 42,
     "metadata": {},
     "output_type": "execute_result"
    }
   ],
   "source": [
    "np.unique(branch_clipped.numpy(), return_counts=True)"
   ]
  },
  {
   "cell_type": "code",
   "execution_count": 43,
   "metadata": {},
   "outputs": [
    {
     "data": {
      "text/plain": [
       "torch.Size([17, 40, 38, 1])"
      ]
     },
     "execution_count": 43,
     "metadata": {},
     "output_type": "execute_result"
    }
   ],
   "source": [
    "branch_clipped.shape"
   ]
  },
  {
   "cell_type": "code",
   "execution_count": 44,
   "metadata": {},
   "outputs": [],
   "source": [
    "skel_clipped = aims.Volume(np.array(branch_clipped.numpy().astype(np.int16)))"
   ]
  },
  {
   "cell_type": "code",
   "execution_count": 45,
   "metadata": {},
   "outputs": [],
   "source": [
    "bucketize_skeleton(skel_clipped, 'bck_skel_clipped')"
   ]
  },
  {
   "cell_type": "code",
   "execution_count": 46,
   "metadata": {},
   "outputs": [
    {
     "data": {
      "text/plain": [
       "<soma.aims.Volume_S16 at 0x7fc449230af0>"
      ]
     },
     "execution_count": 46,
     "metadata": {},
     "output_type": "execute_result"
    }
   ],
   "source": [
    "skel_clipped"
   ]
  },
  {
   "cell_type": "code",
   "execution_count": null,
   "metadata": {},
   "outputs": [],
   "source": []
  },
  {
   "attachments": {},
   "cell_type": "markdown",
   "metadata": {},
   "source": [
    "# Plots data with cut-out augmentation"
   ]
  },
  {
   "cell_type": "code",
   "execution_count": 181,
   "metadata": {},
   "outputs": [],
   "source": [
    "cutting_out = PartialCutOutTensor_Roll(True, True, (1,12,25,25), False, None)"
   ]
  },
  {
   "cell_type": "code",
   "execution_count": 182,
   "metadata": {},
   "outputs": [],
   "source": [
    "cutout = cutting_out(torch.from_numpy(skel.np))"
   ]
  },
  {
   "cell_type": "code",
   "execution_count": 183,
   "metadata": {},
   "outputs": [
    {
     "data": {
      "text/plain": [
       "(array([  0.,  30.,  60., 110.], dtype=float32),\n",
       " array([25302,   229,   305,     4]))"
      ]
     },
     "execution_count": 183,
     "metadata": {},
     "output_type": "execute_result"
    }
   ],
   "source": [
    "np.unique(cutout.numpy(), return_counts=True)"
   ]
  },
  {
   "cell_type": "code",
   "execution_count": 184,
   "metadata": {},
   "outputs": [],
   "source": [
    "vol_cutout = aims.Volume(np.array(cutout.numpy().astype(np.int16)))"
   ]
  },
  {
   "cell_type": "code",
   "execution_count": 185,
   "metadata": {},
   "outputs": [],
   "source": [
    "bucketize_skeleton(vol_cutout, 'bck_skel_cutout')"
   ]
  },
  {
   "cell_type": "code",
   "execution_count": 186,
   "metadata": {},
   "outputs": [
    {
     "data": {
      "text/plain": [
       "(17, 40, 38, 1)"
      ]
     },
     "execution_count": 186,
     "metadata": {},
     "output_type": "execute_result"
    }
   ],
   "source": [
    "vol.shape"
   ]
  },
  {
   "cell_type": "code",
   "execution_count": null,
   "metadata": {},
   "outputs": [],
   "source": []
  }
 ],
 "metadata": {
  "kernelspec": {
   "display_name": "venv",
   "language": "python",
   "name": "python3"
  },
  "language_info": {
   "codemirror_mode": {
    "name": "ipython",
    "version": 3
   },
   "file_extension": ".py",
   "mimetype": "text/x-python",
   "name": "python",
   "nbconvert_exporter": "python",
   "pygments_lexer": "ipython3",
   "version": "3.10.6"
  },
  "orig_nbformat": 4
 },
 "nbformat": 4,
 "nbformat_minor": 2
}
