{
 "cells": [
  {
   "cell_type": "markdown",
   "metadata": {},
   "source": [
    "# Tutorial pytorch"
   ]
  },
  {
   "cell_type": "markdown",
   "metadata": {},
   "source": [
    "https://pytorch-lightning.readthedocs.io/en/stable/starter/introduction.html"
   ]
  },
  {
   "cell_type": "code",
   "execution_count": 2,
   "metadata": {},
   "outputs": [
    {
     "name": "stderr",
     "output_type": "stream",
     "text": [
      "/neurospin/dico/agaudin/Runs/02_explicabilite_humains_2022/2022_jchavas_cingulate_inhibitory_control/venv_local/lib/python3.6/site-packages/tqdm/auto.py:22: TqdmWarning: IProgress not found. Please update jupyter and ipywidgets. See https://ipywidgets.readthedocs.io/en/stable/user_install.html\n",
      "  from .autonotebook import tqdm as notebook_tqdm\n"
     ]
    }
   ],
   "source": [
    "import os\n",
    "import torch\n",
    "import pytorch_lightning as pl\n",
    "import matplotlib.pyplot as plt\n",
    "import numpy as np\n",
    "import pandas as pd\n",
    "\n",
    "from torch import nn\n",
    "import torch.nn.functional as F\n",
    "from torchvision import transforms\n",
    "from torchvision.datasets import MNIST\n",
    "from torch.utils.data import DataLoader, TensorDataset\n",
    "from sklearn.metrics import accuracy_score, confusion_matrix, roc_curve,\\\n",
    "roc_auc_score"
   ]
  },
  {
   "cell_type": "code",
   "execution_count": 4,
   "metadata": {},
   "outputs": [],
   "source": [
    "class LitAutoEncoder(pl.LightningModule):\n",
    "    def __init__(self, latent_space_dim):\n",
    "        super().__init__()\n",
    "        self.encoder = nn.Sequential(nn.Linear(28 * 28, 64), nn.ReLU(), nn.Linear(64, latent_space_dim))\n",
    "        self.decoder = nn.Sequential(nn.Linear(latent_space_dim, 64), nn.ReLU(), nn.Linear(64, 28 * 28))\n",
    "\n",
    "    def forward(self, x):\n",
    "        # in lightning, forward defines the prediction/inference actions\n",
    "        embedding = self.encoder(x)\n",
    "        output = self.decoder(embedding)\n",
    "        return output\n",
    "\n",
    "    def forward_embedding(self, x):\n",
    "        # in lightning, forward defines the prediction/inference actions\n",
    "        embedding = self.encoder(x)\n",
    "        return embedding\n",
    "\n",
    "    def training_step(self, batch, batch_idx):\n",
    "        # training_step defined the train loop.\n",
    "        # It is independent of forward\n",
    "        x, y = batch\n",
    "        x = x.view(x.size(0), -1)\n",
    "        z = self.encoder(x)\n",
    "        x_hat = self.decoder(z)\n",
    "        loss = F.mse_loss(x_hat, x)\n",
    "        # Logging to TensorBoard by default\n",
    "        self.log(\"train_loss\", loss)\n",
    "        return loss\n",
    "\n",
    "    def configure_optimizers(self):\n",
    "        optimizer = torch.optim.Adam(self.parameters(), lr=1e-3)\n",
    "        return optimizer\n"
   ]
  },
  {
   "cell_type": "code",
   "execution_count": 5,
   "metadata": {},
   "outputs": [
    {
     "name": "stdout",
     "output_type": "stream",
     "text": [
      "Downloading http://yann.lecun.com/exdb/mnist/train-images-idx3-ubyte.gz\n",
      "Downloading http://yann.lecun.com/exdb/mnist/train-images-idx3-ubyte.gz to /neurospin/dico/agaudin/Runs/02_explicabilite_humains_2022/2022_jchavas_cingulate_inhibitory_control/contrastive/notebooks/MNIST/raw/train-images-idx3-ubyte.gz\n"
     ]
    },
    {
     "name": "stderr",
     "output_type": "stream",
     "text": [
      "9913344it [00:00, 51190427.60it/s]                             \n"
     ]
    },
    {
     "name": "stdout",
     "output_type": "stream",
     "text": [
      "Extracting /neurospin/dico/agaudin/Runs/02_explicabilite_humains_2022/2022_jchavas_cingulate_inhibitory_control/contrastive/notebooks/MNIST/raw/train-images-idx3-ubyte.gz to /neurospin/dico/agaudin/Runs/02_explicabilite_humains_2022/2022_jchavas_cingulate_inhibitory_control/contrastive/notebooks/MNIST/raw\n",
      "\n",
      "Downloading http://yann.lecun.com/exdb/mnist/train-labels-idx1-ubyte.gz\n",
      "Downloading http://yann.lecun.com/exdb/mnist/train-labels-idx1-ubyte.gz to /neurospin/dico/agaudin/Runs/02_explicabilite_humains_2022/2022_jchavas_cingulate_inhibitory_control/contrastive/notebooks/MNIST/raw/train-labels-idx1-ubyte.gz\n"
     ]
    },
    {
     "name": "stderr",
     "output_type": "stream",
     "text": [
      "29696it [00:00, 49781795.20it/s]         "
     ]
    },
    {
     "name": "stdout",
     "output_type": "stream",
     "text": [
      "Extracting /neurospin/dico/agaudin/Runs/02_explicabilite_humains_2022/2022_jchavas_cingulate_inhibitory_control/contrastive/notebooks/MNIST/raw/train-labels-idx1-ubyte.gz to /neurospin/dico/agaudin/Runs/02_explicabilite_humains_2022/2022_jchavas_cingulate_inhibitory_control/contrastive/notebooks/MNIST/raw\n"
     ]
    },
    {
     "name": "stderr",
     "output_type": "stream",
     "text": [
      "\n"
     ]
    },
    {
     "name": "stdout",
     "output_type": "stream",
     "text": [
      "\n",
      "Downloading http://yann.lecun.com/exdb/mnist/t10k-images-idx3-ubyte.gz\n",
      "Downloading http://yann.lecun.com/exdb/mnist/t10k-images-idx3-ubyte.gz to /neurospin/dico/agaudin/Runs/02_explicabilite_humains_2022/2022_jchavas_cingulate_inhibitory_control/contrastive/notebooks/MNIST/raw/t10k-images-idx3-ubyte.gz\n"
     ]
    },
    {
     "name": "stderr",
     "output_type": "stream",
     "text": [
      "1649664it [00:00, 34439948.60it/s]         \n"
     ]
    },
    {
     "name": "stdout",
     "output_type": "stream",
     "text": [
      "Extracting /neurospin/dico/agaudin/Runs/02_explicabilite_humains_2022/2022_jchavas_cingulate_inhibitory_control/contrastive/notebooks/MNIST/raw/t10k-images-idx3-ubyte.gz to /neurospin/dico/agaudin/Runs/02_explicabilite_humains_2022/2022_jchavas_cingulate_inhibitory_control/contrastive/notebooks/MNIST/raw\n",
      "\n",
      "Downloading http://yann.lecun.com/exdb/mnist/t10k-labels-idx1-ubyte.gz\n",
      "Downloading http://yann.lecun.com/exdb/mnist/t10k-labels-idx1-ubyte.gz to /neurospin/dico/agaudin/Runs/02_explicabilite_humains_2022/2022_jchavas_cingulate_inhibitory_control/contrastive/notebooks/MNIST/raw/t10k-labels-idx1-ubyte.gz\n"
     ]
    },
    {
     "name": "stderr",
     "output_type": "stream",
     "text": [
      "5120it [00:00, 1641681.56it/s]          \n"
     ]
    },
    {
     "name": "stdout",
     "output_type": "stream",
     "text": [
      "Extracting /neurospin/dico/agaudin/Runs/02_explicabilite_humains_2022/2022_jchavas_cingulate_inhibitory_control/contrastive/notebooks/MNIST/raw/t10k-labels-idx1-ubyte.gz to /neurospin/dico/agaudin/Runs/02_explicabilite_humains_2022/2022_jchavas_cingulate_inhibitory_control/contrastive/notebooks/MNIST/raw\n",
      "\n"
     ]
    }
   ],
   "source": [
    "# import dataset\n",
    "dataset = MNIST(os.getcwd(), download=True, transform=transforms.ToTensor())\n",
    "train_loader = DataLoader(dataset, batch_size=10)\n",
    "\n",
    "# init model\n",
    "latent_space_dim = 15\n",
    "autoencoder = LitAutoEncoder(latent_space_dim)"
   ]
  },
  {
   "cell_type": "code",
   "execution_count": 6,
   "metadata": {},
   "outputs": [
    {
     "name": "stderr",
     "output_type": "stream",
     "text": [
      "/neurospin/dico/agaudin/Runs/02_explicabilite_humains_2022/2022_jchavas_cingulate_inhibitory_control/venv_local/lib/python3.6/site-packages/torch/cuda/__init__.py:80: UserWarning: CUDA initialization: The NVIDIA driver on your system is too old (found version 9010). Please update your GPU driver by downloading and installing a new version from the URL: http://www.nvidia.com/Download/index.aspx Alternatively, go to: https://pytorch.org to install a PyTorch version that has been compiled with your version of the CUDA driver. (Triggered internally at  ../c10/cuda/CUDAFunctions.cpp:112.)\n",
      "  return torch._C._cuda_getDeviceCount() > 0\n",
      "GPU available: False, used: False\n",
      "TPU available: False, using: 0 TPU cores\n",
      "IPU available: False, using: 0 IPUs\n",
      "Missing logger folder: /neurospin/dico/agaudin/Runs/02_explicabilite_humains_2022/2022_jchavas_cingulate_inhibitory_control/contrastive/notebooks/lightning_logs\n",
      "\n",
      "  | Name    | Type       | Params\n",
      "---------------------------------------\n",
      "0 | encoder | Sequential | 51.2 K\n",
      "1 | decoder | Sequential | 52.0 K\n",
      "---------------------------------------\n",
      "103 K     Trainable params\n",
      "0         Non-trainable params\n",
      "103 K     Total params\n",
      "0.413     Total estimated model params size (MB)\n",
      "/neurospin/dico/agaudin/Runs/02_explicabilite_humains_2022/2022_jchavas_cingulate_inhibitory_control/venv_local/lib/python3.6/site-packages/pytorch_lightning/trainer/data_loading.py:133: UserWarning: The dataloader, train_dataloader, does not have many workers which may be a bottleneck. Consider increasing the value of the `num_workers` argument` (try 4 which is the number of cpus on this machine) in the `DataLoader` init to improve performance.\n",
      "  f\"The dataloader, {name}, does not have many workers which may be a bottleneck.\"\n"
     ]
    },
    {
     "name": "stdout",
     "output_type": "stream",
     "text": [
      "Epoch 0: 100%|██████████| 6000/6000 [01:09<00:00, 86.92it/s, loss=0.023, v_num=0] \n"
     ]
    }
   ],
   "source": [
    "# train the model\n",
    "\n",
    "# most basic trainer, uses good defaults (auto-tensorboard, checkpoints, logs, and more)\n",
    "# trainer = pl.Trainer(accelerator=\"gpu\", devices=8) (if you have GPUs)\n",
    "trainer = pl.Trainer(max_epochs=1)\n",
    "trainer.fit(model=autoencoder, train_dataloaders=train_loader)"
   ]
  },
  {
   "cell_type": "code",
   "execution_count": 7,
   "metadata": {},
   "outputs": [
    {
     "name": "stdout",
     "output_type": "stream",
     "text": [
      "The history saving thread hit an unexpected error (OperationalError('disk I/O error',)).History will not be written to the database.\n"
     ]
    },
    {
     "data": {
      "text/plain": [
       "torch.Size([60000, 1, 28, 28])"
      ]
     },
     "execution_count": 7,
     "metadata": {},
     "output_type": "execute_result"
    }
   ],
   "source": [
    "get_X_y_loader = DataLoader(dataset, batch_size=60000)\n",
    "\n",
    "X,Y = list(get_X_y_loader)[0]\n",
    "\n",
    "X.shape"
   ]
  },
  {
   "cell_type": "code",
   "execution_count": 8,
   "metadata": {},
   "outputs": [],
   "source": [
    "i = 230\n",
    "\n",
    "outputs = autoencoder.forward(X[i].flatten())\n",
    "outputs = outputs.reshape(28,28)"
   ]
  },
  {
   "cell_type": "code",
   "execution_count": 9,
   "metadata": {},
   "outputs": [
    {
     "data": {
      "text/plain": [
       "<matplotlib.image.AxesImage at 0x7f8f45f9b2b0>"
      ]
     },
     "execution_count": 9,
     "metadata": {},
     "output_type": "execute_result"
    },
    {
     "data": {
      "image/png": "[encoded data removed]",
      "text/plain": [
       "<Figure size 288x288 with 1 Axes>"
      ]
     },
     "metadata": {
      "needs_background": "light"
     },
     "output_type": "display_data"
    },
    {
     "data": {
      "text/plain": [
       "<Figure size 432x288 with 0 Axes>"
      ]
     },
     "metadata": {},
     "output_type": "display_data"
    },
    {
     "data": {
      "image/png": "[encoded data removed]",
      "text/plain": [
       "<Figure size 288x288 with 1 Axes>"
      ]
     },
     "metadata": {
      "needs_background": "light"
     },
     "output_type": "display_data"
    }
   ],
   "source": [
    "plt.matshow(X[i][0])\n",
    "plt.figure()\n",
    "plt.matshow(outputs.detach().numpy())"
   ]
  },
  {
   "cell_type": "code",
   "execution_count": 10,
   "metadata": {},
   "outputs": [
    {
     "data": {
      "text/plain": [
       "tensor([[-0.3555, -0.8629, -0.4939, -0.9957,  0.1598, -0.6777,  0.9982, -0.1011,\n",
       "          0.3224,  0.0586,  0.1904,  0.4778,  1.4644,  1.5863, -0.8079],\n",
       "        [ 0.6735,  0.8023, -1.1139, -0.2013, -1.3227,  0.6545,  0.3051,  1.0556,\n",
       "         -0.7515, -0.9177,  0.3329,  0.6882,  1.7972,  1.2451, -1.7195],\n",
       "        [ 0.7710,  0.2954,  0.0221, -0.7062,  0.1681,  0.1840,  0.3376,  1.0508,\n",
       "         -0.0881,  0.7225,  1.0356,  0.0098, -0.3032, -0.8421, -0.8764],\n",
       "        [-0.9068, -0.5979, -0.6365,  1.4502, -0.1365,  0.2502,  0.7062,  0.0223,\n",
       "          0.2142,  0.8854,  0.0083,  0.1648,  0.2629,  1.1410,  0.2398],\n",
       "        [-1.1533,  0.0227, -0.6738, -0.5346, -0.5479, -0.1354, -0.8197,  0.9017,\n",
       "          0.0615,  1.2831,  0.2944, -0.1665,  1.1455,  0.6230,  0.5413],\n",
       "        [ 0.3841,  0.6766,  0.5406, -0.2841, -0.9218, -0.1458,  0.7329,  1.0221,\n",
       "          0.7243,  0.7425,  0.6847,  0.3182,  1.0561,  0.8652, -1.5488],\n",
       "        [-0.7698, -0.8656,  0.4179, -0.5447,  0.5413, -0.4026, -0.2080, -0.4156,\n",
       "         -0.9734,  0.4757, -1.1377, -0.3499,  0.3569,  1.2523,  1.3404],\n",
       "        [-0.2142, -1.6016, -0.9763, -0.8360,  0.6876, -0.4798,  0.5005,  1.2016,\n",
       "          0.1601,  0.8231,  1.0073,  0.8993,  0.8325,  1.6998, -1.9594],\n",
       "        [-0.7227, -0.3260,  0.1121, -0.5455,  0.4690,  0.0570, -0.4247, -0.2234,\n",
       "         -0.7266,  0.2373, -1.1463, -0.1290,  0.2667,  1.3558,  0.8205],\n",
       "        [-1.0104,  0.8108,  0.5548,  0.2939,  0.5899,  0.4645,  0.5892,  1.3060,\n",
       "         -0.2994, -0.0571,  1.2349,  0.2437,  0.7326,  0.1352, -0.9605]],\n",
       "       grad_fn=<AddmmBackward0>)"
      ]
     },
     "execution_count": 10,
     "metadata": {},
     "output_type": "execute_result"
    }
   ],
   "source": [
    "autoencoder.forward_embedding(X[:10].flatten(start_dim=1))"
   ]
  },
  {
   "cell_type": "markdown",
   "metadata": {},
   "source": [
    "## add classifier"
   ]
  },
  {
   "cell_type": "code",
   "execution_count": 11,
   "metadata": {},
   "outputs": [],
   "source": [
    "class LinearClassifier(pl.LightningModule):\n",
    "    def __init__(self, input_size, output_size):\n",
    "        super().__init__()\n",
    "        self.layer0 = nn.Linear(input_size, output_size)\n",
    "        self.activation0 = nn.Softmax(dim=1)\n",
    "        self.loss = nn.CrossEntropyLoss()\n",
    "        \n",
    "\n",
    "    def forward(self, x):\n",
    "        # in lightning, forward defines the prediction/inference actions\n",
    "        output = self.layer0(x)\n",
    "        output = self.activation0(output)\n",
    "        return output\n",
    "    \n",
    "    def training_step(self, batch, batch_idx):\n",
    "        # training_step defined the train loop.\n",
    "        # It is independent of forward\n",
    "        x, y = batch\n",
    "        #x = x.view(x.size(0), -1)\n",
    "        output = self.forward(x)\n",
    "        loss = self.loss(output, y)\n",
    "        # Logging to TensorBoard by default\n",
    "        self.log(\"train_loss\", loss)\n",
    "        return loss\n",
    "\n",
    "    def configure_optimizers(self):\n",
    "        optimizer = torch.optim.Adam(self.parameters(), lr=1e-3)\n",
    "        return optimizer"
   ]
  },
  {
   "cell_type": "code",
   "execution_count": 12,
   "metadata": {},
   "outputs": [],
   "source": [
    "# define the linear classifier\n",
    "lin_class = LinearClassifier(latent_space_dim, 10)"
   ]
  },
  {
   "cell_type": "code",
   "execution_count": 13,
   "metadata": {},
   "outputs": [
    {
     "name": "stdout",
     "output_type": "stream",
     "text": [
      "tensor([[-0.3555, -0.8629, -0.4939, -0.9957,  0.1598, -0.6777,  0.9982, -0.1011,\n",
      "          0.3224,  0.0586,  0.1904,  0.4778,  1.4644,  1.5863, -0.8079],\n",
      "        [ 0.6735,  0.8023, -1.1139, -0.2013, -1.3227,  0.6545,  0.3051,  1.0556,\n",
      "         -0.7515, -0.9177,  0.3329,  0.6882,  1.7972,  1.2451, -1.7195],\n",
      "        [ 0.7710,  0.2954,  0.0221, -0.7062,  0.1681,  0.1840,  0.3376,  1.0508,\n",
      "         -0.0881,  0.7225,  1.0356,  0.0098, -0.3032, -0.8421, -0.8764],\n",
      "        [-0.9068, -0.5979, -0.6365,  1.4502, -0.1365,  0.2502,  0.7062,  0.0223,\n",
      "          0.2142,  0.8854,  0.0083,  0.1648,  0.2629,  1.1410,  0.2398],\n",
      "        [-1.1533,  0.0227, -0.6738, -0.5346, -0.5479, -0.1354, -0.8197,  0.9017,\n",
      "          0.0615,  1.2831,  0.2944, -0.1665,  1.1455,  0.6230,  0.5413],\n",
      "        [ 0.3841,  0.6766,  0.5406, -0.2841, -0.9218, -0.1458,  0.7329,  1.0221,\n",
      "          0.7243,  0.7425,  0.6847,  0.3182,  1.0561,  0.8652, -1.5488],\n",
      "        [-0.7698, -0.8656,  0.4179, -0.5447,  0.5413, -0.4026, -0.2080, -0.4156,\n",
      "         -0.9734,  0.4757, -1.1377, -0.3499,  0.3569,  1.2523,  1.3404],\n",
      "        [-0.2142, -1.6016, -0.9763, -0.8360,  0.6876, -0.4798,  0.5005,  1.2016,\n",
      "          0.1601,  0.8231,  1.0073,  0.8993,  0.8325,  1.6998, -1.9594],\n",
      "        [-0.7227, -0.3260,  0.1121, -0.5455,  0.4690,  0.0570, -0.4247, -0.2234,\n",
      "         -0.7266,  0.2373, -1.1463, -0.1290,  0.2667,  1.3558,  0.8205],\n",
      "        [-1.0104,  0.8108,  0.5548,  0.2939,  0.5899,  0.4645,  0.5892,  1.3060,\n",
      "         -0.2994, -0.0571,  1.2349,  0.2437,  0.7326,  0.1352, -0.9605]])\n",
      "tensor([[0., 0., 0., 0., 0., 1., 0., 0., 0., 0.],\n",
      "        [1., 0., 0., 0., 0., 0., 0., 0., 0., 0.],\n",
      "        [0., 0., 0., 0., 1., 0., 0., 0., 0., 0.],\n",
      "        [0., 1., 0., 0., 0., 0., 0., 0., 0., 0.],\n",
      "        [0., 0., 0., 0., 0., 0., 0., 0., 0., 1.]])\n"
     ]
    }
   ],
   "source": [
    "# create its dataset\n",
    "X_propag = X.flatten(start_dim=1)\n",
    "embeddings = autoencoder.forward_embedding(X_propag)\n",
    "embeddings.detach_()\n",
    "print(embeddings[:10])\n",
    "\n",
    "# apparently no need\n",
    "Y_one_hot = F.one_hot(Y).type(torch.FloatTensor)\n",
    "print(Y_one_hot[:5])"
   ]
  },
  {
   "cell_type": "code",
   "execution_count": 14,
   "metadata": {},
   "outputs": [
    {
     "name": "stderr",
     "output_type": "stream",
     "text": [
      "GPU available: False, used: False\n",
      "TPU available: False, using: 0 TPU cores\n",
      "IPU available: False, using: 0 IPUs\n",
      "\n",
      "  | Name        | Type             | Params\n",
      "-------------------------------------------------\n",
      "0 | layer0      | Linear           | 160   \n",
      "1 | activation0 | Softmax          | 0     \n",
      "2 | loss        | CrossEntropyLoss | 0     \n",
      "-------------------------------------------------\n",
      "160       Trainable params\n",
      "0         Non-trainable params\n",
      "160       Total params\n",
      "0.001     Total estimated model params size (MB)\n"
     ]
    },
    {
     "name": "stdout",
     "output_type": "stream",
     "text": [
      "Epoch 4: 100%|██████████| 6000/6000 [00:34<00:00, 176.09it/s, loss=1.56, v_num=1]\n"
     ]
    }
   ],
   "source": [
    "# train the linear classifier on the latent space embedding\n",
    "\n",
    "train_set = TensorDataset(embeddings, Y)\n",
    "train_loader_lin = DataLoader(train_set, batch_size=10)\n",
    "\n",
    "trainer_lin = pl.Trainer(max_epochs=5)\n",
    "trainer_lin.fit(model=lin_class, train_dataloaders=train_loader_lin)"
   ]
  },
  {
   "cell_type": "code",
   "execution_count": 15,
   "metadata": {},
   "outputs": [
    {
     "data": {
      "text/html": [
       "<div>\n",
       "<style scoped>\n",
       "    .dataframe tbody tr th:only-of-type {\n",
       "        vertical-align: middle;\n",
       "    }\n",
       "\n",
       "    .dataframe tbody tr th {\n",
       "        vertical-align: top;\n",
       "    }\n",
       "\n",
       "    .dataframe thead th {\n",
       "        text-align: right;\n",
       "    }\n",
       "</style>\n",
       "<table border=\"1\" class=\"dataframe\">\n",
       "  <thead>\n",
       "    <tr style=\"text-align: right;\">\n",
       "      <th></th>\n",
       "      <th>0</th>\n",
       "      <th>1</th>\n",
       "      <th>2</th>\n",
       "      <th>3</th>\n",
       "      <th>4</th>\n",
       "      <th>5</th>\n",
       "      <th>6</th>\n",
       "      <th>7</th>\n",
       "      <th>8</th>\n",
       "      <th>9</th>\n",
       "      <th>prediction</th>\n",
       "    </tr>\n",
       "  </thead>\n",
       "  <tbody>\n",
       "    <tr>\n",
       "      <th>0</th>\n",
       "      <td>2.566029e-04</td>\n",
       "      <td>1.901775e-07</td>\n",
       "      <td>4.423100e-03</td>\n",
       "      <td>4.794737e-01</td>\n",
       "      <td>1.236053e-07</td>\n",
       "      <td>0.513668</td>\n",
       "      <td>9.143476e-08</td>\n",
       "      <td>5.480229e-05</td>\n",
       "      <td>1.825058e-03</td>\n",
       "      <td>2.978946e-04</td>\n",
       "      <td>5</td>\n",
       "    </tr>\n",
       "    <tr>\n",
       "      <th>1</th>\n",
       "      <td>9.998550e-01</td>\n",
       "      <td>8.637199e-15</td>\n",
       "      <td>7.704602e-09</td>\n",
       "      <td>6.903121e-09</td>\n",
       "      <td>2.591673e-10</td>\n",
       "      <td>0.000145</td>\n",
       "      <td>1.509487e-08</td>\n",
       "      <td>1.700323e-09</td>\n",
       "      <td>4.439479e-09</td>\n",
       "      <td>4.022302e-09</td>\n",
       "      <td>0</td>\n",
       "    </tr>\n",
       "    <tr>\n",
       "      <th>2</th>\n",
       "      <td>3.946266e-04</td>\n",
       "      <td>6.284402e-09</td>\n",
       "      <td>3.974060e-05</td>\n",
       "      <td>1.873044e-03</td>\n",
       "      <td>8.901767e-01</td>\n",
       "      <td>0.002315</td>\n",
       "      <td>2.754826e-05</td>\n",
       "      <td>1.266611e-04</td>\n",
       "      <td>1.279155e-04</td>\n",
       "      <td>1.049192e-01</td>\n",
       "      <td>4</td>\n",
       "    </tr>\n",
       "    <tr>\n",
       "      <th>3</th>\n",
       "      <td>9.560646e-07</td>\n",
       "      <td>9.797935e-01</td>\n",
       "      <td>4.238156e-04</td>\n",
       "      <td>4.196669e-05</td>\n",
       "      <td>5.490799e-07</td>\n",
       "      <td>0.000103</td>\n",
       "      <td>8.316734e-08</td>\n",
       "      <td>9.155373e-06</td>\n",
       "      <td>1.962308e-02</td>\n",
       "      <td>3.900775e-06</td>\n",
       "      <td>1</td>\n",
       "    </tr>\n",
       "    <tr>\n",
       "      <th>4</th>\n",
       "      <td>7.143207e-08</td>\n",
       "      <td>6.441237e-06</td>\n",
       "      <td>6.364895e-08</td>\n",
       "      <td>2.888037e-07</td>\n",
       "      <td>6.979869e-02</td>\n",
       "      <td>0.000005</td>\n",
       "      <td>1.918968e-07</td>\n",
       "      <td>1.093730e-03</td>\n",
       "      <td>7.969914e-05</td>\n",
       "      <td>9.290162e-01</td>\n",
       "      <td>9</td>\n",
       "    </tr>\n",
       "    <tr>\n",
       "      <th>...</th>\n",
       "      <td>...</td>\n",
       "      <td>...</td>\n",
       "      <td>...</td>\n",
       "      <td>...</td>\n",
       "      <td>...</td>\n",
       "      <td>...</td>\n",
       "      <td>...</td>\n",
       "      <td>...</td>\n",
       "      <td>...</td>\n",
       "      <td>...</td>\n",
       "      <td>...</td>\n",
       "    </tr>\n",
       "    <tr>\n",
       "      <th>59995</th>\n",
       "      <td>1.412228e-05</td>\n",
       "      <td>4.112076e-04</td>\n",
       "      <td>2.522292e-04</td>\n",
       "      <td>1.240786e-03</td>\n",
       "      <td>1.424433e-08</td>\n",
       "      <td>0.000317</td>\n",
       "      <td>1.593127e-09</td>\n",
       "      <td>6.997598e-08</td>\n",
       "      <td>9.977548e-01</td>\n",
       "      <td>9.246490e-06</td>\n",
       "      <td>8</td>\n",
       "    </tr>\n",
       "    <tr>\n",
       "      <th>59996</th>\n",
       "      <td>2.541252e-06</td>\n",
       "      <td>6.406427e-09</td>\n",
       "      <td>2.935176e-04</td>\n",
       "      <td>9.995240e-01</td>\n",
       "      <td>8.571029e-09</td>\n",
       "      <td>0.000100</td>\n",
       "      <td>8.418880e-11</td>\n",
       "      <td>3.470867e-08</td>\n",
       "      <td>8.000599e-05</td>\n",
       "      <td>2.707163e-07</td>\n",
       "      <td>3</td>\n",
       "    </tr>\n",
       "    <tr>\n",
       "      <th>59997</th>\n",
       "      <td>5.481493e-06</td>\n",
       "      <td>2.608225e-07</td>\n",
       "      <td>5.130782e-10</td>\n",
       "      <td>8.544605e-05</td>\n",
       "      <td>2.650473e-09</td>\n",
       "      <td>0.996286</td>\n",
       "      <td>1.631428e-12</td>\n",
       "      <td>4.973289e-07</td>\n",
       "      <td>2.580021e-03</td>\n",
       "      <td>1.042778e-03</td>\n",
       "      <td>5</td>\n",
       "    </tr>\n",
       "    <tr>\n",
       "      <th>59998</th>\n",
       "      <td>7.346926e-03</td>\n",
       "      <td>4.372407e-10</td>\n",
       "      <td>1.444865e-04</td>\n",
       "      <td>1.298387e-07</td>\n",
       "      <td>5.052604e-04</td>\n",
       "      <td>0.000080</td>\n",
       "      <td>9.918772e-01</td>\n",
       "      <td>2.776074e-08</td>\n",
       "      <td>1.033295e-07</td>\n",
       "      <td>4.567970e-05</td>\n",
       "      <td>6</td>\n",
       "    </tr>\n",
       "    <tr>\n",
       "      <th>59999</th>\n",
       "      <td>1.137797e-01</td>\n",
       "      <td>6.852152e-05</td>\n",
       "      <td>1.960513e-03</td>\n",
       "      <td>2.315013e-04</td>\n",
       "      <td>1.321669e-04</td>\n",
       "      <td>0.036098</td>\n",
       "      <td>8.823242e-05</td>\n",
       "      <td>3.426614e-03</td>\n",
       "      <td>7.519118e-01</td>\n",
       "      <td>9.230286e-02</td>\n",
       "      <td>8</td>\n",
       "    </tr>\n",
       "  </tbody>\n",
       "</table>\n",
       "<p>60000 rows × 11 columns</p>\n",
       "</div>"
      ],
      "text/plain": [
       "                  0             1             2             3             4  \\\n",
       "0      2.566029e-04  1.901775e-07  4.423100e-03  4.794737e-01  1.236053e-07   \n",
       "1      9.998550e-01  8.637199e-15  7.704602e-09  6.903121e-09  2.591673e-10   \n",
       "2      3.946266e-04  6.284402e-09  3.974060e-05  1.873044e-03  8.901767e-01   \n",
       "3      9.560646e-07  9.797935e-01  4.238156e-04  4.196669e-05  5.490799e-07   \n",
       "4      7.143207e-08  6.441237e-06  6.364895e-08  2.888037e-07  6.979869e-02   \n",
       "...             ...           ...           ...           ...           ...   \n",
       "59995  1.412228e-05  4.112076e-04  2.522292e-04  1.240786e-03  1.424433e-08   \n",
       "59996  2.541252e-06  6.406427e-09  2.935176e-04  9.995240e-01  8.571029e-09   \n",
       "59997  5.481493e-06  2.608225e-07  5.130782e-10  8.544605e-05  2.650473e-09   \n",
       "59998  7.346926e-03  4.372407e-10  1.444865e-04  1.298387e-07  5.052604e-04   \n",
       "59999  1.137797e-01  6.852152e-05  1.960513e-03  2.315013e-04  1.321669e-04   \n",
       "\n",
       "              5             6             7             8             9  \\\n",
       "0      0.513668  9.143476e-08  5.480229e-05  1.825058e-03  2.978946e-04   \n",
       "1      0.000145  1.509487e-08  1.700323e-09  4.439479e-09  4.022302e-09   \n",
       "2      0.002315  2.754826e-05  1.266611e-04  1.279155e-04  1.049192e-01   \n",
       "3      0.000103  8.316734e-08  9.155373e-06  1.962308e-02  3.900775e-06   \n",
       "4      0.000005  1.918968e-07  1.093730e-03  7.969914e-05  9.290162e-01   \n",
       "...         ...           ...           ...           ...           ...   \n",
       "59995  0.000317  1.593127e-09  6.997598e-08  9.977548e-01  9.246490e-06   \n",
       "59996  0.000100  8.418880e-11  3.470867e-08  8.000599e-05  2.707163e-07   \n",
       "59997  0.996286  1.631428e-12  4.973289e-07  2.580021e-03  1.042778e-03   \n",
       "59998  0.000080  9.918772e-01  2.776074e-08  1.033295e-07  4.567970e-05   \n",
       "59999  0.036098  8.823242e-05  3.426614e-03  7.519118e-01  9.230286e-02   \n",
       "\n",
       "       prediction  \n",
       "0               5  \n",
       "1               0  \n",
       "2               4  \n",
       "3               1  \n",
       "4               9  \n",
       "...           ...  \n",
       "59995           8  \n",
       "59996           3  \n",
       "59997           5  \n",
       "59998           6  \n",
       "59999           8  \n",
       "\n",
       "[60000 rows x 11 columns]"
      ]
     },
     "execution_count": 15,
     "metadata": {},
     "output_type": "execute_result"
    }
   ],
   "source": [
    "Y_pred = lin_class.forward(embeddings)\n",
    "Y_pred = pd.DataFrame(Y_pred.detach().numpy())\n",
    "Y_pred[\"prediction\"] = Y_pred.apply(np.argmax, axis=1)\n",
    "Y_pred"
   ]
  },
  {
   "cell_type": "code",
   "execution_count": 16,
   "metadata": {},
   "outputs": [
    {
     "name": "stdout",
     "output_type": "stream",
     "text": [
      "0.8561333333333333\n"
     ]
    },
    {
     "data": {
      "text/plain": [
       "<matplotlib.image.AxesImage at 0x7f8f4585c160>"
      ]
     },
     "execution_count": 16,
     "metadata": {},
     "output_type": "execute_result"
    },
    {
     "data": {
      "image/png": "[encoded data removed]",
      "text/plain": [
       "<Figure size 288x288 with 1 Axes>"
      ]
     },
     "metadata": {
      "needs_background": "light"
     },
     "output_type": "display_data"
    }
   ],
   "source": [
    "print(accuracy_score(Y, Y_pred.prediction))\n",
    "conf_mat = confusion_matrix(Y, Y_pred.prediction)\n",
    "plt.matshow(conf_mat)"
   ]
  },
  {
   "cell_type": "markdown",
   "metadata": {},
   "source": [
    "## Get the embeddings"
   ]
  },
  {
   "cell_type": "code",
   "execution_count": 17,
   "metadata": {},
   "outputs": [
    {
     "ename": "FileNotFoundError",
     "evalue": "[Errno 2] No such file or directory: '/neurospin/dico/agaudin/Runs/02_explicabilite_humains_2022/Output/2022-05-18/11-00-10/train_embeddings.csv'",
     "output_type": "error",
     "traceback": [
      "\u001b[0;31m---------------------------------------------------------------------------\u001b[0m",
      "\u001b[0;31mFileNotFoundError\u001b[0m                         Traceback (most recent call last)",
      "\u001b[0;32m<ipython-input-17-74a06a06fcf8>\u001b[0m in \u001b[0;36m<module>\u001b[0;34m\u001b[0m\n\u001b[1;32m      2\u001b[0m \u001b[0mdir_path\u001b[0m \u001b[0;34m=\u001b[0m \u001b[0;34m'/neurospin/dico/agaudin/Runs/02_explicabilite_humains_2022/Output/2022-05-18/11-00-10'\u001b[0m\u001b[0;34m\u001b[0m\u001b[0;34m\u001b[0m\u001b[0m\n\u001b[1;32m      3\u001b[0m \u001b[0;34m\u001b[0m\u001b[0m\n\u001b[0;32m----> 4\u001b[0;31m \u001b[0mtrain_embeddings\u001b[0m \u001b[0;34m=\u001b[0m \u001b[0mpd\u001b[0m\u001b[0;34m.\u001b[0m\u001b[0mread_csv\u001b[0m\u001b[0;34m(\u001b[0m\u001b[0mdir_path\u001b[0m\u001b[0;34m+\u001b[0m\u001b[0;34m'/train_embeddings.csv'\u001b[0m\u001b[0;34m,\u001b[0m \u001b[0mindex_col\u001b[0m\u001b[0;34m=\u001b[0m\u001b[0;36m0\u001b[0m\u001b[0;34m)\u001b[0m\u001b[0;34m\u001b[0m\u001b[0;34m\u001b[0m\u001b[0m\n\u001b[0m\u001b[1;32m      5\u001b[0m \u001b[0mval_embeddings\u001b[0m \u001b[0;34m=\u001b[0m \u001b[0mpd\u001b[0m\u001b[0;34m.\u001b[0m\u001b[0mread_csv\u001b[0m\u001b[0;34m(\u001b[0m\u001b[0mdir_path\u001b[0m\u001b[0;34m+\u001b[0m\u001b[0;34m'/val_embeddings.csv'\u001b[0m\u001b[0;34m,\u001b[0m \u001b[0mindex_col\u001b[0m\u001b[0;34m=\u001b[0m\u001b[0;36m0\u001b[0m\u001b[0;34m)\u001b[0m\u001b[0;34m\u001b[0m\u001b[0;34m\u001b[0m\u001b[0m\n\u001b[1;32m      6\u001b[0m \u001b[0;34m\u001b[0m\u001b[0m\n",
      "\u001b[0;32m/neurospin/dico/agaudin/Runs/02_explicabilite_humains_2022/2022_jchavas_cingulate_inhibitory_control/venv_local/lib/python3.6/site-packages/pandas/io/parsers.py\u001b[0m in \u001b[0;36mread_csv\u001b[0;34m(filepath_or_buffer, sep, delimiter, header, names, index_col, usecols, squeeze, prefix, mangle_dupe_cols, dtype, engine, converters, true_values, false_values, skipinitialspace, skiprows, skipfooter, nrows, na_values, keep_default_na, na_filter, verbose, skip_blank_lines, parse_dates, infer_datetime_format, keep_date_col, date_parser, dayfirst, cache_dates, iterator, chunksize, compression, thousands, decimal, lineterminator, quotechar, quoting, doublequote, escapechar, comment, encoding, dialect, error_bad_lines, warn_bad_lines, delim_whitespace, low_memory, memory_map, float_precision)\u001b[0m\n\u001b[1;32m    686\u001b[0m     )\n\u001b[1;32m    687\u001b[0m \u001b[0;34m\u001b[0m\u001b[0m\n\u001b[0;32m--> 688\u001b[0;31m     \u001b[0;32mreturn\u001b[0m \u001b[0m_read\u001b[0m\u001b[0;34m(\u001b[0m\u001b[0mfilepath_or_buffer\u001b[0m\u001b[0;34m,\u001b[0m \u001b[0mkwds\u001b[0m\u001b[0;34m)\u001b[0m\u001b[0;34m\u001b[0m\u001b[0;34m\u001b[0m\u001b[0m\n\u001b[0m\u001b[1;32m    689\u001b[0m \u001b[0;34m\u001b[0m\u001b[0m\n\u001b[1;32m    690\u001b[0m \u001b[0;34m\u001b[0m\u001b[0m\n",
      "\u001b[0;32m/neurospin/dico/agaudin/Runs/02_explicabilite_humains_2022/2022_jchavas_cingulate_inhibitory_control/venv_local/lib/python3.6/site-packages/pandas/io/parsers.py\u001b[0m in \u001b[0;36m_read\u001b[0;34m(filepath_or_buffer, kwds)\u001b[0m\n\u001b[1;32m    452\u001b[0m \u001b[0;34m\u001b[0m\u001b[0m\n\u001b[1;32m    453\u001b[0m     \u001b[0;31m# Create the parser.\u001b[0m\u001b[0;34m\u001b[0m\u001b[0;34m\u001b[0m\u001b[0;34m\u001b[0m\u001b[0m\n\u001b[0;32m--> 454\u001b[0;31m     \u001b[0mparser\u001b[0m \u001b[0;34m=\u001b[0m \u001b[0mTextFileReader\u001b[0m\u001b[0;34m(\u001b[0m\u001b[0mfp_or_buf\u001b[0m\u001b[0;34m,\u001b[0m \u001b[0;34m**\u001b[0m\u001b[0mkwds\u001b[0m\u001b[0;34m)\u001b[0m\u001b[0;34m\u001b[0m\u001b[0;34m\u001b[0m\u001b[0m\n\u001b[0m\u001b[1;32m    455\u001b[0m \u001b[0;34m\u001b[0m\u001b[0m\n\u001b[1;32m    456\u001b[0m     \u001b[0;32mif\u001b[0m \u001b[0mchunksize\u001b[0m \u001b[0;32mor\u001b[0m \u001b[0miterator\u001b[0m\u001b[0;34m:\u001b[0m\u001b[0;34m\u001b[0m\u001b[0;34m\u001b[0m\u001b[0m\n",
      "\u001b[0;32m/neurospin/dico/agaudin/Runs/02_explicabilite_humains_2022/2022_jchavas_cingulate_inhibitory_control/venv_local/lib/python3.6/site-packages/pandas/io/parsers.py\u001b[0m in \u001b[0;36m__init__\u001b[0;34m(self, f, engine, **kwds)\u001b[0m\n\u001b[1;32m    946\u001b[0m             \u001b[0mself\u001b[0m\u001b[0;34m.\u001b[0m\u001b[0moptions\u001b[0m\u001b[0;34m[\u001b[0m\u001b[0;34m\"has_index_names\"\u001b[0m\u001b[0;34m]\u001b[0m \u001b[0;34m=\u001b[0m \u001b[0mkwds\u001b[0m\u001b[0;34m[\u001b[0m\u001b[0;34m\"has_index_names\"\u001b[0m\u001b[0;34m]\u001b[0m\u001b[0;34m\u001b[0m\u001b[0;34m\u001b[0m\u001b[0m\n\u001b[1;32m    947\u001b[0m \u001b[0;34m\u001b[0m\u001b[0m\n\u001b[0;32m--> 948\u001b[0;31m         \u001b[0mself\u001b[0m\u001b[0;34m.\u001b[0m\u001b[0m_make_engine\u001b[0m\u001b[0;34m(\u001b[0m\u001b[0mself\u001b[0m\u001b[0;34m.\u001b[0m\u001b[0mengine\u001b[0m\u001b[0;34m)\u001b[0m\u001b[0;34m\u001b[0m\u001b[0;34m\u001b[0m\u001b[0m\n\u001b[0m\u001b[1;32m    949\u001b[0m \u001b[0;34m\u001b[0m\u001b[0m\n\u001b[1;32m    950\u001b[0m     \u001b[0;32mdef\u001b[0m \u001b[0mclose\u001b[0m\u001b[0;34m(\u001b[0m\u001b[0mself\u001b[0m\u001b[0;34m)\u001b[0m\u001b[0;34m:\u001b[0m\u001b[0;34m\u001b[0m\u001b[0;34m\u001b[0m\u001b[0m\n",
      "\u001b[0;32m/neurospin/dico/agaudin/Runs/02_explicabilite_humains_2022/2022_jchavas_cingulate_inhibitory_control/venv_local/lib/python3.6/site-packages/pandas/io/parsers.py\u001b[0m in \u001b[0;36m_make_engine\u001b[0;34m(self, engine)\u001b[0m\n\u001b[1;32m   1178\u001b[0m     \u001b[0;32mdef\u001b[0m \u001b[0m_make_engine\u001b[0m\u001b[0;34m(\u001b[0m\u001b[0mself\u001b[0m\u001b[0;34m,\u001b[0m \u001b[0mengine\u001b[0m\u001b[0;34m=\u001b[0m\u001b[0;34m\"c\"\u001b[0m\u001b[0;34m)\u001b[0m\u001b[0;34m:\u001b[0m\u001b[0;34m\u001b[0m\u001b[0;34m\u001b[0m\u001b[0m\n\u001b[1;32m   1179\u001b[0m         \u001b[0;32mif\u001b[0m \u001b[0mengine\u001b[0m \u001b[0;34m==\u001b[0m \u001b[0;34m\"c\"\u001b[0m\u001b[0;34m:\u001b[0m\u001b[0;34m\u001b[0m\u001b[0;34m\u001b[0m\u001b[0m\n\u001b[0;32m-> 1180\u001b[0;31m             \u001b[0mself\u001b[0m\u001b[0;34m.\u001b[0m\u001b[0m_engine\u001b[0m \u001b[0;34m=\u001b[0m \u001b[0mCParserWrapper\u001b[0m\u001b[0;34m(\u001b[0m\u001b[0mself\u001b[0m\u001b[0;34m.\u001b[0m\u001b[0mf\u001b[0m\u001b[0;34m,\u001b[0m \u001b[0;34m**\u001b[0m\u001b[0mself\u001b[0m\u001b[0;34m.\u001b[0m\u001b[0moptions\u001b[0m\u001b[0;34m)\u001b[0m\u001b[0;34m\u001b[0m\u001b[0;34m\u001b[0m\u001b[0m\n\u001b[0m\u001b[1;32m   1181\u001b[0m         \u001b[0;32melse\u001b[0m\u001b[0;34m:\u001b[0m\u001b[0;34m\u001b[0m\u001b[0;34m\u001b[0m\u001b[0m\n\u001b[1;32m   1182\u001b[0m             \u001b[0;32mif\u001b[0m \u001b[0mengine\u001b[0m \u001b[0;34m==\u001b[0m \u001b[0;34m\"python\"\u001b[0m\u001b[0;34m:\u001b[0m\u001b[0;34m\u001b[0m\u001b[0;34m\u001b[0m\u001b[0m\n",
      "\u001b[0;32m/neurospin/dico/agaudin/Runs/02_explicabilite_humains_2022/2022_jchavas_cingulate_inhibitory_control/venv_local/lib/python3.6/site-packages/pandas/io/parsers.py\u001b[0m in \u001b[0;36m__init__\u001b[0;34m(self, src, **kwds)\u001b[0m\n\u001b[1;32m   2008\u001b[0m         \u001b[0mkwds\u001b[0m\u001b[0;34m[\u001b[0m\u001b[0;34m\"usecols\"\u001b[0m\u001b[0;34m]\u001b[0m \u001b[0;34m=\u001b[0m \u001b[0mself\u001b[0m\u001b[0;34m.\u001b[0m\u001b[0musecols\u001b[0m\u001b[0;34m\u001b[0m\u001b[0;34m\u001b[0m\u001b[0m\n\u001b[1;32m   2009\u001b[0m \u001b[0;34m\u001b[0m\u001b[0m\n\u001b[0;32m-> 2010\u001b[0;31m         \u001b[0mself\u001b[0m\u001b[0;34m.\u001b[0m\u001b[0m_reader\u001b[0m \u001b[0;34m=\u001b[0m \u001b[0mparsers\u001b[0m\u001b[0;34m.\u001b[0m\u001b[0mTextReader\u001b[0m\u001b[0;34m(\u001b[0m\u001b[0msrc\u001b[0m\u001b[0;34m,\u001b[0m \u001b[0;34m**\u001b[0m\u001b[0mkwds\u001b[0m\u001b[0;34m)\u001b[0m\u001b[0;34m\u001b[0m\u001b[0;34m\u001b[0m\u001b[0m\n\u001b[0m\u001b[1;32m   2011\u001b[0m         \u001b[0mself\u001b[0m\u001b[0;34m.\u001b[0m\u001b[0munnamed_cols\u001b[0m \u001b[0;34m=\u001b[0m \u001b[0mself\u001b[0m\u001b[0;34m.\u001b[0m\u001b[0m_reader\u001b[0m\u001b[0;34m.\u001b[0m\u001b[0munnamed_cols\u001b[0m\u001b[0;34m\u001b[0m\u001b[0;34m\u001b[0m\u001b[0m\n\u001b[1;32m   2012\u001b[0m \u001b[0;34m\u001b[0m\u001b[0m\n",
      "\u001b[0;32mpandas/_libs/parsers.pyx\u001b[0m in \u001b[0;36mpandas._libs.parsers.TextReader.__cinit__\u001b[0;34m()\u001b[0m\n",
      "\u001b[0;32mpandas/_libs/parsers.pyx\u001b[0m in \u001b[0;36mpandas._libs.parsers.TextReader._setup_parser_source\u001b[0;34m()\u001b[0m\n",
      "\u001b[0;31mFileNotFoundError\u001b[0m: [Errno 2] No such file or directory: '/neurospin/dico/agaudin/Runs/02_explicabilite_humains_2022/Output/2022-05-18/11-00-10/train_embeddings.csv'"
     ]
    }
   ],
   "source": [
    "# because the embeddings are not calculated through Visualization, each element is present twice\n",
    "dir_path = '/neurospin/dico/agaudin/Runs/02_explicabilite_humains_2022/Output/2022-05-18/11-00-10'\n",
    "\n",
    "train_embeddings = pd.read_csv(dir_path+'/train_embeddings.csv', index_col=0)\n",
    "val_embeddings = pd.read_csv(dir_path+'/val_embeddings.csv', index_col=0)\n",
    "\n",
    "print(train_embeddings.shape)\n",
    "print(val_embeddings.shape)\n",
    "\n",
    "\n",
    "embeddings = pd.concat([train_embeddings, val_embeddings], axis=0, ignore_index=True)\n",
    "embeddings"
   ]
  },
  {
   "cell_type": "code",
   "execution_count": null,
   "metadata": {},
   "outputs": [
    {
     "data": {
      "text/html": [
       "<div>\n",
       "<style scoped>\n",
       "    .dataframe tbody tr th:only-of-type {\n",
       "        vertical-align: middle;\n",
       "    }\n",
       "\n",
       "    .dataframe tbody tr th {\n",
       "        vertical-align: top;\n",
       "    }\n",
       "\n",
       "    .dataframe thead th {\n",
       "        text-align: right;\n",
       "    }\n",
       "</style>\n",
       "<table border=\"1\" class=\"dataframe\">\n",
       "  <thead>\n",
       "    <tr style=\"text-align: right;\">\n",
       "      <th></th>\n",
       "      <th>dim1</th>\n",
       "      <th>dim2</th>\n",
       "      <th>dim3</th>\n",
       "      <th>dim4</th>\n",
       "    </tr>\n",
       "  </thead>\n",
       "  <tbody>\n",
       "    <tr>\n",
       "      <th>0</th>\n",
       "      <td>8.607004</td>\n",
       "      <td>10.544548</td>\n",
       "      <td>-1.875861</td>\n",
       "      <td>14.947199</td>\n",
       "    </tr>\n",
       "    <tr>\n",
       "      <th>1</th>\n",
       "      <td>6.774639</td>\n",
       "      <td>9.453935</td>\n",
       "      <td>-2.074166</td>\n",
       "      <td>12.493588</td>\n",
       "    </tr>\n",
       "    <tr>\n",
       "      <th>2</th>\n",
       "      <td>6.245407</td>\n",
       "      <td>2.204583</td>\n",
       "      <td>-9.917317</td>\n",
       "      <td>2.996176</td>\n",
       "    </tr>\n",
       "    <tr>\n",
       "      <th>3</th>\n",
       "      <td>8.898745</td>\n",
       "      <td>3.464000</td>\n",
       "      <td>-8.458150</td>\n",
       "      <td>6.950223</td>\n",
       "    </tr>\n",
       "    <tr>\n",
       "      <th>4</th>\n",
       "      <td>8.805327</td>\n",
       "      <td>2.511324</td>\n",
       "      <td>-8.323596</td>\n",
       "      <td>8.753686</td>\n",
       "    </tr>\n",
       "    <tr>\n",
       "      <th>...</th>\n",
       "      <td>...</td>\n",
       "      <td>...</td>\n",
       "      <td>...</td>\n",
       "      <td>...</td>\n",
       "    </tr>\n",
       "    <tr>\n",
       "      <th>1095</th>\n",
       "      <td>2.615529</td>\n",
       "      <td>-3.292192</td>\n",
       "      <td>-12.578430</td>\n",
       "      <td>1.889788</td>\n",
       "    </tr>\n",
       "    <tr>\n",
       "      <th>1096</th>\n",
       "      <td>3.607781</td>\n",
       "      <td>-3.065661</td>\n",
       "      <td>-8.625574</td>\n",
       "      <td>9.827278</td>\n",
       "    </tr>\n",
       "    <tr>\n",
       "      <th>1097</th>\n",
       "      <td>3.794838</td>\n",
       "      <td>-2.817605</td>\n",
       "      <td>-8.389682</td>\n",
       "      <td>10.302524</td>\n",
       "    </tr>\n",
       "    <tr>\n",
       "      <th>1098</th>\n",
       "      <td>9.012708</td>\n",
       "      <td>0.697612</td>\n",
       "      <td>-9.146828</td>\n",
       "      <td>9.339451</td>\n",
       "    </tr>\n",
       "    <tr>\n",
       "      <th>1099</th>\n",
       "      <td>6.532035</td>\n",
       "      <td>-0.521309</td>\n",
       "      <td>-10.282063</td>\n",
       "      <td>5.810057</td>\n",
       "    </tr>\n",
       "  </tbody>\n",
       "</table>\n",
       "<p>1100 rows × 4 columns</p>\n",
       "</div>"
      ],
      "text/plain": [
       "          dim1       dim2       dim3       dim4\n",
       "0     8.607004  10.544548  -1.875861  14.947199\n",
       "1     6.774639   9.453935  -2.074166  12.493588\n",
       "2     6.245407   2.204583  -9.917317   2.996176\n",
       "3     8.898745   3.464000  -8.458150   6.950223\n",
       "4     8.805327   2.511324  -8.323596   8.753686\n",
       "...        ...        ...        ...        ...\n",
       "1095  2.615529  -3.292192 -12.578430   1.889788\n",
       "1096  3.607781  -3.065661  -8.625574   9.827278\n",
       "1097  3.794838  -2.817605  -8.389682  10.302524\n",
       "1098  9.012708   0.697612  -9.146828   9.339451\n",
       "1099  6.532035  -0.521309 -10.282063   5.810057\n",
       "\n",
       "[1100 rows x 4 columns]"
      ]
     },
     "execution_count": 26,
     "metadata": {},
     "output_type": "execute_result"
    }
   ],
   "source": [
    "embeddings.loc[:, embeddings.columns != 'ID']"
   ]
  },
  {
   "cell_type": "code",
   "execution_count": null,
   "metadata": {},
   "outputs": [
    {
     "data": {
      "text/html": [
       "<div>\n",
       "<style scoped>\n",
       "    .dataframe tbody tr th:only-of-type {\n",
       "        vertical-align: middle;\n",
       "    }\n",
       "\n",
       "    .dataframe tbody tr th {\n",
       "        vertical-align: top;\n",
       "    }\n",
       "\n",
       "    .dataframe thead th {\n",
       "        text-align: right;\n",
       "    }\n",
       "</style>\n",
       "<table border=\"1\" class=\"dataframe\">\n",
       "  <thead>\n",
       "    <tr style=\"text-align: right;\">\n",
       "      <th></th>\n",
       "      <th>dim1</th>\n",
       "      <th>dim2</th>\n",
       "      <th>dim3</th>\n",
       "      <th>dim4</th>\n",
       "    </tr>\n",
       "    <tr>\n",
       "      <th>ID</th>\n",
       "      <th></th>\n",
       "      <th></th>\n",
       "      <th></th>\n",
       "      <th></th>\n",
       "    </tr>\n",
       "  </thead>\n",
       "  <tbody>\n",
       "    <tr>\n",
       "      <th>100307</th>\n",
       "      <td>4.518542</td>\n",
       "      <td>-1.731114</td>\n",
       "      <td>-10.004573</td>\n",
       "      <td>5.222970</td>\n",
       "    </tr>\n",
       "    <tr>\n",
       "      <th>100610</th>\n",
       "      <td>14.314068</td>\n",
       "      <td>8.940447</td>\n",
       "      <td>-3.657568</td>\n",
       "      <td>18.687688</td>\n",
       "    </tr>\n",
       "    <tr>\n",
       "      <th>101107</th>\n",
       "      <td>10.880040</td>\n",
       "      <td>3.124564</td>\n",
       "      <td>-7.629962</td>\n",
       "      <td>10.815388</td>\n",
       "    </tr>\n",
       "    <tr>\n",
       "      <th>101309</th>\n",
       "      <td>0.802435</td>\n",
       "      <td>-5.053474</td>\n",
       "      <td>-11.944574</td>\n",
       "      <td>2.161026</td>\n",
       "    </tr>\n",
       "    <tr>\n",
       "      <th>102008</th>\n",
       "      <td>9.271605</td>\n",
       "      <td>0.505080</td>\n",
       "      <td>-8.369234</td>\n",
       "      <td>9.781714</td>\n",
       "    </tr>\n",
       "    <tr>\n",
       "      <th>...</th>\n",
       "      <td>...</td>\n",
       "      <td>...</td>\n",
       "      <td>...</td>\n",
       "      <td>...</td>\n",
       "    </tr>\n",
       "    <tr>\n",
       "      <th>973770</th>\n",
       "      <td>9.259984</td>\n",
       "      <td>4.759903</td>\n",
       "      <td>-3.897219</td>\n",
       "      <td>17.227477</td>\n",
       "    </tr>\n",
       "    <tr>\n",
       "      <th>987074</th>\n",
       "      <td>14.558414</td>\n",
       "      <td>7.464320</td>\n",
       "      <td>-4.294970</td>\n",
       "      <td>19.736421</td>\n",
       "    </tr>\n",
       "    <tr>\n",
       "      <th>987983</th>\n",
       "      <td>0.022700</td>\n",
       "      <td>-4.455080</td>\n",
       "      <td>-13.534734</td>\n",
       "      <td>-1.307830</td>\n",
       "    </tr>\n",
       "    <tr>\n",
       "      <th>993675</th>\n",
       "      <td>14.123613</td>\n",
       "      <td>6.539686</td>\n",
       "      <td>-5.165825</td>\n",
       "      <td>17.418071</td>\n",
       "    </tr>\n",
       "    <tr>\n",
       "      <th>994273</th>\n",
       "      <td>9.266966</td>\n",
       "      <td>11.298843</td>\n",
       "      <td>-2.479610</td>\n",
       "      <td>14.473982</td>\n",
       "    </tr>\n",
       "  </tbody>\n",
       "</table>\n",
       "<p>550 rows × 4 columns</p>\n",
       "</div>"
      ],
      "text/plain": [
       "             dim1       dim2       dim3       dim4\n",
       "ID                                                \n",
       "100307   4.518542  -1.731114 -10.004573   5.222970\n",
       "100610  14.314068   8.940447  -3.657568  18.687688\n",
       "101107  10.880040   3.124564  -7.629962  10.815388\n",
       "101309   0.802435  -5.053474 -11.944574   2.161026\n",
       "102008   9.271605   0.505080  -8.369234   9.781714\n",
       "...           ...        ...        ...        ...\n",
       "973770   9.259984   4.759903  -3.897219  17.227477\n",
       "987074  14.558414   7.464320  -4.294970  19.736421\n",
       "987983   0.022700  -4.455080 -13.534734  -1.307830\n",
       "993675  14.123613   6.539686  -5.165825  17.418071\n",
       "994273   9.266966  11.298843  -2.479610  14.473982\n",
       "\n",
       "[550 rows x 4 columns]"
      ]
     },
     "execution_count": 27,
     "metadata": {},
     "output_type": "execute_result"
    }
   ],
   "source": [
    "# take the mean of the two representations\n",
    "embeddings = embeddings.groupby(['ID']).mean()\n",
    "embeddings"
   ]
  },
  {
   "cell_type": "code",
   "execution_count": 16,
   "metadata": {},
   "outputs": [
    {
     "name": "stdout",
     "output_type": "stream",
     "text": [
      "       ID       dim1      dim2       dim3       dim4\n",
      "0  100307   6.477329 -0.436643  -9.119338   7.421880\n",
      "1  100610  14.444921  8.911864  -3.651662  18.372393\n",
      "2  101309   1.129477 -4.642883 -11.541558   2.656375\n",
      "3  102008   9.547610  0.861190  -8.132600   9.999138\n",
      "4  102513  -1.082993  3.021088  -2.296811   3.171185\n",
      "5  102614  -2.374028 -6.171038 -10.997260   2.295924\n",
      "6  102816   2.601914  6.560498  -3.074540   5.262527\n",
      "7  103010  -3.172067  2.569779  -3.531406  -0.579612\n",
      "8  103111   0.876065  4.510923  -2.327054   5.522014\n",
      "9  103212  10.059073  1.932676  -7.068737  11.977123\n"
     ]
    }
   ],
   "source": [
    "# create and save fake labels to test train_classifier\n",
    "dir_path = \"/neurospin/dico/agaudin/Runs/02_explicabilite_humains_2022/\\\n",
    "Output/2022-05-18/11-00-10//HCP_embeddings/2022-06-02_09-46/\"  # should be passed as an argument/ in config\n",
    "train_embeddings = pd.read_csv(dir_path+'train_embeddings.csv')\n",
    "val_embeddings = pd.read_csv(dir_path+'val_embeddings.csv')\n",
    "test_embeddings = pd.read_csv(dir_path+'test_embeddings.csv')\n",
    "\n",
    "embeddings = pd.concat([train_embeddings, val_embeddings, test_embeddings],\n",
    "                        axis=0, ignore_index=True)\n",
    "print(embeddings.iloc[:10,:])\n",
    "embeddings.sort_values(by='ID', inplace=True)\n",
    "\n",
    "ids = embeddings.ID.values\n",
    "\n",
    "labels = pd.DataFrame({'ID': ids,\n",
    "                       'label': np.random.randint(0,2,len(ids))})\n",
    "labels.to_csv(\"fake_labels.csv\", index=False)"
   ]
  },
  {
   "cell_type": "code",
   "execution_count": 17,
   "metadata": {},
   "outputs": [
    {
     "name": "stdout",
     "output_type": "stream",
     "text": [
      "tensor([1., 1., 1., 1., 1., 0., 0., 1., 1., 0.])\n"
     ]
    },
    {
     "data": {
      "text/plain": [
       "tensor([[13.2117, 11.2143, -3.3737, 18.4230],\n",
       "        [ 6.4773, -0.4366, -9.1193,  7.4219],\n",
       "        [15.4597,  9.9559, -4.3065, 19.0206],\n",
       "        ...,\n",
       "        [ 8.7779, 11.1612, -2.6221, 13.5294],\n",
       "        [11.4028,  4.3753, -7.2452, 10.8691],\n",
       "        [11.7532,  4.4342, -6.3526, 13.1040]])"
      ]
     },
     "execution_count": 17,
     "metadata": {},
     "output_type": "execute_result"
    }
   ],
   "source": [
    "# generate fake labels\n",
    "\n",
    "labels = np.random.randint(0,2,embeddings.shape[0])\n",
    "labels = torch.from_numpy(labels).type(torch.FloatTensor)\n",
    "print(labels[:10])\n",
    "\n",
    "# change dtype of embeddings for the next cells to work\n",
    "dims = ['dim'+str(i+1) for i in range(4)]\n",
    "embeddings = torch.from_numpy(embeddings[dims].values).type(torch.FloatTensor)\n",
    "embeddings"
   ]
  },
  {
   "cell_type": "code",
   "execution_count": 20,
   "metadata": {},
   "outputs": [],
   "source": [
    "# create classifier\n",
    "\n",
    "class BinaryClassifier(pl.LightningModule):\n",
    "    def __init__(self, input_size, output_size, activation=None):\n",
    "        super().__init__()\n",
    "        self.layer0 = nn.Linear(input_size, output_size)\n",
    "        if activation == 'sigmoid':\n",
    "            self.activation = nn.Sigmoid()\n",
    "        else:\n",
    "            self.activation = None\n",
    "        self.loss = nn.MSELoss()\n",
    "        \n",
    "\n",
    "    def forward(self, x):\n",
    "        # in lightning, forward defines the prediction/inference actions\n",
    "        output = self.layer0(x)\n",
    "        if self.activation:\n",
    "            output = self.activation(output)\n",
    "        return output\n",
    "    \n",
    "    def training_step(self, batch, batch_idx):\n",
    "        # training_step defined the train loop.\n",
    "        # It is independent of forward\n",
    "        x, y = batch\n",
    "        #x = x.view(x.size(0), -1)\n",
    "        output = self.forward(x)\n",
    "        loss = self.loss(output.reshape(y.shape), y)\n",
    "        # Logging to TensorBoard by default\n",
    "        self.log(\"train_loss\", loss)\n",
    "        return loss\n",
    "\n",
    "    def configure_optimizers(self):\n",
    "        optimizer = torch.optim.Adam(self.parameters(), lr=1e-3)\n",
    "        return optimizer"
   ]
  },
  {
   "cell_type": "code",
   "execution_count": 25,
   "metadata": {},
   "outputs": [],
   "source": [
    "class BinaryClassifier2(pl.LightningModule):\n",
    "    def __init__(self, layers_sizes, activation=None, loss='MSE'):\n",
    "        super().__init__()\n",
    "        self.layers = nn.Sequential()\n",
    "        for i in range(len(layers_sizes)-1):\n",
    "            #self.layers.append(nn.Linear(layers_sizes[i], layers_sizes[i+1]))\n",
    "            self.layers.add_module('layer%d'%(i), nn.Linear(layers_sizes[i], layers_sizes[i+1]))\n",
    "\n",
    "        if activation == 'sigmoid':\n",
    "            self.activation = nn.Sigmoid()\n",
    "        else:\n",
    "            self.activation = None\n",
    "        \n",
    "        if loss == 'BCE':\n",
    "            self.loss = nn.BCELoss()\n",
    "        else:\n",
    "            self.loss = nn.MSELoss()\n",
    "        \n",
    "\n",
    "    def forward(self, x):\n",
    "        # in lightning, forward defines the prediction/inference actions\n",
    "        for layer in self.layers:\n",
    "            x = layer(x)\n",
    "        if self.activation:\n",
    "            x = self.activation(x)\n",
    "        return x\n",
    "    \n",
    "    def training_step(self, batch, batch_idx):\n",
    "        # training_step defined the train loop.\n",
    "        # It is independent of forward\n",
    "        x, y = batch\n",
    "        #x = x.view(x.size(0), -1)\n",
    "        output = self.forward(x)\n",
    "        loss = self.loss(output, y)\n",
    "        # Logging to TensorBoard by default\n",
    "        self.log(\"train_loss\", loss)\n",
    "        return loss\n",
    "\n",
    "    def configure_optimizers(self):\n",
    "        optimizer = torch.optim.Adam(self.parameters(), lr=1e-3)\n",
    "        return optimizer"
   ]
  },
  {
   "cell_type": "code",
   "execution_count": 26,
   "metadata": {},
   "outputs": [
    {
     "name": "stderr",
     "output_type": "stream",
     "text": [
      "GPU available: False, used: False\n",
      "TPU available: False, using: 0 TPU cores\n",
      "IPU available: False, using: 0 IPUs\n",
      "\n",
      "  | Name   | Type       | Params\n",
      "--------------------------------------\n",
      "0 | layers | Sequential | 5     \n",
      "1 | loss   | MSELoss    | 0     \n",
      "--------------------------------------\n",
      "5         Trainable params\n",
      "0         Non-trainable params\n",
      "5         Total params\n",
      "0.000     Total estimated model params size (MB)\n",
      "/neurospin/dico/agaudin/Runs/02_explicabilite_humains_2022/2022_jchavas_cingulate_inhibitory_control/venv_local/lib/python3.6/site-packages/pytorch_lightning/trainer/data_loading.py:133: UserWarning: The dataloader, train_dataloader, does not have many workers which may be a bottleneck. Consider increasing the value of the `num_workers` argument` (try 4 which is the number of cpus on this machine) in the `DataLoader` init to improve performance.\n",
      "  f\"The dataloader, {name}, does not have many workers which may be a bottleneck.\"\n"
     ]
    },
    {
     "name": "stdout",
     "output_type": "stream",
     "text": [
      "Epoch 0:  19%|█▉        | 21/112 [00:00<00:00, 135.99it/s, loss=9.89, v_num=4]"
     ]
    },
    {
     "name": "stderr",
     "output_type": "stream",
     "text": [
      "/neurospin/dico/agaudin/Runs/02_explicabilite_humains_2022/2022_jchavas_cingulate_inhibitory_control/venv_local/lib/python3.6/site-packages/torch/nn/modules/loss.py:520: UserWarning: Using a target size (torch.Size([10])) that is different to the input size (torch.Size([10, 1])). This will likely lead to incorrect results due to broadcasting. Please ensure they have the same size.\n",
      "  return F.mse_loss(input, target, reduction=self.reduction)\n"
     ]
    },
    {
     "name": "stdout",
     "output_type": "stream",
     "text": [
      "Epoch 1:  18%|█▊        | 20/112 [00:00<00:00, 118.30it/s, loss=2.52, v_num=4] "
     ]
    },
    {
     "name": "stderr",
     "output_type": "stream",
     "text": [
      "/neurospin/dico/agaudin/Runs/02_explicabilite_humains_2022/2022_jchavas_cingulate_inhibitory_control/venv_local/lib/python3.6/site-packages/torch/nn/modules/loss.py:520: UserWarning: Using a target size (torch.Size([4])) that is different to the input size (torch.Size([4, 1])). This will likely lead to incorrect results due to broadcasting. Please ensure they have the same size.\n",
      "  return F.mse_loss(input, target, reduction=self.reduction)\n"
     ]
    },
    {
     "name": "stdout",
     "output_type": "stream",
     "text": [
      "Epoch 4: 100%|██████████| 112/112 [00:01<00:00, 90.77it/s, loss=0.659, v_num=4] \n"
     ]
    }
   ],
   "source": [
    "#bin_class = BinaryClassifier(4,1)\n",
    "bin_class = BinaryClassifier2([4,1])\n",
    "\n",
    "train_set = TensorDataset(embeddings, labels)\n",
    "train_loader_lin = DataLoader(train_set, batch_size=10)\n",
    "\n",
    "trainer_lin = pl.Trainer(max_epochs=5)\n",
    "trainer_lin.fit(model=bin_class, train_dataloaders=train_loader_lin)"
   ]
  },
  {
   "cell_type": "code",
   "execution_count": null,
   "metadata": {},
   "outputs": [],
   "source": [
    "for layer in bin_class.layers:\n",
    "    print(layer)"
   ]
  },
  {
   "cell_type": "code",
   "execution_count": null,
   "metadata": {},
   "outputs": [
    {
     "data": {
      "text/plain": [
       "<matplotlib.legend.Legend at 0x7f42e5f94b00>"
      ]
     },
     "execution_count": 41,
     "metadata": {},
     "output_type": "execute_result"
    },
    {
     "data": {
      "image/png": "[encoded data removed]",
      "text/plain": [
       "<Figure size 432x288 with 1 Axes>"
      ]
     },
     "metadata": {
      "needs_background": "light"
     },
     "output_type": "display_data"
    }
   ],
   "source": [
    "labels_pred = bin_class.forward(embeddings)\n",
    "labels_pred = labels_pred.detach().numpy()\n",
    "curves = roc_curve(labels.detach_().numpy(), labels_pred)\n",
    "roc_auc = roc_auc_score(labels.detach_().numpy(), labels_pred)\n",
    "\n",
    "plt.plot(curves[0], curves[1], label=\"ROC curve (area = %0.2f)\" % roc_auc)\n",
    "plt.plot([0,1],[0,1],color='r')\n",
    "plt.legend()"
   ]
  },
  {
   "cell_type": "markdown",
   "metadata": {},
   "source": [
    "## tests on pd.join "
   ]
  },
  {
   "cell_type": "markdown",
   "metadata": {},
   "source": [
    "C'est de la merde, ca met pas les lignes dans le bon ordre, je sais pas pourquoi (ça le fait pour des exemples plus petits). Utiliser sort_values à la place"
   ]
  }
 ],
 "metadata": {
  "interpreter": {
   "hash": "0a11d766e9d9d540503ea14849c3c4908afaa53a8fae76fa5fd392b0740cea37"
  },
  "kernelspec": {
   "display_name": "Python 3.6.9 ('venv_local': venv)",
   "language": "python",
   "name": "python3"
  },
  "language_info": {
   "codemirror_mode": {
    "name": "ipython",
    "version": 3
   },
   "file_extension": ".py",
   "mimetype": "text/x-python",
   "name": "python",
   "nbconvert_exporter": "python",
   "pygments_lexer": "ipython3",
   "version": "3.6.9"
  },
  "orig_nbformat": 4
 },
 "nbformat": 4,
 "nbformat_minor": 2
}
