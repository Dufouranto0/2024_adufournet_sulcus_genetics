{
 "cells": [
  {
   "cell_type": "markdown",
   "metadata": {},
   "source": [
    "# Tutorial pytorch"
   ]
  },
  {
   "cell_type": "markdown",
   "metadata": {},
   "source": [
    "https://pytorch-lightning.readthedocs.io/en/stable/starter/introduction.html"
   ]
  },
  {
   "cell_type": "code",
   "execution_count": 21,
   "metadata": {},
   "outputs": [],
   "source": [
    "import os\n",
    "import torch\n",
    "import pytorch_lightning as pl\n",
    "import matplotlib.pyplot as plt\n",
    "import numpy as np\n",
    "import pandas as pd\n",
    "\n",
    "from torch import nn\n",
    "import torch.nn.functional as F\n",
    "from torchvision import transforms\n",
    "from torchvision.datasets import MNIST\n",
    "from torch.utils.data import DataLoader, TensorDataset\n",
    "from sklearn.metrics import accuracy_score, confusion_matrix, roc_curve,\\\n",
    "roc_auc_score"
   ]
  },
  {
   "cell_type": "code",
   "execution_count": 22,
   "metadata": {},
   "outputs": [],
   "source": [
    "class LitAutoEncoder(pl.LightningModule):\n",
    "    def __init__(self, latent_space_dim):\n",
    "        super().__init__()\n",
    "        self.encoder = nn.Sequential(nn.Linear(28 * 28, 64), nn.ReLU(), nn.Linear(64, latent_space_dim))\n",
    "        self.decoder = nn.Sequential(nn.Linear(latent_space_dim, 64), nn.ReLU(), nn.Linear(64, 28 * 28))\n",
    "\n",
    "    def forward(self, x):\n",
    "        # in lightning, forward defines the prediction/inference actions\n",
    "        embedding = self.encoder(x)\n",
    "        output = self.decoder(embedding)\n",
    "        return output\n",
    "\n",
    "    def forward_embedding(self, x):\n",
    "        # in lightning, forward defines the prediction/inference actions\n",
    "        embedding = self.encoder(x)\n",
    "        return embedding\n",
    "\n",
    "    def training_step(self, batch, batch_idx):\n",
    "        # training_step defined the train loop.\n",
    "        # It is independent of forward\n",
    "        x, y = batch\n",
    "        x = x.view(x.size(0), -1)\n",
    "        z = self.encoder(x)\n",
    "        x_hat = self.decoder(z)\n",
    "        loss = F.mse_loss(x_hat, x)\n",
    "        # Logging to TensorBoard by default\n",
    "        self.log(\"train_loss\", loss)\n",
    "        return loss\n",
    "\n",
    "    def configure_optimizers(self):\n",
    "        optimizer = torch.optim.Adam(self.parameters(), lr=1e-3)\n",
    "        return optimizer\n"
   ]
  },
  {
   "cell_type": "code",
   "execution_count": 23,
   "metadata": {},
   "outputs": [],
   "source": [
    "# import dataset\n",
    "dataset = MNIST(os.getcwd(), download=True, transform=transforms.ToTensor())\n",
    "train_loader = DataLoader(dataset, batch_size=10)\n",
    "\n",
    "# init model\n",
    "latent_space_dim = 15\n",
    "autoencoder = LitAutoEncoder(latent_space_dim)"
   ]
  },
  {
   "cell_type": "code",
   "execution_count": 5,
   "metadata": {},
   "outputs": [
    {
     "name": "stderr",
     "output_type": "stream",
     "text": [
      "/neurospin/dico/agaudin/Runs/02_explicabilite_humains_2022/2022_jchavas_cingulate_inhibitory_control/venv_local/lib/python3.6/site-packages/torch/cuda/__init__.py:80: UserWarning: CUDA initialization: The NVIDIA driver on your system is too old (found version 9010). Please update your GPU driver by downloading and installing a new version from the URL: http://www.nvidia.com/Download/index.aspx Alternatively, go to: https://pytorch.org to install a PyTorch version that has been compiled with your version of the CUDA driver. (Triggered internally at  ../c10/cuda/CUDAFunctions.cpp:112.)\n",
      "  return torch._C._cuda_getDeviceCount() > 0\n",
      "GPU available: False, used: False\n",
      "TPU available: False, using: 0 TPU cores\n",
      "IPU available: False, using: 0 IPUs\n",
      "\n",
      "  | Name    | Type       | Params\n",
      "---------------------------------------\n",
      "0 | encoder | Sequential | 51.2 K\n",
      "1 | decoder | Sequential | 52.0 K\n",
      "---------------------------------------\n",
      "103 K     Trainable params\n",
      "0         Non-trainable params\n",
      "103 K     Total params\n",
      "0.413     Total estimated model params size (MB)\n",
      "/neurospin/dico/agaudin/Runs/02_explicabilite_humains_2022/2022_jchavas_cingulate_inhibitory_control/venv_local/lib/python3.6/site-packages/pytorch_lightning/trainer/data_loading.py:133: UserWarning: The dataloader, train_dataloader, does not have many workers which may be a bottleneck. Consider increasing the value of the `num_workers` argument` (try 4 which is the number of cpus on this machine) in the `DataLoader` init to improve performance.\n",
      "  f\"The dataloader, {name}, does not have many workers which may be a bottleneck.\"\n"
     ]
    },
    {
     "data": {
      "application/vnd.jupyter.widget-view+json": {
       "model_id": "15af17d36e8140b389b4fd55e4f66380",
       "version_major": 2,
       "version_minor": 0
      },
      "text/plain": [
       "Training: 0it [00:00, ?it/s]"
      ]
     },
     "metadata": {},
     "output_type": "display_data"
    }
   ],
   "source": [
    "# train the model\n",
    "\n",
    "# most basic trainer, uses good defaults (auto-tensorboard, checkpoints, logs, and more)\n",
    "# trainer = pl.Trainer(accelerator=\"gpu\", devices=8) (if you have GPUs)\n",
    "trainer = pl.Trainer(max_epochs=1)\n",
    "trainer.fit(model=autoencoder, train_dataloaders=train_loader)"
   ]
  },
  {
   "cell_type": "code",
   "execution_count": 6,
   "metadata": {},
   "outputs": [
    {
     "data": {
      "text/plain": [
       "torch.Size([60000, 1, 28, 28])"
      ]
     },
     "execution_count": 6,
     "metadata": {},
     "output_type": "execute_result"
    }
   ],
   "source": [
    "get_X_y_loader = DataLoader(dataset, batch_size=60000)\n",
    "\n",
    "X,Y = list(get_X_y_loader)[0]\n",
    "\n",
    "X.shape"
   ]
  },
  {
   "cell_type": "code",
   "execution_count": 7,
   "metadata": {},
   "outputs": [],
   "source": [
    "i = 230\n",
    "\n",
    "outputs = autoencoder.forward(X[i].flatten())\n",
    "outputs = outputs.reshape(28,28)"
   ]
  },
  {
   "cell_type": "code",
   "execution_count": 8,
   "metadata": {},
   "outputs": [
    {
     "data": {
      "text/plain": [
       "<matplotlib.image.AxesImage at 0x7f42eae4a630>"
      ]
     },
     "execution_count": 8,
     "metadata": {},
     "output_type": "execute_result"
    },
    {
     "data": {
      "image/png": "[encoded data removed]",
      "text/plain": [
       "<Figure size 288x288 with 1 Axes>"
      ]
     },
     "metadata": {
      "needs_background": "light"
     },
     "output_type": "display_data"
    },
    {
     "data": {
      "text/plain": [
       "<Figure size 432x288 with 0 Axes>"
      ]
     },
     "metadata": {},
     "output_type": "display_data"
    },
    {
     "data": {
      "image/png": "[encoded data removed]",
      "text/plain": [
       "<Figure size 288x288 with 1 Axes>"
      ]
     },
     "metadata": {
      "needs_background": "light"
     },
     "output_type": "display_data"
    }
   ],
   "source": [
    "plt.matshow(X[i][0])\n",
    "plt.figure()\n",
    "plt.matshow(outputs.detach().numpy())"
   ]
  },
  {
   "cell_type": "code",
   "execution_count": 9,
   "metadata": {},
   "outputs": [
    {
     "data": {
      "text/plain": [
       "tensor([[-0.1451,  0.4071, -0.1414, -0.5115, -0.3112,  0.1048, -0.6085,  1.0817,\n",
       "          0.4114,  0.2532,  1.3883, -1.2937, -0.9001,  0.4669, -0.6296],\n",
       "        [-0.3082,  0.1954,  1.4195, -1.6393, -0.5129,  0.4608, -0.4463, -0.0473,\n",
       "         -1.6607, -0.0989,  2.1451, -2.1447, -0.2214, -0.3113, -1.0416],\n",
       "        [ 0.5421, -0.5779,  0.3321,  0.4336, -0.7860,  1.5834, -0.7857,  0.2791,\n",
       "         -0.6690,  0.4184,  1.0873,  0.8694,  0.2971,  0.4749, -0.4133],\n",
       "        [ 0.6593,  1.1012,  0.0329, -0.7978, -0.4490, -1.0858, -0.9697,  0.2747,\n",
       "         -0.3702,  1.0820, -0.7492, -0.6860,  0.7247,  0.7379, -0.0405],\n",
       "        [ 1.5528,  0.9656, -0.4108, -0.2011,  0.0325,  1.0843, -0.9245, -0.8705,\n",
       "          0.6207,  0.5341,  0.4353,  0.1880,  0.8525,  0.1990, -1.2704],\n",
       "        [-0.2546, -0.5055, -0.3217, -0.9141,  0.1953, -0.0766, -1.4160,  0.2664,\n",
       "         -0.5521,  0.5213,  2.4485, -0.5218,  0.7170,  0.7340, -0.2391],\n",
       "        [ 0.0423, -0.6327, -1.3651, -0.2742,  0.6104, -0.2256,  0.6618, -0.2678,\n",
       "          1.2627,  0.3030, -0.1669, -0.1621, -1.6048, -0.3674, -0.0601],\n",
       "        [-0.6200,  0.5272, -1.3328, -0.3953, -0.9206,  0.6206, -2.0795,  1.4320,\n",
       "         -0.8538,  0.4984,  1.6740, -0.3943, -0.2718, -0.0918, -0.8491],\n",
       "        [ 0.1292, -0.1000, -0.5018, -0.2043,  0.7514, -0.0133,  0.4659, -0.0435,\n",
       "          0.9219,  0.6064, -0.3290, -0.0505, -1.4308, -0.3684, -0.2941],\n",
       "        [-0.2633,  0.5828,  0.8022, -0.7769, -0.2222,  0.7274, -1.3411, -1.0687,\n",
       "         -0.6581,  1.3034,  0.6307,  0.4347,  0.1267,  0.7440, -0.6647]],\n",
       "       grad_fn=<AddmmBackward0>)"
      ]
     },
     "execution_count": 9,
     "metadata": {},
     "output_type": "execute_result"
    }
   ],
   "source": [
    "autoencoder.forward_embedding(X[:10].flatten(start_dim=1))"
   ]
  },
  {
   "cell_type": "markdown",
   "metadata": {},
   "source": [
    "## add classifier"
   ]
  },
  {
   "cell_type": "code",
   "execution_count": 10,
   "metadata": {},
   "outputs": [],
   "source": [
    "class LinearClassifier(pl.LightningModule):\n",
    "    def __init__(self, input_size, output_size):\n",
    "        super().__init__()\n",
    "        self.layer0 = nn.Linear(input_size, output_size)\n",
    "        self.activation0 = nn.Softmax(dim=1)\n",
    "        self.loss = nn.CrossEntropyLoss()\n",
    "        \n",
    "\n",
    "    def forward(self, x):\n",
    "        # in lightning, forward defines the prediction/inference actions\n",
    "        output = self.layer0(x)\n",
    "        output = self.activation0(output)\n",
    "        return output\n",
    "    \n",
    "    def training_step(self, batch, batch_idx):\n",
    "        # training_step defined the train loop.\n",
    "        # It is independent of forward\n",
    "        x, y = batch\n",
    "        #x = x.view(x.size(0), -1)\n",
    "        output = self.forward(x)\n",
    "        loss = self.loss(output, y)\n",
    "        # Logging to TensorBoard by default\n",
    "        self.log(\"train_loss\", loss)\n",
    "        return loss\n",
    "\n",
    "    def configure_optimizers(self):\n",
    "        optimizer = torch.optim.Adam(self.parameters(), lr=1e-3)\n",
    "        return optimizer"
   ]
  },
  {
   "cell_type": "code",
   "execution_count": 11,
   "metadata": {},
   "outputs": [],
   "source": [
    "# define the linear classifier\n",
    "lin_class = LinearClassifier(latent_space_dim, 10)"
   ]
  },
  {
   "cell_type": "code",
   "execution_count": 12,
   "metadata": {},
   "outputs": [
    {
     "name": "stdout",
     "output_type": "stream",
     "text": [
      "tensor([[-0.1451,  0.4071, -0.1414, -0.5115, -0.3112,  0.1048, -0.6085,  1.0817,\n",
      "          0.4114,  0.2532,  1.3883, -1.2937, -0.9001,  0.4669, -0.6296],\n",
      "        [-0.3082,  0.1954,  1.4195, -1.6393, -0.5129,  0.4608, -0.4463, -0.0473,\n",
      "         -1.6607, -0.0989,  2.1451, -2.1447, -0.2214, -0.3113, -1.0416],\n",
      "        [ 0.5421, -0.5779,  0.3321,  0.4336, -0.7860,  1.5834, -0.7857,  0.2791,\n",
      "         -0.6690,  0.4184,  1.0873,  0.8694,  0.2971,  0.4749, -0.4133],\n",
      "        [ 0.6593,  1.1012,  0.0329, -0.7978, -0.4490, -1.0858, -0.9697,  0.2747,\n",
      "         -0.3702,  1.0820, -0.7492, -0.6860,  0.7247,  0.7379, -0.0405],\n",
      "        [ 1.5528,  0.9656, -0.4108, -0.2011,  0.0325,  1.0843, -0.9245, -0.8705,\n",
      "          0.6207,  0.5341,  0.4353,  0.1880,  0.8525,  0.1990, -1.2704],\n",
      "        [-0.2546, -0.5055, -0.3217, -0.9141,  0.1953, -0.0766, -1.4160,  0.2664,\n",
      "         -0.5521,  0.5213,  2.4485, -0.5218,  0.7170,  0.7340, -0.2391],\n",
      "        [ 0.0423, -0.6327, -1.3651, -0.2742,  0.6104, -0.2256,  0.6618, -0.2678,\n",
      "          1.2627,  0.3030, -0.1669, -0.1621, -1.6048, -0.3674, -0.0601],\n",
      "        [-0.6200,  0.5272, -1.3328, -0.3953, -0.9206,  0.6206, -2.0795,  1.4320,\n",
      "         -0.8538,  0.4984,  1.6740, -0.3943, -0.2718, -0.0918, -0.8491],\n",
      "        [ 0.1292, -0.1000, -0.5018, -0.2043,  0.7514, -0.0133,  0.4659, -0.0435,\n",
      "          0.9219,  0.6064, -0.3290, -0.0505, -1.4308, -0.3684, -0.2941],\n",
      "        [-0.2633,  0.5828,  0.8022, -0.7769, -0.2222,  0.7274, -1.3411, -1.0687,\n",
      "         -0.6581,  1.3034,  0.6307,  0.4347,  0.1267,  0.7440, -0.6647]])\n",
      "tensor([[0., 0., 0., 0., 0., 1., 0., 0., 0., 0.],\n",
      "        [1., 0., 0., 0., 0., 0., 0., 0., 0., 0.],\n",
      "        [0., 0., 0., 0., 1., 0., 0., 0., 0., 0.],\n",
      "        [0., 1., 0., 0., 0., 0., 0., 0., 0., 0.],\n",
      "        [0., 0., 0., 0., 0., 0., 0., 0., 0., 1.]])\n"
     ]
    }
   ],
   "source": [
    "# create its dataset\n",
    "X_propag = X.flatten(start_dim=1)\n",
    "embeddings = autoencoder.forward_embedding(X_propag)\n",
    "embeddings.detach_()\n",
    "print(embeddings[:10])\n",
    "\n",
    "# apparently no need\n",
    "Y_one_hot = F.one_hot(Y).type(torch.FloatTensor)\n",
    "print(Y_one_hot[:5])"
   ]
  },
  {
   "cell_type": "code",
   "execution_count": 13,
   "metadata": {},
   "outputs": [
    {
     "name": "stderr",
     "output_type": "stream",
     "text": [
      "GPU available: False, used: False\n",
      "TPU available: False, using: 0 TPU cores\n",
      "IPU available: False, using: 0 IPUs\n",
      "\n",
      "  | Name        | Type             | Params\n",
      "-------------------------------------------------\n",
      "0 | layer0      | Linear           | 160   \n",
      "1 | activation0 | Softmax          | 0     \n",
      "2 | loss        | CrossEntropyLoss | 0     \n",
      "-------------------------------------------------\n",
      "160       Trainable params\n",
      "0         Non-trainable params\n",
      "160       Total params\n",
      "0.001     Total estimated model params size (MB)\n"
     ]
    },
    {
     "data": {
      "application/vnd.jupyter.widget-view+json": {
       "model_id": "3e795774274e4347837a060cedc0ef0e",
       "version_major": 2,
       "version_minor": 0
      },
      "text/plain": [
       "Training: 0it [00:00, ?it/s]"
      ]
     },
     "metadata": {},
     "output_type": "display_data"
    }
   ],
   "source": [
    "# train the linear classifier on the latent space embedding\n",
    "\n",
    "train_set = TensorDataset(embeddings, Y)\n",
    "train_loader_lin = DataLoader(train_set, batch_size=10)\n",
    "\n",
    "trainer_lin = pl.Trainer(max_epochs=5)\n",
    "trainer_lin.fit(model=lin_class, train_dataloaders=train_loader_lin)"
   ]
  },
  {
   "cell_type": "code",
   "execution_count": 14,
   "metadata": {},
   "outputs": [
    {
     "data": {
      "text/html": [
       "<div>\n",
       "<style scoped>\n",
       "    .dataframe tbody tr th:only-of-type {\n",
       "        vertical-align: middle;\n",
       "    }\n",
       "\n",
       "    .dataframe tbody tr th {\n",
       "        vertical-align: top;\n",
       "    }\n",
       "\n",
       "    .dataframe thead th {\n",
       "        text-align: right;\n",
       "    }\n",
       "</style>\n",
       "<table border=\"1\" class=\"dataframe\">\n",
       "  <thead>\n",
       "    <tr style=\"text-align: right;\">\n",
       "      <th></th>\n",
       "      <th>0</th>\n",
       "      <th>1</th>\n",
       "      <th>2</th>\n",
       "      <th>3</th>\n",
       "      <th>4</th>\n",
       "      <th>5</th>\n",
       "      <th>6</th>\n",
       "      <th>7</th>\n",
       "      <th>8</th>\n",
       "      <th>9</th>\n",
       "      <th>prediction</th>\n",
       "    </tr>\n",
       "  </thead>\n",
       "  <tbody>\n",
       "    <tr>\n",
       "      <th>0</th>\n",
       "      <td>5.009928e-03</td>\n",
       "      <td>7.469503e-06</td>\n",
       "      <td>1.242133e-02</td>\n",
       "      <td>5.613064e-01</td>\n",
       "      <td>1.004791e-07</td>\n",
       "      <td>0.396970</td>\n",
       "      <td>2.022694e-04</td>\n",
       "      <td>4.241157e-03</td>\n",
       "      <td>1.822945e-02</td>\n",
       "      <td>1.611490e-03</td>\n",
       "      <td>3</td>\n",
       "    </tr>\n",
       "    <tr>\n",
       "      <th>1</th>\n",
       "      <td>9.990822e-01</td>\n",
       "      <td>2.948407e-16</td>\n",
       "      <td>1.438319e-11</td>\n",
       "      <td>1.364113e-11</td>\n",
       "      <td>6.809391e-13</td>\n",
       "      <td>0.000918</td>\n",
       "      <td>1.329700e-08</td>\n",
       "      <td>1.075142e-10</td>\n",
       "      <td>3.041454e-09</td>\n",
       "      <td>1.223539e-11</td>\n",
       "      <td>0</td>\n",
       "    </tr>\n",
       "    <tr>\n",
       "      <th>2</th>\n",
       "      <td>8.984737e-05</td>\n",
       "      <td>4.445837e-11</td>\n",
       "      <td>1.486989e-06</td>\n",
       "      <td>3.889900e-04</td>\n",
       "      <td>6.483795e-01</td>\n",
       "      <td>0.000393</td>\n",
       "      <td>4.275278e-06</td>\n",
       "      <td>1.129403e-03</td>\n",
       "      <td>2.429402e-05</td>\n",
       "      <td>3.495889e-01</td>\n",
       "      <td>4</td>\n",
       "    </tr>\n",
       "    <tr>\n",
       "      <th>3</th>\n",
       "      <td>5.455174e-07</td>\n",
       "      <td>9.844857e-01</td>\n",
       "      <td>9.453045e-04</td>\n",
       "      <td>7.356701e-06</td>\n",
       "      <td>7.178605e-06</td>\n",
       "      <td>0.000150</td>\n",
       "      <td>3.769938e-05</td>\n",
       "      <td>4.704677e-05</td>\n",
       "      <td>1.431262e-02</td>\n",
       "      <td>6.472946e-06</td>\n",
       "      <td>1</td>\n",
       "    </tr>\n",
       "    <tr>\n",
       "      <th>4</th>\n",
       "      <td>1.702829e-09</td>\n",
       "      <td>1.626378e-07</td>\n",
       "      <td>1.095382e-10</td>\n",
       "      <td>8.777641e-10</td>\n",
       "      <td>1.203708e-01</td>\n",
       "      <td>0.000023</td>\n",
       "      <td>5.207037e-08</td>\n",
       "      <td>1.292489e-03</td>\n",
       "      <td>1.292204e-05</td>\n",
       "      <td>8.783007e-01</td>\n",
       "      <td>9</td>\n",
       "    </tr>\n",
       "    <tr>\n",
       "      <th>...</th>\n",
       "      <td>...</td>\n",
       "      <td>...</td>\n",
       "      <td>...</td>\n",
       "      <td>...</td>\n",
       "      <td>...</td>\n",
       "      <td>...</td>\n",
       "      <td>...</td>\n",
       "      <td>...</td>\n",
       "      <td>...</td>\n",
       "      <td>...</td>\n",
       "      <td>...</td>\n",
       "    </tr>\n",
       "    <tr>\n",
       "      <th>59995</th>\n",
       "      <td>1.620305e-05</td>\n",
       "      <td>9.555512e-05</td>\n",
       "      <td>7.779575e-04</td>\n",
       "      <td>3.633918e-04</td>\n",
       "      <td>4.700170e-07</td>\n",
       "      <td>0.000950</td>\n",
       "      <td>2.369462e-07</td>\n",
       "      <td>3.091300e-08</td>\n",
       "      <td>9.977885e-01</td>\n",
       "      <td>8.100626e-06</td>\n",
       "      <td>8</td>\n",
       "    </tr>\n",
       "    <tr>\n",
       "      <th>59996</th>\n",
       "      <td>1.977301e-06</td>\n",
       "      <td>1.006029e-09</td>\n",
       "      <td>6.982867e-05</td>\n",
       "      <td>9.998166e-01</td>\n",
       "      <td>1.563408e-08</td>\n",
       "      <td>0.000101</td>\n",
       "      <td>5.614891e-10</td>\n",
       "      <td>2.345672e-10</td>\n",
       "      <td>1.027183e-05</td>\n",
       "      <td>1.809892e-07</td>\n",
       "      <td>3</td>\n",
       "    </tr>\n",
       "    <tr>\n",
       "      <th>59997</th>\n",
       "      <td>2.457090e-04</td>\n",
       "      <td>3.030905e-06</td>\n",
       "      <td>8.145264e-09</td>\n",
       "      <td>1.969892e-04</td>\n",
       "      <td>1.911397e-06</td>\n",
       "      <td>0.996834</td>\n",
       "      <td>2.562465e-08</td>\n",
       "      <td>3.228659e-06</td>\n",
       "      <td>9.674278e-04</td>\n",
       "      <td>1.748055e-03</td>\n",
       "      <td>5</td>\n",
       "    </tr>\n",
       "    <tr>\n",
       "      <th>59998</th>\n",
       "      <td>1.184250e-01</td>\n",
       "      <td>2.197596e-07</td>\n",
       "      <td>1.836366e-03</td>\n",
       "      <td>1.010854e-05</td>\n",
       "      <td>9.749688e-04</td>\n",
       "      <td>0.079424</td>\n",
       "      <td>7.993060e-01</td>\n",
       "      <td>4.331422e-07</td>\n",
       "      <td>7.809691e-06</td>\n",
       "      <td>1.537675e-05</td>\n",
       "      <td>6</td>\n",
       "    </tr>\n",
       "    <tr>\n",
       "      <th>59999</th>\n",
       "      <td>4.919505e-02</td>\n",
       "      <td>6.933881e-05</td>\n",
       "      <td>2.729280e-05</td>\n",
       "      <td>4.557489e-06</td>\n",
       "      <td>4.278278e-05</td>\n",
       "      <td>0.100376</td>\n",
       "      <td>1.199707e-04</td>\n",
       "      <td>2.266573e-03</td>\n",
       "      <td>8.295035e-01</td>\n",
       "      <td>1.839520e-02</td>\n",
       "      <td>8</td>\n",
       "    </tr>\n",
       "  </tbody>\n",
       "</table>\n",
       "<p>60000 rows × 11 columns</p>\n",
       "</div>"
      ],
      "text/plain": [
       "                  0             1             2             3             4  \\\n",
       "0      5.009928e-03  7.469503e-06  1.242133e-02  5.613064e-01  1.004791e-07   \n",
       "1      9.990822e-01  2.948407e-16  1.438319e-11  1.364113e-11  6.809391e-13   \n",
       "2      8.984737e-05  4.445837e-11  1.486989e-06  3.889900e-04  6.483795e-01   \n",
       "3      5.455174e-07  9.844857e-01  9.453045e-04  7.356701e-06  7.178605e-06   \n",
       "4      1.702829e-09  1.626378e-07  1.095382e-10  8.777641e-10  1.203708e-01   \n",
       "...             ...           ...           ...           ...           ...   \n",
       "59995  1.620305e-05  9.555512e-05  7.779575e-04  3.633918e-04  4.700170e-07   \n",
       "59996  1.977301e-06  1.006029e-09  6.982867e-05  9.998166e-01  1.563408e-08   \n",
       "59997  2.457090e-04  3.030905e-06  8.145264e-09  1.969892e-04  1.911397e-06   \n",
       "59998  1.184250e-01  2.197596e-07  1.836366e-03  1.010854e-05  9.749688e-04   \n",
       "59999  4.919505e-02  6.933881e-05  2.729280e-05  4.557489e-06  4.278278e-05   \n",
       "\n",
       "              5             6             7             8             9  \\\n",
       "0      0.396970  2.022694e-04  4.241157e-03  1.822945e-02  1.611490e-03   \n",
       "1      0.000918  1.329700e-08  1.075142e-10  3.041454e-09  1.223539e-11   \n",
       "2      0.000393  4.275278e-06  1.129403e-03  2.429402e-05  3.495889e-01   \n",
       "3      0.000150  3.769938e-05  4.704677e-05  1.431262e-02  6.472946e-06   \n",
       "4      0.000023  5.207037e-08  1.292489e-03  1.292204e-05  8.783007e-01   \n",
       "...         ...           ...           ...           ...           ...   \n",
       "59995  0.000950  2.369462e-07  3.091300e-08  9.977885e-01  8.100626e-06   \n",
       "59996  0.000101  5.614891e-10  2.345672e-10  1.027183e-05  1.809892e-07   \n",
       "59997  0.996834  2.562465e-08  3.228659e-06  9.674278e-04  1.748055e-03   \n",
       "59998  0.079424  7.993060e-01  4.331422e-07  7.809691e-06  1.537675e-05   \n",
       "59999  0.100376  1.199707e-04  2.266573e-03  8.295035e-01  1.839520e-02   \n",
       "\n",
       "       prediction  \n",
       "0               3  \n",
       "1               0  \n",
       "2               4  \n",
       "3               1  \n",
       "4               9  \n",
       "...           ...  \n",
       "59995           8  \n",
       "59996           3  \n",
       "59997           5  \n",
       "59998           6  \n",
       "59999           8  \n",
       "\n",
       "[60000 rows x 11 columns]"
      ]
     },
     "execution_count": 14,
     "metadata": {},
     "output_type": "execute_result"
    }
   ],
   "source": [
    "Y_pred = lin_class.forward(embeddings)\n",
    "Y_pred = pd.DataFrame(Y_pred.detach().numpy())\n",
    "Y_pred[\"prediction\"] = Y_pred.apply(np.argmax, axis=1)\n",
    "Y_pred"
   ]
  },
  {
   "cell_type": "code",
   "execution_count": 15,
   "metadata": {},
   "outputs": [
    {
     "name": "stdout",
     "output_type": "stream",
     "text": [
      "0.8596\n"
     ]
    },
    {
     "data": {
      "text/plain": [
       "<matplotlib.image.AxesImage at 0x7f42ea6cc668>"
      ]
     },
     "execution_count": 15,
     "metadata": {},
     "output_type": "execute_result"
    },
    {
     "data": {
      "image/png": "[encoded data removed]",
      "text/plain": [
       "<Figure size 288x288 with 1 Axes>"
      ]
     },
     "metadata": {
      "needs_background": "light"
     },
     "output_type": "display_data"
    }
   ],
   "source": [
    "print(accuracy_score(Y, Y_pred.prediction))\n",
    "conf_mat = confusion_matrix(Y, Y_pred.prediction)\n",
    "plt.matshow(conf_mat)"
   ]
  },
  {
   "cell_type": "markdown",
   "metadata": {},
   "source": [
    "## Get the embeddings"
   ]
  },
  {
   "cell_type": "code",
   "execution_count": 25,
   "metadata": {},
   "outputs": [
    {
     "name": "stdout",
     "output_type": "stream",
     "text": [
      "(990, 5)\n",
      "(110, 5)\n"
     ]
    },
    {
     "data": {
      "text/html": [
       "<div>\n",
       "<style scoped>\n",
       "    .dataframe tbody tr th:only-of-type {\n",
       "        vertical-align: middle;\n",
       "    }\n",
       "\n",
       "    .dataframe tbody tr th {\n",
       "        vertical-align: top;\n",
       "    }\n",
       "\n",
       "    .dataframe thead th {\n",
       "        text-align: right;\n",
       "    }\n",
       "</style>\n",
       "<table border=\"1\" class=\"dataframe\">\n",
       "  <thead>\n",
       "    <tr style=\"text-align: right;\">\n",
       "      <th></th>\n",
       "      <th>ID</th>\n",
       "      <th>dim1</th>\n",
       "      <th>dim2</th>\n",
       "      <th>dim3</th>\n",
       "      <th>dim4</th>\n",
       "    </tr>\n",
       "  </thead>\n",
       "  <tbody>\n",
       "    <tr>\n",
       "      <th>0</th>\n",
       "      <td>168139</td>\n",
       "      <td>8.607004</td>\n",
       "      <td>10.544548</td>\n",
       "      <td>-1.875861</td>\n",
       "      <td>14.947199</td>\n",
       "    </tr>\n",
       "    <tr>\n",
       "      <th>1</th>\n",
       "      <td>168139</td>\n",
       "      <td>6.774639</td>\n",
       "      <td>9.453935</td>\n",
       "      <td>-2.074166</td>\n",
       "      <td>12.493588</td>\n",
       "    </tr>\n",
       "    <tr>\n",
       "      <th>2</th>\n",
       "      <td>251833</td>\n",
       "      <td>6.245407</td>\n",
       "      <td>2.204583</td>\n",
       "      <td>-9.917317</td>\n",
       "      <td>2.996176</td>\n",
       "    </tr>\n",
       "    <tr>\n",
       "      <th>3</th>\n",
       "      <td>251833</td>\n",
       "      <td>8.898745</td>\n",
       "      <td>3.464000</td>\n",
       "      <td>-8.458150</td>\n",
       "      <td>6.950223</td>\n",
       "    </tr>\n",
       "    <tr>\n",
       "      <th>4</th>\n",
       "      <td>121719</td>\n",
       "      <td>8.805327</td>\n",
       "      <td>2.511324</td>\n",
       "      <td>-8.323596</td>\n",
       "      <td>8.753686</td>\n",
       "    </tr>\n",
       "    <tr>\n",
       "      <th>...</th>\n",
       "      <td>...</td>\n",
       "      <td>...</td>\n",
       "      <td>...</td>\n",
       "      <td>...</td>\n",
       "      <td>...</td>\n",
       "    </tr>\n",
       "    <tr>\n",
       "      <th>1095</th>\n",
       "      <td>618952</td>\n",
       "      <td>2.615529</td>\n",
       "      <td>-3.292192</td>\n",
       "      <td>-12.578430</td>\n",
       "      <td>1.889788</td>\n",
       "    </tr>\n",
       "    <tr>\n",
       "      <th>1096</th>\n",
       "      <td>189349</td>\n",
       "      <td>3.607781</td>\n",
       "      <td>-3.065661</td>\n",
       "      <td>-8.625574</td>\n",
       "      <td>9.827278</td>\n",
       "    </tr>\n",
       "    <tr>\n",
       "      <th>1097</th>\n",
       "      <td>189349</td>\n",
       "      <td>3.794838</td>\n",
       "      <td>-2.817605</td>\n",
       "      <td>-8.389682</td>\n",
       "      <td>10.302524</td>\n",
       "    </tr>\n",
       "    <tr>\n",
       "      <th>1098</th>\n",
       "      <td>140925</td>\n",
       "      <td>9.012708</td>\n",
       "      <td>0.697612</td>\n",
       "      <td>-9.146828</td>\n",
       "      <td>9.339451</td>\n",
       "    </tr>\n",
       "    <tr>\n",
       "      <th>1099</th>\n",
       "      <td>140925</td>\n",
       "      <td>6.532035</td>\n",
       "      <td>-0.521309</td>\n",
       "      <td>-10.282063</td>\n",
       "      <td>5.810057</td>\n",
       "    </tr>\n",
       "  </tbody>\n",
       "</table>\n",
       "<p>1100 rows × 5 columns</p>\n",
       "</div>"
      ],
      "text/plain": [
       "          ID      dim1       dim2       dim3       dim4\n",
       "0     168139  8.607004  10.544548  -1.875861  14.947199\n",
       "1     168139  6.774639   9.453935  -2.074166  12.493588\n",
       "2     251833  6.245407   2.204583  -9.917317   2.996176\n",
       "3     251833  8.898745   3.464000  -8.458150   6.950223\n",
       "4     121719  8.805327   2.511324  -8.323596   8.753686\n",
       "...      ...       ...        ...        ...        ...\n",
       "1095  618952  2.615529  -3.292192 -12.578430   1.889788\n",
       "1096  189349  3.607781  -3.065661  -8.625574   9.827278\n",
       "1097  189349  3.794838  -2.817605  -8.389682  10.302524\n",
       "1098  140925  9.012708   0.697612  -9.146828   9.339451\n",
       "1099  140925  6.532035  -0.521309 -10.282063   5.810057\n",
       "\n",
       "[1100 rows x 5 columns]"
      ]
     },
     "execution_count": 25,
     "metadata": {},
     "output_type": "execute_result"
    }
   ],
   "source": [
    "# because the embeddings are not calculated through Visualization, each element is present twice\n",
    "dir_path = '/neurospin/dico/agaudin/Runs/02_explicabilite_humains_2022/Output/2022-05-18/11-00-10'\n",
    "\n",
    "train_embeddings = pd.read_csv(dir_path+'/train_embeddings.csv', index_col=0)\n",
    "val_embeddings = pd.read_csv(dir_path+'/val_embeddings.csv', index_col=0)\n",
    "\n",
    "print(train_embeddings.shape)\n",
    "print(val_embeddings.shape)\n",
    "\n",
    "\n",
    "embeddings = pd.concat([train_embeddings, val_embeddings], axis=0, ignore_index=True)\n",
    "embeddings"
   ]
  },
  {
   "cell_type": "code",
   "execution_count": 26,
   "metadata": {},
   "outputs": [
    {
     "data": {
      "text/html": [
       "<div>\n",
       "<style scoped>\n",
       "    .dataframe tbody tr th:only-of-type {\n",
       "        vertical-align: middle;\n",
       "    }\n",
       "\n",
       "    .dataframe tbody tr th {\n",
       "        vertical-align: top;\n",
       "    }\n",
       "\n",
       "    .dataframe thead th {\n",
       "        text-align: right;\n",
       "    }\n",
       "</style>\n",
       "<table border=\"1\" class=\"dataframe\">\n",
       "  <thead>\n",
       "    <tr style=\"text-align: right;\">\n",
       "      <th></th>\n",
       "      <th>dim1</th>\n",
       "      <th>dim2</th>\n",
       "      <th>dim3</th>\n",
       "      <th>dim4</th>\n",
       "    </tr>\n",
       "  </thead>\n",
       "  <tbody>\n",
       "    <tr>\n",
       "      <th>0</th>\n",
       "      <td>8.607004</td>\n",
       "      <td>10.544548</td>\n",
       "      <td>-1.875861</td>\n",
       "      <td>14.947199</td>\n",
       "    </tr>\n",
       "    <tr>\n",
       "      <th>1</th>\n",
       "      <td>6.774639</td>\n",
       "      <td>9.453935</td>\n",
       "      <td>-2.074166</td>\n",
       "      <td>12.493588</td>\n",
       "    </tr>\n",
       "    <tr>\n",
       "      <th>2</th>\n",
       "      <td>6.245407</td>\n",
       "      <td>2.204583</td>\n",
       "      <td>-9.917317</td>\n",
       "      <td>2.996176</td>\n",
       "    </tr>\n",
       "    <tr>\n",
       "      <th>3</th>\n",
       "      <td>8.898745</td>\n",
       "      <td>3.464000</td>\n",
       "      <td>-8.458150</td>\n",
       "      <td>6.950223</td>\n",
       "    </tr>\n",
       "    <tr>\n",
       "      <th>4</th>\n",
       "      <td>8.805327</td>\n",
       "      <td>2.511324</td>\n",
       "      <td>-8.323596</td>\n",
       "      <td>8.753686</td>\n",
       "    </tr>\n",
       "    <tr>\n",
       "      <th>...</th>\n",
       "      <td>...</td>\n",
       "      <td>...</td>\n",
       "      <td>...</td>\n",
       "      <td>...</td>\n",
       "    </tr>\n",
       "    <tr>\n",
       "      <th>1095</th>\n",
       "      <td>2.615529</td>\n",
       "      <td>-3.292192</td>\n",
       "      <td>-12.578430</td>\n",
       "      <td>1.889788</td>\n",
       "    </tr>\n",
       "    <tr>\n",
       "      <th>1096</th>\n",
       "      <td>3.607781</td>\n",
       "      <td>-3.065661</td>\n",
       "      <td>-8.625574</td>\n",
       "      <td>9.827278</td>\n",
       "    </tr>\n",
       "    <tr>\n",
       "      <th>1097</th>\n",
       "      <td>3.794838</td>\n",
       "      <td>-2.817605</td>\n",
       "      <td>-8.389682</td>\n",
       "      <td>10.302524</td>\n",
       "    </tr>\n",
       "    <tr>\n",
       "      <th>1098</th>\n",
       "      <td>9.012708</td>\n",
       "      <td>0.697612</td>\n",
       "      <td>-9.146828</td>\n",
       "      <td>9.339451</td>\n",
       "    </tr>\n",
       "    <tr>\n",
       "      <th>1099</th>\n",
       "      <td>6.532035</td>\n",
       "      <td>-0.521309</td>\n",
       "      <td>-10.282063</td>\n",
       "      <td>5.810057</td>\n",
       "    </tr>\n",
       "  </tbody>\n",
       "</table>\n",
       "<p>1100 rows × 4 columns</p>\n",
       "</div>"
      ],
      "text/plain": [
       "          dim1       dim2       dim3       dim4\n",
       "0     8.607004  10.544548  -1.875861  14.947199\n",
       "1     6.774639   9.453935  -2.074166  12.493588\n",
       "2     6.245407   2.204583  -9.917317   2.996176\n",
       "3     8.898745   3.464000  -8.458150   6.950223\n",
       "4     8.805327   2.511324  -8.323596   8.753686\n",
       "...        ...        ...        ...        ...\n",
       "1095  2.615529  -3.292192 -12.578430   1.889788\n",
       "1096  3.607781  -3.065661  -8.625574   9.827278\n",
       "1097  3.794838  -2.817605  -8.389682  10.302524\n",
       "1098  9.012708   0.697612  -9.146828   9.339451\n",
       "1099  6.532035  -0.521309 -10.282063   5.810057\n",
       "\n",
       "[1100 rows x 4 columns]"
      ]
     },
     "execution_count": 26,
     "metadata": {},
     "output_type": "execute_result"
    }
   ],
   "source": [
    "embeddings.loc[:, embeddings.columns != 'ID']"
   ]
  },
  {
   "cell_type": "code",
   "execution_count": 27,
   "metadata": {},
   "outputs": [
    {
     "data": {
      "text/html": [
       "<div>\n",
       "<style scoped>\n",
       "    .dataframe tbody tr th:only-of-type {\n",
       "        vertical-align: middle;\n",
       "    }\n",
       "\n",
       "    .dataframe tbody tr th {\n",
       "        vertical-align: top;\n",
       "    }\n",
       "\n",
       "    .dataframe thead th {\n",
       "        text-align: right;\n",
       "    }\n",
       "</style>\n",
       "<table border=\"1\" class=\"dataframe\">\n",
       "  <thead>\n",
       "    <tr style=\"text-align: right;\">\n",
       "      <th></th>\n",
       "      <th>dim1</th>\n",
       "      <th>dim2</th>\n",
       "      <th>dim3</th>\n",
       "      <th>dim4</th>\n",
       "    </tr>\n",
       "    <tr>\n",
       "      <th>ID</th>\n",
       "      <th></th>\n",
       "      <th></th>\n",
       "      <th></th>\n",
       "      <th></th>\n",
       "    </tr>\n",
       "  </thead>\n",
       "  <tbody>\n",
       "    <tr>\n",
       "      <th>100307</th>\n",
       "      <td>4.518542</td>\n",
       "      <td>-1.731114</td>\n",
       "      <td>-10.004573</td>\n",
       "      <td>5.222970</td>\n",
       "    </tr>\n",
       "    <tr>\n",
       "      <th>100610</th>\n",
       "      <td>14.314068</td>\n",
       "      <td>8.940447</td>\n",
       "      <td>-3.657568</td>\n",
       "      <td>18.687688</td>\n",
       "    </tr>\n",
       "    <tr>\n",
       "      <th>101107</th>\n",
       "      <td>10.880040</td>\n",
       "      <td>3.124564</td>\n",
       "      <td>-7.629962</td>\n",
       "      <td>10.815388</td>\n",
       "    </tr>\n",
       "    <tr>\n",
       "      <th>101309</th>\n",
       "      <td>0.802435</td>\n",
       "      <td>-5.053474</td>\n",
       "      <td>-11.944574</td>\n",
       "      <td>2.161026</td>\n",
       "    </tr>\n",
       "    <tr>\n",
       "      <th>102008</th>\n",
       "      <td>9.271605</td>\n",
       "      <td>0.505080</td>\n",
       "      <td>-8.369234</td>\n",
       "      <td>9.781714</td>\n",
       "    </tr>\n",
       "    <tr>\n",
       "      <th>...</th>\n",
       "      <td>...</td>\n",
       "      <td>...</td>\n",
       "      <td>...</td>\n",
       "      <td>...</td>\n",
       "    </tr>\n",
       "    <tr>\n",
       "      <th>973770</th>\n",
       "      <td>9.259984</td>\n",
       "      <td>4.759903</td>\n",
       "      <td>-3.897219</td>\n",
       "      <td>17.227477</td>\n",
       "    </tr>\n",
       "    <tr>\n",
       "      <th>987074</th>\n",
       "      <td>14.558414</td>\n",
       "      <td>7.464320</td>\n",
       "      <td>-4.294970</td>\n",
       "      <td>19.736421</td>\n",
       "    </tr>\n",
       "    <tr>\n",
       "      <th>987983</th>\n",
       "      <td>0.022700</td>\n",
       "      <td>-4.455080</td>\n",
       "      <td>-13.534734</td>\n",
       "      <td>-1.307830</td>\n",
       "    </tr>\n",
       "    <tr>\n",
       "      <th>993675</th>\n",
       "      <td>14.123613</td>\n",
       "      <td>6.539686</td>\n",
       "      <td>-5.165825</td>\n",
       "      <td>17.418071</td>\n",
       "    </tr>\n",
       "    <tr>\n",
       "      <th>994273</th>\n",
       "      <td>9.266966</td>\n",
       "      <td>11.298843</td>\n",
       "      <td>-2.479610</td>\n",
       "      <td>14.473982</td>\n",
       "    </tr>\n",
       "  </tbody>\n",
       "</table>\n",
       "<p>550 rows × 4 columns</p>\n",
       "</div>"
      ],
      "text/plain": [
       "             dim1       dim2       dim3       dim4\n",
       "ID                                                \n",
       "100307   4.518542  -1.731114 -10.004573   5.222970\n",
       "100610  14.314068   8.940447  -3.657568  18.687688\n",
       "101107  10.880040   3.124564  -7.629962  10.815388\n",
       "101309   0.802435  -5.053474 -11.944574   2.161026\n",
       "102008   9.271605   0.505080  -8.369234   9.781714\n",
       "...           ...        ...        ...        ...\n",
       "973770   9.259984   4.759903  -3.897219  17.227477\n",
       "987074  14.558414   7.464320  -4.294970  19.736421\n",
       "987983   0.022700  -4.455080 -13.534734  -1.307830\n",
       "993675  14.123613   6.539686  -5.165825  17.418071\n",
       "994273   9.266966  11.298843  -2.479610  14.473982\n",
       "\n",
       "[550 rows x 4 columns]"
      ]
     },
     "execution_count": 27,
     "metadata": {},
     "output_type": "execute_result"
    }
   ],
   "source": [
    "# take the mean of the two representations\n",
    "embeddings = embeddings.groupby(['ID']).mean()\n",
    "embeddings"
   ]
  },
  {
   "cell_type": "code",
   "execution_count": 55,
   "metadata": {},
   "outputs": [],
   "source": [
    "# create and save fake labels to test train_classifier\n",
    "dir_path = \"/neurospin/dico/agaudin/Runs/02_explicabilite_humains_2022/\\\n",
    "Output/2022-05-18/11-00-10/\"  # should be passed as an argument/ in config\n",
    "train_embeddings = pd.read_csv(dir_path+'train_embeddings.csv', index_col=0)\n",
    "val_embeddings = pd.read_csv(dir_path+'val_embeddings.csv', index_col=0)\n",
    "\n",
    "embeddings = pd.concat([train_embeddings, val_embeddings],#, test_embeddings],\n",
    "                        axis=0, ignore_index=True)\n",
    "embeddings.sort_values(by='ID', inplace=True)\n",
    "\n",
    "ids = embeddings.ID.values\n",
    "\n",
    "labels = pd.DataFrame({'ID': ids,\n",
    "                       'label': np.random.randint(0,2,len(ids))})\n",
    "labels.to_csv(\"fake_labels.csv\", index=False)"
   ]
  },
  {
   "cell_type": "code",
   "execution_count": 28,
   "metadata": {},
   "outputs": [
    {
     "name": "stdout",
     "output_type": "stream",
     "text": [
      "tensor([1., 1., 1., 0., 1., 0., 1., 0., 1., 0.])\n"
     ]
    },
    {
     "data": {
      "text/plain": [
       "tensor([[  4.5185,  -1.7311, -10.0046,   5.2230],\n",
       "        [ 14.3141,   8.9404,  -3.6576,  18.6877],\n",
       "        [ 10.8800,   3.1246,  -7.6300,  10.8154],\n",
       "        ...,\n",
       "        [  0.0227,  -4.4551, -13.5347,  -1.3078],\n",
       "        [ 14.1236,   6.5397,  -5.1658,  17.4181],\n",
       "        [  9.2670,  11.2988,  -2.4796,  14.4740]])"
      ]
     },
     "execution_count": 28,
     "metadata": {},
     "output_type": "execute_result"
    }
   ],
   "source": [
    "# generate fake labels\n",
    "\n",
    "labels = np.random.randint(0,2,550)\n",
    "labels = torch.from_numpy(labels).type(torch.FloatTensor)\n",
    "print(labels[:10])\n",
    "\n",
    "# change dtype of embeddings for the next cells to work\n",
    "embeddings = torch.from_numpy(embeddings.values).type(torch.FloatTensor)\n",
    "embeddings"
   ]
  },
  {
   "cell_type": "code",
   "execution_count": 39,
   "metadata": {},
   "outputs": [],
   "source": [
    "# create classifier\n",
    "\n",
    "class BinaryClassifier(pl.LightningModule):\n",
    "    def __init__(self, input_size, output_size, activation=None):\n",
    "        super().__init__()\n",
    "        self.layer0 = nn.Linear(input_size, output_size)\n",
    "        if activation == 'sigmoid':\n",
    "            self.activation = nn.Sigmoid()\n",
    "        else:\n",
    "            self.activation = None\n",
    "        self.loss = nn.MSELoss()\n",
    "        \n",
    "\n",
    "    def forward(self, x):\n",
    "        # in lightning, forward defines the prediction/inference actions\n",
    "        output = self.layer0(x)\n",
    "        if self.activation:\n",
    "            output = self.activation(output)\n",
    "        return output\n",
    "    \n",
    "    def training_step(self, batch, batch_idx):\n",
    "        # training_step defined the train loop.\n",
    "        # It is independent of forward\n",
    "        x, y = batch\n",
    "        #x = x.view(x.size(0), -1)\n",
    "        output = self.forward(x)\n",
    "        loss = self.loss(output.reshape(y.shape), y)\n",
    "        # Logging to TensorBoard by default\n",
    "        self.log(\"train_loss\", loss)\n",
    "        return loss\n",
    "\n",
    "    def configure_optimizers(self):\n",
    "        optimizer = torch.optim.Adam(self.parameters(), lr=1e-3)\n",
    "        return optimizer"
   ]
  },
  {
   "cell_type": "code",
   "execution_count": 40,
   "metadata": {},
   "outputs": [
    {
     "name": "stderr",
     "output_type": "stream",
     "text": [
      "GPU available: False, used: False\n",
      "TPU available: False, using: 0 TPU cores\n",
      "IPU available: False, using: 0 IPUs\n",
      "\n",
      "  | Name   | Type    | Params\n",
      "-----------------------------------\n",
      "0 | layer0 | Linear  | 5     \n",
      "1 | loss   | MSELoss | 0     \n",
      "-----------------------------------\n",
      "5         Trainable params\n",
      "0         Non-trainable params\n",
      "5         Total params\n",
      "0.000     Total estimated model params size (MB)\n",
      "/neurospin/dico/agaudin/Runs/02_explicabilite_humains_2022/2022_jchavas_cingulate_inhibitory_control/venv_local/lib/python3.6/site-packages/pytorch_lightning/trainer/data_loading.py:133: UserWarning: The dataloader, train_dataloader, does not have many workers which may be a bottleneck. Consider increasing the value of the `num_workers` argument` (try 4 which is the number of cpus on this machine) in the `DataLoader` init to improve performance.\n",
      "  f\"The dataloader, {name}, does not have many workers which may be a bottleneck.\"\n"
     ]
    },
    {
     "data": {
      "application/vnd.jupyter.widget-view+json": {
       "model_id": "ae7697a34f664d298238da542c707475",
       "version_major": 2,
       "version_minor": 0
      },
      "text/plain": [
       "Training: 0it [00:00, ?it/s]"
      ]
     },
     "metadata": {},
     "output_type": "display_data"
    }
   ],
   "source": [
    "bin_class = BinaryClassifier(4,1)\n",
    "\n",
    "train_set = TensorDataset(embeddings, labels)\n",
    "train_loader_lin = DataLoader(train_set, batch_size=10)\n",
    "\n",
    "trainer_lin = pl.Trainer(max_epochs=5)\n",
    "trainer_lin.fit(model=bin_class, train_dataloaders=train_loader_lin)"
   ]
  },
  {
   "cell_type": "code",
   "execution_count": 41,
   "metadata": {},
   "outputs": [
    {
     "data": {
      "text/plain": [
       "<matplotlib.legend.Legend at 0x7f42e5f94b00>"
      ]
     },
     "execution_count": 41,
     "metadata": {},
     "output_type": "execute_result"
    },
    {
     "data": {
      "image/png": "[encoded data removed]",
      "text/plain": [
       "<Figure size 432x288 with 1 Axes>"
      ]
     },
     "metadata": {
      "needs_background": "light"
     },
     "output_type": "display_data"
    }
   ],
   "source": [
    "labels_pred = bin_class.forward(embeddings)\n",
    "labels_pred = labels_pred.detach().numpy()\n",
    "curves = roc_curve(labels.detach_().numpy(), labels_pred)\n",
    "roc_auc = roc_auc_score(labels.detach_().numpy(), labels_pred)\n",
    "\n",
    "plt.plot(curves[0], curves[1], label=\"ROC curve (area = %0.2f)\" % roc_auc)\n",
    "plt.plot([0,1],[0,1],color='r')\n",
    "plt.legend()"
   ]
  },
  {
   "cell_type": "markdown",
   "metadata": {},
   "source": [
    "## tests on pd.join "
   ]
  },
  {
   "cell_type": "markdown",
   "metadata": {},
   "source": [
    "C'est de la merde, ca met pas les lignes dans le bon ordre, je sais pas pourquoi (ça le fait pour des exemples plus petits). Utiliser sort_values à la place"
   ]
  }
 ],
 "metadata": {
  "interpreter": {
   "hash": "0a11d766e9d9d540503ea14849c3c4908afaa53a8fae76fa5fd392b0740cea37"
  },
  "kernelspec": {
   "display_name": "Python 3.6.9 ('venv_local': venv)",
   "language": "python",
   "name": "python3"
  },
  "language_info": {
   "codemirror_mode": {
    "name": "ipython",
    "version": 3
   },
   "file_extension": ".py",
   "mimetype": "text/x-python",
   "name": "python",
   "nbconvert_exporter": "python",
   "pygments_lexer": "ipython3",
   "version": "3.6.9"
  },
  "orig_nbformat": 4
 },
 "nbformat": 4,
 "nbformat_minor": 2
}
