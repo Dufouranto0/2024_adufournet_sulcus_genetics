{
 "cells": [
  {
   "cell_type": "markdown",
   "metadata": {},
   "source": [
    "# Tutorial pytorch"
   ]
  },
  {
   "cell_type": "markdown",
   "metadata": {},
   "source": [
    "https://pytorch-lightning.readthedocs.io/en/stable/starter/introduction.html"
   ]
  },
  {
   "cell_type": "code",
   "execution_count": 112,
   "metadata": {},
   "outputs": [],
   "source": [
    "import os\n",
    "import torch\n",
    "import pytorch_lightning as pl\n",
    "import matplotlib.pyplot as plt\n",
    "import numpy as np\n",
    "import pandas as pd\n",
    "\n",
    "from torch import nn\n",
    "import torch.nn.functional as F\n",
    "from torchvision import transforms\n",
    "from torchvision.datasets import MNIST\n",
    "from torch.utils.data import DataLoader, random_split, TensorDataset\n",
    "from sklearn.metrics import accuracy_score, confusion_matrix, roc_curve,\\\n",
    "roc_auc_score"
   ]
  },
  {
   "cell_type": "code",
   "execution_count": 37,
   "metadata": {},
   "outputs": [],
   "source": [
    "class LitAutoEncoder(pl.LightningModule):\n",
    "    def __init__(self, latent_space_dim):\n",
    "        super().__init__()\n",
    "        self.encoder = nn.Sequential(nn.Linear(28 * 28, 64), nn.ReLU(), nn.Linear(64, latent_space_dim))\n",
    "        self.decoder = nn.Sequential(nn.Linear(latent_space_dim, 64), nn.ReLU(), nn.Linear(64, 28 * 28))\n",
    "\n",
    "    def forward(self, x):\n",
    "        # in lightning, forward defines the prediction/inference actions\n",
    "        embedding = self.encoder(x)\n",
    "        output = self.decoder(embedding)\n",
    "        return output\n",
    "\n",
    "    def forward_embedding(self, x):\n",
    "        # in lightning, forward defines the prediction/inference actions\n",
    "        embedding = self.encoder(x)\n",
    "        return embedding\n",
    "\n",
    "    def training_step(self, batch, batch_idx):\n",
    "        # training_step defined the train loop.\n",
    "        # It is independent of forward\n",
    "        x, y = batch\n",
    "        x = x.view(x.size(0), -1)\n",
    "        z = self.encoder(x)\n",
    "        x_hat = self.decoder(z)\n",
    "        loss = F.mse_loss(x_hat, x)\n",
    "        # Logging to TensorBoard by default\n",
    "        self.log(\"train_loss\", loss)\n",
    "        return loss\n",
    "\n",
    "    def configure_optimizers(self):\n",
    "        optimizer = torch.optim.Adam(self.parameters(), lr=1e-3)\n",
    "        return optimizer\n"
   ]
  },
  {
   "cell_type": "code",
   "execution_count": 38,
   "metadata": {},
   "outputs": [],
   "source": [
    "# import dataset\n",
    "dataset = MNIST(os.getcwd(), download=True, transform=transforms.ToTensor())\n",
    "train_loader = DataLoader(dataset, batch_size=10)\n",
    "\n",
    "# init model\n",
    "latent_space_dim = 15\n",
    "autoencoder = LitAutoEncoder(latent_space_dim)"
   ]
  },
  {
   "cell_type": "code",
   "execution_count": 39,
   "metadata": {},
   "outputs": [
    {
     "name": "stderr",
     "output_type": "stream",
     "text": [
      "/neurospin/dico/agaudin/Runs/02_explicabilite_humains_2022/2022_jchavas_cingulate_inhibitory_control/venv_local/lib/python3.6/site-packages/torch/cuda/__init__.py:80: UserWarning: CUDA initialization: The NVIDIA driver on your system is too old (found version 9010). Please update your GPU driver by downloading and installing a new version from the URL: http://www.nvidia.com/Download/index.aspx Alternatively, go to: https://pytorch.org to install a PyTorch version that has been compiled with your version of the CUDA driver. (Triggered internally at  ../c10/cuda/CUDAFunctions.cpp:112.)\n",
      "  return torch._C._cuda_getDeviceCount() > 0\n",
      "GPU available: False, used: False\n",
      "TPU available: False, using: 0 TPU cores\n",
      "IPU available: False, using: 0 IPUs\n",
      "\n",
      "  | Name    | Type       | Params\n",
      "---------------------------------------\n",
      "0 | encoder | Sequential | 51.2 K\n",
      "1 | decoder | Sequential | 52.0 K\n",
      "---------------------------------------\n",
      "103 K     Trainable params\n",
      "0         Non-trainable params\n",
      "103 K     Total params\n",
      "0.413     Total estimated model params size (MB)\n",
      "/neurospin/dico/agaudin/Runs/02_explicabilite_humains_2022/2022_jchavas_cingulate_inhibitory_control/venv_local/lib/python3.6/site-packages/pytorch_lightning/trainer/data_loading.py:133: UserWarning: The dataloader, train_dataloader, does not have many workers which may be a bottleneck. Consider increasing the value of the `num_workers` argument` (try 4 which is the number of cpus on this machine) in the `DataLoader` init to improve performance.\n",
      "  f\"The dataloader, {name}, does not have many workers which may be a bottleneck.\"\n"
     ]
    },
    {
     "data": {
      "application/vnd.jupyter.widget-view+json": {
       "model_id": "fbd0239f60c14493a7efa9d885e7a117",
       "version_major": 2,
       "version_minor": 0
      },
      "text/plain": [
       "Training: 0it [00:00, ?it/s]"
      ]
     },
     "metadata": {},
     "output_type": "display_data"
    }
   ],
   "source": [
    "# train the model\n",
    "\n",
    "# most basic trainer, uses good defaults (auto-tensorboard, checkpoints, logs, and more)\n",
    "# trainer = pl.Trainer(accelerator=\"gpu\", devices=8) (if you have GPUs)\n",
    "trainer = pl.Trainer(max_epochs=1)\n",
    "trainer.fit(model=autoencoder, train_dataloaders=train_loader)"
   ]
  },
  {
   "cell_type": "code",
   "execution_count": 40,
   "metadata": {},
   "outputs": [
    {
     "data": {
      "text/plain": [
       "torch.Size([60000, 1, 28, 28])"
      ]
     },
     "execution_count": 40,
     "metadata": {},
     "output_type": "execute_result"
    }
   ],
   "source": [
    "get_X_y_loader = DataLoader(dataset, batch_size=60000)\n",
    "\n",
    "X,Y = list(get_X_y_loader)[0]\n",
    "\n",
    "X.shape"
   ]
  },
  {
   "cell_type": "code",
   "execution_count": 41,
   "metadata": {},
   "outputs": [],
   "source": [
    "i = 55\n",
    "\n",
    "outputs = autoencoder.forward(X[i].flatten())\n",
    "outputs = outputs.reshape(28,28)"
   ]
  },
  {
   "cell_type": "code",
   "execution_count": 42,
   "metadata": {},
   "outputs": [
    {
     "data": {
      "text/plain": [
       "<matplotlib.image.AxesImage at 0x7f726985f668>"
      ]
     },
     "execution_count": 42,
     "metadata": {},
     "output_type": "execute_result"
    },
    {
     "data": {
      "image/png": "[encoded data removed]",
      "text/plain": [
       "<Figure size 288x288 with 1 Axes>"
      ]
     },
     "metadata": {
      "needs_background": "light"
     },
     "output_type": "display_data"
    },
    {
     "data": {
      "text/plain": [
       "<Figure size 432x288 with 0 Axes>"
      ]
     },
     "metadata": {},
     "output_type": "display_data"
    },
    {
     "data": {
      "image/png": "[encoded data removed]",
      "text/plain": [
       "<Figure size 288x288 with 1 Axes>"
      ]
     },
     "metadata": {
      "needs_background": "light"
     },
     "output_type": "display_data"
    }
   ],
   "source": [
    "plt.matshow(X[i][0])\n",
    "plt.figure()\n",
    "plt.matshow(outputs.detach().numpy())"
   ]
  },
  {
   "cell_type": "code",
   "execution_count": 43,
   "metadata": {},
   "outputs": [
    {
     "data": {
      "text/plain": [
       "tensor([[ 1.0652e+00,  5.7774e-01,  8.8782e-01,  1.2906e+00,  4.1393e-01,\n",
       "          4.2344e-01,  1.3260e-01,  2.4308e-01, -8.0100e-02, -8.7767e-01,\n",
       "          3.5477e-02, -3.1764e-01, -1.6040e-01,  9.4677e-01,  4.5412e-01],\n",
       "        [ 9.2933e-01, -7.1269e-01,  1.5203e-01,  8.4789e-01,  1.4557e-01,\n",
       "          6.8219e-01, -9.9814e-01, -9.7807e-01,  4.8012e-01,  7.4799e-01,\n",
       "          5.2460e-01,  2.0362e-01,  5.8928e-01,  2.2480e+00,  4.8297e-03],\n",
       "        [-4.2706e-01,  6.8885e-01, -7.9994e-02, -9.3204e-02,  2.2164e-01,\n",
       "          5.8952e-02,  1.5688e-01, -9.8718e-01,  1.3592e+00,  1.4906e-02,\n",
       "          1.6534e-01,  1.4995e-01,  8.4817e-01,  2.9356e-02, -3.9766e-01],\n",
       "        [ 5.1431e-01, -1.0181e+00, -4.6320e-01, -1.0944e+00,  8.5950e-01,\n",
       "          4.4725e-01,  7.6085e-01,  7.9462e-01, -4.5343e-01,  4.1263e-01,\n",
       "          1.0064e-01,  1.4273e+00, -5.9479e-01,  8.6152e-01,  4.9957e-01],\n",
       "        [-8.4635e-01, -1.0140e-01,  1.6315e-01,  1.4602e-01,  2.5892e-02,\n",
       "          2.3095e-02,  1.0114e-01,  5.7263e-01,  1.4103e+00,  8.7173e-01,\n",
       "          8.1412e-01,  1.0553e+00, -7.1336e-01,  2.3972e-01,  1.3223e+00],\n",
       "        [ 6.9620e-01,  3.8034e-01, -9.8225e-01,  2.0587e-01,  6.0782e-01,\n",
       "          7.8438e-01,  2.1605e-01, -1.2842e+00,  9.4534e-01, -5.1337e-02,\n",
       "          1.0109e+00,  1.8256e-01, -2.1010e-01,  1.2655e+00,  3.6532e-01],\n",
       "        [ 7.4069e-01,  1.6274e+00,  9.3872e-02,  3.9943e-02, -5.2496e-01,\n",
       "         -6.4349e-01, -4.9822e-02,  1.3175e+00,  1.4957e-01, -9.5927e-01,\n",
       "         -9.2486e-01, -6.5203e-01, -9.4399e-01, -3.2439e-01,  3.7862e-01],\n",
       "        [ 5.8218e-01,  1.1988e-01,  1.3619e+00,  1.0502e+00,  1.4883e+00,\n",
       "          6.6079e-01,  6.4665e-01, -3.9904e-01,  6.4524e-01, -1.6590e+00,\n",
       "          1.3208e-03,  5.2256e-01,  5.3626e-01,  1.1471e+00,  3.9060e-01],\n",
       "        [ 7.1536e-01,  8.9186e-01,  1.0993e-01,  1.7204e-01, -6.5218e-01,\n",
       "         -5.3404e-01, -4.6099e-02,  1.0134e+00,  4.9296e-01, -6.5484e-01,\n",
       "         -3.7963e-01, -6.4324e-01, -1.0640e+00, -3.5123e-01, -6.1578e-02],\n",
       "        [ 5.8582e-01, -1.1265e-01, -5.9097e-01,  8.1531e-01, -2.5152e-01,\n",
       "         -1.4765e-01,  9.0752e-01, -1.1201e-01,  1.3635e+00,  2.6825e-01,\n",
       "          5.7240e-01,  5.5781e-01,  2.9532e-01,  3.5233e-01, -3.1596e-01]],\n",
       "       grad_fn=<AddmmBackward0>)"
      ]
     },
     "execution_count": 43,
     "metadata": {},
     "output_type": "execute_result"
    }
   ],
   "source": [
    "autoencoder.forward_embedding(X[:10].flatten(start_dim=1))"
   ]
  },
  {
   "cell_type": "markdown",
   "metadata": {},
   "source": [
    "## add classifier"
   ]
  },
  {
   "cell_type": "code",
   "execution_count": 44,
   "metadata": {},
   "outputs": [],
   "source": [
    "class LinearClassifier(pl.LightningModule):\n",
    "    def __init__(self, input_size, output_size):\n",
    "        super().__init__()\n",
    "        self.layer0 = nn.Linear(input_size, output_size)\n",
    "        self.activation0 = nn.Softmax(dim=1)\n",
    "        self.loss = nn.CrossEntropyLoss()\n",
    "        \n",
    "\n",
    "    def forward(self, x):\n",
    "        # in lightning, forward defines the prediction/inference actions\n",
    "        output = self.layer0(x)\n",
    "        output = self.activation0(output)\n",
    "        return output\n",
    "    \n",
    "    def training_step(self, batch, batch_idx):\n",
    "        # training_step defined the train loop.\n",
    "        # It is independent of forward\n",
    "        x, y = batch\n",
    "        #x = x.view(x.size(0), -1)\n",
    "        output = self.forward(x)\n",
    "        loss = self.loss(output, y)\n",
    "        # Logging to TensorBoard by default\n",
    "        self.log(\"train_loss\", loss)\n",
    "        return loss\n",
    "\n",
    "    def configure_optimizers(self):\n",
    "        optimizer = torch.optim.Adam(self.parameters(), lr=1e-3)\n",
    "        return optimizer"
   ]
  },
  {
   "cell_type": "code",
   "execution_count": 45,
   "metadata": {},
   "outputs": [],
   "source": [
    "# define the linear classifier\n",
    "lin_class = LinearClassifier(latent_space_dim, 10)"
   ]
  },
  {
   "cell_type": "code",
   "execution_count": 46,
   "metadata": {},
   "outputs": [
    {
     "name": "stdout",
     "output_type": "stream",
     "text": [
      "tensor([[ 1.0652e+00,  5.7774e-01,  8.8782e-01,  1.2906e+00,  4.1393e-01,\n",
      "          4.2344e-01,  1.3260e-01,  2.4308e-01, -8.0100e-02, -8.7767e-01,\n",
      "          3.5477e-02, -3.1764e-01, -1.6040e-01,  9.4677e-01,  4.5412e-01],\n",
      "        [ 9.2933e-01, -7.1269e-01,  1.5203e-01,  8.4789e-01,  1.4557e-01,\n",
      "          6.8219e-01, -9.9814e-01, -9.7807e-01,  4.8012e-01,  7.4799e-01,\n",
      "          5.2460e-01,  2.0362e-01,  5.8928e-01,  2.2480e+00,  4.8297e-03],\n",
      "        [-4.2706e-01,  6.8885e-01, -7.9994e-02, -9.3204e-02,  2.2164e-01,\n",
      "          5.8953e-02,  1.5688e-01, -9.8718e-01,  1.3592e+00,  1.4906e-02,\n",
      "          1.6534e-01,  1.4995e-01,  8.4817e-01,  2.9356e-02, -3.9766e-01],\n",
      "        [ 5.1431e-01, -1.0181e+00, -4.6320e-01, -1.0944e+00,  8.5950e-01,\n",
      "          4.4725e-01,  7.6085e-01,  7.9462e-01, -4.5343e-01,  4.1263e-01,\n",
      "          1.0064e-01,  1.4273e+00, -5.9479e-01,  8.6152e-01,  4.9957e-01],\n",
      "        [-8.4635e-01, -1.0140e-01,  1.6315e-01,  1.4602e-01,  2.5892e-02,\n",
      "          2.3095e-02,  1.0114e-01,  5.7263e-01,  1.4103e+00,  8.7173e-01,\n",
      "          8.1412e-01,  1.0553e+00, -7.1336e-01,  2.3972e-01,  1.3223e+00],\n",
      "        [ 6.9620e-01,  3.8034e-01, -9.8225e-01,  2.0587e-01,  6.0782e-01,\n",
      "          7.8438e-01,  2.1605e-01, -1.2842e+00,  9.4534e-01, -5.1337e-02,\n",
      "          1.0109e+00,  1.8256e-01, -2.1010e-01,  1.2655e+00,  3.6532e-01],\n",
      "        [ 7.4069e-01,  1.6274e+00,  9.3872e-02,  3.9943e-02, -5.2496e-01,\n",
      "         -6.4349e-01, -4.9822e-02,  1.3175e+00,  1.4957e-01, -9.5927e-01,\n",
      "         -9.2486e-01, -6.5203e-01, -9.4399e-01, -3.2439e-01,  3.7862e-01],\n",
      "        [ 5.8218e-01,  1.1988e-01,  1.3619e+00,  1.0502e+00,  1.4883e+00,\n",
      "          6.6079e-01,  6.4665e-01, -3.9904e-01,  6.4524e-01, -1.6590e+00,\n",
      "          1.3208e-03,  5.2256e-01,  5.3626e-01,  1.1471e+00,  3.9060e-01],\n",
      "        [ 7.1536e-01,  8.9186e-01,  1.0993e-01,  1.7204e-01, -6.5218e-01,\n",
      "         -5.3404e-01, -4.6099e-02,  1.0134e+00,  4.9296e-01, -6.5484e-01,\n",
      "         -3.7963e-01, -6.4324e-01, -1.0640e+00, -3.5123e-01, -6.1578e-02],\n",
      "        [ 5.8582e-01, -1.1265e-01, -5.9097e-01,  8.1531e-01, -2.5152e-01,\n",
      "         -1.4765e-01,  9.0752e-01, -1.1201e-01,  1.3635e+00,  2.6825e-01,\n",
      "          5.7240e-01,  5.5781e-01,  2.9532e-01,  3.5233e-01, -3.1596e-01]])\n",
      "tensor([[0., 0., 0., 0., 0., 1., 0., 0., 0., 0.],\n",
      "        [1., 0., 0., 0., 0., 0., 0., 0., 0., 0.],\n",
      "        [0., 0., 0., 0., 1., 0., 0., 0., 0., 0.],\n",
      "        [0., 1., 0., 0., 0., 0., 0., 0., 0., 0.],\n",
      "        [0., 0., 0., 0., 0., 0., 0., 0., 0., 1.]])\n"
     ]
    }
   ],
   "source": [
    "# create its dataset\n",
    "X_propag = X.flatten(start_dim=1)\n",
    "embeddings = autoencoder.forward_embedding(X_propag)\n",
    "embeddings.detach_()\n",
    "print(embeddings[:10])\n",
    "\n",
    "# apparently no need\n",
    "Y_one_hot = F.one_hot(Y).type(torch.FloatTensor)\n",
    "print(Y_one_hot[:5])"
   ]
  },
  {
   "cell_type": "code",
   "execution_count": 47,
   "metadata": {},
   "outputs": [
    {
     "name": "stderr",
     "output_type": "stream",
     "text": [
      "GPU available: False, used: False\n",
      "TPU available: False, using: 0 TPU cores\n",
      "IPU available: False, using: 0 IPUs\n",
      "\n",
      "  | Name        | Type             | Params\n",
      "-------------------------------------------------\n",
      "0 | layer0      | Linear           | 160   \n",
      "1 | activation0 | Softmax          | 0     \n",
      "2 | loss        | CrossEntropyLoss | 0     \n",
      "-------------------------------------------------\n",
      "160       Trainable params\n",
      "0         Non-trainable params\n",
      "160       Total params\n",
      "0.001     Total estimated model params size (MB)\n"
     ]
    },
    {
     "data": {
      "application/vnd.jupyter.widget-view+json": {
       "model_id": "b95fdc8b84c64f8d9861095aecd95e85",
       "version_major": 2,
       "version_minor": 0
      },
      "text/plain": [
       "Training: 0it [00:00, ?it/s]"
      ]
     },
     "metadata": {},
     "output_type": "display_data"
    }
   ],
   "source": [
    "# train the linear classifier on the latent space embedding\n",
    "\n",
    "train_set = TensorDataset(embeddings, Y)\n",
    "train_loader_lin = DataLoader(train_set, batch_size=10)\n",
    "\n",
    "trainer_lin = pl.Trainer(max_epochs=5)\n",
    "trainer_lin.fit(model=lin_class, train_dataloaders=train_loader_lin)"
   ]
  },
  {
   "cell_type": "code",
   "execution_count": 48,
   "metadata": {},
   "outputs": [
    {
     "data": {
      "text/html": [
       "<div>\n",
       "<style scoped>\n",
       "    .dataframe tbody tr th:only-of-type {\n",
       "        vertical-align: middle;\n",
       "    }\n",
       "\n",
       "    .dataframe tbody tr th {\n",
       "        vertical-align: top;\n",
       "    }\n",
       "\n",
       "    .dataframe thead th {\n",
       "        text-align: right;\n",
       "    }\n",
       "</style>\n",
       "<table border=\"1\" class=\"dataframe\">\n",
       "  <thead>\n",
       "    <tr style=\"text-align: right;\">\n",
       "      <th></th>\n",
       "      <th>0</th>\n",
       "      <th>1</th>\n",
       "      <th>2</th>\n",
       "      <th>3</th>\n",
       "      <th>4</th>\n",
       "      <th>5</th>\n",
       "      <th>6</th>\n",
       "      <th>7</th>\n",
       "      <th>8</th>\n",
       "      <th>9</th>\n",
       "      <th>prediction</th>\n",
       "    </tr>\n",
       "  </thead>\n",
       "  <tbody>\n",
       "    <tr>\n",
       "      <th>0</th>\n",
       "      <td>0.000236</td>\n",
       "      <td>1.492389e-06</td>\n",
       "      <td>3.926176e-04</td>\n",
       "      <td>2.706233e-01</td>\n",
       "      <td>1.020969e-07</td>\n",
       "      <td>0.726693</td>\n",
       "      <td>2.578622e-06</td>\n",
       "      <td>4.179239e-06</td>\n",
       "      <td>1.925494e-03</td>\n",
       "      <td>1.217575e-04</td>\n",
       "      <td>5</td>\n",
       "    </tr>\n",
       "    <tr>\n",
       "      <th>1</th>\n",
       "      <td>0.999955</td>\n",
       "      <td>5.939976e-15</td>\n",
       "      <td>1.386806e-10</td>\n",
       "      <td>1.544870e-10</td>\n",
       "      <td>7.218954e-12</td>\n",
       "      <td>0.000045</td>\n",
       "      <td>9.624676e-09</td>\n",
       "      <td>7.910735e-12</td>\n",
       "      <td>1.270164e-09</td>\n",
       "      <td>9.098839e-10</td>\n",
       "      <td>0</td>\n",
       "    </tr>\n",
       "    <tr>\n",
       "      <th>2</th>\n",
       "      <td>0.001181</td>\n",
       "      <td>1.323174e-06</td>\n",
       "      <td>2.479436e-04</td>\n",
       "      <td>1.659138e-03</td>\n",
       "      <td>9.501346e-01</td>\n",
       "      <td>0.001153</td>\n",
       "      <td>2.269879e-04</td>\n",
       "      <td>9.394144e-05</td>\n",
       "      <td>1.066469e-03</td>\n",
       "      <td>4.423593e-02</td>\n",
       "      <td>4</td>\n",
       "    </tr>\n",
       "    <tr>\n",
       "      <th>3</th>\n",
       "      <td>0.000085</td>\n",
       "      <td>9.832885e-01</td>\n",
       "      <td>4.827475e-04</td>\n",
       "      <td>3.962046e-05</td>\n",
       "      <td>6.308584e-05</td>\n",
       "      <td>0.000268</td>\n",
       "      <td>3.174072e-06</td>\n",
       "      <td>4.448861e-05</td>\n",
       "      <td>1.571888e-02</td>\n",
       "      <td>6.767474e-06</td>\n",
       "      <td>1</td>\n",
       "    </tr>\n",
       "    <tr>\n",
       "      <th>4</th>\n",
       "      <td>0.000001</td>\n",
       "      <td>1.940176e-08</td>\n",
       "      <td>1.994107e-09</td>\n",
       "      <td>3.130602e-09</td>\n",
       "      <td>7.228050e-02</td>\n",
       "      <td>0.000083</td>\n",
       "      <td>4.772648e-06</td>\n",
       "      <td>5.963410e-04</td>\n",
       "      <td>1.104990e-04</td>\n",
       "      <td>9.269239e-01</td>\n",
       "      <td>9</td>\n",
       "    </tr>\n",
       "    <tr>\n",
       "      <th>...</th>\n",
       "      <td>...</td>\n",
       "      <td>...</td>\n",
       "      <td>...</td>\n",
       "      <td>...</td>\n",
       "      <td>...</td>\n",
       "      <td>...</td>\n",
       "      <td>...</td>\n",
       "      <td>...</td>\n",
       "      <td>...</td>\n",
       "      <td>...</td>\n",
       "      <td>...</td>\n",
       "    </tr>\n",
       "    <tr>\n",
       "      <th>59995</th>\n",
       "      <td>0.000005</td>\n",
       "      <td>2.475223e-04</td>\n",
       "      <td>1.198919e-04</td>\n",
       "      <td>1.793856e-04</td>\n",
       "      <td>4.379055e-06</td>\n",
       "      <td>0.000272</td>\n",
       "      <td>2.449819e-07</td>\n",
       "      <td>1.526841e-08</td>\n",
       "      <td>9.991409e-01</td>\n",
       "      <td>3.122910e-05</td>\n",
       "      <td>8</td>\n",
       "    </tr>\n",
       "    <tr>\n",
       "      <th>59996</th>\n",
       "      <td>0.000001</td>\n",
       "      <td>3.703338e-07</td>\n",
       "      <td>4.611711e-05</td>\n",
       "      <td>9.999015e-01</td>\n",
       "      <td>1.248182e-08</td>\n",
       "      <td>0.000032</td>\n",
       "      <td>2.129452e-10</td>\n",
       "      <td>5.628963e-11</td>\n",
       "      <td>1.882409e-05</td>\n",
       "      <td>1.317905e-08</td>\n",
       "      <td>3</td>\n",
       "    </tr>\n",
       "    <tr>\n",
       "      <th>59997</th>\n",
       "      <td>0.000004</td>\n",
       "      <td>2.348071e-07</td>\n",
       "      <td>2.067665e-09</td>\n",
       "      <td>1.165918e-04</td>\n",
       "      <td>1.129460e-05</td>\n",
       "      <td>0.998151</td>\n",
       "      <td>8.309184e-09</td>\n",
       "      <td>3.993783e-06</td>\n",
       "      <td>6.953017e-04</td>\n",
       "      <td>1.017734e-03</td>\n",
       "      <td>5</td>\n",
       "    </tr>\n",
       "    <tr>\n",
       "      <th>59998</th>\n",
       "      <td>0.188639</td>\n",
       "      <td>3.198406e-07</td>\n",
       "      <td>1.245405e-03</td>\n",
       "      <td>1.171091e-06</td>\n",
       "      <td>1.081957e-03</td>\n",
       "      <td>0.004701</td>\n",
       "      <td>8.041490e-01</td>\n",
       "      <td>1.209496e-06</td>\n",
       "      <td>5.986405e-07</td>\n",
       "      <td>1.803149e-04</td>\n",
       "      <td>6</td>\n",
       "    </tr>\n",
       "    <tr>\n",
       "      <th>59999</th>\n",
       "      <td>0.056174</td>\n",
       "      <td>2.052679e-03</td>\n",
       "      <td>2.770191e-03</td>\n",
       "      <td>4.979627e-04</td>\n",
       "      <td>8.377719e-04</td>\n",
       "      <td>0.047045</td>\n",
       "      <td>5.140829e-04</td>\n",
       "      <td>1.254237e-03</td>\n",
       "      <td>7.462958e-01</td>\n",
       "      <td>1.425581e-01</td>\n",
       "      <td>8</td>\n",
       "    </tr>\n",
       "  </tbody>\n",
       "</table>\n",
       "<p>60000 rows × 11 columns</p>\n",
       "</div>"
      ],
      "text/plain": [
       "              0             1             2             3             4  \\\n",
       "0      0.000236  1.492389e-06  3.926176e-04  2.706233e-01  1.020969e-07   \n",
       "1      0.999955  5.939976e-15  1.386806e-10  1.544870e-10  7.218954e-12   \n",
       "2      0.001181  1.323174e-06  2.479436e-04  1.659138e-03  9.501346e-01   \n",
       "3      0.000085  9.832885e-01  4.827475e-04  3.962046e-05  6.308584e-05   \n",
       "4      0.000001  1.940176e-08  1.994107e-09  3.130602e-09  7.228050e-02   \n",
       "...         ...           ...           ...           ...           ...   \n",
       "59995  0.000005  2.475223e-04  1.198919e-04  1.793856e-04  4.379055e-06   \n",
       "59996  0.000001  3.703338e-07  4.611711e-05  9.999015e-01  1.248182e-08   \n",
       "59997  0.000004  2.348071e-07  2.067665e-09  1.165918e-04  1.129460e-05   \n",
       "59998  0.188639  3.198406e-07  1.245405e-03  1.171091e-06  1.081957e-03   \n",
       "59999  0.056174  2.052679e-03  2.770191e-03  4.979627e-04  8.377719e-04   \n",
       "\n",
       "              5             6             7             8             9  \\\n",
       "0      0.726693  2.578622e-06  4.179239e-06  1.925494e-03  1.217575e-04   \n",
       "1      0.000045  9.624676e-09  7.910735e-12  1.270164e-09  9.098839e-10   \n",
       "2      0.001153  2.269879e-04  9.394144e-05  1.066469e-03  4.423593e-02   \n",
       "3      0.000268  3.174072e-06  4.448861e-05  1.571888e-02  6.767474e-06   \n",
       "4      0.000083  4.772648e-06  5.963410e-04  1.104990e-04  9.269239e-01   \n",
       "...         ...           ...           ...           ...           ...   \n",
       "59995  0.000272  2.449819e-07  1.526841e-08  9.991409e-01  3.122910e-05   \n",
       "59996  0.000032  2.129452e-10  5.628963e-11  1.882409e-05  1.317905e-08   \n",
       "59997  0.998151  8.309184e-09  3.993783e-06  6.953017e-04  1.017734e-03   \n",
       "59998  0.004701  8.041490e-01  1.209496e-06  5.986405e-07  1.803149e-04   \n",
       "59999  0.047045  5.140829e-04  1.254237e-03  7.462958e-01  1.425581e-01   \n",
       "\n",
       "       prediction  \n",
       "0               5  \n",
       "1               0  \n",
       "2               4  \n",
       "3               1  \n",
       "4               9  \n",
       "...           ...  \n",
       "59995           8  \n",
       "59996           3  \n",
       "59997           5  \n",
       "59998           6  \n",
       "59999           8  \n",
       "\n",
       "[60000 rows x 11 columns]"
      ]
     },
     "execution_count": 48,
     "metadata": {},
     "output_type": "execute_result"
    }
   ],
   "source": [
    "Y_pred = lin_class.forward(embeddings)\n",
    "Y_pred = pd.DataFrame(Y_pred.detach().numpy())\n",
    "Y_pred[\"prediction\"] = Y_pred.apply(np.argmax, axis=1)\n",
    "Y_pred"
   ]
  },
  {
   "cell_type": "code",
   "execution_count": 49,
   "metadata": {},
   "outputs": [
    {
     "name": "stdout",
     "output_type": "stream",
     "text": [
      "0.84945\n"
     ]
    },
    {
     "data": {
      "text/plain": [
       "<matplotlib.image.AxesImage at 0x7f726b41b4e0>"
      ]
     },
     "execution_count": 49,
     "metadata": {},
     "output_type": "execute_result"
    },
    {
     "data": {
      "image/png": "[encoded data removed]",
      "text/plain": [
       "<Figure size 288x288 with 1 Axes>"
      ]
     },
     "metadata": {
      "needs_background": "light"
     },
     "output_type": "display_data"
    }
   ],
   "source": [
    "print(accuracy_score(Y, Y_pred.prediction))\n",
    "conf_mat = confusion_matrix(Y, Y_pred.prediction)\n",
    "plt.matshow(conf_mat)"
   ]
  },
  {
   "cell_type": "markdown",
   "metadata": {},
   "source": [
    "## Get the embeddings"
   ]
  },
  {
   "cell_type": "code",
   "execution_count": 81,
   "metadata": {},
   "outputs": [
    {
     "name": "stdout",
     "output_type": "stream",
     "text": [
      "(880, 5)\n",
      "(220, 5)\n"
     ]
    },
    {
     "data": {
      "text/html": [
       "<div>\n",
       "<style scoped>\n",
       "    .dataframe tbody tr th:only-of-type {\n",
       "        vertical-align: middle;\n",
       "    }\n",
       "\n",
       "    .dataframe tbody tr th {\n",
       "        vertical-align: top;\n",
       "    }\n",
       "\n",
       "    .dataframe thead th {\n",
       "        text-align: right;\n",
       "    }\n",
       "</style>\n",
       "<table border=\"1\" class=\"dataframe\">\n",
       "  <thead>\n",
       "    <tr style=\"text-align: right;\">\n",
       "      <th></th>\n",
       "      <th>subject</th>\n",
       "      <th>dim1</th>\n",
       "      <th>dim2</th>\n",
       "      <th>dim3</th>\n",
       "      <th>dim4</th>\n",
       "    </tr>\n",
       "  </thead>\n",
       "  <tbody>\n",
       "    <tr>\n",
       "      <th>0</th>\n",
       "      <td>144226</td>\n",
       "      <td>-2.207053</td>\n",
       "      <td>2.572717</td>\n",
       "      <td>-3.648947</td>\n",
       "      <td>-0.379905</td>\n",
       "    </tr>\n",
       "    <tr>\n",
       "      <th>1</th>\n",
       "      <td>144226</td>\n",
       "      <td>-2.268051</td>\n",
       "      <td>2.614371</td>\n",
       "      <td>-3.520722</td>\n",
       "      <td>-0.138869</td>\n",
       "    </tr>\n",
       "    <tr>\n",
       "      <th>2</th>\n",
       "      <td>303624</td>\n",
       "      <td>12.872168</td>\n",
       "      <td>6.815033</td>\n",
       "      <td>-5.646133</td>\n",
       "      <td>14.380918</td>\n",
       "    </tr>\n",
       "    <tr>\n",
       "      <th>3</th>\n",
       "      <td>303624</td>\n",
       "      <td>12.459433</td>\n",
       "      <td>8.353728</td>\n",
       "      <td>-4.972514</td>\n",
       "      <td>14.725413</td>\n",
       "    </tr>\n",
       "    <tr>\n",
       "      <th>4</th>\n",
       "      <td>480141</td>\n",
       "      <td>3.699481</td>\n",
       "      <td>-2.619190</td>\n",
       "      <td>-10.280997</td>\n",
       "      <td>4.794017</td>\n",
       "    </tr>\n",
       "    <tr>\n",
       "      <th>...</th>\n",
       "      <td>...</td>\n",
       "      <td>...</td>\n",
       "      <td>...</td>\n",
       "      <td>...</td>\n",
       "      <td>...</td>\n",
       "    </tr>\n",
       "    <tr>\n",
       "      <th>1095</th>\n",
       "      <td>212015</td>\n",
       "      <td>8.657934</td>\n",
       "      <td>5.084440</td>\n",
       "      <td>-3.079031</td>\n",
       "      <td>17.102121</td>\n",
       "    </tr>\n",
       "    <tr>\n",
       "      <th>1096</th>\n",
       "      <td>158035</td>\n",
       "      <td>0.528529</td>\n",
       "      <td>3.882899</td>\n",
       "      <td>-2.446297</td>\n",
       "      <td>4.086941</td>\n",
       "    </tr>\n",
       "    <tr>\n",
       "      <th>1097</th>\n",
       "      <td>158035</td>\n",
       "      <td>-0.486430</td>\n",
       "      <td>2.983658</td>\n",
       "      <td>-2.467060</td>\n",
       "      <td>2.725870</td>\n",
       "    </tr>\n",
       "    <tr>\n",
       "      <th>1098</th>\n",
       "      <td>239944</td>\n",
       "      <td>11.371716</td>\n",
       "      <td>8.044619</td>\n",
       "      <td>-2.493785</td>\n",
       "      <td>18.786053</td>\n",
       "    </tr>\n",
       "    <tr>\n",
       "      <th>1099</th>\n",
       "      <td>239944</td>\n",
       "      <td>12.774071</td>\n",
       "      <td>7.724382</td>\n",
       "      <td>-3.009945</td>\n",
       "      <td>18.931105</td>\n",
       "    </tr>\n",
       "  </tbody>\n",
       "</table>\n",
       "<p>1100 rows × 5 columns</p>\n",
       "</div>"
      ],
      "text/plain": [
       "      subject       dim1      dim2       dim3       dim4\n",
       "0      144226  -2.207053  2.572717  -3.648947  -0.379905\n",
       "1      144226  -2.268051  2.614371  -3.520722  -0.138869\n",
       "2      303624  12.872168  6.815033  -5.646133  14.380918\n",
       "3      303624  12.459433  8.353728  -4.972514  14.725413\n",
       "4      480141   3.699481 -2.619190 -10.280997   4.794017\n",
       "...       ...        ...       ...        ...        ...\n",
       "1095   212015   8.657934  5.084440  -3.079031  17.102121\n",
       "1096   158035   0.528529  3.882899  -2.446297   4.086941\n",
       "1097   158035  -0.486430  2.983658  -2.467060   2.725870\n",
       "1098   239944  11.371716  8.044619  -2.493785  18.786053\n",
       "1099   239944  12.774071  7.724382  -3.009945  18.931105\n",
       "\n",
       "[1100 rows x 5 columns]"
      ]
     },
     "execution_count": 81,
     "metadata": {},
     "output_type": "execute_result"
    }
   ],
   "source": [
    "# because the embeddings are not calculated through Visualization, each element is present twice\n",
    "dir_path = '/neurospin/dico/agaudin/Runs/02_explicabilite_humains_2022/Output/2022-05-18/11-00-10'\n",
    "\n",
    "train_embeddings = pd.read_csv(dir_path+'/train_embeddings.csv', index_col=0)\n",
    "val_embeddings = pd.read_csv(dir_path+'/val_embeddings.csv', index_col=0)\n",
    "\n",
    "print(train_embeddings.shape)\n",
    "print(val_embeddings.shape)\n",
    "\n",
    "\n",
    "embeddings = pd.concat([train_embeddings, val_embeddings], axis=0, ignore_index=True)\n",
    "embeddings"
   ]
  },
  {
   "cell_type": "code",
   "execution_count": 82,
   "metadata": {},
   "outputs": [
    {
     "data": {
      "text/html": [
       "<div>\n",
       "<style scoped>\n",
       "    .dataframe tbody tr th:only-of-type {\n",
       "        vertical-align: middle;\n",
       "    }\n",
       "\n",
       "    .dataframe tbody tr th {\n",
       "        vertical-align: top;\n",
       "    }\n",
       "\n",
       "    .dataframe thead th {\n",
       "        text-align: right;\n",
       "    }\n",
       "</style>\n",
       "<table border=\"1\" class=\"dataframe\">\n",
       "  <thead>\n",
       "    <tr style=\"text-align: right;\">\n",
       "      <th></th>\n",
       "      <th>dim1</th>\n",
       "      <th>dim2</th>\n",
       "      <th>dim3</th>\n",
       "      <th>dim4</th>\n",
       "    </tr>\n",
       "    <tr>\n",
       "      <th>subject</th>\n",
       "      <th></th>\n",
       "      <th></th>\n",
       "      <th></th>\n",
       "      <th></th>\n",
       "    </tr>\n",
       "  </thead>\n",
       "  <tbody>\n",
       "    <tr>\n",
       "      <th>100307</th>\n",
       "      <td>2.647795</td>\n",
       "      <td>-3.684141</td>\n",
       "      <td>-11.374614</td>\n",
       "      <td>3.588052</td>\n",
       "    </tr>\n",
       "    <tr>\n",
       "      <th>100610</th>\n",
       "      <td>14.752218</td>\n",
       "      <td>11.085659</td>\n",
       "      <td>-3.201238</td>\n",
       "      <td>19.024449</td>\n",
       "    </tr>\n",
       "    <tr>\n",
       "      <th>101107</th>\n",
       "      <td>12.183602</td>\n",
       "      <td>5.672369</td>\n",
       "      <td>-6.975614</td>\n",
       "      <td>11.922921</td>\n",
       "    </tr>\n",
       "    <tr>\n",
       "      <th>101309</th>\n",
       "      <td>3.039796</td>\n",
       "      <td>-3.359846</td>\n",
       "      <td>-9.495158</td>\n",
       "      <td>6.162879</td>\n",
       "    </tr>\n",
       "    <tr>\n",
       "      <th>102008</th>\n",
       "      <td>5.510081</td>\n",
       "      <td>-1.798072</td>\n",
       "      <td>-9.784253</td>\n",
       "      <td>5.703923</td>\n",
       "    </tr>\n",
       "    <tr>\n",
       "      <th>...</th>\n",
       "      <td>...</td>\n",
       "      <td>...</td>\n",
       "      <td>...</td>\n",
       "      <td>...</td>\n",
       "    </tr>\n",
       "    <tr>\n",
       "      <th>973770</th>\n",
       "      <td>11.549474</td>\n",
       "      <td>5.100856</td>\n",
       "      <td>-4.246515</td>\n",
       "      <td>19.545314</td>\n",
       "    </tr>\n",
       "    <tr>\n",
       "      <th>987074</th>\n",
       "      <td>13.200897</td>\n",
       "      <td>4.419208</td>\n",
       "      <td>-6.361612</td>\n",
       "      <td>15.696317</td>\n",
       "    </tr>\n",
       "    <tr>\n",
       "      <th>987983</th>\n",
       "      <td>0.843702</td>\n",
       "      <td>-5.026104</td>\n",
       "      <td>-14.056771</td>\n",
       "      <td>-0.473112</td>\n",
       "    </tr>\n",
       "    <tr>\n",
       "      <th>993675</th>\n",
       "      <td>10.565556</td>\n",
       "      <td>2.673657</td>\n",
       "      <td>-7.171947</td>\n",
       "      <td>11.930197</td>\n",
       "    </tr>\n",
       "    <tr>\n",
       "      <th>994273</th>\n",
       "      <td>14.897842</td>\n",
       "      <td>11.308544</td>\n",
       "      <td>-2.905897</td>\n",
       "      <td>19.494782</td>\n",
       "    </tr>\n",
       "  </tbody>\n",
       "</table>\n",
       "<p>550 rows × 4 columns</p>\n",
       "</div>"
      ],
      "text/plain": [
       "              dim1       dim2       dim3       dim4\n",
       "subject                                            \n",
       "100307    2.647795  -3.684141 -11.374614   3.588052\n",
       "100610   14.752218  11.085659  -3.201238  19.024449\n",
       "101107   12.183602   5.672369  -6.975614  11.922921\n",
       "101309    3.039796  -3.359846  -9.495158   6.162879\n",
       "102008    5.510081  -1.798072  -9.784253   5.703923\n",
       "...            ...        ...        ...        ...\n",
       "973770   11.549474   5.100856  -4.246515  19.545314\n",
       "987074   13.200897   4.419208  -6.361612  15.696317\n",
       "987983    0.843702  -5.026104 -14.056771  -0.473112\n",
       "993675   10.565556   2.673657  -7.171947  11.930197\n",
       "994273   14.897842  11.308544  -2.905897  19.494782\n",
       "\n",
       "[550 rows x 4 columns]"
      ]
     },
     "execution_count": 82,
     "metadata": {},
     "output_type": "execute_result"
    }
   ],
   "source": [
    "# take the mean of the two representations\n",
    "embeddings = embeddings.groupby(['subject']).mean()\n",
    "embeddings"
   ]
  },
  {
   "cell_type": "code",
   "execution_count": 83,
   "metadata": {},
   "outputs": [
    {
     "name": "stdout",
     "output_type": "stream",
     "text": [
      "tensor([1., 0., 1., 1., 1., 1., 0., 0., 0., 0.])\n"
     ]
    },
    {
     "data": {
      "text/plain": [
       "tensor([[  2.6478,  -3.6841, -11.3746,   3.5881],\n",
       "        [ 14.7522,  11.0857,  -3.2012,  19.0245],\n",
       "        [ 12.1836,   5.6724,  -6.9756,  11.9229],\n",
       "        ...,\n",
       "        [  0.8437,  -5.0261, -14.0568,  -0.4731],\n",
       "        [ 10.5656,   2.6737,  -7.1719,  11.9302],\n",
       "        [ 14.8978,  11.3085,  -2.9059,  19.4948]])"
      ]
     },
     "execution_count": 83,
     "metadata": {},
     "output_type": "execute_result"
    }
   ],
   "source": [
    "# generate fake labels\n",
    "\n",
    "labels = np.random.randint(0,2,550)\n",
    "labels = torch.from_numpy(labels).type(torch.FloatTensor)\n",
    "print(labels[:10])\n",
    "\n",
    "# change dtype of embeddings for the next cells to work\n",
    "embeddings = torch.from_numpy(embeddings.values).type(torch.FloatTensor)\n",
    "embeddings"
   ]
  },
  {
   "cell_type": "code",
   "execution_count": 108,
   "metadata": {},
   "outputs": [],
   "source": [
    "# create classifier\n",
    "\n",
    "class BinaryClassifier(pl.LightningModule):\n",
    "    def __init__(self, input_size, output_size, activation=None):\n",
    "        super().__init__()\n",
    "        self.layer0 = nn.Linear(input_size, output_size)\n",
    "        if activation == 'sigmoid':\n",
    "            self.activation = nn.Sigmoid()\n",
    "        else:\n",
    "            self.activation = None\n",
    "        self.loss = nn.MSELoss()\n",
    "        \n",
    "\n",
    "    def forward(self, x):\n",
    "        # in lightning, forward defines the prediction/inference actions\n",
    "        output = self.layer0(x)\n",
    "        if self.activation:\n",
    "            output = self.activation(output)\n",
    "        return output\n",
    "    \n",
    "    def training_step(self, batch, batch_idx):\n",
    "        # training_step defined the train loop.\n",
    "        # It is independent of forward\n",
    "        x, y = batch\n",
    "        #x = x.view(x.size(0), -1)\n",
    "        output = self.forward(x)\n",
    "        loss = self.loss(output, y)\n",
    "        # Logging to TensorBoard by default\n",
    "        self.log(\"train_loss\", loss)\n",
    "        return loss\n",
    "\n",
    "    def configure_optimizers(self):\n",
    "        optimizer = torch.optim.Adam(self.parameters(), lr=1e-3)\n",
    "        return optimizer"
   ]
  },
  {
   "cell_type": "code",
   "execution_count": 109,
   "metadata": {},
   "outputs": [
    {
     "name": "stderr",
     "output_type": "stream",
     "text": [
      "GPU available: False, used: False\n",
      "TPU available: False, using: 0 TPU cores\n",
      "IPU available: False, using: 0 IPUs\n",
      "\n",
      "  | Name   | Type    | Params\n",
      "-----------------------------------\n",
      "0 | layer0 | Linear  | 5     \n",
      "1 | loss   | MSELoss | 0     \n",
      "-----------------------------------\n",
      "5         Trainable params\n",
      "0         Non-trainable params\n",
      "5         Total params\n",
      "0.000     Total estimated model params size (MB)\n",
      "/neurospin/dico/agaudin/Runs/02_explicabilite_humains_2022/2022_jchavas_cingulate_inhibitory_control/venv_local/lib/python3.6/site-packages/pytorch_lightning/trainer/data_loading.py:133: UserWarning: The dataloader, train_dataloader, does not have many workers which may be a bottleneck. Consider increasing the value of the `num_workers` argument` (try 4 which is the number of cpus on this machine) in the `DataLoader` init to improve performance.\n",
      "  f\"The dataloader, {name}, does not have many workers which may be a bottleneck.\"\n"
     ]
    },
    {
     "data": {
      "application/vnd.jupyter.widget-view+json": {
       "model_id": "00f40b1ffd3f44809562253c45168145",
       "version_major": 2,
       "version_minor": 0
      },
      "text/plain": [
       "Training: 0it [00:00, ?it/s]"
      ]
     },
     "metadata": {},
     "output_type": "display_data"
    },
    {
     "name": "stderr",
     "output_type": "stream",
     "text": [
      "/neurospin/dico/agaudin/Runs/02_explicabilite_humains_2022/2022_jchavas_cingulate_inhibitory_control/venv_local/lib/python3.6/site-packages/torch/nn/modules/loss.py:520: UserWarning: Using a target size (torch.Size([10])) that is different to the input size (torch.Size([10, 1])). This will likely lead to incorrect results due to broadcasting. Please ensure they have the same size.\n",
      "  return F.mse_loss(input, target, reduction=self.reduction)\n"
     ]
    }
   ],
   "source": [
    "bin_class = BinaryClassifier(4,1)\n",
    "\n",
    "train_set = TensorDataset(embeddings, labels)\n",
    "train_loader_lin = DataLoader(train_set, batch_size=10)\n",
    "\n",
    "trainer_lin = pl.Trainer(max_epochs=5)\n",
    "trainer_lin.fit(model=bin_class, train_dataloaders=train_loader_lin)"
   ]
  },
  {
   "cell_type": "code",
   "execution_count": 116,
   "metadata": {},
   "outputs": [
    {
     "data": {
      "text/plain": [
       "<matplotlib.legend.Legend at 0x7f725f311c18>"
      ]
     },
     "execution_count": 116,
     "metadata": {},
     "output_type": "execute_result"
    },
    {
     "data": {
      "image/png": "[encoded data removed]",
      "text/plain": [
       "<Figure size 432x288 with 1 Axes>"
      ]
     },
     "metadata": {
      "needs_background": "light"
     },
     "output_type": "display_data"
    }
   ],
   "source": [
    "labels = labels.detach_().numpy()\n",
    "\n",
    "labels_pred = bin_class.forward(embeddings)\n",
    "labels_pred = labels_pred.detach().numpy()\n",
    "\n",
    "curves = roc_curve(labels, labels_pred)\n",
    "roc_auc = roc_auc_score(labels.detach_().numpy(), labels_pred)\n",
    "\n",
    "plt.plot(curves[0], curves[1], label=\"ROC curve (area = %0.2f)\" % roc_auc)\n",
    "plt.plot([0,1],[0,1],color='r')\n",
    "plt.legend()"
   ]
  },
  {
   "cell_type": "code",
   "execution_count": null,
   "metadata": {},
   "outputs": [],
   "source": []
  }
 ],
 "metadata": {
  "interpreter": {
   "hash": "0a11d766e9d9d540503ea14849c3c4908afaa53a8fae76fa5fd392b0740cea37"
  },
  "kernelspec": {
   "display_name": "Python 3.6.9 ('venv_local': venv)",
   "language": "python",
   "name": "python3"
  },
  "language_info": {
   "codemirror_mode": {
    "name": "ipython",
    "version": 3
   },
   "file_extension": ".py",
   "mimetype": "text/x-python",
   "name": "python",
   "nbconvert_exporter": "python",
   "pygments_lexer": "ipython3",
   "version": "3.6.9"
  },
  "orig_nbformat": 4
 },
 "nbformat": 4,
 "nbformat_minor": 2
}
