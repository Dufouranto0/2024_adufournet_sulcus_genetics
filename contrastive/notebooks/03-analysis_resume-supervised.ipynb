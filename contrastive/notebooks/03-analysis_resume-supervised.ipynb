{
 "cells": [
  {
   "cell_type": "markdown",
   "metadata": {},
   "source": [
    "Notebook where to plot the curves and display the performance of all models in \n",
    "a chosen folder. It is also where to conduct the performance analysis about the\n",
    "models database."
   ]
  },
  {
   "cell_type": "code",
   "execution_count": 16,
   "metadata": {},
   "outputs": [],
   "source": [
    "import os\n",
    "import pandas as pd\n",
    "import seaborn as sns\n",
    "import matplotlib.pyplot as plt\n",
    "import matplotlib.image as mpi\n",
    "import json\n",
    "\n",
    "\n",
    "from contrastive.utils.config import get_config_diff"
   ]
  },
  {
   "cell_type": "markdown",
   "metadata": {},
   "source": [
    "## Function definitions"
   ]
  },
  {
   "cell_type": "code",
   "execution_count": 17,
   "metadata": {},
   "outputs": [],
   "source": [
    "def exclude_conditions(diff_config, excluded_conditions):\n",
    "    excluded_subdirs = []\n",
    "    for cond in excluded_conditions:\n",
    "        filtered_diff_config = diff_config.query(cond)\n",
    "        excluded_subdirs.extend(filtered_diff_config['Unnamed: 0'].values)\n",
    "    return excluded_subdirs\n",
    "#exclude_conditions(diff_config, excluded_conditions=[\"lr != 0.0004\"])"
   ]
  },
  {
   "cell_type": "code",
   "execution_count": 18,
   "metadata": {},
   "outputs": [],
   "source": [
    "def show_results(dir_path, figsize=(16,10), return_config_diff=False, dataset='cingulate_ACCpatterns_0', excluded_conditions=[], show=True, key_name=\"\"):\n",
    "    # be sure that all models are comparable\n",
    "    get_config_diff(dir_path, whole_config=False)\n",
    "    diff_config = pd.read_csv(dir_path+'/config_diff.csv')\n",
    "\n",
    "    excluded_subdirs = exclude_conditions(diff_config, excluded_conditions)\n",
    "    if excluded_conditions != []:\n",
    "        print(\"Excluded subdirs :\", excluded_subdirs)\n",
    "        print(\"Excluded because of \", excluded_conditions)\n",
    "\n",
    "    if show:\n",
    "        print(\"diff_config\")\n",
    "        print(diff_config[~diff_config['Unnamed: 0'].isin(excluded_subdirs)])\n",
    "\n",
    "    paths = []\n",
    "    if key_name:\n",
    "        keys = []\n",
    "    accuracy = []\n",
    "    accuracy_std = []\n",
    "    auc = []\n",
    "    auc_std = []\n",
    "    # plot all ROC curves\n",
    "    for subdir in os.listdir(dir_path):\n",
    "        if os.path.isdir(dir_path + '/' + subdir) and subdir not in excluded_subdirs:\n",
    "            path = dir_path + '/' + subdir + '/' + dataset + '_embeddings'\n",
    "            with open(path+'/values.json', 'r') as file:\n",
    "                values = json.load(file)\n",
    "            # print(subdir)\n",
    "            # print(\"AUC\", values['cross_val_auc'])\n",
    "            if show:\n",
    "                img = mpi.imread(path+'/cross_val_ROC_curves.png')\n",
    "                plt.figure(figsize=figsize)\n",
    "                plt.imshow(img)\n",
    "                plt.show()\n",
    "\n",
    "            # store the AUC and accuracy in a df\n",
    "            paths.append(subdir)\n",
    "            if key_name:\n",
    "                key = diff_config[diff_config['Unnamed: 0'] == subdir][key_name].values[0]\n",
    "            # print(f\"subdir = {subdir}; batch_size = {batch_size}; diff_config = {diff_config[diff_config['Unnamed: 0'] == subdir]}\")\n",
    "            if key_name:\n",
    "                keys.append(key)\n",
    "            # print(diff_config[diff_config['Unnamed: 0'] == subdir])\n",
    "            accuracy.append(values['cross_val_total_accuracy'][0])\n",
    "            accuracy_std.append(values['cross_val_total_accuracy'][1])\n",
    "            auc.append(values['cross_val_auc'][0])\n",
    "            auc_std.append(values['cross_val_auc'][1])\n",
    "\n",
    "    results_df = pd.DataFrame()\n",
    "    if key_name:\n",
    "        print(keys)\n",
    "        results_df[key_name] = keys\n",
    "    results_df['path'] = paths\n",
    "    results_df['auc'] = auc\n",
    "    results_df['auc_std'] = auc_std\n",
    "    results_df['accuracy'] = accuracy\n",
    "    results_df['accuracy_std'] = accuracy_std\n",
    "\n",
    "\n",
    "    if return_config_diff:\n",
    "        return results_df, diff_config\n",
    "    else:\n",
    "        return results_df"
   ]
  },
  {
   "cell_type": "markdown",
   "metadata": {},
   "source": [
    "## Gender: temp=0.5, prop=0.5, trained on HCP-haf-2"
   ]
  },
  {
   "cell_type": "code",
   "execution_count": 19,
   "metadata": {},
   "outputs": [
    {
     "data": {
      "text/html": [
       "<div>\n",
       "<style scoped>\n",
       "    .dataframe tbody tr th:only-of-type {\n",
       "        vertical-align: middle;\n",
       "    }\n",
       "\n",
       "    .dataframe tbody tr th {\n",
       "        vertical-align: top;\n",
       "    }\n",
       "\n",
       "    .dataframe thead th {\n",
       "        text-align: right;\n",
       "    }\n",
       "</style>\n",
       "<table border=\"1\" class=\"dataframe\">\n",
       "  <thead>\n",
       "    <tr style=\"text-align: right;\">\n",
       "      <th></th>\n",
       "      <th>path</th>\n",
       "      <th>auc</th>\n",
       "      <th>auc_std</th>\n",
       "      <th>accuracy</th>\n",
       "      <th>accuracy_std</th>\n",
       "    </tr>\n",
       "  </thead>\n",
       "  <tbody>\n",
       "    <tr>\n",
       "      <th>0</th>\n",
       "      <td>15-06-16_1</td>\n",
       "      <td>0.687728</td>\n",
       "      <td>0.002609</td>\n",
       "      <td>0.654339</td>\n",
       "      <td>0.006407</td>\n",
       "    </tr>\n",
       "    <tr>\n",
       "      <th>1</th>\n",
       "      <td>15-06-16_0</td>\n",
       "      <td>0.684006</td>\n",
       "      <td>0.003762</td>\n",
       "      <td>0.678480</td>\n",
       "      <td>0.007104</td>\n",
       "    </tr>\n",
       "    <tr>\n",
       "      <th>2</th>\n",
       "      <td>15-06-16_2</td>\n",
       "      <td>0.720190</td>\n",
       "      <td>0.007042</td>\n",
       "      <td>0.688982</td>\n",
       "      <td>0.007736</td>\n",
       "    </tr>\n",
       "    <tr>\n",
       "      <th>3</th>\n",
       "      <td>15-06-16_4</td>\n",
       "      <td>0.621985</td>\n",
       "      <td>0.004735</td>\n",
       "      <td>0.614573</td>\n",
       "      <td>0.005571</td>\n",
       "    </tr>\n",
       "    <tr>\n",
       "      <th>4</th>\n",
       "      <td>15-06-16_3</td>\n",
       "      <td>0.673402</td>\n",
       "      <td>0.006276</td>\n",
       "      <td>0.635673</td>\n",
       "      <td>0.010568</td>\n",
       "    </tr>\n",
       "  </tbody>\n",
       "</table>\n",
       "</div>"
      ],
      "text/plain": [
       "         path       auc   auc_std  accuracy  accuracy_std\n",
       "0  15-06-16_1  0.687728  0.002609  0.654339      0.006407\n",
       "1  15-06-16_0  0.684006  0.003762  0.678480      0.007104\n",
       "2  15-06-16_2  0.720190  0.007042  0.688982      0.007736\n",
       "3  15-06-16_4  0.621985  0.004735  0.614573      0.005571\n",
       "4  15-06-16_3  0.673402  0.006276  0.635673      0.010568"
      ]
     },
     "execution_count": 19,
     "metadata": {},
     "output_type": "execute_result"
    }
   ],
   "source": [
    "excluded_conditions = []\n",
    "\n",
    "results_df = show_results(\n",
    "    dir_path=\"/neurospin/dico/data/deep_folding/papers/ipmi2023/models/contrastive/trained_on_HCP_half_2/supervised/temp-0.5_prop-0.5\",\n",
    "    dataset='cingulate_ACCpatterns_1',\n",
    "    excluded_conditions=excluded_conditions,\n",
    "    show=False)\n",
    "\n",
    "results_df"
   ]
  },
  {
   "cell_type": "code",
   "execution_count": 20,
   "metadata": {},
   "outputs": [
    {
     "data": {
      "text/html": [
       "<div>\n",
       "<style scoped>\n",
       "    .dataframe tbody tr th:only-of-type {\n",
       "        vertical-align: middle;\n",
       "    }\n",
       "\n",
       "    .dataframe tbody tr th {\n",
       "        vertical-align: top;\n",
       "    }\n",
       "\n",
       "    .dataframe thead th {\n",
       "        text-align: right;\n",
       "    }\n",
       "</style>\n",
       "<table border=\"1\" class=\"dataframe\">\n",
       "  <thead>\n",
       "    <tr style=\"text-align: right;\">\n",
       "      <th></th>\n",
       "      <th>path</th>\n",
       "      <th>auc</th>\n",
       "    </tr>\n",
       "  </thead>\n",
       "  <tbody>\n",
       "    <tr>\n",
       "      <th>2</th>\n",
       "      <td>15-06-16_2</td>\n",
       "      <td>0.720190</td>\n",
       "    </tr>\n",
       "    <tr>\n",
       "      <th>0</th>\n",
       "      <td>15-06-16_1</td>\n",
       "      <td>0.687728</td>\n",
       "    </tr>\n",
       "    <tr>\n",
       "      <th>1</th>\n",
       "      <td>15-06-16_0</td>\n",
       "      <td>0.684006</td>\n",
       "    </tr>\n",
       "    <tr>\n",
       "      <th>4</th>\n",
       "      <td>15-06-16_3</td>\n",
       "      <td>0.673402</td>\n",
       "    </tr>\n",
       "    <tr>\n",
       "      <th>3</th>\n",
       "      <td>15-06-16_4</td>\n",
       "      <td>0.621985</td>\n",
       "    </tr>\n",
       "  </tbody>\n",
       "</table>\n",
       "</div>"
      ],
      "text/plain": [
       "         path       auc\n",
       "2  15-06-16_2  0.720190\n",
       "0  15-06-16_1  0.687728\n",
       "1  15-06-16_0  0.684006\n",
       "4  15-06-16_3  0.673402\n",
       "3  15-06-16_4  0.621985"
      ]
     },
     "execution_count": 20,
     "metadata": {},
     "output_type": "execute_result"
    }
   ],
   "source": [
    "results_df.sort_values(ascending=False, by='auc')[['path', 'auc']]"
   ]
  },
  {
   "cell_type": "code",
   "execution_count": 21,
   "metadata": {},
   "outputs": [
    {
     "data": {
      "text/plain": [
       "auc    0.677462\n",
       "dtype: float64"
      ]
     },
     "execution_count": 21,
     "metadata": {},
     "output_type": "execute_result"
    }
   ],
   "source": [
    "results_df.sort_values(ascending=False, by='auc')[['path', 'auc']].mean()"
   ]
  },
  {
   "cell_type": "markdown",
   "metadata": {},
   "source": [
    "## Gender: temp=0.1,0.3,0.5, prop=0.5,0.8 trained on HCP-haf-1"
   ]
  },
  {
   "cell_type": "code",
   "execution_count": 22,
   "metadata": {},
   "outputs": [
    {
     "ename": "FileNotFoundError",
     "evalue": "[Errno 2] No such file or directory: '/neurospin/dico/data/deep_folding/papers/ipmi2023/models/contrastive/trained_on_HCP_half_1/supervised/gender/cingulate_ACCpatterns_0_embeddings/values.json'",
     "output_type": "error",
     "traceback": [
      "\u001b[0;31m---------------------------------------------------------------------------\u001b[0m",
      "\u001b[0;31mFileNotFoundError\u001b[0m                         Traceback (most recent call last)",
      "\u001b[0;32m<ipython-input-22-e5b92248a40d>\u001b[0m in \u001b[0;36m<module>\u001b[0;34m\u001b[0m\n\u001b[1;32m      5\u001b[0m     \u001b[0mdataset\u001b[0m\u001b[0;34m=\u001b[0m\u001b[0;34m'cingulate_ACCpatterns_0'\u001b[0m\u001b[0;34m,\u001b[0m\u001b[0;34m\u001b[0m\u001b[0;34m\u001b[0m\u001b[0m\n\u001b[1;32m      6\u001b[0m     \u001b[0mexcluded_conditions\u001b[0m\u001b[0;34m=\u001b[0m\u001b[0mexcluded_conditions\u001b[0m\u001b[0;34m,\u001b[0m\u001b[0;34m\u001b[0m\u001b[0;34m\u001b[0m\u001b[0m\n\u001b[0;32m----> 7\u001b[0;31m     show=False)\n\u001b[0m\u001b[1;32m      8\u001b[0m \u001b[0;34m\u001b[0m\u001b[0m\n\u001b[1;32m      9\u001b[0m \u001b[0mresults_df\u001b[0m\u001b[0;34m\u001b[0m\u001b[0;34m\u001b[0m\u001b[0m\n",
      "\u001b[0;32m<ipython-input-18-ef3429f893a6>\u001b[0m in \u001b[0;36mshow_results\u001b[0;34m(dir_path, figsize, return_config_diff, dataset, excluded_conditions, show, key_name)\u001b[0m\n\u001b[1;32m     24\u001b[0m         \u001b[0;32mif\u001b[0m \u001b[0mos\u001b[0m\u001b[0;34m.\u001b[0m\u001b[0mpath\u001b[0m\u001b[0;34m.\u001b[0m\u001b[0misdir\u001b[0m\u001b[0;34m(\u001b[0m\u001b[0mdir_path\u001b[0m \u001b[0;34m+\u001b[0m \u001b[0;34m'/'\u001b[0m \u001b[0;34m+\u001b[0m \u001b[0msubdir\u001b[0m\u001b[0;34m)\u001b[0m \u001b[0;32mand\u001b[0m \u001b[0msubdir\u001b[0m \u001b[0;32mnot\u001b[0m \u001b[0;32min\u001b[0m \u001b[0mexcluded_subdirs\u001b[0m\u001b[0;34m:\u001b[0m\u001b[0;34m\u001b[0m\u001b[0;34m\u001b[0m\u001b[0m\n\u001b[1;32m     25\u001b[0m             \u001b[0mpath\u001b[0m \u001b[0;34m=\u001b[0m \u001b[0mdir_path\u001b[0m \u001b[0;34m+\u001b[0m \u001b[0;34m'/'\u001b[0m \u001b[0;34m+\u001b[0m \u001b[0msubdir\u001b[0m \u001b[0;34m+\u001b[0m \u001b[0;34m'/'\u001b[0m \u001b[0;34m+\u001b[0m \u001b[0mdataset\u001b[0m \u001b[0;34m+\u001b[0m \u001b[0;34m'_embeddings'\u001b[0m\u001b[0;34m\u001b[0m\u001b[0;34m\u001b[0m\u001b[0m\n\u001b[0;32m---> 26\u001b[0;31m             \u001b[0;32mwith\u001b[0m \u001b[0mopen\u001b[0m\u001b[0;34m(\u001b[0m\u001b[0mpath\u001b[0m\u001b[0;34m+\u001b[0m\u001b[0;34m'/values.json'\u001b[0m\u001b[0;34m,\u001b[0m \u001b[0;34m'r'\u001b[0m\u001b[0;34m)\u001b[0m \u001b[0;32mas\u001b[0m \u001b[0mfile\u001b[0m\u001b[0;34m:\u001b[0m\u001b[0;34m\u001b[0m\u001b[0;34m\u001b[0m\u001b[0m\n\u001b[0m\u001b[1;32m     27\u001b[0m                 \u001b[0mvalues\u001b[0m \u001b[0;34m=\u001b[0m \u001b[0mjson\u001b[0m\u001b[0;34m.\u001b[0m\u001b[0mload\u001b[0m\u001b[0;34m(\u001b[0m\u001b[0mfile\u001b[0m\u001b[0;34m)\u001b[0m\u001b[0;34m\u001b[0m\u001b[0;34m\u001b[0m\u001b[0m\n\u001b[1;32m     28\u001b[0m             \u001b[0;31m# print(subdir)\u001b[0m\u001b[0;34m\u001b[0m\u001b[0;34m\u001b[0m\u001b[0;34m\u001b[0m\u001b[0m\n",
      "\u001b[0;31mFileNotFoundError\u001b[0m: [Errno 2] No such file or directory: '/neurospin/dico/data/deep_folding/papers/ipmi2023/models/contrastive/trained_on_HCP_half_1/supervised/gender/cingulate_ACCpatterns_0_embeddings/values.json'"
     ]
    }
   ],
   "source": [
    "excluded_conditions = []\n",
    "\n",
    "results_df = show_results(\n",
    "    dir_path=\"/neurospin/dico/data/deep_folding/papers/ipmi2023/models/contrastive/trained_on_HCP_half_1/supervised\",\n",
    "    dataset='cingulate_ACCpatterns_0',\n",
    "    excluded_conditions=excluded_conditions,\n",
    "    show=False)\n",
    "\n",
    "results_df"
   ]
  },
  {
   "cell_type": "code",
   "execution_count": null,
   "metadata": {},
   "outputs": [
    {
     "data": {
      "text/html": [
       "<div>\n",
       "<style scoped>\n",
       "    .dataframe tbody tr th:only-of-type {\n",
       "        vertical-align: middle;\n",
       "    }\n",
       "\n",
       "    .dataframe tbody tr th {\n",
       "        vertical-align: top;\n",
       "    }\n",
       "\n",
       "    .dataframe thead th {\n",
       "        text-align: right;\n",
       "    }\n",
       "</style>\n",
       "<table border=\"1\" class=\"dataframe\">\n",
       "  <thead>\n",
       "    <tr style=\"text-align: right;\">\n",
       "      <th></th>\n",
       "      <th>path</th>\n",
       "      <th>auc</th>\n",
       "    </tr>\n",
       "  </thead>\n",
       "  <tbody>\n",
       "    <tr>\n",
       "      <th>2</th>\n",
       "      <td>16-26-39_0</td>\n",
       "      <td>0.718857</td>\n",
       "    </tr>\n",
       "    <tr>\n",
       "      <th>0</th>\n",
       "      <td>16-26-39_3</td>\n",
       "      <td>0.716612</td>\n",
       "    </tr>\n",
       "    <tr>\n",
       "      <th>1</th>\n",
       "      <td>16-26-39_2</td>\n",
       "      <td>0.688256</td>\n",
       "    </tr>\n",
       "    <tr>\n",
       "      <th>3</th>\n",
       "      <td>16-26-39_1</td>\n",
       "      <td>0.681777</td>\n",
       "    </tr>\n",
       "  </tbody>\n",
       "</table>\n",
       "</div>"
      ],
      "text/plain": [
       "         path       auc\n",
       "2  16-26-39_0  0.718857\n",
       "0  16-26-39_3  0.716612\n",
       "1  16-26-39_2  0.688256\n",
       "3  16-26-39_1  0.681777"
      ]
     },
     "execution_count": 5,
     "metadata": {},
     "output_type": "execute_result"
    }
   ],
   "source": [
    "results_df.sort_values(ascending=False, by='auc')[['path', 'auc']]"
   ]
  },
  {
   "cell_type": "markdown",
   "metadata": {},
   "source": [
    "## NEOFAC_C"
   ]
  },
  {
   "cell_type": "code",
   "execution_count": 34,
   "metadata": {},
   "outputs": [
    {
     "data": {
      "text/html": [
       "<div>\n",
       "<style scoped>\n",
       "    .dataframe tbody tr th:only-of-type {\n",
       "        vertical-align: middle;\n",
       "    }\n",
       "\n",
       "    .dataframe tbody tr th {\n",
       "        vertical-align: top;\n",
       "    }\n",
       "\n",
       "    .dataframe thead th {\n",
       "        text-align: right;\n",
       "    }\n",
       "</style>\n",
       "<table border=\"1\" class=\"dataframe\">\n",
       "  <thead>\n",
       "    <tr style=\"text-align: right;\">\n",
       "      <th></th>\n",
       "      <th>path</th>\n",
       "      <th>auc</th>\n",
       "    </tr>\n",
       "  </thead>\n",
       "  <tbody>\n",
       "    <tr>\n",
       "      <th>7</th>\n",
       "      <td>11-13-32_0</td>\n",
       "      <td>0.792281</td>\n",
       "    </tr>\n",
       "    <tr>\n",
       "      <th>1</th>\n",
       "      <td>11-13-32_1</td>\n",
       "      <td>0.735586</td>\n",
       "    </tr>\n",
       "    <tr>\n",
       "      <th>9</th>\n",
       "      <td>11-13-32_2</td>\n",
       "      <td>0.709308</td>\n",
       "    </tr>\n",
       "    <tr>\n",
       "      <th>3</th>\n",
       "      <td>11-13-32_3</td>\n",
       "      <td>0.747328</td>\n",
       "    </tr>\n",
       "    <tr>\n",
       "      <th>4</th>\n",
       "      <td>13-37-34_0</td>\n",
       "      <td>0.747053</td>\n",
       "    </tr>\n",
       "    <tr>\n",
       "      <th>2</th>\n",
       "      <td>13-37-34_1</td>\n",
       "      <td>0.745411</td>\n",
       "    </tr>\n",
       "    <tr>\n",
       "      <th>0</th>\n",
       "      <td>13-37-34_2</td>\n",
       "      <td>0.730221</td>\n",
       "    </tr>\n",
       "    <tr>\n",
       "      <th>8</th>\n",
       "      <td>13-37-34_3</td>\n",
       "      <td>0.703578</td>\n",
       "    </tr>\n",
       "    <tr>\n",
       "      <th>5</th>\n",
       "      <td>13-37-34_4</td>\n",
       "      <td>0.731735</td>\n",
       "    </tr>\n",
       "    <tr>\n",
       "      <th>6</th>\n",
       "      <td>13-37-34_5</td>\n",
       "      <td>0.707767</td>\n",
       "    </tr>\n",
       "  </tbody>\n",
       "</table>\n",
       "</div>"
      ],
      "text/plain": [
       "         path       auc\n",
       "7  11-13-32_0  0.792281\n",
       "1  11-13-32_1  0.735586\n",
       "9  11-13-32_2  0.709308\n",
       "3  11-13-32_3  0.747328\n",
       "4  13-37-34_0  0.747053\n",
       "2  13-37-34_1  0.745411\n",
       "0  13-37-34_2  0.730221\n",
       "8  13-37-34_3  0.703578\n",
       "5  13-37-34_4  0.731735\n",
       "6  13-37-34_5  0.707767"
      ]
     },
     "execution_count": 34,
     "metadata": {},
     "output_type": "execute_result"
    }
   ],
   "source": [
    "excluded_conditions = []\n",
    "\n",
    "results_df = show_results(\n",
    "    dir_path=\"/neurospin/dico/data/deep_folding/papers/ipmi2023/models/contrastive/trained_on_HCP_half_1/supervised/NEOFAC_C/prop-0.9\",\n",
    "    dataset='cingulate_ACCpatterns_0',\n",
    "    excluded_conditions=excluded_conditions,\n",
    "    show=False)\n",
    "\n",
    "results_df.sort_values(ascending=True, by='path')[['path', 'auc']]"
   ]
  },
  {
   "cell_type": "code",
   "execution_count": 32,
   "metadata": {},
   "outputs": [
    {
     "data": {
      "text/plain": [
       "auc             0.721352\n",
       "auc_std         0.004422\n",
       "accuracy        0.688794\n",
       "accuracy_std    0.011642\n",
       "dtype: float64"
      ]
     },
     "execution_count": 32,
     "metadata": {},
     "output_type": "execute_result"
    }
   ],
   "source": [
    "results_df.mean()"
   ]
  },
  {
   "cell_type": "markdown",
   "metadata": {},
   "source": [
    "## posttraining "
   ]
  },
  {
   "cell_type": "code",
   "execution_count": 56,
   "metadata": {},
   "outputs": [
    {
     "data": {
      "text/html": [
       "<div>\n",
       "<style scoped>\n",
       "    .dataframe tbody tr th:only-of-type {\n",
       "        vertical-align: middle;\n",
       "    }\n",
       "\n",
       "    .dataframe tbody tr th {\n",
       "        vertical-align: top;\n",
       "    }\n",
       "\n",
       "    .dataframe thead th {\n",
       "        text-align: right;\n",
       "    }\n",
       "</style>\n",
       "<table border=\"1\" class=\"dataframe\">\n",
       "  <thead>\n",
       "    <tr style=\"text-align: right;\">\n",
       "      <th></th>\n",
       "      <th>path</th>\n",
       "      <th>auc</th>\n",
       "    </tr>\n",
       "  </thead>\n",
       "  <tbody>\n",
       "    <tr>\n",
       "      <th>6</th>\n",
       "      <td>10-04-19_0</td>\n",
       "      <td>0.921317</td>\n",
       "    </tr>\n",
       "    <tr>\n",
       "      <th>1</th>\n",
       "      <td>10-04-19_1</td>\n",
       "      <td>0.902935</td>\n",
       "    </tr>\n",
       "    <tr>\n",
       "      <th>9</th>\n",
       "      <td>10-04-19_2</td>\n",
       "      <td>0.900514</td>\n",
       "    </tr>\n",
       "    <tr>\n",
       "      <th>4</th>\n",
       "      <td>10-04-19_3</td>\n",
       "      <td>0.882886</td>\n",
       "    </tr>\n",
       "    <tr>\n",
       "      <th>3</th>\n",
       "      <td>10-04-19_4</td>\n",
       "      <td>0.849359</td>\n",
       "    </tr>\n",
       "    <tr>\n",
       "      <th>8</th>\n",
       "      <td>11-50-29</td>\n",
       "      <td>0.861501</td>\n",
       "    </tr>\n",
       "    <tr>\n",
       "      <th>5</th>\n",
       "      <td>11-55-55</td>\n",
       "      <td>0.851509</td>\n",
       "    </tr>\n",
       "    <tr>\n",
       "      <th>0</th>\n",
       "      <td>12-02-15</td>\n",
       "      <td>0.867294</td>\n",
       "    </tr>\n",
       "    <tr>\n",
       "      <th>7</th>\n",
       "      <td>12-03-07</td>\n",
       "      <td>0.900841</td>\n",
       "    </tr>\n",
       "    <tr>\n",
       "      <th>2</th>\n",
       "      <td>15-40-22</td>\n",
       "      <td>0.861085</td>\n",
       "    </tr>\n",
       "  </tbody>\n",
       "</table>\n",
       "</div>"
      ],
      "text/plain": [
       "         path       auc\n",
       "6  10-04-19_0  0.921317\n",
       "1  10-04-19_1  0.902935\n",
       "9  10-04-19_2  0.900514\n",
       "4  10-04-19_3  0.882886\n",
       "3  10-04-19_4  0.849359\n",
       "8    11-50-29  0.861501\n",
       "5    11-55-55  0.851509\n",
       "0    12-02-15  0.867294\n",
       "7    12-03-07  0.900841\n",
       "2    15-40-22  0.861085"
      ]
     },
     "execution_count": 56,
     "metadata": {},
     "output_type": "execute_result"
    }
   ],
   "source": [
    "excluded_conditions = []\n",
    "\n",
    "results_df = show_results(\n",
    "    dir_path=\"/neurospin/dico/data/deep_folding/papers/ipmi2023/models/contrastive/trained_on_HCP_half_1/secondtraining/on_HCP_half_1_NEOFAC_C/different-lr\",\n",
    "    dataset='cingulate_ACCpatterns_0',\n",
    "    excluded_conditions=excluded_conditions,\n",
    "    show=False)\n",
    "\n",
    "results_df.sort_values(ascending=True, by='path')[['path', 'auc']]"
   ]
  },
  {
   "cell_type": "markdown",
   "metadata": {},
   "source": []
  },
  {
   "cell_type": "code",
   "execution_count": 53,
   "metadata": {},
   "outputs": [
    {
     "data": {
      "text/plain": [
       "auc    0.834253\n",
       "dtype: float64"
      ]
     },
     "execution_count": 53,
     "metadata": {},
     "output_type": "execute_result"
    }
   ],
   "source": [
    "results_df.sort_values(ascending=True, by='path')[['path', 'auc']].mean()"
   ]
  },
  {
   "cell_type": "code",
   "execution_count": null,
   "metadata": {},
   "outputs": [],
   "source": []
  }
 ],
 "metadata": {
  "kernelspec": {
   "display_name": "Python 3.6.9 ('venv_local': venv)",
   "language": "python",
   "name": "python3"
  },
  "language_info": {
   "codemirror_mode": {
    "name": "ipython",
    "version": 3
   },
   "file_extension": ".py",
   "mimetype": "text/x-python",
   "name": "python",
   "nbconvert_exporter": "python",
   "pygments_lexer": "ipython3",
   "version": "3.6.9"
  },
  "orig_nbformat": 4,
  "vscode": {
   "interpreter": {
    "hash": "b3f951fa4227f6aee2764c66da50d1aa01efee6b5e95e7b587fda0e6104695b3"
   }
  }
 },
 "nbformat": 4,
 "nbformat_minor": 2
}
