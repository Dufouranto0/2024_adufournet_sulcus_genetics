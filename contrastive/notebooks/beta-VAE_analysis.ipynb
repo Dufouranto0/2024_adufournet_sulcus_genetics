{
 "cells": [
  {
   "cell_type": "markdown",
   "metadata": {},
   "source": [
    "Notebook to preprocess and display classifiers results for the beta-VAEs computed by Louise."
   ]
  },
  {
   "cell_type": "code",
   "execution_count": 19,
   "metadata": {},
   "outputs": [],
   "source": [
    "import os\n",
    "import json\n",
    "import pandas as pd\n",
    "import numpy as np"
   ]
  },
  {
   "cell_type": "markdown",
   "metadata": {},
   "source": [
    "## Get ACCpatterns0 from ACCpatterns embeddings"
   ]
  },
  {
   "cell_type": "code",
   "execution_count": 11,
   "metadata": {},
   "outputs": [
    {
     "data": {
      "text/html": [
       "<div>\n",
       "<style scoped>\n",
       "    .dataframe tbody tr th:only-of-type {\n",
       "        vertical-align: middle;\n",
       "    }\n",
       "\n",
       "    .dataframe tbody tr th {\n",
       "        vertical-align: top;\n",
       "    }\n",
       "\n",
       "    .dataframe thead th {\n",
       "        text-align: right;\n",
       "    }\n",
       "</style>\n",
       "<table border=\"1\" class=\"dataframe\">\n",
       "  <thead>\n",
       "    <tr style=\"text-align: right;\">\n",
       "      <th></th>\n",
       "      <th>Subject</th>\n",
       "    </tr>\n",
       "  </thead>\n",
       "  <tbody>\n",
       "    <tr>\n",
       "      <th>0</th>\n",
       "      <td>1-03HUBJO_t0</td>\n",
       "    </tr>\n",
       "    <tr>\n",
       "      <th>1</th>\n",
       "      <td>1-08ANDTI_t0</td>\n",
       "    </tr>\n",
       "    <tr>\n",
       "      <th>2</th>\n",
       "      <td>1-11LEBJO_t0</td>\n",
       "    </tr>\n",
       "    <tr>\n",
       "      <th>3</th>\n",
       "      <td>1-15LEHMI_t0</td>\n",
       "    </tr>\n",
       "    <tr>\n",
       "      <th>4</th>\n",
       "      <td>1-17COLMA_t0</td>\n",
       "    </tr>\n",
       "    <tr>\n",
       "      <th>...</th>\n",
       "      <td>...</td>\n",
       "    </tr>\n",
       "    <tr>\n",
       "      <th>165</th>\n",
       "      <td>sub-inhibition17_ses-pretraining_T1w</td>\n",
       "    </tr>\n",
       "    <tr>\n",
       "      <th>166</th>\n",
       "      <td>sub-inhibition18_ses-pretraining_T1w</td>\n",
       "    </tr>\n",
       "    <tr>\n",
       "      <th>167</th>\n",
       "      <td>sub-inhibition22_ses-pretraining_T1w</td>\n",
       "    </tr>\n",
       "    <tr>\n",
       "      <th>168</th>\n",
       "      <td>sub-inhibition26_ses-pretraining_T1w</td>\n",
       "    </tr>\n",
       "    <tr>\n",
       "      <th>169</th>\n",
       "      <td>sub-inhibition29_ses-pretraining_T1w</td>\n",
       "    </tr>\n",
       "  </tbody>\n",
       "</table>\n",
       "<p>170 rows × 1 columns</p>\n",
       "</div>"
      ],
      "text/plain": [
       "                                  Subject\n",
       "0                            1-03HUBJO_t0\n",
       "1                            1-08ANDTI_t0\n",
       "2                            1-11LEBJO_t0\n",
       "3                            1-15LEHMI_t0\n",
       "4                            1-17COLMA_t0\n",
       "..                                    ...\n",
       "165  sub-inhibition17_ses-pretraining_T1w\n",
       "166  sub-inhibition18_ses-pretraining_T1w\n",
       "167  sub-inhibition22_ses-pretraining_T1w\n",
       "168  sub-inhibition26_ses-pretraining_T1w\n",
       "169  sub-inhibition29_ses-pretraining_T1w\n",
       "\n",
       "[170 rows x 1 columns]"
      ]
     },
     "execution_count": 11,
     "metadata": {},
     "output_type": "execute_result"
    }
   ],
   "source": [
    "acc0_subjects = pd.read_csv(\"/neurospin/dico/data/deep_folding/current/datasets/ACCpatterns/ACCpatterns_0_subject.csv\")\n",
    "acc0_subjects"
   ]
  },
  {
   "cell_type": "code",
   "execution_count": 12,
   "metadata": {},
   "outputs": [],
   "source": [
    "def get_acc0_embs(embs_path, acc0_embs_path, acc0_subjects=acc0_subjects):\n",
    "    embs = pd.read_csv(embs_path, index_col=0)\n",
    "    acc0_embs = embs[embs.index.isin(acc0_subjects.Subject.values)]\n",
    "    acc0_embs.sort_index(inplace=True)\n",
    "\n",
    "    # save the acc0 embeddings\n",
    "    folder_path = '/' + os.path.join(*acc0_embs_path.split('/')[:-1])\n",
    "    if not os.path.exists(folder_path):\n",
    "        os.mkdir(folder_path)\n",
    "    acc0_embs.to_csv(acc0_embs_path)\n",
    "    return acc0_embs"
   ]
  },
  {
   "cell_type": "code",
   "execution_count": 24,
   "metadata": {},
   "outputs": [
    {
     "name": "stderr",
     "output_type": "stream",
     "text": [
      "/neurospin/dico/agaudin/Runs/05_rigourous/2022_jchavas_cingulate_inhibitory_control/venv_local/lib/python3.6/site-packages/ipykernel_launcher.py:4: SettingWithCopyWarning: \n",
      "A value is trying to be set on a copy of a slice from a DataFrame\n",
      "\n",
      "See the caveats in the documentation: https://pandas.pydata.org/pandas-docs/stable/user_guide/indexing.html#returning-a-view-versus-a-copy\n",
      "  after removing the cwd from sys.path.\n"
     ]
    }
   ],
   "source": [
    "for i in range(1,6):\n",
    "    embs_path = f\"/neurospin/dico/lguillon/collab_joel_aymeric_cingulate/n_10/#{i}/full_embeddings.csv\"\n",
    "    acc0_embs_path = '/' + os.path.join(*embs_path.split('/')[:-1]) + '/cingulate_ACCpatterns_0_embeddings/full_embeddings.csv'\n",
    "\n",
    "    get_acc0_embs(embs_path, acc0_embs_path)"
   ]
  },
  {
   "cell_type": "markdown",
   "metadata": {},
   "source": [
    "## Resume beta-VAE results"
   ]
  },
  {
   "cell_type": "markdown",
   "metadata": {},
   "source": [
    "Visualisation of the latent spaces in latent_space_visualization.ipynb"
   ]
  },
  {
   "cell_type": "code",
   "execution_count": 27,
   "metadata": {},
   "outputs": [
    {
     "data": {
      "text/html": [
       "<div>\n",
       "<style scoped>\n",
       "    .dataframe tbody tr th:only-of-type {\n",
       "        vertical-align: middle;\n",
       "    }\n",
       "\n",
       "    .dataframe tbody tr th {\n",
       "        vertical-align: top;\n",
       "    }\n",
       "\n",
       "    .dataframe thead th {\n",
       "        text-align: right;\n",
       "    }\n",
       "</style>\n",
       "<table border=\"1\" class=\"dataframe\">\n",
       "  <thead>\n",
       "    <tr style=\"text-align: right;\">\n",
       "      <th></th>\n",
       "      <th>beta-VAE</th>\n",
       "    </tr>\n",
       "  </thead>\n",
       "  <tbody>\n",
       "    <tr>\n",
       "      <th>4</th>\n",
       "      <td>0.713698</td>\n",
       "    </tr>\n",
       "    <tr>\n",
       "      <th>10</th>\n",
       "      <td>0.716374</td>\n",
       "    </tr>\n",
       "    <tr>\n",
       "      <th>30</th>\n",
       "      <td>0.674188</td>\n",
       "    </tr>\n",
       "  </tbody>\n",
       "</table>\n",
       "</div>"
      ],
      "text/plain": [
       "    beta-VAE\n",
       "4   0.713698\n",
       "10  0.716374\n",
       "30  0.674188"
      ]
     },
     "execution_count": 27,
     "metadata": {},
     "output_type": "execute_result"
    }
   ],
   "source": [
    "# compute and plot the dataframe of beta-VAE performances\n",
    "\n",
    "folder_path = \"/neurospin/dico/lguillon/collab_joel_aymeric_cingulate\"\n",
    "dims = [4, 10, 30]\n",
    "dataset = 'cingulate_ACCpatterns_0'\n",
    "\n",
    "df = pd.DataFrame(np.zeros((3,1)), index=dims, columns=['beta-VAE'])\n",
    "std_df = pd.DataFrame(np.zeros((3,1)), index=dims, columns=['beta-VAE'])\n",
    "\n",
    "for k,dim in enumerate(dims):\n",
    "    performances = []\n",
    "    for i in range(1,6):\n",
    "        values_file = folder_path + f'/n_{dim}/#{i}/{dataset}_embeddings/values.json'\n",
    "        with open(values_file, 'r') as file:\n",
    "            values = json.load(file)\n",
    "            performances.append(values['cross_val_auc'][0])\n",
    "    performances = np.array(performances)\n",
    "    df.iloc[k,0] = performances.mean()\n",
    "    std_df.iloc[k,0] = performances.std()\n",
    "\n",
    "df"
   ]
  },
  {
   "cell_type": "code",
   "execution_count": 28,
   "metadata": {},
   "outputs": [
    {
     "data": {
      "text/html": [
       "<div>\n",
       "<style scoped>\n",
       "    .dataframe tbody tr th:only-of-type {\n",
       "        vertical-align: middle;\n",
       "    }\n",
       "\n",
       "    .dataframe tbody tr th {\n",
       "        vertical-align: top;\n",
       "    }\n",
       "\n",
       "    .dataframe thead th {\n",
       "        text-align: right;\n",
       "    }\n",
       "</style>\n",
       "<table border=\"1\" class=\"dataframe\">\n",
       "  <thead>\n",
       "    <tr style=\"text-align: right;\">\n",
       "      <th></th>\n",
       "      <th>beta-VAE</th>\n",
       "    </tr>\n",
       "  </thead>\n",
       "  <tbody>\n",
       "    <tr>\n",
       "      <th>4</th>\n",
       "      <td>0.008024</td>\n",
       "    </tr>\n",
       "    <tr>\n",
       "      <th>10</th>\n",
       "      <td>0.018270</td>\n",
       "    </tr>\n",
       "    <tr>\n",
       "      <th>30</th>\n",
       "      <td>0.034307</td>\n",
       "    </tr>\n",
       "  </tbody>\n",
       "</table>\n",
       "</div>"
      ],
      "text/plain": [
       "    beta-VAE\n",
       "4   0.008024\n",
       "10  0.018270\n",
       "30  0.034307"
      ]
     },
     "execution_count": 28,
     "metadata": {},
     "output_type": "execute_result"
    }
   ],
   "source": [
    "std_df"
   ]
  }
 ],
 "metadata": {
  "kernelspec": {
   "display_name": "Python 3.6.9 ('venv_local': venv)",
   "language": "python",
   "name": "python3"
  },
  "language_info": {
   "codemirror_mode": {
    "name": "ipython",
    "version": 3
   },
   "file_extension": ".py",
   "mimetype": "text/x-python",
   "name": "python",
   "nbconvert_exporter": "python",
   "pygments_lexer": "ipython3",
   "version": "3.6.9"
  },
  "orig_nbformat": 4,
  "vscode": {
   "interpreter": {
    "hash": "29d17951836d0959caaf0c9cd10ee54c4ed7100b51f8cf6fe8a170600c2ce0e9"
   }
  }
 },
 "nbformat": 4,
 "nbformat_minor": 2
}
