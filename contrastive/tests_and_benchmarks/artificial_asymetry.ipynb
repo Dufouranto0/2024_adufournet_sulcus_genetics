{
 "cells": [
  {
   "cell_type": "code",
   "execution_count": 60,
   "metadata": {},
   "outputs": [],
   "source": [
    "import numpy as np\n",
    "import numpy.random as rd\n",
    "import matplotlib.pyplot as plt\n",
    "import pandas as pd\n",
    "\n",
    "from sklearn.model_selection import train_test_split"
   ]
  },
  {
   "cell_type": "code",
   "execution_count": 61,
   "metadata": {},
   "outputs": [],
   "source": [
    "Rshape = (17, 40, 38)\n",
    "Lshape = (20, 42, 38)"
   ]
  },
  {
   "cell_type": "code",
   "execution_count": 62,
   "metadata": {},
   "outputs": [],
   "source": [
    "def get_boundaries(size, alpha):\n",
    "    bound_min = int(size//2 * (1 - alpha))\n",
    "    bound_max = int(size//2 * (1 + alpha))\n",
    "    \n",
    "    if (bound_min < 0) or (bound_max > size):\n",
    "        raise ValueError(\"Choose a smaller alpha\")\n",
    "    \n",
    "    return bound_min, bound_max"
   ]
  },
  {
   "cell_type": "code",
   "execution_count": 63,
   "metadata": {},
   "outputs": [],
   "source": [
    "def generate_plane_sulcus(side, orient, alpha=0.1, Rshape = (17, 40, 38),\n",
    "                          Lshape = (20, 42, 38)):\n",
    "    \"\"\"Generate a 'vertical' fake plane sulcus.\n",
    "\n",
    "    Arguments:\n",
    "        - side: 'R' or 'L'\n",
    "        - orient: dimension of the array on which generate the plane\n",
    "        - alpha: ~size of the available positions interval\n",
    "    \"\"\"\n",
    "    if side == 'R':\n",
    "        shape = Rshape\n",
    "    else:\n",
    "        shape = Lshape\n",
    "    \n",
    "    bound_min, bound_max = get_boundaries(shape[orient], alpha)\n",
    "\n",
    "    arr = np.zeros(shape)\n",
    "    i_sillon = rd.randint(bound_min, bound_max+1)\n",
    "\n",
    "    if orient == 1:\n",
    "        arr[:,i_sillon,:] = 30\n",
    "    else:\n",
    "        arr[:,:,i_sillon] = 30\n",
    "\n",
    "    return arr"
   ]
  },
  {
   "cell_type": "code",
   "execution_count": 64,
   "metadata": {},
   "outputs": [
    {
     "data": {
      "text/plain": [
       "array([[[ 0.,  0.,  0.,  0.,  0.],\n",
       "        [30., 30., 30., 30., 30.],\n",
       "        [ 0.,  0.,  0.,  0.,  0.],\n",
       "        [ 0.,  0.,  0.,  0.,  0.]],\n",
       "\n",
       "       [[ 0.,  0.,  0.,  0.,  0.],\n",
       "        [30., 30., 30., 30., 30.],\n",
       "        [ 0.,  0.,  0.,  0.,  0.],\n",
       "        [ 0.,  0.,  0.,  0.,  0.]],\n",
       "\n",
       "       [[ 0.,  0.,  0.,  0.,  0.],\n",
       "        [30., 30., 30., 30., 30.],\n",
       "        [ 0.,  0.,  0.,  0.,  0.],\n",
       "        [ 0.,  0.,  0.,  0.,  0.]]])"
      ]
     },
     "execution_count": 64,
     "metadata": {},
     "output_type": "execute_result"
    }
   ],
   "source": [
    "generate_plane_sulcus('R', 1, Rshape=(3,4,5))"
   ]
  },
  {
   "cell_type": "code",
   "execution_count": 65,
   "metadata": {},
   "outputs": [],
   "source": [
    "# generate the np arrays\n",
    "\n",
    "N_subjects = 2500\n",
    "alpha = 0.1\n",
    "Rshape = (17, 40, 38)\n",
    "Lshape = (20, 42, 38)\n",
    "\n",
    "R_arrays = []\n",
    "L_arrays = []\n",
    "labels = []\n",
    "\n",
    "for i_sub in range(N_subjects):\n",
    "    R_orient = rd.randint(1,3)\n",
    "    R_arrays.append(generate_plane_sulcus('R', orient=R_orient,\n",
    "                                          alpha=alpha,\n",
    "                                          Rshape=Rshape,\n",
    "                                          Lshape=Lshape))\n",
    "\n",
    "    L_orient = rd.randint(1,3)\n",
    "    L_arrays.append(generate_plane_sulcus('L', orient=L_orient,\n",
    "                                          alpha=alpha,\n",
    "                                          Rshape=Rshape,\n",
    "                                          Lshape=Lshape))\n",
    "\n",
    "    if R_orient == L_orient:\n",
    "        labels.append(0)\n",
    "    else:\n",
    "        labels.append(1)\n",
    "\n",
    "R_arrays = np.array(R_arrays)\n",
    "L_arrays = np.array(L_arrays)\n",
    "labels = np.array(labels)"
   ]
  },
  {
   "cell_type": "code",
   "execution_count": 66,
   "metadata": {},
   "outputs": [
    {
     "data": {
      "image/png": "[encoded data removed]",
      "text/plain": [
       "<Figure size 640x480 with 1 Axes>"
      ]
     },
     "metadata": {},
     "output_type": "display_data"
    },
    {
     "data": {
      "image/png": "[encoded data removed]",
      "text/plain": [
       "<Figure size 640x480 with 1 Axes>"
      ]
     },
     "metadata": {},
     "output_type": "display_data"
    },
    {
     "name": "stdout",
     "output_type": "stream",
     "text": [
      "1\n"
     ]
    }
   ],
   "source": [
    "i_test = 51\n",
    "\n",
    "plt.imshow(R_arrays[i_test][0])\n",
    "plt.figure()\n",
    "plt.imshow(L_arrays[i_test][0])\n",
    "plt.show()\n",
    "print(labels[i_test])"
   ]
  },
  {
   "cell_type": "code",
   "execution_count": 67,
   "metadata": {},
   "outputs": [
    {
     "name": "stdout",
     "output_type": "stream",
     "text": [
      "1283 2500\n"
     ]
    }
   ],
   "source": [
    "# check if good label repartition\n",
    "\n",
    "print(labels.sum(), len(labels))"
   ]
  },
  {
   "cell_type": "code",
   "execution_count": 68,
   "metadata": {},
   "outputs": [
    {
     "name": "stdout",
     "output_type": "stream",
     "text": [
      "(2500, 17, 40, 38, 1) (2500, 20, 42, 38, 1)\n"
     ]
    }
   ],
   "source": [
    "# save the arrays\n",
    "\n",
    "save_path = \"/neurospin/dico/data/deep_folding/current/datasets/benchmarks/asymetry\"\n",
    "\n",
    "# add the required extra dim\n",
    "R_arrays = np.expand_dims(R_arrays, -1)\n",
    "L_arrays = np.expand_dims(L_arrays, -1)\n",
    "\n",
    "print(R_arrays.shape, L_arrays.shape)\n",
    "\n",
    "np.save(save_path+'/Rarrays.npy', R_arrays)\n",
    "np.save(save_path+'/Larrays.npy', L_arrays)"
   ]
  },
  {
   "cell_type": "code",
   "execution_count": 69,
   "metadata": {},
   "outputs": [],
   "source": [
    "# save the labels\n",
    "\n",
    "names = ['fake_'+str(i) for i in range(N_subjects)]\n",
    "labels_df = pd.DataFrame(np.transpose([names, labels]), columns=['Sub_ID', 'PCS_asymetry'])\n",
    "labels_df.to_csv(save_path+'/labels.csv')"
   ]
  },
  {
   "cell_type": "code",
   "execution_count": 70,
   "metadata": {},
   "outputs": [
    {
     "name": "stdout",
     "output_type": "stream",
     "text": [
      "2475    fake_2475\n",
      "1784    fake_1784\n",
      "409      fake_409\n",
      "462      fake_462\n",
      "2301    fake_2301\n",
      "          ...    \n",
      "756      fake_756\n",
      "1289    fake_1289\n",
      "2102    fake_2102\n",
      "293      fake_293\n",
      "713      fake_713\n",
      "Name: Subject, Length: 2000, dtype: object\n",
      "917      fake_917\n",
      "2252    fake_2252\n",
      "1529    fake_1529\n",
      "1490    fake_1490\n",
      "124      fake_124\n",
      "          ...    \n",
      "1579    fake_1579\n",
      "168      fake_168\n",
      "1264    fake_1264\n",
      "512      fake_512\n",
      "1517    fake_1517\n",
      "Name: Subject, Length: 500, dtype: object\n"
     ]
    }
   ],
   "source": [
    "# save the subjects + generate train_val\n",
    "\n",
    "subjects = labels_df['Sub_ID']\n",
    "subjects = subjects.rename('Subject')\n",
    "\n",
    "subjects.to_csv(save_path+'/subjects.csv')\n",
    "\n",
    "train_val_percentage = 0.8\n",
    "\n",
    "train_val, test = train_test_split(subjects, train_size=train_val_percentage)\n",
    "\n",
    "print(train_val)\n",
    "print(test)\n",
    "\n",
    "train_val.to_csv(save_path+'/train_val_subjects.csv', index=False, header=False)"
   ]
  }
 ],
 "metadata": {
  "kernelspec": {
   "display_name": "venv_local",
   "language": "python",
   "name": "python3"
  },
  "language_info": {
   "codemirror_mode": {
    "name": "ipython",
    "version": 3
   },
   "file_extension": ".py",
   "mimetype": "text/x-python",
   "name": "python",
   "nbconvert_exporter": "python",
   "pygments_lexer": "ipython3",
   "version": "3.10.6"
  },
  "orig_nbformat": 4
 },
 "nbformat": 4,
 "nbformat_minor": 2
}
